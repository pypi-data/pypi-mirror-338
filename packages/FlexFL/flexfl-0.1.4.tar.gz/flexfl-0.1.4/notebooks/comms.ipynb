{
 "cells": [
  {
   "cell_type": "code",
   "execution_count": 190,
   "metadata": {},
   "outputs": [
    {
     "name": "stdout",
     "output_type": "stream",
     "text": [
      "../results/2025-03-26_17:28:12\n",
      "Number of workers: 8\n"
     ]
    }
   ],
   "source": [
    "import pandas as pd\n",
    "import json\n",
    "from datetime import datetime\n",
    "from pathlib import Path\n",
    "\n",
    "FOLDER = None\n",
    "if FOLDER is not None:\n",
    "    FOLDER = \"../results/\" + FOLDER\n",
    "else:\n",
    "    FOLDER = sorted(Path(\"../results\").iterdir())[-1]\n",
    "    FOLDER = str(FOLDER)\n",
    "OUT = FOLDER + \"/analysis\"\n",
    "Path(OUT).mkdir(parents=True, exist_ok=True)\n",
    "print(FOLDER)\n",
    "n_workers = len(list(Path(FOLDER).rglob(\"log_*.jsonl\"))) - 1\n",
    "print(f\"Number of workers: {n_workers}\")"
   ]
  },
  {
   "cell_type": "code",
   "execution_count": 191,
   "metadata": {},
   "outputs": [],
   "source": [
    "worker_logs: list[list[dict]] = []\n",
    "for i in range(1, n_workers + 1):\n",
    "    with open(FOLDER + f\"/log_{i}.jsonl\") as f:\n",
    "        worker_logs.append([json.loads(line) for line in f])\n",
    "\n",
    "with open(FOLDER + \"/log_0.jsonl\") as f:\n",
    "    master_log = [json.loads(line) for line in f]"
   ]
  },
  {
   "cell_type": "code",
   "execution_count": 192,
   "metadata": {},
   "outputs": [
    {
     "data": {
      "text/html": [
       "<div>\n",
       "<style scoped>\n",
       "    .dataframe tbody tr th:only-of-type {\n",
       "        vertical-align: middle;\n",
       "    }\n",
       "\n",
       "    .dataframe tbody tr th {\n",
       "        vertical-align: top;\n",
       "    }\n",
       "\n",
       "    .dataframe thead th {\n",
       "        text-align: right;\n",
       "    }\n",
       "</style>\n",
       "<table border=\"1\" class=\"dataframe\">\n",
       "  <thead>\n",
       "    <tr style=\"text-align: right;\">\n",
       "      <th></th>\n",
       "      <th>worker_id</th>\n",
       "      <th>duration (ms)</th>\n",
       "      <th>payload_size</th>\n",
       "    </tr>\n",
       "  </thead>\n",
       "  <tbody>\n",
       "    <tr>\n",
       "      <th>0</th>\n",
       "      <td>1</td>\n",
       "      <td>0.104</td>\n",
       "      <td>62</td>\n",
       "    </tr>\n",
       "    <tr>\n",
       "      <th>1</th>\n",
       "      <td>2</td>\n",
       "      <td>0.081</td>\n",
       "      <td>62</td>\n",
       "    </tr>\n",
       "    <tr>\n",
       "      <th>2</th>\n",
       "      <td>3</td>\n",
       "      <td>0.086</td>\n",
       "      <td>62</td>\n",
       "    </tr>\n",
       "    <tr>\n",
       "      <th>3</th>\n",
       "      <td>4</td>\n",
       "      <td>0.087</td>\n",
       "      <td>62</td>\n",
       "    </tr>\n",
       "    <tr>\n",
       "      <th>4</th>\n",
       "      <td>5</td>\n",
       "      <td>0.098</td>\n",
       "      <td>62</td>\n",
       "    </tr>\n",
       "  </tbody>\n",
       "</table>\n",
       "</div>"
      ],
      "text/plain": [
       "  worker_id  duration (ms)  payload_size\n",
       "0         1          0.104            62\n",
       "1         2          0.081            62\n",
       "2         3          0.086            62\n",
       "3         4          0.087            62\n",
       "4         5          0.098            62"
      ]
     },
     "execution_count": 192,
     "metadata": {},
     "output_type": "execute_result"
    }
   ],
   "source": [
    "data = {\n",
    "    \"worker_id\": [],\n",
    "    \"duration (ms)\": [],\n",
    "    \"payload_size\": [],\n",
    "}\n",
    "worker_idxs = [0] * n_workers \n",
    "\n",
    "def get_next_log(worker_idx, event):\n",
    "    worker_idx -= 1\n",
    "    while worker_idxs[worker_idx] < len(worker_logs[worker_idx]):\n",
    "        log = worker_logs[worker_idx][worker_idxs[worker_idx]]\n",
    "        worker_idxs[worker_idx] += 1\n",
    "        if log[\"event\"] == event:\n",
    "            return log\n",
    "\n",
    "for log in master_log:\n",
    "    if log[\"event\"] == \"send\":\n",
    "        worker_id = log[\"receiver\"]\n",
    "        start = datetime.fromtimestamp(log[\"timestamp\"])\n",
    "        worker_log = get_next_log(worker_id, \"recv\")\n",
    "        end = datetime.fromtimestamp(worker_log[\"timestamp\"])\n",
    "    elif log[\"event\"] == \"recv\":\n",
    "        worker_id = log[\"sender\"]\n",
    "        end = datetime.fromtimestamp(log[\"timestamp\"])\n",
    "        worker_log = get_next_log(worker_id, \"send\")\n",
    "        start = datetime.fromtimestamp(worker_log[\"timestamp\"])\n",
    "    else:\n",
    "        continue\n",
    "    if end < start:\n",
    "        print(\"Invalid log\")\n",
    "    data[\"worker_id\"].append(worker_id)\n",
    "    data[\"duration (ms)\"].append((end - start).total_seconds() * 1000)\n",
    "    data[\"payload_size\"].append(log[\"payload_size\"])\n",
    "\n",
    "df = pd.DataFrame(data)\n",
    "df[\"worker_id\"] = df[\"worker_id\"].astype(str)\n",
    "df.head()"
   ]
  },
  {
   "cell_type": "code",
   "execution_count": 193,
   "metadata": {},
   "outputs": [
    {
     "name": "stdout",
     "output_type": "stream",
     "text": [
      "Run duration: 5.315 s\n"
     ]
    }
   ],
   "source": [
    "run_start = [log for log in master_log if log[\"event\"] == \"start\"][0][\"timestamp\"]\n",
    "run_start = datetime.fromtimestamp(run_start)\n",
    "run_end = [log for log in master_log if log[\"event\"] == \"end\"][0][\"timestamp\"]\n",
    "run_end = datetime.fromtimestamp(run_end)\n",
    "run_duration = run_end - run_start\n",
    "print(f\"Run duration: {run_duration.total_seconds():.3f} s\")"
   ]
  },
  {
   "cell_type": "code",
   "execution_count": 194,
   "metadata": {},
   "outputs": [
    {
     "name": "stdout",
     "output_type": "stream",
     "text": [
      "Total duration: 0.011 s\n",
      "Total payload: 5.846 mb\n"
     ]
    }
   ],
   "source": [
    "total_duration = df[\"duration (ms)\"].sum() / 1000\n",
    "total_payload = df[\"payload_size\"].sum() / (1024 * 1024) \n",
    "print(f\"Total duration: {total_duration:.3f} s\")\n",
    "print(f\"Total payload: {total_payload:.3f} mb\")"
   ]
  },
  {
   "cell_type": "code",
   "execution_count": 195,
   "metadata": {},
   "outputs": [
    {
     "data": {
      "text/html": [
       "<div>\n",
       "<style scoped>\n",
       "    .dataframe tbody tr th:only-of-type {\n",
       "        vertical-align: middle;\n",
       "    }\n",
       "\n",
       "    .dataframe tbody tr th {\n",
       "        vertical-align: top;\n",
       "    }\n",
       "\n",
       "    .dataframe thead th {\n",
       "        text-align: right;\n",
       "    }\n",
       "</style>\n",
       "<table border=\"1\" class=\"dataframe\">\n",
       "  <thead>\n",
       "    <tr style=\"text-align: right;\">\n",
       "      <th></th>\n",
       "      <th>worker_id</th>\n",
       "      <th>duration (ms)</th>\n",
       "      <th>payload_size</th>\n",
       "    </tr>\n",
       "  </thead>\n",
       "  <tbody>\n",
       "    <tr>\n",
       "      <th>0</th>\n",
       "      <td>1</td>\n",
       "      <td>1.654</td>\n",
       "      <td>748.277344</td>\n",
       "    </tr>\n",
       "    <tr>\n",
       "      <th>1</th>\n",
       "      <td>2</td>\n",
       "      <td>1.384</td>\n",
       "      <td>748.277344</td>\n",
       "    </tr>\n",
       "    <tr>\n",
       "      <th>2</th>\n",
       "      <td>3</td>\n",
       "      <td>1.354</td>\n",
       "      <td>748.277344</td>\n",
       "    </tr>\n",
       "    <tr>\n",
       "      <th>3</th>\n",
       "      <td>4</td>\n",
       "      <td>1.511</td>\n",
       "      <td>748.277344</td>\n",
       "    </tr>\n",
       "    <tr>\n",
       "      <th>4</th>\n",
       "      <td>5</td>\n",
       "      <td>1.293</td>\n",
       "      <td>748.277344</td>\n",
       "    </tr>\n",
       "    <tr>\n",
       "      <th>5</th>\n",
       "      <td>6</td>\n",
       "      <td>1.074</td>\n",
       "      <td>748.277344</td>\n",
       "    </tr>\n",
       "    <tr>\n",
       "      <th>6</th>\n",
       "      <td>7</td>\n",
       "      <td>1.243</td>\n",
       "      <td>748.277344</td>\n",
       "    </tr>\n",
       "    <tr>\n",
       "      <th>7</th>\n",
       "      <td>8</td>\n",
       "      <td>1.101</td>\n",
       "      <td>748.277344</td>\n",
       "    </tr>\n",
       "  </tbody>\n",
       "</table>\n",
       "</div>"
      ],
      "text/plain": [
       "  worker_id  duration (ms)  payload_size\n",
       "0         1          1.654    748.277344\n",
       "1         2          1.384    748.277344\n",
       "2         3          1.354    748.277344\n",
       "3         4          1.511    748.277344\n",
       "4         5          1.293    748.277344\n",
       "5         6          1.074    748.277344\n",
       "6         7          1.243    748.277344\n",
       "7         8          1.101    748.277344"
      ]
     },
     "execution_count": 195,
     "metadata": {},
     "output_type": "execute_result"
    }
   ],
   "source": [
    "# time for each worker\n",
    "new_df = df.groupby(\"worker_id\").sum()\n",
    "new_df = new_df.reset_index()\n",
    "new_df[\"payload_size\"] = new_df[\"payload_size\"] / (1024)\n",
    "new_df.head(10)"
   ]
  }
 ],
 "metadata": {
  "kernelspec": {
   "display_name": ".venv",
   "language": "python",
   "name": "python3"
  },
  "language_info": {
   "codemirror_mode": {
    "name": "ipython",
    "version": 3
   },
   "file_extension": ".py",
   "mimetype": "text/x-python",
   "name": "python",
   "nbconvert_exporter": "python",
   "pygments_lexer": "ipython3",
   "version": "3.12.2"
  }
 },
 "nbformat": 4,
 "nbformat_minor": 2
}
