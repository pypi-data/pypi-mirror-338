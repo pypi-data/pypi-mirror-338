{
 "cells": [
  {
   "cell_type": "code",
   "execution_count": 2,
   "metadata": {},
   "outputs": [
    {
     "name": "stdout",
     "output_type": "stream",
     "text": [
      "../results/2025-04-03_16:42:10\n",
      "Number of workers: 10\n"
     ]
    }
   ],
   "source": [
    "import pandas as pd\n",
    "import json\n",
    "from datetime import datetime\n",
    "from pathlib import Path\n",
    "\n",
    "FOLDER = None\n",
    "if FOLDER is not None:\n",
    "    FOLDER = \"../results/\" + FOLDER\n",
    "else:\n",
    "    FOLDER = sorted(Path(\"../results\").iterdir())[-1]\n",
    "    FOLDER = str(FOLDER)\n",
    "OUT = FOLDER + \"/analysis\"\n",
    "Path(OUT).mkdir(parents=True, exist_ok=True)\n",
    "print(FOLDER)\n",
    "n_workers = len(list(Path(FOLDER).rglob(\"log_*.jsonl\"))) - 1\n",
    "print(f\"Number of workers: {n_workers}\")"
   ]
  },
  {
   "cell_type": "code",
   "execution_count": 3,
   "metadata": {},
   "outputs": [],
   "source": [
    "worker_logs: list[list[dict]] = []\n",
    "for i in range(1, n_workers + 1):\n",
    "    with open(FOLDER + f\"/log_{i}.jsonl\") as f:\n",
    "        worker_logs.append([json.loads(line) for line in f])\n",
    "\n",
    "with open(FOLDER + \"/log_0.jsonl\") as f:\n",
    "    master_log = [json.loads(line) for line in f]"
   ]
  },
  {
   "cell_type": "code",
   "execution_count": 4,
   "metadata": {},
   "outputs": [
    {
     "data": {
      "text/html": [
       "<div>\n",
       "<style scoped>\n",
       "    .dataframe tbody tr th:only-of-type {\n",
       "        vertical-align: middle;\n",
       "    }\n",
       "\n",
       "    .dataframe tbody tr th {\n",
       "        vertical-align: top;\n",
       "    }\n",
       "\n",
       "    .dataframe thead th {\n",
       "        text-align: right;\n",
       "    }\n",
       "</style>\n",
       "<table border=\"1\" class=\"dataframe\">\n",
       "  <thead>\n",
       "    <tr style=\"text-align: right;\">\n",
       "      <th></th>\n",
       "      <th>worker_id</th>\n",
       "      <th>duration (ms)</th>\n",
       "      <th>payload_size</th>\n",
       "    </tr>\n",
       "  </thead>\n",
       "  <tbody>\n",
       "    <tr>\n",
       "      <th>0</th>\n",
       "      <td>1</td>\n",
       "      <td>0.061</td>\n",
       "      <td>64</td>\n",
       "    </tr>\n",
       "    <tr>\n",
       "      <th>1</th>\n",
       "      <td>2</td>\n",
       "      <td>0.077</td>\n",
       "      <td>64</td>\n",
       "    </tr>\n",
       "    <tr>\n",
       "      <th>2</th>\n",
       "      <td>3</td>\n",
       "      <td>0.084</td>\n",
       "      <td>64</td>\n",
       "    </tr>\n",
       "    <tr>\n",
       "      <th>3</th>\n",
       "      <td>4</td>\n",
       "      <td>0.073</td>\n",
       "      <td>64</td>\n",
       "    </tr>\n",
       "    <tr>\n",
       "      <th>4</th>\n",
       "      <td>5</td>\n",
       "      <td>0.080</td>\n",
       "      <td>64</td>\n",
       "    </tr>\n",
       "  </tbody>\n",
       "</table>\n",
       "</div>"
      ],
      "text/plain": [
       "  worker_id  duration (ms)  payload_size\n",
       "0         1          0.061            64\n",
       "1         2          0.077            64\n",
       "2         3          0.084            64\n",
       "3         4          0.073            64\n",
       "4         5          0.080            64"
      ]
     },
     "execution_count": 4,
     "metadata": {},
     "output_type": "execute_result"
    }
   ],
   "source": [
    "data = {\n",
    "    \"worker_id\": [],\n",
    "    \"duration (ms)\": [],\n",
    "    \"payload_size\": [],\n",
    "}\n",
    "worker_idxs = [0] * n_workers \n",
    "\n",
    "def get_next_log(worker_idx, event):\n",
    "    worker_idx -= 1\n",
    "    while worker_idxs[worker_idx] < len(worker_logs[worker_idx]):\n",
    "        log = worker_logs[worker_idx][worker_idxs[worker_idx]]\n",
    "        worker_idxs[worker_idx] += 1\n",
    "        if log[\"event\"] == event:\n",
    "            return log\n",
    "\n",
    "for log in master_log:\n",
    "    if log[\"event\"] == \"send\":\n",
    "        worker_id = log[\"receiver\"]\n",
    "        start = datetime.fromtimestamp(log[\"timestamp\"])\n",
    "        worker_log = get_next_log(worker_id, \"recv\")\n",
    "        end = datetime.fromtimestamp(worker_log[\"timestamp\"])\n",
    "    elif log[\"event\"] == \"recv\":\n",
    "        worker_id = log[\"sender\"]\n",
    "        end = datetime.fromtimestamp(log[\"timestamp\"])\n",
    "        worker_log = get_next_log(worker_id, \"send\")\n",
    "        start = datetime.fromtimestamp(worker_log[\"timestamp\"])\n",
    "    else:\n",
    "        continue\n",
    "    if end < start:\n",
    "        print(\"Invalid log\")\n",
    "    data[\"worker_id\"].append(worker_id)\n",
    "    data[\"duration (ms)\"].append((end - start).total_seconds() * 1000)\n",
    "    data[\"payload_size\"].append(log[\"payload_size\"])\n",
    "\n",
    "df = pd.DataFrame(data)\n",
    "df[\"worker_id\"] = df[\"worker_id\"].astype(str)\n",
    "df.head()"
   ]
  },
  {
   "cell_type": "code",
   "execution_count": 5,
   "metadata": {},
   "outputs": [
    {
     "name": "stdout",
     "output_type": "stream",
     "text": [
      "Run duration: 21.488 s\n"
     ]
    }
   ],
   "source": [
    "run_start = [log for log in master_log if log[\"event\"] == \"start\"][0][\"timestamp\"]\n",
    "run_start = datetime.fromtimestamp(run_start)\n",
    "run_end = [log for log in master_log if log[\"event\"] == \"end\"][0][\"timestamp\"]\n",
    "run_end = datetime.fromtimestamp(run_end)\n",
    "run_duration = run_end - run_start\n",
    "print(f\"Run duration: {run_duration.total_seconds():.3f} s\")"
   ]
  },
  {
   "cell_type": "code",
   "execution_count": 6,
   "metadata": {},
   "outputs": [
    {
     "name": "stdout",
     "output_type": "stream",
     "text": [
      "Total duration: 0.019 s\n",
      "Total payload: 14.581 mb\n"
     ]
    }
   ],
   "source": [
    "total_duration = df[\"duration (ms)\"].sum() / 1000\n",
    "total_payload = df[\"payload_size\"].sum() / (1024 * 1024) \n",
    "print(f\"Total duration: {total_duration:.3f} s\")\n",
    "print(f\"Total payload: {total_payload:.3f} mb\")"
   ]
  },
  {
   "cell_type": "code",
   "execution_count": 7,
   "metadata": {},
   "outputs": [
    {
     "data": {
      "text/html": [
       "<div>\n",
       "<style scoped>\n",
       "    .dataframe tbody tr th:only-of-type {\n",
       "        vertical-align: middle;\n",
       "    }\n",
       "\n",
       "    .dataframe tbody tr th {\n",
       "        vertical-align: top;\n",
       "    }\n",
       "\n",
       "    .dataframe thead th {\n",
       "        text-align: right;\n",
       "    }\n",
       "</style>\n",
       "<table border=\"1\" class=\"dataframe\">\n",
       "  <thead>\n",
       "    <tr style=\"text-align: right;\">\n",
       "      <th></th>\n",
       "      <th>worker_id</th>\n",
       "      <th>duration (ms)</th>\n",
       "      <th>payload_size</th>\n",
       "    </tr>\n",
       "  </thead>\n",
       "  <tbody>\n",
       "    <tr>\n",
       "      <th>0</th>\n",
       "      <td>1</td>\n",
       "      <td>1.650</td>\n",
       "      <td>1493.052734</td>\n",
       "    </tr>\n",
       "    <tr>\n",
       "      <th>1</th>\n",
       "      <td>10</td>\n",
       "      <td>1.823</td>\n",
       "      <td>1493.052734</td>\n",
       "    </tr>\n",
       "    <tr>\n",
       "      <th>2</th>\n",
       "      <td>2</td>\n",
       "      <td>1.893</td>\n",
       "      <td>1493.052734</td>\n",
       "    </tr>\n",
       "    <tr>\n",
       "      <th>3</th>\n",
       "      <td>3</td>\n",
       "      <td>2.024</td>\n",
       "      <td>1493.052734</td>\n",
       "    </tr>\n",
       "    <tr>\n",
       "      <th>4</th>\n",
       "      <td>4</td>\n",
       "      <td>2.652</td>\n",
       "      <td>1493.052734</td>\n",
       "    </tr>\n",
       "    <tr>\n",
       "      <th>5</th>\n",
       "      <td>5</td>\n",
       "      <td>1.741</td>\n",
       "      <td>1493.052734</td>\n",
       "    </tr>\n",
       "    <tr>\n",
       "      <th>6</th>\n",
       "      <td>6</td>\n",
       "      <td>1.568</td>\n",
       "      <td>1493.052734</td>\n",
       "    </tr>\n",
       "    <tr>\n",
       "      <th>7</th>\n",
       "      <td>7</td>\n",
       "      <td>1.627</td>\n",
       "      <td>1493.052734</td>\n",
       "    </tr>\n",
       "    <tr>\n",
       "      <th>8</th>\n",
       "      <td>8</td>\n",
       "      <td>1.935</td>\n",
       "      <td>1493.052734</td>\n",
       "    </tr>\n",
       "    <tr>\n",
       "      <th>9</th>\n",
       "      <td>9</td>\n",
       "      <td>2.057</td>\n",
       "      <td>1493.052734</td>\n",
       "    </tr>\n",
       "  </tbody>\n",
       "</table>\n",
       "</div>"
      ],
      "text/plain": [
       "  worker_id  duration (ms)  payload_size\n",
       "0         1          1.650   1493.052734\n",
       "1        10          1.823   1493.052734\n",
       "2         2          1.893   1493.052734\n",
       "3         3          2.024   1493.052734\n",
       "4         4          2.652   1493.052734\n",
       "5         5          1.741   1493.052734\n",
       "6         6          1.568   1493.052734\n",
       "7         7          1.627   1493.052734\n",
       "8         8          1.935   1493.052734\n",
       "9         9          2.057   1493.052734"
      ]
     },
     "execution_count": 7,
     "metadata": {},
     "output_type": "execute_result"
    }
   ],
   "source": [
    "# time for each worker\n",
    "new_df = df.groupby(\"worker_id\").sum()\n",
    "new_df = new_df.reset_index()\n",
    "new_df[\"payload_size\"] = new_df[\"payload_size\"] / (1024)\n",
    "new_df.head(10)"
   ]
  }
 ],
 "metadata": {
  "kernelspec": {
   "display_name": ".venv",
   "language": "python",
   "name": "python3"
  },
  "language_info": {
   "codemirror_mode": {
    "name": "ipython",
    "version": 3
   },
   "file_extension": ".py",
   "mimetype": "text/x-python",
   "name": "python",
   "nbconvert_exporter": "python",
   "pygments_lexer": "ipython3",
   "version": "3.12.9"
  }
 },
 "nbformat": 4,
 "nbformat_minor": 2
}
