{
  "cells": [
    {
      "cell_type": "markdown",
      "metadata": {},
      "source": [
        "\n# RHESSI Visibility Imaging\n\nCreate images from RHESSI visibility data\n"
      ]
    },
    {
      "cell_type": "code",
      "execution_count": null,
      "metadata": {
        "collapsed": false
      },
      "outputs": [],
      "source": [
        "import astropy.units as apu\nimport matplotlib.pyplot as plt\nimport numpy as np\nfrom astropy.io import fits\n\nfrom xrayvision.clean import vis_clean\nfrom xrayvision.imaging import vis_psf_map, vis_to_map\nfrom xrayvision.mem import mem, resistant_mean\nfrom xrayvision.visibility import Visibilities, VisMeta"
      ]
    },
    {
      "cell_type": "markdown",
      "metadata": {},
      "source": [
        "We will use `astropy.io.fits` to download and open the RHESSI visibility fits\nfile\n\n"
      ]
    },
    {
      "cell_type": "code",
      "execution_count": null,
      "metadata": {
        "collapsed": false
      },
      "outputs": [],
      "source": [
        "hdul = fits.open(\n    \"https://hesperia.gsfc.nasa.gov/rhessi_extras/visibility_fits_v2/2002/02/21/hsi_vis_20020221_2357_0054_46tx3e.fits\"\n)"
      ]
    },
    {
      "cell_type": "markdown",
      "metadata": {},
      "source": [
        "No lets extract the visibility data the first thing we will do is filter the\nvisibilities by time. We will extract the 3rd integration time range.\n\n"
      ]
    },
    {
      "cell_type": "code",
      "execution_count": null,
      "metadata": {
        "collapsed": false
      },
      "outputs": [],
      "source": [
        "times = np.unique(hdul[-1].data[\"TRANGE\"], axis=0)\ntime_index, _ = np.where(hdul[-1].data[\"TRANGE\"] == times[6])\nvis_data = hdul[3].data[time_index]"
      ]
    },
    {
      "cell_type": "markdown",
      "metadata": {},
      "source": [
        "Next lets filter by energy range in this case 12 - 25 keV\n\n"
      ]
    },
    {
      "cell_type": "code",
      "execution_count": null,
      "metadata": {
        "collapsed": false
      },
      "outputs": [],
      "source": [
        "energy_index, _ = np.where(vis_data[\"ERANGE\"] == [12.0, 25.0])\nvis_data = vis_data[energy_index]"
      ]
    },
    {
      "cell_type": "markdown",
      "metadata": {},
      "source": [
        "Now lets filter by ISC or detector to remove possibly bad data in this case\nneed to remove ISC 0 and 1.\n\n"
      ]
    },
    {
      "cell_type": "code",
      "execution_count": null,
      "metadata": {
        "collapsed": false
      },
      "outputs": [],
      "source": [
        "vis_data = vis_data[vis_data[\"isc\"] > 1]\nvis_data = vis_data[vis_data[\"obsvis\"] != 0 + 0j]"
      ]
    },
    {
      "cell_type": "markdown",
      "metadata": {},
      "source": [
        "Now we can create the visibility object from the filtered visibilities.\n\n"
      ]
    },
    {
      "cell_type": "code",
      "execution_count": null,
      "metadata": {
        "collapsed": false
      },
      "outputs": [],
      "source": [
        "meta = VisMeta({\"vis_labels\": vis_data[\"isc\"]})\n\nvunit = apu.Unit(\"photon/(cm**2 s)\")\nvis = Visibilities(\n    visibilities=vis_data[\"obsvis\"] * vunit,\n    u=vis_data[\"u\"] / apu.arcsec,\n    v=vis_data[\"v\"] / apu.arcsec,\n    phase_center=vis_data[\"xyoffset\"][0] * apu.arcsec,\n    meta=meta,\n    amplitude_uncertainty=vis_data[\"sigamp\"] * vunit,\n)"
      ]
    },
    {
      "cell_type": "markdown",
      "metadata": {},
      "source": [
        "Lets have a look at the point spread function (PSF) or dirty beam\n\n"
      ]
    },
    {
      "cell_type": "code",
      "execution_count": null,
      "metadata": {
        "collapsed": false
      },
      "outputs": [],
      "source": [
        "psf_map = vis_psf_map(vis, shape=(101, 101) * apu.pixel, pixel_size=1.5 * apu.arcsec / apu.pixel, scheme=\"uniform\")"
      ]
    },
    {
      "cell_type": "markdown",
      "metadata": {},
      "source": [
        "We can now make an image using the back projection algorithm essentially and\ninverse Fourier transform of the visibilities.\n\n"
      ]
    },
    {
      "cell_type": "code",
      "execution_count": null,
      "metadata": {
        "collapsed": false
      },
      "outputs": [],
      "source": [
        "backproj_map = vis_to_map(vis, shape=[101, 101] * apu.pixel, pixel_size=1.5 * apu.arcsec / apu.pix)"
      ]
    },
    {
      "cell_type": "markdown",
      "metadata": {},
      "source": [
        "Back projection contain many artifact due to the incomplete sampling of the u-v\nplane as a result various algorithms have been developed to remove or deconvolve\nthis effect. CLEAN is one of the oldest and simplest, a CLEAN image can be made.\n\n"
      ]
    },
    {
      "cell_type": "code",
      "execution_count": null,
      "metadata": {
        "collapsed": false
      },
      "outputs": [],
      "source": [
        "# vis_data_59 = vis_data[vis_data['isc'] > 3]\n#\n# vis_59 = Visibility(vis=vis_data_59['obsvis']*apu.Unit('ph/cm*s'), u=vis_data_59['u']/apu.arcsec,\n#                     v=vis_data_59['v']/apu.arcsec, offset=vis_data_59['xyoffset'][0]*apu.arcsec)\n\nclean_map, model_map, residual_map = vis_clean(\n    vis,\n    shape=[101, 101] * apu.pixel,\n    pixel_size=[1.5, 1.5] * apu.arcsec / apu.pix,\n    clean_beam_width=10 * apu.arcsec,\n    niter=100,\n)"
      ]
    },
    {
      "cell_type": "markdown",
      "metadata": {},
      "source": [
        "MEM\n\n"
      ]
    },
    {
      "cell_type": "code",
      "execution_count": null,
      "metadata": {
        "collapsed": false
      },
      "outputs": [],
      "source": [
        "# Compute percent_lambda\n# Loop through ISCs starting with 6-9, but if we don't have at least 2 vis, lower isc_min to include next one down, etc.\nisc_min = 6\nnbig = 0\n\nwhile isc_min >= 0 and nbig < 2:\n    ibig = np.argwhere(vis.meta.vis_labels >= isc_min)\n    nbig = len(ibig)\n    isc_min = isc_min - 1\n\n# If still don't have at least 2 vis, return -1, otherwise calculate mean (but reject points > sigma away from mean)\nif nbig < 2:\n    snr_value = -1\nelse:\n    snr_value, _ = resistant_mean((np.abs(vis.visibilities[ibig]) / vis.amplitude_uncertainty[ibig]).flatten(), 3)\n\npercent_lambda = 11.0 / (snr_value**2 + 383.0)\n\nmem_map = mem(vis, shape=[101, 101] * apu.pixel, pixel_size=[1.5, 1.5] * apu.arcsec / apu.pix)\nmem_map.plot()"
      ]
    },
    {
      "cell_type": "markdown",
      "metadata": {},
      "source": [
        "Comparison\n\n"
      ]
    },
    {
      "cell_type": "code",
      "execution_count": null,
      "metadata": {
        "collapsed": false
      },
      "outputs": [],
      "source": [
        "fig = plt.figure(figsize=(10, 10))\nfig.add_subplot(221, projection=psf_map)\nfig.add_subplot(222, projection=backproj_map)\nfig.add_subplot(223, projection=clean_map)\nfig.add_subplot(224, projection=mem_map)\naxs = fig.get_axes()\npsf_map.plot(axes=axs[0])\naxs[0].set_title(\"PSF\")\nbackproj_map.plot(axes=axs[1])\naxs[1].set_title(\"Back Projection\")\nclean_map.plot(axes=axs[2])\naxs[2].set_title(\"Clean\")\nmem_map.plot(axes=axs[3])\naxs[3].set_title(\"MEM\")\nplt.show()"
      ]
    }
  ],
  "metadata": {
    "kernelspec": {
      "display_name": "Python 3",
      "language": "python",
      "name": "python3"
    },
    "language_info": {
      "codemirror_mode": {
        "name": "ipython",
        "version": 3
      },
      "file_extension": ".py",
      "mimetype": "text/x-python",
      "name": "python",
      "nbconvert_exporter": "python",
      "pygments_lexer": "ipython3",
      "version": "3.9.16"
    }
  },
  "nbformat": 4,
  "nbformat_minor": 0
}