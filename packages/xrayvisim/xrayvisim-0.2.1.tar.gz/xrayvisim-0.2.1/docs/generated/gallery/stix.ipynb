{
  "cells": [
    {
      "cell_type": "markdown",
      "metadata": {},
      "source": [
        "\n# Solar Orbiter/STIX Visibility Imaging\n\nImports\n"
      ]
    },
    {
      "cell_type": "code",
      "execution_count": null,
      "metadata": {
        "collapsed": false
      },
      "outputs": [],
      "source": [
        "import pickle\n\nimport astropy.units as apu\nimport matplotlib.pyplot as plt\nimport numpy as np\n\nfrom xrayvision.clean import vis_clean\nfrom xrayvision.imaging import vis_psf_map, vis_to_map\nfrom xrayvision.mem import mem, resistant_mean"
      ]
    },
    {
      "cell_type": "markdown",
      "metadata": {},
      "source": [
        "Create images from STIX visibility data.\n\nThe STIX data has already been prepared and stored in python pickle format\nthe variables can be simply restored.\n\n"
      ]
    },
    {
      "cell_type": "code",
      "execution_count": null,
      "metadata": {
        "collapsed": false
      },
      "outputs": [],
      "source": [
        "with open(\"./stix_vis.pkl\", \"rb\") as file:\n    stix_data = pickle.load(file)\n\ntime_range = stix_data[\"time_range\"]\nenergy_range = stix_data[\"energy_range\"]\nstix_vis = stix_data[\"stix_visibilities\"]"
      ]
    },
    {
      "cell_type": "markdown",
      "metadata": {},
      "source": [
        "Lets have a look at the point spread function (PSF) or dirty beam\n\n"
      ]
    },
    {
      "cell_type": "code",
      "execution_count": null,
      "metadata": {
        "collapsed": false
      },
      "outputs": [],
      "source": [
        "psf_map = vis_psf_map(stix_vis, shape=(129, 129) * apu.pixel, pixel_size=2 * apu.arcsec / apu.pix, scheme=\"uniform\")\npsf_map.plot()"
      ]
    },
    {
      "cell_type": "markdown",
      "metadata": {},
      "source": [
        "Back projection\n\n"
      ]
    },
    {
      "cell_type": "code",
      "execution_count": null,
      "metadata": {
        "collapsed": false
      },
      "outputs": [],
      "source": [
        "backproj_map = vis_to_map(stix_vis, shape=(129, 129) * apu.pixel, pixel_size=2 * apu.arcsec / apu.pix, scheme=\"uniform\")\nbackproj_map.plot()"
      ]
    },
    {
      "cell_type": "markdown",
      "metadata": {},
      "source": [
        "Clean\n\n"
      ]
    },
    {
      "cell_type": "code",
      "execution_count": null,
      "metadata": {
        "collapsed": false
      },
      "outputs": [],
      "source": [
        "clean_map, model_map, resid_map = vis_clean(\n    stix_vis,\n    shape=[129, 129] * apu.pixel,\n    pixel_size=[2, 2] * apu.arcsec / apu.pix,\n    clean_beam_width=20 * apu.arcsec,\n    niter=100,\n)\nclean_map.plot()"
      ]
    },
    {
      "cell_type": "markdown",
      "metadata": {},
      "source": [
        "MEM\n\n"
      ]
    },
    {
      "cell_type": "code",
      "execution_count": null,
      "metadata": {
        "collapsed": false
      },
      "outputs": [],
      "source": [
        "# Compute percent_lambda\nsnr_value, _ = resistant_mean((np.abs(stix_vis.visibilities) / stix_vis.amplitude_uncertainty).flatten(), 3)\npercent_lambda = 2 / (snr_value**2 + 90)\n\nmem_map = mem(\n    stix_vis, shape=[129, 129] * apu.pixel, pixel_size=[2, 2] * apu.arcsec / apu.pix, percent_lambda=percent_lambda\n)\nmem_map.plot()"
      ]
    },
    {
      "cell_type": "markdown",
      "metadata": {},
      "source": [
        "Comparison\n\n"
      ]
    },
    {
      "cell_type": "code",
      "execution_count": null,
      "metadata": {
        "collapsed": false
      },
      "outputs": [],
      "source": [
        "fig = plt.figure(figsize=(10, 10))\nfig.add_subplot(221, projection=psf_map)\nfig.add_subplot(222, projection=backproj_map)\nfig.add_subplot(223, projection=clean_map)\nfig.add_subplot(224, projection=mem_map)\naxs = fig.get_axes()\npsf_map.plot(axes=axs[0])\naxs[0].set_title(\"PSF\")\nbackproj_map.plot(axes=axs[1])\naxs[1].set_title(\"Back Projection\")\nclean_map.plot(axes=axs[2])\naxs[2].set_title(\"Clean\")\nmem_map.plot(axes=axs[3])\naxs[3].set_title(\"MEM\")\nplt.show()"
      ]
    }
  ],
  "metadata": {
    "kernelspec": {
      "display_name": "Python 3",
      "language": "python",
      "name": "python3"
    },
    "language_info": {
      "codemirror_mode": {
        "name": "ipython",
        "version": 3
      },
      "file_extension": ".py",
      "mimetype": "text/x-python",
      "name": "python",
      "nbconvert_exporter": "python",
      "pygments_lexer": "ipython3",
      "version": "3.9.16"
    }
  },
  "nbformat": 4,
  "nbformat_minor": 0
}