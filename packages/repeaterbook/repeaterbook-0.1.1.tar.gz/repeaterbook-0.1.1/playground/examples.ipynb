{
 "cells": [
  {
   "cell_type": "code",
   "execution_count": null,
   "metadata": {},
   "outputs": [],
   "source": [
    "import pycountry\n",
    "from anyio import Path\n",
    "\n",
    "from repeaterbook.models import ExportQuery\n",
    "from repeaterbook.services import RepeaterBook\n",
    "\n",
    "rb = RepeaterBook(\n",
    "    app_name=\"RepeaterBook Python SDK\",\n",
    "    app_email=\"micael@jarniac.dev\",\n",
    "    working_dir=Path(),\n",
    ")\n",
    "await rb.download(query=ExportQuery(countries={pycountry.countries.get(name=\"Brazil\")}))"
   ]
  },
  {
   "cell_type": "code",
   "execution_count": null,
   "metadata": {},
   "outputs": [],
   "source": [
    "from haversine import Unit\n",
    "from rich import print as pprint\n",
    "\n",
    "repeaters = rb.find_nearest(\n",
    "    latitude=-22.4000,\n",
    "    longitude=-46.9000,\n",
    "    max_distance=50,\n",
    "    unit=Unit.KILOMETERS,\n",
    ")\n",
    "pprint(repeaters)"
   ]
  }
 ],
 "metadata": {
  "kernelspec": {
   "display_name": ".venv",
   "language": "python",
   "name": "python3"
  },
  "language_info": {
   "codemirror_mode": {
    "name": "ipython",
    "version": 3
   },
   "file_extension": ".py",
   "mimetype": "text/x-python",
   "name": "python",
   "nbconvert_exporter": "python",
   "pygments_lexer": "ipython3",
   "version": "3.13.2"
  }
 },
 "nbformat": 4,
 "nbformat_minor": 2
}
