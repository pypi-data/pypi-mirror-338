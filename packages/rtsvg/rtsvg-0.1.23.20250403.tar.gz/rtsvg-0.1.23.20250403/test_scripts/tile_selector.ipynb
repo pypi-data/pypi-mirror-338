{
 "cells": [
  {
   "cell_type": "code",
   "execution_count": null,
   "metadata": {},
   "outputs": [],
   "source": [
    "import rtsvg\n",
    "import string\n",
    "import random\n",
    "import panel as pn\n",
    "import param\n",
    "pn.extension(design=\"material\", sizing_mode=\"stretch_width\")\n",
    "rt = rtsvg.RACETrack()\n",
    "def makeWord(n): return ''.join(random.choice(string.ascii_lowercase) for _ in range(n))\n",
    "docs, m = [], 10\n",
    "for i in range(m):\n",
    "    doc_length = 100 + random.randint(0,1000)\n",
    "    words = []\n",
    "    for j in range(doc_length): words.append(makeWord(3+random.randint(0,5)))\n",
    "    docs.append(' '.join(words))\n",
    "tbs  = []\n",
    "for doc in docs: tbs.append(rt.textBlock(doc, word_wrap=True))\n",
    "prs  = []\n",
    "_lu_ = {'[abc][def]': '#ff0000', '[ghi][jkl]': '#00ff00', '[mno][pqr]': '#0000ff'}\n",
    "tbs = sorted(tbs)\n",
    "for tb in tbs: prs.append(tb.pixelRepr(_lu_, w=128))\n",
    "\n",
    "class TileSelector(param.Parameterized):\n",
    "    def __init__(self, rt_self, tiles, per_row=5, *args, **kwargs):\n",
    "        super().__init__(**kwargs)\n",
    "        self.rt_self = rt_self\n",
    "        self.tiles   = tiles\n",
    "        self.per_row = per_row\n",
    "        self._column_ = pn.Column(pn.widgets.Button(name='Test'), \n",
    "                                  pn.pane.HTML('<h3>Test</h3>'),\n",
    "                                  pn.pane.HTML('<h3>Test 2</h3>'))\n",
    "    def _update_panel(self):\n",
    "        pass\n",
    "    def panel(self):\n",
    "        return self._column_\n",
    "\n",
    "_selector_ = TileSelector(rt, tbs)\n",
    "_selector_.panel()"
   ]
  },
  {
   "cell_type": "code",
   "execution_count": null,
   "metadata": {},
   "outputs": [],
   "source": []
  }
 ],
 "metadata": {
  "kernelspec": {
   "display_name": ".venv",
   "language": "python",
   "name": "python3"
  },
  "language_info": {
   "codemirror_mode": {
    "name": "ipython",
    "version": 3
   },
   "file_extension": ".py",
   "mimetype": "text/x-python",
   "name": "python",
   "nbconvert_exporter": "python",
   "pygments_lexer": "ipython3",
   "version": "3.12.3"
  }
 },
 "nbformat": 4,
 "nbformat_minor": 2
}
