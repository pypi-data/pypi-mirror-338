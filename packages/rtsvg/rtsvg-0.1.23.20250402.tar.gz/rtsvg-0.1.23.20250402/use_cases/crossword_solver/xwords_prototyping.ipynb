{
 "cells": [
  {
   "cell_type": "code",
   "execution_count": null,
   "metadata": {},
   "outputs": [],
   "source": [
    "import time\n",
    "import rtsvg\n",
    "rt = rtsvg.RACETrack()\n",
    "from xwords import XWords\n",
    "import os\n",
    "_dir_    = '../../../data/crossword_puzzle_screenshots/'\n",
    "_files_  = os.listdir(_dir_)\n",
    "entries_file    = None\n",
    "geometries_file = None\n",
    "blockers_file   = None\n",
    "for _file_ in _files_:\n",
    "    if   'entries'    in _file_: entries_file    = _dir_ + _file_\n",
    "    elif 'geometries' in _file_: geometries_file = _dir_ + _file_\n",
    "    elif 'blockers'   in _file_: blockers_file   = _dir_ + _file_\n",
    "xwords = XWords(rt, entries_file, geometries_file, blockers_file)\n",
    "xwords"
   ]
  },
  {
   "cell_type": "code",
   "execution_count": null,
   "metadata": {},
   "outputs": [],
   "source": [
    "from ollama import chat\n",
    "from ollama import ChatResponse\n",
    "from pydantic import BaseModel\n",
    "model = 'gemma3:4b' # 'qwq' # 'deepseek-r1:32b' # 'gemma3:12b' # 'llama3.2'\n",
    "def promptModel(prompt):\n",
    "    response: ChatResponse = chat(model=model, messages=[{ 'role': 'user', 'content': prompt,},],)\n",
    "    return response['message']['content']\n",
    "promptModel('What is 55*3?  Return a single number.')\n",
    "\n",
    "class Guess(BaseModel):\n",
    "    guess: str\n",
    "\n",
    "response_lu = {}\n",
    "\n",
    "for cluenum, orientation in xwords.allClueNumbersAndOrientations():\n",
    "    _tuple_ = (cluenum, orientation)\n",
    "    if _tuple_ not in response_lu: response_lu[_tuple_] = []\n",
    "    clue    = xwords.clue(cluenum, orientation)\n",
    "    prompt  = f'Solve the crossword puzzle clue \"{clue}\" that is {xwords.numberOfLetters(cluenum, orientation)} letters long.  Return a single word in a JSON object.'\n",
    "    t0 = time.time()\n",
    "    response: ChatResponse = chat(model=model, messages=[{ 'role': 'user', 'content':  prompt,},], format=Guess.model_json_schema())\n",
    "    t1 = time.time()\n",
    "    response_lu[_tuple_].append((t1-t0, response))\n",
    "    guess = Guess.model_validate_json(response['message']['content'])\n",
    "    if len(guess.guess) != xwords.numberOfLetters(cluenum, orientation): \n",
    "        print('!',end='')\n",
    "    else:\n",
    "        xwords.guess(cluenum, orientation, guess.guess)\n",
    "        print('.',end='')\n"
   ]
  },
  {
   "cell_type": "code",
   "execution_count": null,
   "metadata": {},
   "outputs": [],
   "source": [
    "xwords"
   ]
  },
  {
   "cell_type": "code",
   "execution_count": null,
   "metadata": {},
   "outputs": [],
   "source": [
    "xwords.clue(1, 'across'), xwords.clue(1, 'down')"
   ]
  },
  {
   "cell_type": "code",
   "execution_count": null,
   "metadata": {},
   "outputs": [],
   "source": [
    "xwords.crossCluesAtCellCoordinates(12, 17)"
   ]
  },
  {
   "cell_type": "code",
   "execution_count": null,
   "metadata": {},
   "outputs": [],
   "source": []
  }
 ],
 "metadata": {
  "kernelspec": {
   "display_name": ".venv",
   "language": "python",
   "name": "python3"
  },
  "language_info": {
   "codemirror_mode": {
    "name": "ipython",
    "version": 3
   },
   "file_extension": ".py",
   "mimetype": "text/x-python",
   "name": "python",
   "nbconvert_exporter": "python",
   "pygments_lexer": "ipython3",
   "version": "3.12.3"
  }
 },
 "nbformat": 4,
 "nbformat_minor": 2
}
