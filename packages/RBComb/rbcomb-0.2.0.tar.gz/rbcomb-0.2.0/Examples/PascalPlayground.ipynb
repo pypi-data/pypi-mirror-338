{
 "cells": [
  {
   "cell_type": "code",
   "execution_count": 27,
   "metadata": {},
   "outputs": [],
   "source": [
    "import numpy as np;\n",
    "import time;\n",
    "from RBComb.SerialBridge import *\n",
    "from RBComb.RBComb576 import *\n",
    "from RBComb.Helper.BoardPinout import *\n",
    "from RBComb.Helper.BoardUnits import *;\n",
    "from RBComb.Helper.FunctionInterpolator import *\n",
    "import matplotlib.pyplot as plt;\n",
    "%matplotlib inline"
   ]
  },
  {
   "cell_type": "code",
   "execution_count": 48,
   "metadata": {},
   "outputs": [],
   "source": [
    "def testFunctionA(x):\n",
    "    y = np.zeros(np.shape(x), dtype='float')\n",
    "    for i in range(len(x)):\n",
    "        y[i] = x[i]**2 + 0.0001\n",
    "    return y"
   ]
  },
  {
   "cell_type": "code",
   "execution_count": 49,
   "metadata": {},
   "outputs": [],
   "source": [
    "def testFunctionB(x):\n",
    "    y = np.zeros(np.shape(x), dtype='float')\n",
    "    for i in range(len(x)):\n",
    "        y[i] = (1.-x[i])**2 + 0.0001\n",
    "    return y"
   ]
  },
  {
   "cell_type": "code",
   "execution_count": 50,
   "metadata": {},
   "outputs": [
    {
     "name": "stdout",
     "output_type": "stream",
     "text": [
      "[    13     13     13 ... 131071 131075 131079]\n"
     ]
    },
    {
     "data": {
      "text/plain": [
       "[<matplotlib.lines.Line2D at 0x12c0e8f60>]"
      ]
     },
     "execution_count": 50,
     "metadata": {},
     "output_type": "execute_result"
    },
    {
     "data": {
      "image/png": "[encoded data removed]",
      "text/plain": [
       "<matplotlib.figure.Figure at 0x12ad2d1d0>"
      ]
     },
     "metadata": {},
     "output_type": "display_data"
    }
   ],
   "source": [
    "interpolator = FunctionInterpolator()\n",
    "testFunAInterp = interpolator.performInterpolation(testFunctionA)\n",
    "validate = interpolator.performValidation(testFunAInterp)\n",
    "print(validate)\n",
    "plt.plot(validate)"
   ]
  },
  {
   "cell_type": "code",
   "execution_count": 51,
   "metadata": {},
   "outputs": [
    {
     "name": "stdout",
     "output_type": "stream",
     "text": [
      "[131084 131079 131075 ...     13     13     13]\n"
     ]
    },
    {
     "data": {
      "text/plain": [
       "[<matplotlib.lines.Line2D at 0x12c2d41d0>]"
      ]
     },
     "execution_count": 51,
     "metadata": {},
     "output_type": "execute_result"
    },
    {
     "data": {
      "image/png": "[encoded data removed]",
      "text/plain": [
       "<matplotlib.figure.Figure at 0x12be4de80>"
      ]
     },
     "metadata": {},
     "output_type": "display_data"
    }
   ],
   "source": [
    "testFunBInterp = interpolator.performInterpolation(testFunctionB)\n",
    "validate = interpolator.performValidation(testFunBInterp)\n",
    "print(validate)\n",
    "plt.plot(validate)"
   ]
  },
  {
   "cell_type": "code",
   "execution_count": 32,
   "metadata": {},
   "outputs": [],
   "source": [
    "#bridge = SerialBridge('/dev/tty.usbserial-FT35HA60B', True, 300)\n",
    "bridge = SerialBridge('/dev/tty.usbserial-FT3J6M59B', True, 300)\n",
    "rbComb = RBComb576(bridge)"
   ]
  },
  {
   "cell_type": "code",
   "execution_count": 52,
   "metadata": {},
   "outputs": [],
   "source": [
    "bridge.disableClock()\n",
    "bridge.selectAllBoards()"
   ]
  },
  {
   "cell_type": "code",
   "execution_count": 53,
   "metadata": {},
   "outputs": [],
   "source": [
    "for i in range(576):\n",
    "    rbComb.setTaylorCoefficients(i,False,testFunAInterp)\n",
    "    rbComb.setTaylorCoefficients(i,True,testFunBInterp)"
   ]
  },
  {
   "cell_type": "code",
   "execution_count": 54,
   "metadata": {},
   "outputs": [],
   "source": [
    "units = BoardUnits()\n",
    "\n",
    "sequenceLength = 4\n",
    "sequenceOrder = [0,0,1,1]\n",
    "sequenceAB = [0,1,1,0]\n",
    "rbComb.setBraidingLength(sequenceLength)\n",
    "rbComb.setBraidingOrder(sequenceOrder)\n",
    "rbComb.setBraidingHold([0,0,0,0]) # Setting a 1 here allows to freeze the output for a step. Not used now.\n",
    "rbComb.setBraidingAB(sequenceAB)\n",
    "rbComb.setBraidingSpeed(units.convertBraidingDurationToIntegerSpeed(10e-3))\n",
    "rbComb.setGain(True)"
   ]
  },
  {
   "cell_type": "code",
   "execution_count": 60,
   "metadata": {},
   "outputs": [],
   "source": [
    "rbComb.outputRampUp()\n",
    "rbComb.setCurrentState([0,0,0,0,0])\n",
    "bridge.enableClock()\n",
    "time.sleep(5)\n",
    "bridge.disableClock()"
   ]
  },
  {
   "cell_type": "code",
   "execution_count": 61,
   "metadata": {},
   "outputs": [],
   "source": [
    "rbComb.setNextState([0,0,0,0,1],units.convertTimeToSteps(100e-3))\n",
    "rbComb.setBraidingFrame(0)"
   ]
  },
  {
   "cell_type": "code",
   "execution_count": 62,
   "metadata": {},
   "outputs": [],
   "source": [
    "bridge.enableClock()\n",
    "time.sleep(1)\n",
    "bridge.disableClock()\n",
    "rbComb.outputRampDown()\n",
    "bridge.enableClock()\n",
    "time.sleep(5)\n",
    "bridge.disableClock()"
   ]
  },
  {
   "cell_type": "code",
   "execution_count": 26,
   "metadata": {},
   "outputs": [],
   "source": [
    "bridge.closeConnection()"
   ]
  },
  {
   "cell_type": "code",
   "execution_count": null,
   "metadata": {},
   "outputs": [],
   "source": []
  }
 ],
 "metadata": {
  "kernelspec": {
   "display_name": "Python 3",
   "language": "python",
   "name": "python3"
  },
  "language_info": {
   "codemirror_mode": {
    "name": "ipython",
    "version": 3
   },
   "file_extension": ".py",
   "mimetype": "text/x-python",
   "name": "python",
   "nbconvert_exporter": "python",
   "pygments_lexer": "ipython3",
   "version": "3.6.5"
  },
  "toc": {
   "nav_menu": {},
   "number_sections": true,
   "sideBar": true,
   "skip_h1_title": false,
   "title_cell": "Table of Contents",
   "title_sidebar": "Contents",
   "toc_cell": false,
   "toc_position": {},
   "toc_section_display": true,
   "toc_window_display": false
  }
 },
 "nbformat": 4,
 "nbformat_minor": 2
}
