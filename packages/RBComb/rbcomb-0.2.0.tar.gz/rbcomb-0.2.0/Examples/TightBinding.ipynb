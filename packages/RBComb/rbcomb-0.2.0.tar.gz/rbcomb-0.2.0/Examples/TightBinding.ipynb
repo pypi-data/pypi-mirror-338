{
 "cells": [
  {
   "cell_type": "code",
   "execution_count": 1,
   "metadata": {},
   "outputs": [],
   "source": [
    "import scipy.signal;\n",
    "import scipy.sparse as spr;\n",
    "import numpy as np;\n",
    "import matplotlib.pyplot as plt;\n",
    "from matplotlib import animation;\n",
    "%matplotlib inline\n",
    "from RBComb.Helper.FunctionInterpolator import *"
   ]
  },
  {
   "cell_type": "code",
   "execution_count": 2,
   "metadata": {},
   "outputs": [],
   "source": [
    "plt.rcParams['figure.figsize'] = [6, 6]"
   ]
  },
  {
   "cell_type": "code",
   "execution_count": 3,
   "metadata": {},
   "outputs": [],
   "source": [
    "class LatticeSite:\n",
    "    def __init__(self, physicalLocation):\n",
    "        self.physicalLocation = physicalLocation;\n",
    "        self.matrixIndex = -1;\n",
    "        self.enabled = True;\n",
    "        self.siteConnections = [];\n",
    "        \n",
    "    def prune(self, physicalMin, physicalMax):\n",
    "        if self.physicalLocation[0] < physicalMin[0]:\n",
    "            self.enabled = False;\n",
    "        if self.physicalLocation[0] > physicalMax[0]:\n",
    "            self.enabled = False;\n",
    "        if self.physicalLocation[1] < physicalMin[1]:\n",
    "            self.enabled = False;\n",
    "        if self.physicalLocation[1] > physicalMax[1]:\n",
    "            self.enabled = False;\n",
    "        \n",
    "    def setIndex(self, currentIndex):\n",
    "        if self.enabled:\n",
    "            self.matrixIndex = currentIndex;\n",
    "            currentIndex = currentIndex + 1;\n",
    "        return currentIndex;\n",
    "    \n",
    "    def setLink(self, partner):\n",
    "        if self.enabled and partner.enabled:\n",
    "            self.siteConnections.append(partner);\n",
    "            partner.siteConnections.append(self);\n",
    "            return 1;\n",
    "        return 0;"
   ]
  },
  {
   "cell_type": "code",
   "execution_count": 4,
   "metadata": {},
   "outputs": [],
   "source": [
    "class UnitCell:\n",
    "    def __init__(self, location, offset):\n",
    "        self.siteA = LatticeSite(location);\n",
    "        self.siteB = LatticeSite(location+offset);\n",
    "        \n",
    "    def prune(self,physicalMin, physicalMax):\n",
    "        self.siteA.prune(physicalMin, physicalMax);\n",
    "        self.siteB.prune(physicalMin, physicalMax);\n",
    "    \n",
    "    def setIndices(self, currentIndex):\n",
    "        currentIndex = self.siteA.setIndex(currentIndex);\n",
    "        currentIndex = self.siteB.setIndex(currentIndex);\n",
    "        return currentIndex;"
   ]
  },
  {
   "cell_type": "code",
   "execution_count": 5,
   "metadata": {},
   "outputs": [],
   "source": [
    "class BraidingAction:\n",
    "    def __init__(self, centerLocation, startAngle, endAngle, windingRadius, duration):\n",
    "        self.centerLocation = centerLocation;\n",
    "        self.windingRadius = windingRadius;\n",
    "        self.startAngle = startAngle;\n",
    "        self.endAngle = endAngle;\n",
    "        self.duration = duration;    \n",
    "    def getPhysicalLocation(self, currentTime):\n",
    "        windingAngle = self.startAngle+(currentTime-self.startTime)*(self.endAngle-self.startAngle)/self.duration;\n",
    "        return self.centerLocation+self.windingRadius*np.array([np.cos(windingAngle),np.sin(windingAngle)]);"
   ]
  },
  {
   "cell_type": "code",
   "execution_count": 6,
   "metadata": {},
   "outputs": [],
   "source": [
    "class Vortex:\n",
    "    def __init__(self, l0, alpha):\n",
    "        self.l0 = l0;\n",
    "        self.alpha = alpha; \n",
    "        self.braidingSequence = [];\n",
    "        self.endTime = 0;\n",
    "        self.lastPosition = np.array([0,0]);\n",
    "        \n",
    "    def addBraidingAction(self, braidingAction):\n",
    "        braidingAction.startTime = self.endTime;\n",
    "        self.endTime += braidingAction.duration;\n",
    "        braidingAction.endTime = self.endTime;\n",
    "        self.braidingSequence.append(braidingAction);\n",
    "        \n",
    "    def getPhysicalLocation(self, currentTime):\n",
    "        for braidingAction in self.braidingSequence:\n",
    "            if braidingAction.startTime <= currentTime and braidingAction.endTime >= currentTime:\n",
    "                self.lastPosition = braidingAction.getPhysicalLocation(currentTime);\n",
    "                break;\n",
    "        return self.lastPosition;"
   ]
  },
  {
   "cell_type": "code",
   "execution_count": 7,
   "metadata": {},
   "outputs": [],
   "source": [
    "# Lattice configuration\n",
    "physicalStartingPoint = [0.01,0.6]\n",
    "physicalEndPoint = [63.5,47.5]\n",
    "\n",
    "siteStartingPoint = [0,-40];\n",
    "siteEndingPoint = [64,48];\n",
    "\n",
    "latticeParameter = 1.0;\n",
    "\n",
    "_s1 = latticeParameter*np.array([0,-1.0]);\n",
    "_s2 = latticeParameter*0.5*np.array([np.sqrt(3.0),1.0]);\n",
    "_s3 = latticeParameter*0.5*np.array([-np.sqrt(3.0),1.0]);\n",
    "\n",
    "_kPrefact = 4.0*np.pi/(3.0*np.sqrt(3.0)*latticeParameter);\n",
    "_kPlus = _kPrefact*np.array([1,0])\n",
    "_kMinus = _kPrefact*np.array([-1,0])\n",
    "_kPM = _kPlus-_kMinus;\n",
    "\n",
    "vectorU = _s2-_s1;\n",
    "vectorV = _s2-_s3;\n",
    "siteOffset = _s2;\n",
    "\n",
    "# Local properties\n",
    "localFrequency = 25e3;\n",
    "localMass = 2328*(1e-6)*(np.pi*((250e-6)**2));\n",
    "localStiffness = localMass*((2.0*np.pi*localFrequency)**2);\n",
    "Q = 30000;\n",
    "dampingTau = (2.0*np.pi*localFrequency/Q);\n",
    "maxEigenvalue = (localFrequency*2*np.pi*1.1)**2;\n",
    "\n",
    "# Coupling terms\n",
    "couplingStiffness = localStiffness*0.2;\n",
    "baseStiffness = couplingStiffness*0.1;\n",
    "\n",
    "#self, centerLocation, startAngle, endAngle, duration)\n",
    "\n",
    "# Vortices\n",
    "Vortices = [];\n",
    "\n",
    "vortex1 = Vortex(l0=5, alpha=1);\n",
    "Vortices.append(vortex1)\n",
    "\n",
    "vortex2 = Vortex(l0=5, alpha=1);\n",
    "Vortices.append(vortex2)\n",
    "\n",
    "vortex3 = Vortex(l0=5, alpha=1);\n",
    "Vortices.append(vortex3)\n",
    "\n",
    "# Centers for braiding\n",
    "leftCenter=np.array([21.0,24])\n",
    "rightCenter=np.array([42.0,24])\n",
    "\n",
    "# Non-abelian braiding sequence. Part A\n",
    "t0 = 0.008;\n",
    "# Non-abelian braiding sequence. Part A\n",
    "def performBraidingSequenceB2B1():\n",
    "    # T1 (1,2,3) -> (2,1,3)\n",
    "    vortex1.addBraidingAction(BraidingAction(centerLocation=leftCenter, startAngle=np.pi, endAngle=0, windingRadius = 10.5, duration=t0));\n",
    "    vortex2.addBraidingAction(BraidingAction(centerLocation=leftCenter, startAngle=0, endAngle=-np.pi, windingRadius = 10.5, duration=t0));\n",
    "    vortex3.addBraidingAction(BraidingAction(centerLocation=rightCenter, startAngle=0, endAngle=0, windingRadius = 10.5, duration=t0));\n",
    "    \n",
    "    # T2 (2,1,3) -> (2,3,1)\n",
    "    vortex2.addBraidingAction(BraidingAction(centerLocation=leftCenter, startAngle=-np.pi, endAngle=-np.pi, windingRadius = 10.5, duration=t0));\n",
    "    vortex1.addBraidingAction(BraidingAction(centerLocation=rightCenter, startAngle=np.pi, endAngle=0, windingRadius = 10.5, duration=t0));\n",
    "    vortex3.addBraidingAction(BraidingAction(centerLocation=rightCenter, startAngle=0, endAngle=-np.pi, windingRadius = 10.5, duration=t0));\n",
    "    \n",
    "    # T3 (2,3,1) -> (3,2,1)\n",
    "    vortex2.addBraidingAction(BraidingAction(centerLocation=leftCenter, startAngle=-np.pi, endAngle=0, windingRadius = 10.5, duration=t0));\n",
    "    vortex3.addBraidingAction(BraidingAction(centerLocation=leftCenter, startAngle=0, endAngle=np.pi, windingRadius = 10.5, duration=t0));\n",
    "    vortex1.addBraidingAction(BraidingAction(centerLocation=rightCenter, startAngle=0, endAngle=0, windingRadius = 10.5, duration=t0));\n",
    "   \n",
    "    # T4 (3,2,1) -> (3,1,2)\n",
    "    vortex3.addBraidingAction(BraidingAction(centerLocation=leftCenter, startAngle=-np.pi, endAngle=-np.pi, windingRadius = 10.5, duration=t0));\n",
    "    vortex2.addBraidingAction(BraidingAction(centerLocation=rightCenter, startAngle=np.pi, endAngle=0, windingRadius = 10.5, duration=t0));\n",
    "    vortex1.addBraidingAction(BraidingAction(centerLocation=rightCenter, startAngle=0, endAngle=-np.pi, windingRadius = 10.5, duration=t0));\n",
    "    \n",
    "    # T5 (3,1,2) -> (1,3,2)\n",
    "    vortex3.addBraidingAction(BraidingAction(centerLocation=leftCenter, startAngle=-np.pi, endAngle=0, windingRadius = 10.5, duration=t0));\n",
    "    vortex1.addBraidingAction(BraidingAction(centerLocation=leftCenter, startAngle=0, endAngle=np.pi, windingRadius = 10.5, duration=t0));\n",
    "    vortex2.addBraidingAction(BraidingAction(centerLocation=rightCenter, startAngle=0, endAngle=0, windingRadius = 10.5, duration=t0));\n",
    "   \n",
    "    # T6 (1,3,2) -> (1,2,3)\n",
    "    vortex1.addBraidingAction(BraidingAction(centerLocation=leftCenter, startAngle=-np.pi, endAngle=-np.pi, windingRadius = 10.5, duration=t0));\n",
    "    vortex3.addBraidingAction(BraidingAction(centerLocation=rightCenter, startAngle=np.pi, endAngle=0, windingRadius = 10.5, duration=t0));\n",
    "    vortex2.addBraidingAction(BraidingAction(centerLocation=rightCenter, startAngle=0, endAngle=-np.pi, windingRadius = 10.5, duration=t0));\n",
    "    \n",
    "\n",
    "def performBraidingSequenceB1B2():\n",
    "    # T1 (1,2,3) -> (2,1,3)\n",
    "    vortex1.addBraidingAction(BraidingAction(centerLocation=leftCenter, startAngle=-np.pi, endAngle=0, windingRadius = 10.5, duration=t0));\n",
    "    vortex2.addBraidingAction(BraidingAction(centerLocation=leftCenter, startAngle=0, endAngle=np.pi, windingRadius = 10.5, duration=t0));\n",
    "    vortex3.addBraidingAction(BraidingAction(centerLocation=rightCenter, startAngle=0, endAngle=0, windingRadius = 10.5, duration=t0));\n",
    "    \n",
    "    # T2 (2,1,3) -> (2,3,1)\n",
    "    vortex2.addBraidingAction(BraidingAction(centerLocation=leftCenter, startAngle=-np.pi, endAngle=-np.pi, windingRadius = 10.5, duration=t0));\n",
    "    vortex1.addBraidingAction(BraidingAction(centerLocation=rightCenter, startAngle=np.pi, endAngle=0, windingRadius = 10.5, duration=t0));\n",
    "    vortex3.addBraidingAction(BraidingAction(centerLocation=rightCenter, startAngle=0, endAngle=-np.pi, windingRadius = 10.5, duration=t0));\n",
    "    \n",
    "    # T3 (2,3,1) -> (3,2,1)\n",
    "    vortex2.addBraidingAction(BraidingAction(centerLocation=leftCenter, startAngle=-np.pi, endAngle=0, windingRadius = 10.5, duration=t0));\n",
    "    vortex3.addBraidingAction(BraidingAction(centerLocation=leftCenter, startAngle=0, endAngle=np.pi, windingRadius = 10.5, duration=t0));\n",
    "    vortex1.addBraidingAction(BraidingAction(centerLocation=rightCenter, startAngle=0, endAngle=0, windingRadius = 10.5, duration=t0));\n",
    "    \n",
    "    # T4 (3,2,1) -> (3,1,2)\n",
    "    vortex3.addBraidingAction(BraidingAction(centerLocation=leftCenter, startAngle=-np.pi, endAngle=-np.pi, windingRadius = 10.5, duration=t0));\n",
    "    vortex2.addBraidingAction(BraidingAction(centerLocation=rightCenter, startAngle=np.pi, endAngle=0, windingRadius = 10.5, duration=t0));\n",
    "    vortex1.addBraidingAction(BraidingAction(centerLocation=rightCenter, startAngle=0, endAngle=-np.pi, windingRadius = 10.5, duration=t0));\n",
    "    \n",
    "    # T5 (3,1,2) -> (1,3,2)\n",
    "    vortex3.addBraidingAction(BraidingAction(centerLocation=leftCenter, startAngle=np.pi, endAngle=0, windingRadius = 10.5, duration=t0));\n",
    "    vortex1.addBraidingAction(BraidingAction(centerLocation=leftCenter, startAngle=0, endAngle=-np.pi, windingRadius = 10.5, duration=t0));\n",
    "    vortex2.addBraidingAction(BraidingAction(centerLocation=rightCenter, startAngle=0, endAngle=0, windingRadius = 10.5, duration=t0));\n",
    "    \n",
    "    # T6 (1,3,2) -> (1,2,3)\n",
    "    vortex1.addBraidingAction(BraidingAction(centerLocation=leftCenter, startAngle=-np.pi, endAngle=-np.pi, windingRadius = 10.5, duration=t0));\n",
    "    vortex3.addBraidingAction(BraidingAction(centerLocation=rightCenter, startAngle=np.pi, endAngle=0, windingRadius = 10.5, duration=t0));\n",
    "    vortex2.addBraidingAction(BraidingAction(centerLocation=rightCenter, startAngle=0, endAngle=-np.pi, windingRadius = 10.5, duration=t0));\n",
    "# Select here the braiding order\n",
    "#performBraidingSequenceB1B2();\n",
    "performBraidingSequenceB2B1();\n",
    "\n",
    "Delta0 = 1;"
   ]
  },
  {
   "cell_type": "code",
   "execution_count": 8,
   "metadata": {},
   "outputs": [
    {
     "name": "stdout",
     "output_type": "stream",
     "text": [
      "11.2785331425\n",
      "2.25570662849\n",
      "0.225570662849\n"
     ]
    }
   ],
   "source": [
    "print(localStiffness)\n",
    "print(couplingStiffness)\n",
    "print(baseStiffness)"
   ]
  },
  {
   "cell_type": "code",
   "execution_count": 9,
   "metadata": {},
   "outputs": [],
   "source": [
    "# Create lattice\n",
    "Sample = {};\n",
    "numberOfSites = 0;\n",
    "for i in range(siteStartingPoint[0],siteEndingPoint[0]):\n",
    "    for j in range(siteStartingPoint[1],siteEndingPoint[1]):\n",
    "        newUnit = UnitCell(vectorU*i + vectorV*j, siteOffset);\n",
    "        newUnit.prune(physicalStartingPoint,physicalEndPoint);\n",
    "        numberOfSites = newUnit.setIndices(numberOfSites);\n",
    "        newUnit.siteA.setLink(newUnit.siteB);\n",
    "        if newUnit.siteA.enabled or newUnit.siteB.enabled:\n",
    "            Sample[(i,j)] = newUnit;"
   ]
  },
  {
   "cell_type": "code",
   "execution_count": 10,
   "metadata": {},
   "outputs": [],
   "source": [
    "# Establish links between unit cells\n",
    "for i in range(siteStartingPoint[0],siteEndingPoint[0]):\n",
    "    for j in range(siteStartingPoint[1],siteEndingPoint[1]):\n",
    "        if (i,j) in Sample:\n",
    "            \n",
    "            _xTemp = Sample[(i,j)].siteA.physicalLocation[0]\n",
    "            _yTemp = Sample[(i,j)].siteA.physicalLocation[1]\n",
    "\n",
    "            \n",
    "            if(i+1,j) in Sample:\n",
    "                Sample[(i,j)].siteB.setLink(Sample[(i+1,j)].siteA)\n",
    "            if(i,j+1) in Sample:\n",
    "                Sample[(i,j)].siteB.setLink(Sample[(i,j+1)].siteA)"
   ]
  },
  {
   "cell_type": "code",
   "execution_count": 11,
   "metadata": {},
   "outputs": [],
   "source": [
    "# We want here all the A sites at the edge (top + bottom)\n",
    "edgeAcoor = []\n",
    "for y in range(-15,22):\n",
    "    coordinate = (31,y)\n",
    "    edgeAcoor.append(coordinate)\n",
    "for y in range(-14,22):\n",
    "    coordinate = (30,y)\n",
    "    edgeAcoor.append(coordinate)\n",
    "for y in range(0,37):\n",
    "    coordinate = (1,y)\n",
    "    edgeAcoor.append(coordinate)\n",
    "for y in range(-1,36):\n",
    "    coordinate = (2,y)\n",
    "    edgeAcoor.append(coordinate)\n",
    "    \n",
    "#print(edgeAcoor)"
   ]
  },
  {
   "cell_type": "code",
   "execution_count": 12,
   "metadata": {},
   "outputs": [],
   "source": [
    "# Now we add left and right\n",
    "for i in range(siteStartingPoint[0],siteEndingPoint[0]):\n",
    "    for j in range(siteStartingPoint[1],siteEndingPoint[1]):\n",
    "        if (i,j) in Sample:\n",
    "            \n",
    "            _xTemp = Sample[(i,j)].siteA.physicalLocation[0]\n",
    "            _yTemp = Sample[(i,j)].siteA.physicalLocation[1]\n",
    "            if _xTemp > 62:\n",
    "                edgeAcoor.append((i,j))\n",
    "            if _xTemp < 3:\n",
    "                 edgeAcoor.append((i,j))\n",
    "#print(edgeAcoor)"
   ]
  },
  {
   "cell_type": "code",
   "execution_count": 13,
   "metadata": {
    "scrolled": true
   },
   "outputs": [],
   "source": [
    "# Count links\n",
    "numLinks = 0;\n",
    "for unitCellID in Sample:\n",
    "    unitCell = Sample[unitCellID]\n",
    "    for link in unitCell.siteA.siteConnections:\n",
    "        numLinks += 1;"
   ]
  },
  {
   "cell_type": "code",
   "execution_count": 14,
   "metadata": {},
   "outputs": [],
   "source": [
    "# Assemble distance matrices for force calculation\n",
    "\n",
    "# Stiffness matrix (only half, and no diagonal)\n",
    "_kVec = np.zeros(numLinks,dtype=float);\n",
    "\n",
    "# Site locations\n",
    "_rVec_X = np.zeros(numLinks,dtype=float);\n",
    "_rVec_Y = np.zeros(numLinks,dtype=float);\n",
    "\n",
    "# Bond distances\n",
    "_sVec_X = np.zeros(numLinks,dtype=float);\n",
    "_sVec_Y = np.zeros(numLinks,dtype=float);\n",
    "\n",
    "# Vector indices\n",
    "_iVec = np.zeros(numLinks,dtype=int);\n",
    "_jVec = np.zeros(numLinks,dtype=int);\n",
    "\n",
    "# Intermediate vectors for stiffness computation\n",
    "_vOnes = np.ones(numLinks,dtype=float);\n",
    "_intm1 = np.zeros(numLinks,dtype=complex);\n",
    "_intm2 = np.zeros(numLinks,dtype=float);\n",
    "_intm3 = np.zeros(numLinks,dtype=float);\n",
    "\n",
    "diagonalElements = (localStiffness/localMass)*np.ones((numberOfSites));\n",
    "diagonalIndices = np.arange(0,numberOfSites,dtype=int)\n",
    "\n",
    "currentLink = 0;\n",
    "for unitCellID in Sample:\n",
    "    unitCell = Sample[unitCellID];\n",
    "    for link in unitCell.siteA.siteConnections:\n",
    "        _rVec_X[currentLink] = unitCell.siteA.physicalLocation[0];\n",
    "        _rVec_Y[currentLink] = unitCell.siteA.physicalLocation[1];\n",
    "        _sVec_X[currentLink] = link.physicalLocation[0] - unitCell.siteA.physicalLocation[0];\n",
    "        _sVec_Y[currentLink] = link.physicalLocation[1] - unitCell.siteA.physicalLocation[1];\n",
    "        _iVec[currentLink] = unitCell.siteA.matrixIndex;\n",
    "        _jVec[currentLink] = link.matrixIndex;\n",
    "        currentLink += 1;"
   ]
  },
  {
   "cell_type": "code",
   "execution_count": 67,
   "metadata": {},
   "outputs": [],
   "source": [
    "# Generate diagonal elements\n",
    "disorder = 0.005\n",
    "diagonalElements = (localStiffness/localMass)*((1-disorder/2)*np.ones((numberOfSites))+disorder*np.random.rand(numberOfSites));\n",
    "for edgeAsite in edgeAcoor:\n",
    "    # First we find the A-site matrix indicies\n",
    "    matIndexA = Sample[edgeAsite].siteA.matrixIndex\n",
    "    # Here we change the diagonal elements of the A-sites (again you can choose with or without disorder)\n",
    "    diagonalElements[matIndexA] = (localStiffness/localMass)*((1-disorder/2)+disorder*np.random.rand(numberOfSites)[0]) + 1.1*(1)*(couplingStiffness*0.5/localMass)\n",
    "    # kMatrix[matIndexA, matIndexA] = (localStiffness/localMass) + 1.1*(couplingStiffness*0.5/localMass)\n",
    "    \n",
    "    # Now we loop over all connections of that A-site (which is the B-sites at the edge)\n",
    "    for link in Sample[edgeAsite].siteA.siteConnections:\n",
    "        matIndexB = link.matrixIndex\n",
    "        # Here we change the diagonal elements of the B-sites\n",
    "        diagonalElements[matIndexB] = (localStiffness/localMass)*((1-disorder/2)+disorder*np.random.rand(numberOfSites)[0]) - 1.1*(1)*(couplingStiffness*0.5/localMass)\n",
    "        # kMatrix[matIndexB, matIndexB] = (localStiffness/localMass)*1 - 1.1*(couplingStiffness*0.5/localMass)"
   ]
  },
  {
   "cell_type": "code",
   "execution_count": 68,
   "metadata": {},
   "outputs": [],
   "source": [
    "def updateDynamicalMatrix(currentTime):\n",
    "    # Convert to time steps\n",
    "\n",
    "    # This function creates the dynamical matrix for the system at time T\n",
    "    # Compute vortex product Delta\n",
    "    _intm1 = Delta0*_vOnes;\n",
    "    for vortex in Vortices:\n",
    "        vortexCoordinates = vortex.getPhysicalLocation(currentTime);\n",
    "        _intm2 = _rVec_X - vortexCoordinates[0];\n",
    "        _intm3 = _rVec_Y - vortexCoordinates[1];\n",
    "        _intm1 = _intm1*np.tanh(np.sqrt(_intm2**2+_intm3**2)/vortex.l0)*np.exp(1j*(vortex.alpha-np.arctan2(_intm3,_intm2)))\n",
    "\n",
    "    # Compute coupling stiffness\n",
    "    _kVec = (baseStiffness/localMass) + (couplingStiffness*0.5/localMass)*(1.0+np.real(_intm1*np.exp(1j*(_kPlus[0]*_sVec_X+_kPlus[1]*_sVec_Y+_kPM[0]*_rVec_X+_kPM[1]*_rVec_Y))))\n",
    "\n",
    "    kMatrix = spr.csr_matrix((np.concatenate((_kVec,_kVec,diagonalElements)),(np.concatenate((_iVec,_jVec,diagonalIndices)), np.concatenate((_jVec,_iVec,diagonalIndices)))), shape=(numberOfSites, numberOfSites));\n",
    "\n",
    "    #we add disorder in localStiffness\n",
    "    #to disregard disorder use the outcommented kMatrix instead\n",
    "    kMatrix.setdiag(diagonalElements);\n",
    "    #kMatrix.setdiag((localStiffness/localMass)*(np.ones((numberOfSites))));\n",
    "    return kMatrix;"
   ]
  },
  {
   "cell_type": "code",
   "execution_count": 76,
   "metadata": {},
   "outputs": [],
   "source": [
    "def getKVec(currentTime):\n",
    "    # This function creates the dynamical matrix for the system at time T\n",
    "    # Compute vortex product Delta\n",
    "    timeStep = 1/(140e3);\n",
    "    currentTimeSteps = currentTime/timeStep;\n",
    "    \n",
    "    # The next line is for simulating the time steps. Comment it out when calculating interpolation params.\n",
    "    # currentTime = np.floor(currentTimeSteps)*timeStep;\n",
    "    \n",
    "    _intm1 = Delta0*_vOnes;\n",
    "    for vortex in Vortices:\n",
    "        vortexCoordinates = vortex.getPhysicalLocation(currentTime);\n",
    "        _intm2 = _rVec_X - vortexCoordinates[0];\n",
    "        _intm3 = _rVec_Y - vortexCoordinates[1];\n",
    "        _intm1 = _intm1*np.tanh(np.sqrt(_intm2**2+_intm3**2)/vortex.l0)*np.exp(1j*(vortex.alpha-np.arctan2(_intm3,_intm2)))\n",
    "\n",
    "    # Compute coupling stiffness\n",
    "    return (baseStiffness/localMass) + (couplingStiffness*0.5/localMass)*(1.0+np.real(_intm1*np.exp(1j*(_kPlus[0]*_sVec_X+_kPlus[1]*_sVec_Y+_kPM[0]*_rVec_X+_kPM[1]*_rVec_Y))))"
   ]
  },
  {
   "cell_type": "code",
   "execution_count": 77,
   "metadata": {},
   "outputs": [],
   "source": [
    "def getMultivec(times):\n",
    "    element = 1840;\n",
    "    results = np.zeros([len(times)], dtype = 'float');\n",
    "    for i in range(len(times)):\n",
    "        results[i] = getKVec(times[i])[element];\n",
    "    return results;"
   ]
  },
  {
   "cell_type": "code",
   "execution_count": 81,
   "metadata": {},
   "outputs": [],
   "source": [
    "time = np.linspace(0,1,5000)"
   ]
  },
  {
   "cell_type": "code",
   "execution_count": 82,
   "metadata": {},
   "outputs": [],
   "source": [
    "stiffness = functionToInterpolate(time)"
   ]
  },
  {
   "cell_type": "code",
   "execution_count": 83,
   "metadata": {},
   "outputs": [
    {
     "data": {
      "text/plain": [
       "[<matplotlib.lines.Line2D at 0x108175c10>]"
      ]
     },
     "execution_count": 83,
     "metadata": {},
     "output_type": "execute_result"
    },
    {
     "data": {
      "image/png": "[encoded data removed]",
      "text/plain": [
       "<Figure size 432x432 with 1 Axes>"
      ]
     },
     "metadata": {},
     "output_type": "display_data"
    }
   ],
   "source": [
    "plt.plot(time[0:50], stiffness[0:50])"
   ]
  },
  {
   "cell_type": "code",
   "execution_count": 78,
   "metadata": {},
   "outputs": [],
   "source": [
    "functionToInterpolate = lambda x: getMultivec(x*0.008)*0.15/(baseStiffness/localMass);"
   ]
  },
  {
   "cell_type": "code",
   "execution_count": 22,
   "metadata": {},
   "outputs": [],
   "source": [
    "interpolator = FunctionInterpolator()"
   ]
  },
  {
   "cell_type": "code",
   "execution_count": 23,
   "metadata": {},
   "outputs": [],
   "source": [
    "coeffs = interpolator.performInterpolation(functionToInterpolate)"
   ]
  },
  {
   "cell_type": "code",
   "execution_count": 38,
   "metadata": {},
   "outputs": [],
   "source": [
    "np.save('coefficients_A.npy', coeffs)"
   ]
  },
  {
   "cell_type": "code",
   "execution_count": 27,
   "metadata": {
    "scrolled": true
   },
   "outputs": [
    {
     "data": {
      "text/plain": [
       "[<matplotlib.lines.Line2D at 0x106eaf1d0>]"
      ]
     },
     "execution_count": 27,
     "metadata": {},
     "output_type": "execute_result"
    },
    {
     "data": {
      "image/png": "[encoded data removed]",
      "text/plain": [
       "<Figure size 432x432 with 1 Axes>"
      ]
     },
     "metadata": {},
     "output_type": "display_data"
    }
   ],
   "source": [
    "p = interpolator.performValidation((coeffs))\n",
    "plt.plot(np.array(p, dtype='float')/interpolator.yScaling)"
   ]
  },
  {
   "cell_type": "code",
   "execution_count": 28,
   "metadata": {},
   "outputs": [],
   "source": [
    "np.save('coefficients_A.npy', coeffs)"
   ]
  },
  {
   "cell_type": "code",
   "execution_count": null,
   "metadata": {},
   "outputs": [],
   "source": [
    "def getMultivec2(times):\n",
    "    element = 1840;\n",
    "    results = np.zeros([len(times)], dtype = 'float');\n",
    "    for i in range(len(times)):\n",
    "        results[i] = getKVec(times[i])[element];\n",
    "    return results;"
   ]
  },
  {
   "cell_type": "code",
   "execution_count": 33,
   "metadata": {},
   "outputs": [],
   "source": [
    "functionToInterpolate2 = lambda x: getMultivec(x*0.008+0.008)*0.15/(baseStiffness/localMass);"
   ]
  },
  {
   "cell_type": "code",
   "execution_count": 34,
   "metadata": {},
   "outputs": [],
   "source": [
    "coeffs2 = interpolator.performInterpolation(functionToInterpolate2)"
   ]
  },
  {
   "cell_type": "code",
   "execution_count": 37,
   "metadata": {},
   "outputs": [],
   "source": [
    "np.save('coefficients_B.npy', coeffs2)"
   ]
  },
  {
   "cell_type": "code",
   "execution_count": 35,
   "metadata": {},
   "outputs": [
    {
     "data": {
      "text/plain": [
       "[<matplotlib.lines.Line2D at 0x10745ff50>]"
      ]
     },
     "execution_count": 35,
     "metadata": {},
     "output_type": "execute_result"
    },
    {
     "data": {
      "image/png": "[encoded data removed]",
      "text/plain": [
       "<Figure size 432x432 with 1 Axes>"
      ]
     },
     "metadata": {},
     "output_type": "display_data"
    }
   ],
   "source": [
    "p2 = interpolator.performValidation((coeffs2))\n",
    "plt.plot(np.array(p2, dtype='float')/interpolator.yScaling)"
   ]
  },
  {
   "cell_type": "code",
   "execution_count": 36,
   "metadata": {},
   "outputs": [],
   "source": []
  },
  {
   "cell_type": "code",
   "execution_count": null,
   "metadata": {},
   "outputs": [],
   "source": []
  }
 ],
 "metadata": {
  "kernelspec": {
   "display_name": "Python 2",
   "language": "python",
   "name": "python2"
  },
  "language_info": {
   "codemirror_mode": {
    "name": "ipython",
    "version": 2
   },
   "file_extension": ".py",
   "mimetype": "text/x-python",
   "name": "python",
   "nbconvert_exporter": "python",
   "pygments_lexer": "ipython2",
   "version": "2.7.15"
  },
  "toc": {
   "nav_menu": {},
   "number_sections": true,
   "sideBar": true,
   "skip_h1_title": false,
   "title_cell": "Table of Contents",
   "title_sidebar": "Contents",
   "toc_cell": false,
   "toc_position": {},
   "toc_section_display": true,
   "toc_window_display": false
  }
 },
 "nbformat": 4,
 "nbformat_minor": 2
}
