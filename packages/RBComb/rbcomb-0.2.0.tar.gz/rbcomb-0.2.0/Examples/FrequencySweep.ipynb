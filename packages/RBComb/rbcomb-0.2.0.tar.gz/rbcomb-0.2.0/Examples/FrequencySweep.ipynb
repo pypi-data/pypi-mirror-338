{
 "cells": [
  {
   "cell_type": "code",
   "execution_count": 12,
   "metadata": {},
   "outputs": [],
   "source": [
    "import numpy as np;\n",
    "import time;"
   ]
  },
  {
   "cell_type": "code",
   "execution_count": 13,
   "metadata": {},
   "outputs": [],
   "source": [
    "from RBComb.SerialBridge import *\n",
    "from RBComb.RBComb576 import *\n",
    "from RBComb.Helper.BoardPinout import *\n",
    "from RBComb.Helper.BoardUnits import *;\n",
    "from RBComb.Helper.FunctionInterpolator import *"
   ]
  },
  {
   "cell_type": "code",
   "execution_count": 14,
   "metadata": {},
   "outputs": [
    {
     "ename": "SerialException",
     "evalue": "[Errno 2] could not open port /dev/tty.usbserial-FT3HPF65B: [Errno 2] No such file or directory: '/dev/tty.usbserial-FT3HPF65B'",
     "output_type": "error",
     "traceback": [
      "\u001b[0;31m---------------------------------------------------------------------------\u001b[0m",
      "\u001b[0;31mSerialException\u001b[0m                           Traceback (most recent call last)",
      "\u001b[0;32m<ipython-input-14-20f2b423cf90>\u001b[0m in \u001b[0;36m<module>\u001b[0;34m()\u001b[0m\n\u001b[1;32m      1\u001b[0m \u001b[0;31m# Construct bridge:\u001b[0m\u001b[0;34m\u001b[0m\u001b[0;34m\u001b[0m\u001b[0m\n\u001b[0;32m----> 2\u001b[0;31m \u001b[0mcurrentBridge\u001b[0m \u001b[0;34m=\u001b[0m \u001b[0mSerialBridge\u001b[0m\u001b[0;34m(\u001b[0m\u001b[0;34m'/dev/tty.usbserial-FT3HPF65B'\u001b[0m\u001b[0;34m,\u001b[0m \u001b[0mTrue\u001b[0m\u001b[0;34m,\u001b[0m \u001b[0;36m300\u001b[0m\u001b[0;34m)\u001b[0m\u001b[0;34m;\u001b[0m\u001b[0;34m\u001b[0m\u001b[0m\n\u001b[0m\u001b[1;32m      3\u001b[0m \u001b[0;34m\u001b[0m\u001b[0m\n\u001b[1;32m      4\u001b[0m \u001b[0;31m# Note: the correct baud rate is 5'000'000 but it is not supported in Mac OS X\u001b[0m\u001b[0;34m\u001b[0m\u001b[0;34m\u001b[0m\u001b[0m\n\u001b[1;32m      5\u001b[0m \u001b[0;31m# The solution is to modify the serial port driver so it aliases (\"pretends\") to be working at a standard\u001b[0m\u001b[0;34m\u001b[0m\u001b[0;34m\u001b[0m\u001b[0m\n",
      "\u001b[0;32m/Users/control/Desktop/RBComb API and Firmware/Python API/RBComb/SerialBridge.pyc\u001b[0m in \u001b[0;36m__init__\u001b[0;34m(self, serialPort, alwaysOpen, baudRate)\u001b[0m\n\u001b[1;32m      7\u001b[0m         \u001b[0mself\u001b[0m\u001b[0;34m.\u001b[0m\u001b[0mbaudRate\u001b[0m \u001b[0;34m=\u001b[0m \u001b[0mbaudRate\u001b[0m\u001b[0;34m\u001b[0m\u001b[0m\n\u001b[1;32m      8\u001b[0m         \u001b[0;32mif\u001b[0m \u001b[0mself\u001b[0m\u001b[0;34m.\u001b[0m\u001b[0malwaysOpen\u001b[0m\u001b[0;34m:\u001b[0m\u001b[0;34m\u001b[0m\u001b[0m\n\u001b[0;32m----> 9\u001b[0;31m             \u001b[0mself\u001b[0m\u001b[0;34m.\u001b[0m\u001b[0mserialHandle\u001b[0m \u001b[0;34m=\u001b[0m \u001b[0mserial\u001b[0m\u001b[0;34m.\u001b[0m\u001b[0mSerial\u001b[0m\u001b[0;34m(\u001b[0m\u001b[0mself\u001b[0m\u001b[0;34m.\u001b[0m\u001b[0mserialPort\u001b[0m\u001b[0;34m,\u001b[0m \u001b[0mself\u001b[0m\u001b[0;34m.\u001b[0m\u001b[0mbaudRate\u001b[0m\u001b[0;34m,\u001b[0m \u001b[0mbytesize\u001b[0m\u001b[0;34m=\u001b[0m\u001b[0;36m8\u001b[0m\u001b[0;34m,\u001b[0m \u001b[0mstopbits\u001b[0m\u001b[0;34m=\u001b[0m\u001b[0;36m2\u001b[0m\u001b[0;34m)\u001b[0m\u001b[0;34m;\u001b[0m\u001b[0;34m\u001b[0m\u001b[0m\n\u001b[0m\u001b[1;32m     10\u001b[0m \u001b[0;34m\u001b[0m\u001b[0m\n\u001b[1;32m     11\u001b[0m     \u001b[0;32mdef\u001b[0m \u001b[0msendArray\u001b[0m\u001b[0;34m(\u001b[0m\u001b[0mself\u001b[0m\u001b[0;34m,\u001b[0m \u001b[0mtransferBuffer\u001b[0m\u001b[0;34m)\u001b[0m\u001b[0;34m:\u001b[0m\u001b[0;34m\u001b[0m\u001b[0m\n",
      "\u001b[0;32m/usr/local/lib/python2.7/site-packages/serial/serialutil.pyc\u001b[0m in \u001b[0;36m__init__\u001b[0;34m(self, port, baudrate, bytesize, parity, stopbits, timeout, xonxoff, rtscts, write_timeout, dsrdtr, inter_byte_timeout, exclusive, **kwargs)\u001b[0m\n\u001b[1;32m    238\u001b[0m \u001b[0;34m\u001b[0m\u001b[0m\n\u001b[1;32m    239\u001b[0m         \u001b[0;32mif\u001b[0m \u001b[0mport\u001b[0m \u001b[0;32mis\u001b[0m \u001b[0;32mnot\u001b[0m \u001b[0mNone\u001b[0m\u001b[0;34m:\u001b[0m\u001b[0;34m\u001b[0m\u001b[0m\n\u001b[0;32m--> 240\u001b[0;31m             \u001b[0mself\u001b[0m\u001b[0;34m.\u001b[0m\u001b[0mopen\u001b[0m\u001b[0;34m(\u001b[0m\u001b[0;34m)\u001b[0m\u001b[0;34m\u001b[0m\u001b[0m\n\u001b[0m\u001b[1;32m    241\u001b[0m \u001b[0;34m\u001b[0m\u001b[0m\n\u001b[1;32m    242\u001b[0m     \u001b[0;31m#  -  -  -  -  -  -  -  -  -  -  -  -  -  -  -  -  -  -  -  -  -  -  -  -\u001b[0m\u001b[0;34m\u001b[0m\u001b[0;34m\u001b[0m\u001b[0m\n",
      "\u001b[0;32m/usr/local/lib/python2.7/site-packages/serial/serialposix.pyc\u001b[0m in \u001b[0;36mopen\u001b[0;34m(self)\u001b[0m\n\u001b[1;32m    266\u001b[0m         \u001b[0;32mexcept\u001b[0m \u001b[0mOSError\u001b[0m \u001b[0;32mas\u001b[0m \u001b[0mmsg\u001b[0m\u001b[0;34m:\u001b[0m\u001b[0;34m\u001b[0m\u001b[0m\n\u001b[1;32m    267\u001b[0m             \u001b[0mself\u001b[0m\u001b[0;34m.\u001b[0m\u001b[0mfd\u001b[0m \u001b[0;34m=\u001b[0m \u001b[0mNone\u001b[0m\u001b[0;34m\u001b[0m\u001b[0m\n\u001b[0;32m--> 268\u001b[0;31m             \u001b[0;32mraise\u001b[0m \u001b[0mSerialException\u001b[0m\u001b[0;34m(\u001b[0m\u001b[0mmsg\u001b[0m\u001b[0;34m.\u001b[0m\u001b[0merrno\u001b[0m\u001b[0;34m,\u001b[0m \u001b[0;34m\"could not open port {}: {}\"\u001b[0m\u001b[0;34m.\u001b[0m\u001b[0mformat\u001b[0m\u001b[0;34m(\u001b[0m\u001b[0mself\u001b[0m\u001b[0;34m.\u001b[0m\u001b[0m_port\u001b[0m\u001b[0;34m,\u001b[0m \u001b[0mmsg\u001b[0m\u001b[0;34m)\u001b[0m\u001b[0;34m)\u001b[0m\u001b[0;34m\u001b[0m\u001b[0m\n\u001b[0m\u001b[1;32m    269\u001b[0m         \u001b[0;31m#~ fcntl.fcntl(self.fd, fcntl.F_SETFL, 0)  # set blocking\u001b[0m\u001b[0;34m\u001b[0m\u001b[0;34m\u001b[0m\u001b[0m\n\u001b[1;32m    270\u001b[0m \u001b[0;34m\u001b[0m\u001b[0m\n",
      "\u001b[0;31mSerialException\u001b[0m: [Errno 2] could not open port /dev/tty.usbserial-FT3HPF65B: [Errno 2] No such file or directory: '/dev/tty.usbserial-FT3HPF65B'"
     ]
    }
   ],
   "source": [
    "# Construct bridge:\n",
    "currentBridge = SerialBridge('/dev/tty.usbserial-FT3HPF65B', True, 300);\n",
    "\n",
    "# Note: the correct baud rate is 5'000'000 but it is not supported in Mac OS X\n",
    "# The solution is to modify the serial port driver so it aliases (\"pretends\") to be working at a standard\n",
    "# rate of 300, but in reality it works at 5000000. This is done by modifying /Library/Extensions/FTDIUSBSerialDriver.kext\n",
    "# following the guide https://www.ftdichip.com/Support/Documents/TechnicalNotes/TN_105%20Adding%20Support%20for%20New%20FTDI%20Devices%20to%20Mac%20Driver.pdf\n",
    "# And subsequently disabling the \"trusted platform\" features of mac since it would no longer accept the modified extension"
   ]
  },
  {
   "cell_type": "code",
   "execution_count": 15,
   "metadata": {},
   "outputs": [],
   "source": [
    "# Construct RBComb576\n",
    "rbComb = RBComb576(currentBridge);"
   ]
  },
  {
   "cell_type": "code",
   "execution_count": 16,
   "metadata": {},
   "outputs": [],
   "source": [
    "# Construct helper objects:\n",
    "pinout = BoardPinout();\n",
    "units = BoardUnits();"
   ]
  },
  {
   "cell_type": "code",
   "execution_count": null,
   "metadata": {},
   "outputs": [],
   "source": [
    "# We must make sure the clock is disabled, otherwise the boards cannot hear us\n",
    "rbComb.disableClock()\n",
    "\n",
    "# Select all boards\n",
    "rbComb.selectAllBoards()"
   ]
  },
  {
   "cell_type": "code",
   "execution_count": null,
   "metadata": {
    "scrolled": true
   },
   "outputs": [],
   "source": [
    "# We use the interpolator to raise the signal to V/2 as the output cannot take negative values\n",
    "interpolator = FunctionInterpolator();\n",
    "constantFunction = interpolator.getConstantFunction(0.5)\n",
    "\n",
    "# Upload offset function to the device (Takes 10 seconds, do only once per \"session\")\n",
    "for i in range(576):\n",
    "    rbComb.setTaylorCoefficients(i, False, constantFunction);"
   ]
  },
  {
   "cell_type": "code",
   "execution_count": null,
   "metadata": {},
   "outputs": [],
   "source": [
    "# Parameters for the sweep\n",
    "frequencySweepStart = 500;   # 1 KHz\n",
    "frequencySweepEnd =  5000;    # 5 KHz\n",
    "sweepDuration = 40e-3;        # 20 msec\n",
    "amplitudes = np.array([units.convertNormalizedAmplitudeToInteger(1.0)]*576); # We set all channels to max amplitude (could also use different amps per channel)."
   ]
  },
  {
   "cell_type": "code",
   "execution_count": null,
   "metadata": {},
   "outputs": [],
   "source": [
    "# Configure amplitudes\n",
    "for i in range(576):\n",
    "    rbComb.setAmplitude(0,i,amplitudes[i]);\n",
    "    rbComb.setAmplitude(1,i,0);\n",
    "    rbComb.setAmplitude(2,i,0);\n",
    "    rbComb.setAmplitude(3,i,0);"
   ]
  },
  {
   "cell_type": "code",
   "execution_count": null,
   "metadata": {},
   "outputs": [],
   "source": [
    "# Configure frequencies and phases:\n",
    "\n",
    "# Start frequency\n",
    "rbComb.setFrequency(0,units.convertFrequencyHzToInteger(frequencySweepStart));\n",
    "\n",
    "\n",
    "# Frequency step>:\n",
    "rbComb.setSweepFrequencyStep(0,units.convertFrequencyRangeToSweepSpeed(frequencySweepStart, \n",
    "                                                                       frequencySweepEnd, sweepDuration));\n",
    "\n",
    "# Frequency end:\n",
    "rbComb.setSweepFrequencyMax(0,units.convertFrequencyHzToInteger(frequencySweepEnd));\n",
    "\n",
    "rbComb.setPhase(0,0);\n",
    "rbComb.setPhase(1,0);\n",
    "rbComb.setPhase(2,0);\n",
    "rbComb.setPhase(3,0);"
   ]
  },
  {
   "cell_type": "code",
   "execution_count": null,
   "metadata": {},
   "outputs": [],
   "source": [
    "# Ramp up the output up with the generators \"frozen\":\n",
    "rbComb.outputRampUp();\n",
    "rbComb.setCurrentState([0,0,0,0,0]);\n",
    "\n",
    "rbComb.enableClock()\n",
    "time.sleep(4);\n",
    "rbComb.disableClock()"
   ]
  },
  {
   "cell_type": "code",
   "execution_count": null,
   "metadata": {},
   "outputs": [],
   "source": [
    "# Run experiment\n",
    "\n",
    "# Unfreeze first generator:\n",
    "rbComb.setCurrentState([1,0,0,0,0]);\n",
    "\n",
    "# Schedule re-freezing of the first generator once the sweep is finished\n",
    "rbComb.setNextState([0,0,0,0,0], units.convertTimeToSteps(sweepDuration));\n",
    "\n",
    "# Run one sweep:\n",
    "rbComb.enableClock()\n",
    "time.sleep(0.5);\n",
    "rbComb.disableClock()"
   ]
  },
  {
   "cell_type": "code",
   "execution_count": null,
   "metadata": {},
   "outputs": [],
   "source": [
    "# Now run 5 sweeps. This shows that once the system is set up, it is possible to run sweeps very fast\n",
    "# Transients are avoided by not re-setting the phase to zero after each sweep.\n",
    "for i in range(5):\n",
    "    # Unfreeze first generator:\n",
    "    rbComb.setCurrentState([1,0,0,0,0]);\n",
    "\n",
    "    # Schedule re-freezing of the first generator once the sweep is finished\n",
    "    rbComb.setNextState([0,0,0,0,0], units.convertTimeToSteps(sweepDuration));\n",
    "\n",
    "    # Go back to the initial frequency:\n",
    "    rbComb.setFrequency(0,units.convertFrequencyHzToInteger(frequencySweepStart));\n",
    "    \n",
    "    # Run the sweep:\n",
    "    rbComb.enableClock()\n",
    "    time.sleep(0.1);\n",
    "    rbComb.disableClock()"
   ]
  },
  {
   "cell_type": "code",
   "execution_count": null,
   "metadata": {},
   "outputs": [],
   "source": [
    "# Ramp down the output\n",
    "rbComb.outputRampDown();\n",
    "rbComb.enableClock()\n",
    "time.sleep(4);\n",
    "rbComb.disableClock()"
   ]
  },
  {
   "cell_type": "code",
   "execution_count": 11,
   "metadata": {},
   "outputs": [],
   "source": [
    "currentBridge.closeConnection()"
   ]
  },
  {
   "cell_type": "code",
   "execution_count": 9,
   "metadata": {},
   "outputs": [],
   "source": [
    "rbComb.enableClock();\n",
    "rbComb.selectAllBoards();"
   ]
  },
  {
   "cell_type": "code",
   "execution_count": null,
   "metadata": {},
   "outputs": [],
   "source": []
  }
 ],
 "metadata": {
  "kernelspec": {
   "display_name": "Python 3",
   "language": "python",
   "name": "python3"
  },
  "language_info": {
   "codemirror_mode": {
    "name": "ipython",
    "version": 2
   },
   "file_extension": ".py",
   "mimetype": "text/x-python",
   "name": "python",
   "nbconvert_exporter": "python",
   "pygments_lexer": "ipython2",
   "version": "2.7.15"
  },
  "toc": {
   "nav_menu": {},
   "number_sections": true,
   "sideBar": true,
   "skip_h1_title": false,
   "title_cell": "Table of Contents",
   "title_sidebar": "Contents",
   "toc_cell": false,
   "toc_position": {},
   "toc_section_display": true,
   "toc_window_display": false
  }
 },
 "nbformat": 4,
 "nbformat_minor": 2
}
