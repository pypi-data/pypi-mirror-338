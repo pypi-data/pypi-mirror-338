{
 "cells": [
  {
   "cell_type": "code",
   "execution_count": 1,
   "metadata": {},
   "outputs": [],
   "source": [
    "import numpy as np;\n",
    "import time;"
   ]
  },
  {
   "cell_type": "code",
   "execution_count": 2,
   "metadata": {},
   "outputs": [],
   "source": [
    "from RBComb.SerialBridge import *\n",
    "from RBComb.RBComb576 import *\n",
    "from RBComb.Helper.BoardPinout import *\n",
    "from RBComb.Helper.BoardUnits import *;\n",
    "from RBComb.Helper.FunctionInterpolator import *"
   ]
  },
  {
   "cell_type": "code",
   "execution_count": 3,
   "metadata": {},
   "outputs": [],
   "source": [
    "# This document shows how 2 signal generators with positive/negative amplitude can be combined\n",
    "# to make a single signal generator with arbitrary phase.\n",
    "# This is done by phase-shifting one of the generators by 90 degrees so it acts as the imaginary\n",
    "# part of the amplitude."
   ]
  },
  {
   "cell_type": "code",
   "execution_count": 4,
   "metadata": {},
   "outputs": [],
   "source": [
    "# Construct bridge:\n",
    "currentBridge = SerialBridge('/dev/tty.usbserial-FT35HA60B', True, 300);\n",
    "\n",
    "# Note: the correct baud rate is 5'000'000 but it is not supported in Mac OS X\n",
    "# The solution is to modify the serial port driver so it aliases (\"pretends\") to be working at a standard\n",
    "# rate of 300, but in reality it works at 5000000. This is done by modifying /Library/Extensions/FTDIUSBSerialDriver.kext\n",
    "# following the guide https://www.ftdichip.com/Support/Documents/TechnicalNotes/TN_105%20Adding%20Support%20for%20New%20FTDI%20Devices%20to%20Mac%20Driver.pdf\n",
    "# And subsequently disabling the \"trusted platform\" features of mac since it would no longer accept the modified extension"
   ]
  },
  {
   "cell_type": "code",
   "execution_count": 5,
   "metadata": {},
   "outputs": [],
   "source": [
    "# Construct RBComb576\n",
    "rbComb = RBComb576(currentBridge);"
   ]
  },
  {
   "cell_type": "code",
   "execution_count": 6,
   "metadata": {},
   "outputs": [],
   "source": [
    "# Construct helper objects:\n",
    "pinout = BoardPinout();\n",
    "units = BoardUnits();"
   ]
  },
  {
   "cell_type": "code",
   "execution_count": 18,
   "metadata": {},
   "outputs": [],
   "source": [
    "# We must make sure the clock is disabled, otherwise the boards cannot hear us\n",
    "# as the bridge does not forward commands when the clock is on:\n",
    "rbComb.disableClock()\n",
    "\n",
    "# Select all boards\n",
    "rbComb.selectAllBoards()\n",
    "\n",
    "# Ramp up (won't take effect until turning on the clock)\n",
    "rbComb.outputRampDown();\n"
   ]
  },
  {
   "cell_type": "code",
   "execution_count": 19,
   "metadata": {
    "scrolled": true
   },
   "outputs": [],
   "source": [
    "# We use the interpolator to raise the signal to V/2 as the output cannot take negative values\n",
    "interpolator = FunctionInterpolator();\n",
    "constantFunction = interpolator.getConstantFunction(0.5)\n",
    "\n",
    "# Upload offset function to the device (Takes 10 seconds, do only once per \"session\")\n",
    "for i in range(576):\n",
    "    rbComb.setTaylorCoefficients(i, False, constantFunction);"
   ]
  },
  {
   "cell_type": "code",
   "execution_count": 25,
   "metadata": {},
   "outputs": [],
   "source": [
    "# Parameters for the sine generators\n",
    "frequency = 40000.0; # 1 KHz\n",
    "\n",
    "# Amplitudes and phases are independent for every channel:\n",
    "amplitudes = np.array([units.convertNormalizedAmplitudeToInteger(0.5)]*576); \n",
    "phases = np.array([0]*576); # In degrees.\n",
    "\n",
    "# We will phase shift the output 2,2 by 45 degrees:\n",
    "phases[pinout.getOutputNumber(2,2)] = 45;"
   ]
  },
  {
   "cell_type": "code",
   "execution_count": 22,
   "metadata": {},
   "outputs": [],
   "source": [
    "# Compute real and imaginary amplitudes\n",
    "amplitude_real =  amplitudes*np.cos(phases*np.pi/180);\n",
    "amplitude_imag =  amplitudes*np.sin(phases*np.pi/180);"
   ]
  },
  {
   "cell_type": "code",
   "execution_count": 32,
   "metadata": {},
   "outputs": [],
   "source": [
    "# Configure the two sine generators:\n",
    "\n",
    "# Ensure that the two signal generators are on. This is the default state at power-on, but may be\n",
    "# affected by previously run experiments if the board has not been unpowered:\n",
    "rbComb.setCurrentState([1,1,0,0,0]);\n",
    "\n",
    "# Configure phases:\n",
    "rbComb.setPhase(0, units.convertDegreesPhaseToInteger(0))\n",
    "rbComb.setPhase(1, units.convertDegreesPhaseToInteger(90))\n",
    "\n",
    "# Configure frequencies:\n",
    "rbComb.setFrequency(0, units.convertFrequencyHzToInteger(frequency))\n",
    "rbComb.setFrequency(1, units.convertFrequencyHzToInteger(frequency))\n",
    "\n",
    "#rbComb.setFrequency(0, 2**29)\n",
    "#rbComb.setFrequency(1, 2**29)\n",
    "\n",
    "# Make sure that the generators don't sweep\n",
    "for i in range(4):\n",
    "    rbComb.setSweepFrequencyStep(i,0);\n",
    "\n",
    "# Configure amplitudes: \n",
    "for i in range(576):\n",
    "    rbComb.setAmplitude(0,i,int(amplitude_real[i]));\n",
    "    rbComb.setAmplitude(1,i,int(amplitude_imag[i]));\n",
    "    # Switch off the other two generators by setting their amplitudes to zero:\n",
    "    rbComb.setAmplitude(2,i,0);\n",
    "    rbComb.setAmplitude(3,i,0);"
   ]
  },
  {
   "cell_type": "code",
   "execution_count": 33,
   "metadata": {},
   "outputs": [],
   "source": [
    "# Perform experiment:\n",
    "rbComb.outputRampUp();\n",
    "rbComb.enableClock();\n",
    "#time.sleep(6);\n",
    "#rbComb.disableClock()"
   ]
  },
  {
   "cell_type": "code",
   "execution_count": null,
   "metadata": {},
   "outputs": [],
   "source": [
    "# Ramp down the output\n",
    "#rbComb.outputRampDown();\n",
    "#rbComb.enableClock();\n",
    "#time.sleep(4);\n",
    "#rbComb.disableClock()"
   ]
  },
  {
   "cell_type": "code",
   "execution_count": 31,
   "metadata": {},
   "outputs": [],
   "source": [
    "rbComb.disableClock()"
   ]
  },
  {
   "cell_type": "code",
   "execution_count": null,
   "metadata": {},
   "outputs": [],
   "source": [
    "# Close the serial port:\n",
    "#currentBridge.closeConnection()"
   ]
  },
  {
   "cell_type": "code",
   "execution_count": 36,
   "metadata": {},
   "outputs": [],
   "source": [
    "r = np.pi*4.9*4.9-(6*4);"
   ]
  },
  {
   "cell_type": "code",
   "execution_count": 37,
   "metadata": {},
   "outputs": [
    {
     "data": {
      "text/plain": [
       "51.42963961269095"
      ]
     },
     "execution_count": 37,
     "metadata": {},
     "output_type": "execute_result"
    }
   ],
   "source": [
    "r"
   ]
  },
  {
   "cell_type": "code",
   "execution_count": null,
   "metadata": {},
   "outputs": [],
   "source": []
  }
 ],
 "metadata": {
  "kernelspec": {
   "display_name": "Python 3",
   "language": "python",
   "name": "python3"
  },
  "language_info": {
   "codemirror_mode": {
    "name": "ipython",
    "version": 3
   },
   "file_extension": ".py",
   "mimetype": "text/x-python",
   "name": "python",
   "nbconvert_exporter": "python",
   "pygments_lexer": "ipython3",
   "version": "3.6.5"
  },
  "toc": {
   "nav_menu": {},
   "number_sections": true,
   "sideBar": true,
   "skip_h1_title": false,
   "title_cell": "Table of Contents",
   "title_sidebar": "Contents",
   "toc_cell": false,
   "toc_position": {},
   "toc_section_display": true,
   "toc_window_display": false
  }
 },
 "nbformat": 4,
 "nbformat_minor": 2
}
