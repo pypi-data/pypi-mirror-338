{
 "cells": [
  {
   "cell_type": "code",
   "execution_count": 33,
   "metadata": {},
   "outputs": [],
   "source": [
    "import numpy as np;\n",
    "import time;"
   ]
  },
  {
   "cell_type": "code",
   "execution_count": 34,
   "metadata": {},
   "outputs": [],
   "source": [
    "import matplotlib.pyplot as plt;\n",
    "%matplotlib inline"
   ]
  },
  {
   "cell_type": "code",
   "execution_count": 35,
   "metadata": {},
   "outputs": [],
   "source": [
    "from RBComb.SerialBridge import *\n",
    "from RBComb.RBComb576 import *\n",
    "from RBComb.LaserInterface import *\n",
    "from RBComb.Helper.BoardPinout import *\n",
    "from RBComb.Helper.BoardUnits import *;\n",
    "from RBComb.Helper.FunctionInterpolator import *"
   ]
  },
  {
   "cell_type": "code",
   "execution_count": 36,
   "metadata": {},
   "outputs": [],
   "source": [
    "# This document shows how 2 signal generators with positive/negative amplitude can be combined\n",
    "# to make a single signal generator with arbitrary phase.\n",
    "# This is done by phase-shifting one of the generators by 90 degrees so it acts as the imaginary\n",
    "# part of the amplitude."
   ]
  },
  {
   "cell_type": "code",
   "execution_count": 37,
   "metadata": {},
   "outputs": [],
   "source": [
    "# Construct bridge:\n",
    "currentBridge = SerialBridge('/dev/tty.usbserial-FT3J6M59B', True, 300);\n",
    "\n",
    "# Note: the correct baud rate is 5'000'000 but it is not supported in Mac OS X\n",
    "# The solution is to modify the serial port driver so it aliases (\"pretends\") to be working at a standard\n",
    "# rate of 300, but in reality it works at 5000000. This is done by modifying /Library/Extensions/FTDIUSBSerialDriver.kext\n",
    "# following the guide https://www.ftdichip.com/Support/Documents/TechnicalNotes/TN_105%20Adding%20Support%20for%20New%20FTDI%20Devices%20to%20Mac%20Driver.pdf\n",
    "# And subsequently disabling the \"trusted platform\" features of mac since it would no longer accept the modified extension"
   ]
  },
  {
   "cell_type": "code",
   "execution_count": 51,
   "metadata": {},
   "outputs": [],
   "source": [
    "# Make sure clock is off\n",
    "currentBridge.disableClock();"
   ]
  },
  {
   "cell_type": "code",
   "execution_count": 52,
   "metadata": {},
   "outputs": [],
   "source": [
    "# Construct RBComb576\n",
    "rbComb = RBComb576(currentBridge);"
   ]
  },
  {
   "cell_type": "code",
   "execution_count": 53,
   "metadata": {},
   "outputs": [],
   "source": [
    "# Construct laser\n",
    "laser = LaserInterface(currentBridge);"
   ]
  },
  {
   "cell_type": "code",
   "execution_count": 54,
   "metadata": {},
   "outputs": [],
   "source": [
    "# Construct helper objects:\n",
    "pinout = BoardPinout();\n",
    "units = BoardUnits();"
   ]
  },
  {
   "cell_type": "code",
   "execution_count": 55,
   "metadata": {},
   "outputs": [],
   "source": [
    "# Make sure we don't have garbage from previous runs in the serial port read buffer\n",
    "currentBridge.flushInput()"
   ]
  },
  {
   "cell_type": "code",
   "execution_count": 1,
   "metadata": {},
   "outputs": [
    {
     "ename": "NameError",
     "evalue": "name 'currentBridge' is not defined",
     "output_type": "error",
     "traceback": [
      "\u001b[0;31m---------------------------------------------------------------------------\u001b[0m",
      "\u001b[0;31mNameError\u001b[0m                                 Traceback (most recent call last)",
      "\u001b[0;32m<ipython-input-1-78c06fa09cec>\u001b[0m in \u001b[0;36m<module>\u001b[0;34m()\u001b[0m\n\u001b[1;32m      1\u001b[0m \u001b[0;31m# Read displacement from laser to see if everything is fine\u001b[0m\u001b[0;34m\u001b[0m\u001b[0;34m\u001b[0m\u001b[0m\n\u001b[0;32m----> 2\u001b[0;31m \u001b[0mcurrentBridge\u001b[0m\u001b[0;34m.\u001b[0m\u001b[0mselectLaser\u001b[0m\u001b[0;34m(\u001b[0m\u001b[0;34m)\u001b[0m\u001b[0;34m;\u001b[0m\u001b[0;34m\u001b[0m\u001b[0m\n\u001b[0m\u001b[1;32m      3\u001b[0m \u001b[0mlaserDisplacement\u001b[0m \u001b[0;34m=\u001b[0m \u001b[0mlaser\u001b[0m\u001b[0;34m.\u001b[0m\u001b[0mrequestDisplacement\u001b[0m\u001b[0;34m(\u001b[0m\u001b[0maxis\u001b[0m\u001b[0;34m=\u001b[0m\u001b[0;36m1\u001b[0m\u001b[0;34m)\u001b[0m\u001b[0;34m\u001b[0m\u001b[0m\n\u001b[1;32m      4\u001b[0m \u001b[0mprint\u001b[0m\u001b[0;34m(\u001b[0m\u001b[0;34mf'{laserDisplacement/1e9} [mm]'\u001b[0m\u001b[0;34m)\u001b[0m\u001b[0;34m\u001b[0m\u001b[0m\n",
      "\u001b[0;31mNameError\u001b[0m: name 'currentBridge' is not defined"
     ]
    }
   ],
   "source": [
    "# Read displacement from laser to see if everything is fine\n",
    "currentBridge.selectLaser();\n",
    "laserDisplacement = laser.requestDisplacement(axis=1)\n",
    "print(f'{laserDisplacement/1e9} [mm]')"
   ]
  },
  {
   "cell_type": "code",
   "execution_count": 57,
   "metadata": {},
   "outputs": [],
   "source": [
    "currentBridge.selectAllBoards()"
   ]
  },
  {
   "cell_type": "code",
   "execution_count": 58,
   "metadata": {
    "scrolled": true
   },
   "outputs": [],
   "source": [
    "# We use the interpolator to raise the signal to V/2 as the output cannot take negative values\n",
    "interpolator = FunctionInterpolator();\n",
    "constantFunction = interpolator.getConstantFunction(0.5)\n",
    "\n",
    "# Upload offset function to the device (Takes 10 seconds, do only once per \"session\")\n",
    "for i in range(576):\n",
    "    rbComb.setTaylorCoefficients(i, False, constantFunction);\n",
    "    \n",
    "\n",
    "# Ramp up (won't take effect until turning on the clock)\n",
    "rbComb.outputRampUp();"
   ]
  },
  {
   "cell_type": "code",
   "execution_count": 46,
   "metadata": {},
   "outputs": [],
   "source": [
    "currentBridge.enableClock();\n",
    "time.sleep(4.0);\n",
    "currentBridge.disableClock();"
   ]
  },
  {
   "cell_type": "code",
   "execution_count": 104,
   "metadata": {},
   "outputs": [],
   "source": [
    "excitationFrequency = 35000;\n",
    "excitationPhase = 0;\n",
    "excitationAmplitude = 1.25;"
   ]
  },
  {
   "cell_type": "code",
   "execution_count": 105,
   "metadata": {},
   "outputs": [],
   "source": [
    "currentBridge.disableClock();\n",
    "currentBridge.selectAllBoards()\n",
    "rbComb.setCurrentState([1,0,0,0,0]);\n",
    "rbComb.setGain(True);\n",
    "\n",
    "# Configure phases:\n",
    "rbComb.setPhase(0, units.convertDegreesPhaseToInteger(excitationPhase))\n",
    "\n",
    "# Configure frequencies:\n",
    "rbComb.setFrequency(0, units.convertFrequencyHzToInteger(excitationFrequency))\n",
    "\n",
    "# Make sure that the generators don't sweep\n",
    "for i in range(4):\n",
    "    rbComb.setSweepFrequencyStep(i,0);\n",
    "\n",
    "# Configure amplitudes: \n",
    "for i in range(576):\n",
    "    rbComb.setAmplitude(0,i,units.convertNormalizedAmplitudeToInteger(excitationAmplitude/2.5));\n",
    "    rbComb.setAmplitude(1,i,0);\n",
    "    rbComb.setAmplitude(2,i,0);\n",
    "    rbComb.setAmplitude(3,i,0);"
   ]
  },
  {
   "cell_type": "code",
   "execution_count": 106,
   "metadata": {},
   "outputs": [
    {
     "name": "stdout",
     "output_type": "stream",
     "text": [
      "Acquisition not yet finished\n",
      "Acquisition not yet finished\n",
      "Acquisition not yet finished\n",
      "Acquisition not yet finished\n",
      "Acquisition finished!\n"
     ]
    }
   ],
   "source": [
    "currentBridge.selectLaser();\n",
    "laser.scheduleAcquisition(axis=1, delay=50000)\n",
    "currentBridge.selectAllBoards();\n",
    "currentBridge.enableClock();\n",
    "currentBridge.selectLaser();\n",
    "while not laser.isAcquisitionFinished():\n",
    "    print('Acquisition not yet finished');\n",
    "    time.sleep(0.1);\n",
    "print('Acquisition finished!')\n",
    "currentBridge.disableClock();"
   ]
  },
  {
   "cell_type": "code",
   "execution_count": 107,
   "metadata": {},
   "outputs": [],
   "source": [
    "currentBridge.selectLaser();\n",
    "data = laser.requestTimeTrace()"
   ]
  },
  {
   "cell_type": "code",
   "execution_count": 108,
   "metadata": {},
   "outputs": [
    {
     "data": {
      "text/plain": [
       "array([[2.50000000e+01, 2.36244445e+10],\n",
       "       [2.57000000e+02, 2.36244419e+10],\n",
       "       [4.89000000e+02, 2.36244406e+10],\n",
       "       ...,\n",
       "       [7.60157900e+06, 2.36244334e+10],\n",
       "       [7.60181100e+06, 2.36244349e+10],\n",
       "       [7.60204300e+06, 2.36244360e+10]])"
      ]
     },
     "execution_count": 108,
     "metadata": {},
     "output_type": "execute_result"
    }
   ],
   "source": [
    "data"
   ]
  },
  {
   "cell_type": "code",
   "execution_count": 109,
   "metadata": {
    "scrolled": false
   },
   "outputs": [
    {
     "data": {
      "text/plain": [
       "Text(0,0.5,'Displacement (nm)')"
      ]
     },
     "execution_count": 109,
     "metadata": {},
     "output_type": "execute_result"
    },
    {
     "data": {
      "image/png": "[encoded data removed]",
      "text/plain": [
       "<matplotlib.figure.Figure at 0x12dc01048>"
      ]
     },
     "metadata": {},
     "output_type": "display_data"
    }
   ],
   "source": [
    "rangeStart = 0\n",
    "rangeEnd = 100\n",
    "plt.plot(data[rangeStart:rangeEnd,0]/1e5, data[rangeStart:rangeEnd,1]/1e3)\n",
    "plt.xlabel('Time (msec)')\n",
    "plt.ylabel('Displacement (nm)')"
   ]
  },
  {
   "cell_type": "code",
   "execution_count": 110,
   "metadata": {},
   "outputs": [
    {
     "data": {
      "text/plain": [
       "(0, 100)"
      ]
     },
     "execution_count": 110,
     "metadata": {},
     "output_type": "execute_result"
    },
    {
     "data": {
      "image/png": "[encoded data removed]",
      "text/plain": [
       "<matplotlib.figure.Figure at 0x12ec12a90>"
      ]
     },
     "metadata": {},
     "output_type": "display_data"
    }
   ],
   "source": [
    "noMean = data[:,1] - np.average(data[:,1]);\n",
    "freqs = np.fft.fftfreq(len(noMean), 1e-8*(data[50,0]-data[0,0])/50.0)/1e3;\n",
    "amps = np.abs(np.fft.fft(noMean));\n",
    "plt.plot(freqs, np.log(1+amps))\n",
    "plt.xlabel('Freq [KHz]');\n",
    "plt.ylabel('Amplitude [pm]');\n",
    "plt.xlim([0,100])"
   ]
  },
  {
   "cell_type": "code",
   "execution_count": 31,
   "metadata": {},
   "outputs": [],
   "source": [
    "# Close the serial port:\n",
    "currentBridge.closeConnection()"
   ]
  },
  {
   "cell_type": "code",
   "execution_count": 65,
   "metadata": {},
   "outputs": [
    {
     "data": {
      "text/plain": [
       "(32768, 2)"
      ]
     },
     "execution_count": 65,
     "metadata": {},
     "output_type": "execute_result"
    }
   ],
   "source": []
  },
  {
   "cell_type": "code",
   "execution_count": null,
   "metadata": {},
   "outputs": [],
   "source": []
  }
 ],
 "metadata": {
  "kernelspec": {
   "display_name": "Python 3",
   "language": "python",
   "name": "python3"
  },
  "language_info": {
   "codemirror_mode": {
    "name": "ipython",
    "version": 3
   },
   "file_extension": ".py",
   "mimetype": "text/x-python",
   "name": "python",
   "nbconvert_exporter": "python",
   "pygments_lexer": "ipython3",
   "version": "3.6.5"
  },
  "toc": {
   "nav_menu": {},
   "number_sections": true,
   "sideBar": true,
   "skip_h1_title": false,
   "title_cell": "Table of Contents",
   "title_sidebar": "Contents",
   "toc_cell": false,
   "toc_position": {},
   "toc_section_display": true,
   "toc_window_display": false
  }
 },
 "nbformat": 4,
 "nbformat_minor": 2
}
