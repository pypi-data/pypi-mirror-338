{
 "cells": [
  {
   "cell_type": "markdown",
   "id": "e60866b4",
   "metadata": {},
   "source": [
    "# Piper Cherokee\n",
    "Tutorial for CFD beginners or new-to-Luminary users walking through setting up an external aerodynamics simulation.\n",
    "\n",
    "Based on the UI tutorial: https://docs.luminarycloud.com/en/articles/10157837-piper-cherokee\n",
    "\n",
    "## In this Tutorial\n",
    "\n",
    "The Piper PA-28 Cherokee is a small single-propeller aircraft intended for flight training and personal use. This tutorial will guide you through demonstrating and using Luminary Cloud's external aerodynamics solution.\n",
    "\n",
    "Follow the steps to upload a CAD file, generate a computational mesh, and analyze aerodynamic features.\n",
    "\n",
    "<img src=\"https://storage.googleapis.com/luminarycloud-learning/sample-projects/piper-cherokee/notebook-images/01-piper-cherokee-flow-vectors.png\" width=600 />\n"
   ]
  },
  {
   "cell_type": "markdown",
   "id": "a2ea9e17",
   "metadata": {},
   "source": [
    "## Initialize the SDK\n",
    "A simple way to use the SDK is to create a .env file with your API key. Create a file named .env with one line similar to:\n",
    "\n",
    "```LC_API_KEY=YOUR_API_KEY```\n",
    "\n",
    "You can generate an API key in the UI by navigating to My Account -> Profile in the left navigation menu under the heading \"API Keys\"."
   ]
  },
  {
   "cell_type": "markdown",
   "id": "51a2ae47",
   "metadata": {},
   "source": [
    "### Set your API key in the environment\n",
    "The simplest way to use the SDK is to create an API key in the UI and assign it to the environment variable LC_API_KEY before running this notebook.\n",
    "\n",
    "Alternatively, you can use the python-dotenv python package (see https://pypi.org/project/python-dotenv/) and create a .env file with your API key specified as:\n",
    "\n",
    "`LC_API_KEY=MY_API_KEY`\n",
    "\n",
    "Note that if you do not set the API key, you will be asked to authenticate interactively when you make your first SDK request."
   ]
  },
  {
   "cell_type": "code",
   "execution_count": null,
   "id": "7707249f",
   "metadata": {},
   "outputs": [],
   "source": [
    "# Uncomment to use python-dotenv for loading LC_API_KEY into the environment from a .env file\n",
    "# from dotenv import load_dotenv\n",
    "# load_success=load_dotenv()"
   ]
  },
  {
   "cell_type": "code",
   "execution_count": null,
   "id": "0de6f22d",
   "metadata": {},
   "outputs": [],
   "source": [
    "import luminarycloud as lc\n",
    "from luminarycloud.enum import QuantityType\n",
    "import luminarycloud.vis as vis\n",
    "from typing import Union, List, cast\n",
    "from pathlib import Path\n",
    "from luminarycloud.geometry import Surface, Volume\n",
    "\n",
    "from datetime import datetime\n",
    "import time\n",
    "from uuid import uuid4\n",
    "import threading\n",
    "\n",
    "import pandas as pd\n",
    "import plotly.express as px\n",
    "from PIL import Image\n",
    "\n",
    "from IPython.display import display, update_display\n"
   ]
  },
  {
   "cell_type": "markdown",
   "id": "45bfd811",
   "metadata": {},
   "source": [
    "## Create a New Project\n",
    "To create a new project, use the lc.create_project(name=name, description=description) command."
   ]
  },
  {
   "cell_type": "code",
   "execution_count": null,
   "id": "dce05c49",
   "metadata": {},
   "outputs": [],
   "source": [
    "project = lc.create_project(\n",
    "    name=\"Piper Cherokee SDK Tutorial\",\n",
    "    description=\"This is a demo of the Luminary Cloud SDK with the Piper Cherokee\",\n",
    ")"
   ]
  },
  {
   "cell_type": "markdown",
   "id": "cb3f97b0",
   "metadata": {},
   "source": [
    "You can now view the created project details."
   ]
  },
  {
   "cell_type": "code",
   "execution_count": null,
   "id": "bdd577e2",
   "metadata": {},
   "outputs": [],
   "source": [
    "project_info = {\n",
    "    \"id\": project.id,\n",
    "    \"name\": project.name,\n",
    "    \"description\": project.description,\n",
    "    \"create_time\": project.create_time.isoformat(),\n",
    "    \"update_time\": project.update_time.isoformat(),\n",
    "}\n",
    "project_info"
   ]
  },
  {
   "cell_type": "markdown",
   "id": "dcd1ec90",
   "metadata": {},
   "source": [
    "## Upload the geometry (CAD)"
   ]
  },
  {
   "cell_type": "markdown",
   "id": "72e76d44",
   "metadata": {},
   "source": [
    "Now upload the Piper Cherokee model to your project. To do this, use:\n",
    "\n",
    "`geometry = project.create_geometry(cad_file_path, name=\"CAD name\", wait=True)`\n",
    "\n",
    "The `wait=True` parameter will wait until the geometry load is done before returning.\n"
   ]
  },
  {
   "cell_type": "code",
   "execution_count": null,
   "id": "c24cb8bf",
   "metadata": {},
   "outputs": [],
   "source": [
    "cad_file = \"../testdata/piper-cherokee-tutorial-cad.x_t\""
   ]
  },
  {
   "cell_type": "code",
   "execution_count": null,
   "id": "150e1ffb",
   "metadata": {},
   "outputs": [],
   "source": [
    "geometry = project.create_geometry(Path(cad_file), name=\"Piper Cherokee Model\", wait=True)"
   ]
  },
  {
   "cell_type": "markdown",
   "id": "8bc5f82c",
   "metadata": {},
   "source": [
    "You can now view ID generated for the geometry."
   ]
  },
  {
   "cell_type": "code",
   "execution_count": null,
   "id": "dc72ba8d",
   "metadata": {},
   "outputs": [],
   "source": [
    "geometry.id"
   ]
  },
  {
   "cell_type": "markdown",
   "id": "89707dc7",
   "metadata": {},
   "source": [
    "## Identify farfield and plane surfaces\n",
    "Let's examine the geometry by getting its surfaces and volumes."
   ]
  },
  {
   "cell_type": "code",
   "execution_count": null,
   "id": "780866f1",
   "metadata": {},
   "outputs": [],
   "source": [
    "surfaces, volumes = geometry.list_entities()"
   ]
  },
  {
   "cell_type": "markdown",
   "id": "d394b7f3",
   "metadata": {},
   "source": [
    "We are interested in the surfaces representing the farfield and the plane."
   ]
  },
  {
   "cell_type": "markdown",
   "id": "a8bc88c0",
   "metadata": {},
   "source": [
    "### Farfield surfaces\n",
    "\n",
    "In this model the farfield has an id of '0/bound/BC_14' so we will use this to distinguish the objects."
   ]
  },
  {
   "cell_type": "code",
   "execution_count": null,
   "id": "8dbb7ea0",
   "metadata": {},
   "outputs": [],
   "source": [
    "farfield_surface_id = \"0/bound/BC_14\"\n",
    "farfield_surfaces = [surface for surface in surfaces if surface.id == farfield_surface_id]\n",
    "farfield_surface_ids = [s.id for s in farfield_surfaces]"
   ]
  },
  {
   "cell_type": "markdown",
   "id": "794614dc",
   "metadata": {},
   "source": [
    "### Plane surfaces"
   ]
  },
  {
   "cell_type": "code",
   "execution_count": null,
   "id": "c2b5e78d",
   "metadata": {},
   "outputs": [],
   "source": [
    "plane_surfaces = [surface for surface in surfaces if surface.id not in farfield_surface_ids]\n",
    "plane_surface_ids = [s.id for s in plane_surfaces]"
   ]
  },
  {
   "cell_type": "markdown",
   "id": "d6958ccb",
   "metadata": {},
   "source": [
    "### Visualize the imported geometry\n",
    "\n",
    "We can visualize the geometry before proceeding.\n",
    "\n",
    "<img src=\"https://storage.googleapis.com/luminarycloud-learning/sample-projects/piper-cherokee/notebook-images/02-piper-cherokee-geometry.png\" width=600 />"
   ]
  },
  {
   "cell_type": "code",
   "execution_count": null,
   "id": "c0b50cc9",
   "metadata": {},
   "outputs": [],
   "source": [
    "scene = vis.Scene(geometry)\n",
    "# Hide the far field surface\n",
    "scene.surface_visibility(farfield_surface_id, False)\n",
    "scene.global_display_attrs.representation = vis.Representation.SURFACE_WITH_EDGES\n",
    "camera = vis.LookAtCamera()\n",
    "camera.look_at = [3.5, 0.0, 0.52]\n",
    "camera.position = [-9.1, 12.6, 13.1]\n",
    "camera.projection = vis.CameraProjection.PERSPECTIVE\n",
    "camera.width = 2048\n",
    "camera.height = 1024\n",
    "scene.add_camera(camera)\n",
    "image_extract = scene.render_images(\n",
    "    name=\"piper geometry\", description=\"Piper geometry with the far field hidden.\"\n",
    ")\n",
    "status = image_extract.wait()\n",
    "if status == vis.RenderStatusType.COMPLETED:\n",
    "    # Extract the BytesIO object from the first tuple in the list\n",
    "    image_buffer, label = image_extract.download_images()[0]\n",
    "    image = Image.open(image_buffer)\n",
    "    display(image)\n",
    "else:\n",
    "    print(\"Image extract failed \", status)"
   ]
  },
  {
   "cell_type": "markdown",
   "id": "665be495",
   "metadata": {},
   "source": [
    "## Create tags"
   ]
  },
  {
   "cell_type": "markdown",
   "id": "bc71a030",
   "metadata": {},
   "source": [
    "### Create the far field and plane tags\n",
    "Create tags for the far field and plane based on the identified surfaces."
   ]
  },
  {
   "cell_type": "code",
   "execution_count": null,
   "id": "e4bd5ae0",
   "metadata": {},
   "outputs": [],
   "source": [
    "# Cast List[Surface] to List[Union[Volume, Surface]]\n",
    "geometry.create_tag(\"Far-field\", cast(List[Union[Volume, Surface]], farfield_surfaces))\n",
    "geometry.create_tag(\"Plane\", cast(List[Union[Volume, Surface]], plane_surfaces))"
   ]
  },
  {
   "cell_type": "markdown",
   "id": "0449165f",
   "metadata": {},
   "source": [
    "### Create the fluid volume tag\n",
    "Create a new tag \"Fluid Volume\" from the one volume in the geometry. It must be passed as a list."
   ]
  },
  {
   "cell_type": "code",
   "execution_count": null,
   "id": "d89751ac",
   "metadata": {},
   "outputs": [],
   "source": [
    "fluid_volume = volumes[0]\n",
    "geometry.create_tag(\"Fluid Volume\", [fluid_volume])"
   ]
  },
  {
   "cell_type": "markdown",
   "id": "bfea8216",
   "metadata": {},
   "source": [
    "Now we can look at the tag information."
   ]
  },
  {
   "cell_type": "code",
   "execution_count": null,
   "id": "9d245ed3",
   "metadata": {},
   "outputs": [],
   "source": [
    "tag_info = {\n",
    "    tag.name: {\n",
    "        \"name\": tag.name,\n",
    "        \"id\": tag.id,\n",
    "        \"num_surfaces\": len(tag.surfaces),\n",
    "        \"num_volumes\": len(tag.volumes),\n",
    "    }\n",
    "    for tag in geometry.list_tags()\n",
    "}\n",
    "tag_info"
   ]
  },
  {
   "cell_type": "markdown",
   "id": "fc1d8ddb",
   "metadata": {},
   "source": [
    "## Validate geometry\n",
    "\n",
    "The geometry will now be checked to ensure it is of sufficient quality. Run:\n",
    "\n",
    "This will validate the geometry, and may take a few seconds to a few minutes. If no issues are found, the first parameter will return true, otherwise the first parameter will be false and the second parameter will be a list of the issues."
   ]
  },
  {
   "cell_type": "code",
   "execution_count": null,
   "id": "b1d04d82",
   "metadata": {},
   "outputs": [],
   "source": [
    "geometry_ok, issues = geometry.check()\n",
    "issues if not geometry_ok else \"OK\""
   ]
  },
  {
   "cell_type": "markdown",
   "id": "0607a206",
   "metadata": {},
   "source": [
    "## Load the geometry to setup\n",
    "\n",
    "This step is needed only if we want to see the model in the UI Setup screen.\n",
    "_NOTE: this operation is irreversible and deletes all the existing meshes and simulations in the project._"
   ]
  },
  {
   "cell_type": "code",
   "execution_count": null,
   "id": "1dc147d1",
   "metadata": {},
   "outputs": [],
   "source": [
    "project.load_geometry_to_setup(geometry)"
   ]
  },
  {
   "cell_type": "markdown",
   "id": "121d7ae3",
   "metadata": {},
   "source": [
    "## Generate Mesh\n",
    "\n",
    "Before running a simulation, we'll need to generate a computational mesh based on the geometry in the project\n",
    "\n",
    "First we'll set up the parameters that are used to generate the mesh. Normally, you'll want to iterate this process, starting with a coarser mesh and refining it as needed.\n",
    "\n",
    "We recommend starting coarser and refining because this will require fewer computational resources in total. In this tutorial, we'll go ahead and generate a fine mesh"
   ]
  },
  {
   "cell_type": "markdown",
   "id": "c69f9e20",
   "metadata": {},
   "source": [
    "### Define model, volume, and boundary layer parameters\n",
    "\n",
    "Here we set the meshing parameters."
   ]
  },
  {
   "cell_type": "markdown",
   "id": "930f12a1",
   "metadata": {},
   "source": [
    "The model parameters are:\n",
    "\n",
    "- surfaces: plane_surfaces (which we created earlier)\n",
    "- curvature: 4 degrees\n",
    "- max_size: 0.05"
   ]
  },
  {
   "cell_type": "code",
   "execution_count": null,
   "id": "d419dcb1",
   "metadata": {},
   "outputs": [],
   "source": [
    "# Cast List[Surface] to List[Union[Surface, str]]\n",
    "model_meshing_params = lc.meshing.ModelMeshingParams(\n",
    "    surfaces=cast(List[Union[Surface, str]], plane_surfaces),\n",
    "    curvature=4,\n",
    "    max_size=0.05,\n",
    ")"
   ]
  },
  {
   "cell_type": "markdown",
   "id": "98d3f591",
   "metadata": {},
   "source": [
    "The volume parameters are:\n",
    "\n",
    "- volumes: volumes\n",
    "- min_size: 0.005\n",
    "- max_size: 50"
   ]
  },
  {
   "cell_type": "code",
   "execution_count": null,
   "id": "49203aab",
   "metadata": {},
   "outputs": [],
   "source": [
    "volume_meshing_params = lc.meshing.VolumeMeshingParams(\n",
    "    volumes=volumes,\n",
    "    min_size=0.005,\n",
    "    max_size=50,\n",
    ")"
   ]
  },
  {
   "cell_type": "markdown",
   "id": "d7144d26",
   "metadata": {},
   "source": [
    "The boundary layer parameters are:\n",
    "\n",
    "- surfaces: plane_surfaces\n",
    "- n_layers: 20\n",
    "- initial_size: 0.00001\n",
    "- growth_rate: 1.2"
   ]
  },
  {
   "cell_type": "code",
   "execution_count": null,
   "id": "e954d518",
   "metadata": {},
   "outputs": [],
   "source": [
    "# Cast List[Surface] to List[Union[Surface, str]]\n",
    "boundary_layer_params = lc.meshing.BoundaryLayerParams(\n",
    "    surfaces=cast(List[Union[Surface, str]], plane_surfaces),\n",
    "    n_layers=20,\n",
    "    initial_size=0.00001,\n",
    "    growth_rate=1.2,\n",
    ")"
   ]
  },
  {
   "cell_type": "markdown",
   "id": "9fae788a",
   "metadata": {},
   "source": [
    "### Define sizing strategy\n",
    "Set the sizing strategy for the mesh. You can choose from the following:\n",
    "\n",
    "| Strategy    | Description               | Notes          |\n",
    "| :- | :- | :- |\n",
    "| lc.meshing.sizing_strategy.Minimal() | Minimal sizing strategy parameters. | If this is used, all other meshing parameters are ignored. |\n",
    "| lc.meshing.sizing_strategy.TargetCount(value) | Sizing strategy based on a target number of cells. | To reach a target number of cells, the edge length specifications will be proportionally scaled throughout the mesh. Requested boundary layer profiles will be maintained. |\n",
    "| lc.meshing.sizing_strategy.MaxCount(value)   | Sizing strategy based on a maximum number of cells. | If the mesh becomes larger than the max cell count, the mesh will be scaled. Requested boundary layer profiles will be maintained. |"
   ]
  },
  {
   "cell_type": "markdown",
   "id": "1424dadf",
   "metadata": {},
   "source": [
    "We will use a target number of 20 million cells."
   ]
  },
  {
   "cell_type": "code",
   "execution_count": null,
   "id": "3b1a720a",
   "metadata": {},
   "outputs": [],
   "source": [
    "target_count = 20_000_000\n",
    "sizing_strategy = lc.meshing.sizing_strategy.TargetCount(target_count)"
   ]
  },
  {
   "cell_type": "markdown",
   "id": "465edffc",
   "metadata": {},
   "source": [
    "### Set mesh parameters\n",
    "\n",
    "Now we set the meshing parameters based on the values we just set.\n",
    "\n",
    "Note that we have to specify the geometry ID shown earler, the sizing strategy, the model, volume, and boundary layer parameters, and the minimum and maximum size."
   ]
  },
  {
   "cell_type": "code",
   "execution_count": null,
   "id": "9e8fcca6",
   "metadata": {},
   "outputs": [],
   "source": [
    "mesh_params = lc.meshing.MeshGenerationParams(\n",
    "    geometry_id=geometry.id,\n",
    "    sizing_strategy=sizing_strategy,\n",
    "    volume_meshing_params=[volume_meshing_params],\n",
    "    model_meshing_params=[model_meshing_params],\n",
    "    boundary_layer_params=[boundary_layer_params],\n",
    "    min_size=0.005,\n",
    "    max_size=50,\n",
    ")"
   ]
  },
  {
   "cell_type": "markdown",
   "id": "fa1eb223",
   "metadata": {},
   "source": [
    "### Create mesh\n",
    "\n",
    "Now we create the mesh. This may take several minutes depending on the number of volumes to create"
   ]
  },
  {
   "cell_type": "code",
   "execution_count": null,
   "id": "f9490798",
   "metadata": {},
   "outputs": [],
   "source": [
    "# mesh = project.create_or_get_mesh(mesh_params, name=\"Piper Cherokee 20M mesh\")"
   ]
  },
  {
   "cell_type": "code",
   "execution_count": null,
   "id": "1ab08b9c",
   "metadata": {},
   "outputs": [],
   "source": [
    "# Workaround for mesh timeout; this is not the optimal way to do this\n",
    "mesh = None\n",
    "\n",
    "\n",
    "def run_mesh_creation() -> None:\n",
    "    global mesh\n",
    "    mesh = project.create_or_get_mesh(mesh_params, name=\"Piper Cherokee 20M mesh\")\n",
    "\n",
    "\n",
    "thread = threading.Thread(target=run_mesh_creation)\n",
    "thread.start()"
   ]
  },
  {
   "cell_type": "code",
   "execution_count": null,
   "id": "94596bcd",
   "metadata": {},
   "outputs": [],
   "source": [
    "elapsed_seconds = 0\n",
    "wait_seconds = 30\n",
    "\n",
    "current_time = datetime.now().isoformat()\n",
    "display(\n",
    "    f\"{current_time}: elapsed: {elapsed_seconds//60:02d}:{elapsed_seconds%60:02d}\",\n",
    "    display_id=\"status_display\",\n",
    ")\n",
    "\n",
    "while True:\n",
    "    meshes = project.list_meshes()\n",
    "    if len(meshes) > 0 and all(m.status.name == \"COMPLETED\" for m in meshes):\n",
    "        update_display(\n",
    "            f\"{current_time}: elapsed: {elapsed_seconds//60:02d}:{elapsed_seconds%60:02d}; all meshes have been generated.\",\n",
    "            display_id=\"status_display\",\n",
    "        )\n",
    "        break\n",
    "    else:\n",
    "        current_time = datetime.now().isoformat()\n",
    "        update_display(\n",
    "            f\"{current_time}: elapsed: {elapsed_seconds//60:02d}:{elapsed_seconds%60:02d}; waiting...\",\n",
    "            display_id=\"status_display\",\n",
    "        )\n",
    "        time.sleep(wait_seconds)\n",
    "        elapsed_seconds += wait_seconds\n"
   ]
  },
  {
   "cell_type": "markdown",
   "id": "fcb150df",
   "metadata": {},
   "source": [
    "We can see the mesh details after the mesh has been created."
   ]
  },
  {
   "cell_type": "code",
   "execution_count": null,
   "id": "10ba2293",
   "metadata": {},
   "outputs": [],
   "source": [
    "mesh"
   ]
  },
  {
   "cell_type": "markdown",
   "id": "2c5c1af8",
   "metadata": {},
   "source": [
    "We can also list all of the meshes in a project."
   ]
  },
  {
   "cell_type": "code",
   "execution_count": null,
   "id": "c338fbe8",
   "metadata": {},
   "outputs": [],
   "source": [
    "meshes = project.list_meshes()"
   ]
  },
  {
   "cell_type": "code",
   "execution_count": null,
   "id": "0cb2c026",
   "metadata": {},
   "outputs": [],
   "source": [
    "meshes"
   ]
  },
  {
   "cell_type": "markdown",
   "id": "7599a61f",
   "metadata": {},
   "source": [
    "### Analyze the surface mesh\n",
    "\n",
    "We can visualize the surface mesh after it has been created.\n",
    "\n",
    "<img src=\"https://storage.googleapis.com/luminarycloud-learning/sample-projects/piper-cherokee/notebook-images/03-piper-cherokee-surface-mesh.png\" width=600 />"
   ]
  },
  {
   "cell_type": "code",
   "execution_count": null,
   "id": "bf116802",
   "metadata": {
    "lines_to_next_cell": 2
   },
   "outputs": [],
   "source": [
    "# Check if mesh is None before passing to Scene constructor\n",
    "scene = vis.Scene(mesh if mesh is not None else geometry)\n",
    "# Hide the far field surface\n",
    "scene.surface_visibility(farfield_surface_id, False)\n",
    "scene.global_display_attrs.representation = vis.Representation.SURFACE_WITH_EDGES\n",
    "camera = vis.LookAtCamera()\n",
    "camera.look_at = [3.5, 0.0, 0.52]\n",
    "camera.position = [3.5, 0, 12]\n",
    "camera.up = [1, 0, 0]\n",
    "camera.projection = vis.CameraProjection.PERSPECTIVE\n",
    "camera.width = 4096\n",
    "camera.height = 4096\n",
    "scene.add_camera(camera)\n",
    "image_extract = scene.render_images(name=\"piper surface mesh\", description=\"Piper surface mesh.\")\n",
    "status = image_extract.wait()\n",
    "if status == vis.RenderStatusType.COMPLETED:\n",
    "    image_buffer, label = image_extract.download_images()[0]\n",
    "    image = Image.open(image_buffer)\n",
    "    display(image)\n",
    "else:\n",
    "    print(\"Image extract failed \", status)"
   ]
  },
  {
   "cell_type": "markdown",
   "id": "86603b21",
   "metadata": {},
   "source": [
    "### Analyze the volume mesh\n",
    "\n",
    "We can also visualize the volume mesh. We need to use a PlaneClip to see a cross-section.\n",
    "\n",
    "<img src=\"https://storage.googleapis.com/luminarycloud-learning/sample-projects/piper-cherokee/notebook-images/04-piper-cherokee-volume-mesh.png\" width=600 />"
   ]
  },
  {
   "cell_type": "code",
   "execution_count": null,
   "id": "36011773",
   "metadata": {},
   "outputs": [],
   "source": [
    "# Check if mesh is None before passing to Scene constructor\n",
    "scene = vis.Scene(mesh if mesh is not None else geometry)\n",
    "# Hide the far field surface\n",
    "scene.surface_visibility(farfield_surface_id, False)\n",
    "scene.global_display_attrs.representation = vis.Representation.SURFACE\n",
    "# Hide the far field surface\n",
    "camera = vis.LookAtCamera()\n",
    "camera.look_at = [3.5, 0.0, 0.52]\n",
    "camera.position = [3.5, -10.9, 0.5]\n",
    "camera.projection = vis.CameraProjection.PERSPECTIVE\n",
    "camera.width = 2048\n",
    "camera.height = 1024\n",
    "scene.add_camera(camera)\n",
    "\n",
    "\n",
    "# Add a clip to visualize the mesh cells.\n",
    "clip = vis.PlaneClip(\"x-clip\")\n",
    "clip.plane.normal = [0, 1, 0]\n",
    "clip.plane.origin = [3.55, 0, 0.52]\n",
    "clip.display_attrs.representation = vis.Representation.SURFACE_WITH_EDGES\n",
    "scene.add_filter(clip)\n",
    "\n",
    "# Use a higher resolution to reduce line aliasing.\n",
    "image_extract = scene.render_images(name=\"piper volume mesh\", description=\"Piper volume mesh.\")\n",
    "status = image_extract.wait()\n",
    "if status == vis.RenderStatusType.COMPLETED:\n",
    "    image_buffer, label = image_extract.download_images()[0]\n",
    "    image = Image.open(image_buffer)\n",
    "    display(image)\n",
    "else:\n",
    "    print(\"Image extract failed \", status)"
   ]
  },
  {
   "cell_type": "markdown",
   "id": "a83043bd",
   "metadata": {},
   "source": [
    "### Get mesh metadata\n",
    "\n",
    "Using the ID of the mesh, we can view its metadata."
   ]
  },
  {
   "cell_type": "code",
   "execution_count": null,
   "id": "c95ff642",
   "metadata": {},
   "outputs": [],
   "source": [
    "# Check if mesh is None before accessing its id attribute\n",
    "meshmd = lc.get_mesh_metadata(mesh.id if mesh is not None else meshes[0].id)\n",
    "# meshmd"
   ]
  },
  {
   "cell_type": "markdown",
   "id": "d4f37796",
   "metadata": {},
   "source": [
    "## Set up physics\n",
    "First set the identifier for the physics and the type (Fluid).\n",
    "\n",
    "Set the initialization to FluidFarfieldValues."
   ]
  },
  {
   "cell_type": "code",
   "execution_count": null,
   "id": "29fafc31",
   "metadata": {},
   "outputs": [],
   "source": [
    "from luminarycloud import EntityIdentifier\n",
    "\n",
    "fluid_flow_physics = lc.params.simulation.Physics()\n",
    "\n",
    "fluid_flow_physics.physics_identifier = EntityIdentifier(id=str(uuid4()), name=\"fluid_flow_physics\")\n",
    "fluid_flow_physics.fluid = lc.params.simulation.physics.Fluid()\n",
    "\n",
    "fluid_flow_physics.fluid.initialization = (\n",
    "    lc.params.simulation.physics.fluid.initialization.FluidFarfieldValues()\n",
    ")"
   ]
  },
  {
   "cell_type": "markdown",
   "id": "b4381a5a",
   "metadata": {},
   "source": [
    "### Create boundary conditions\n",
    "\n",
    "First create a global frame which will be referenced by the body frame."
   ]
  },
  {
   "cell_type": "code",
   "execution_count": null,
   "id": "bc0beb48",
   "metadata": {},
   "outputs": [],
   "source": [
    "global_frame_id = \"global_frame_id\"\n",
    "\n",
    "global_frame = lc.params.simulation.MotionData(frame_id=global_frame_id, frame_name=\"Global\")"
   ]
  },
  {
   "cell_type": "markdown",
   "id": "78450b3d",
   "metadata": {},
   "source": [
    "### Define the body frame and motion data\n",
    "\n",
    "This information is required if you want to define flow conditions using angles of attack, as we did for the far-field above, or if you need to calculate output quantities such as lift or drag (i.e., for all of these you need to know which directions constitute forwards, upwards, etc.).\n",
    "\n",
    "Ensure Origin is set to 0, 0, 0, pointing from the center of the airplane out through its starboard wing.)\n",
    "\n",
    "Ensure Orientation is set to 0, 180, 0, pointing from the center of the airplane out through its nose."
   ]
  },
  {
   "cell_type": "code",
   "execution_count": null,
   "id": "cc1eb431",
   "metadata": {},
   "outputs": [],
   "source": [
    "origin = lc.types.Vector3(0, 0, 0)\n",
    "orientation = lc.types.Vector3(0, 180, 0)\n",
    "\n",
    "body_frame = lc.params.simulation.MotionData(\n",
    "    frame_id=\"body_frame_id\",\n",
    "    frame_name=\"body_frame\",\n",
    "    frame_parent=global_frame_id,\n",
    "    frame_transforms=[\n",
    "        lc.params.simulation.motion_data.frame_transforms.TranslationalTransform(\n",
    "            transform_name=\"body_frame_origin\", translation=origin\n",
    "        ),\n",
    "        lc.params.simulation.motion_data.frame_transforms.RotationalTransform(\n",
    "            transform_name=\"body_frame_orientation\", rotation_angles=orientation\n",
    "        ),\n",
    "    ],\n",
    ")"
   ]
  },
  {
   "cell_type": "code",
   "execution_count": null,
   "id": "3346a20a",
   "metadata": {},
   "outputs": [],
   "source": [
    "# Create a new Physics object with the body_frame and motion_data attributes\n",
    "# Instead of trying to set them directly on the existing object\n",
    "sim_params = lc.SimulationParam()\n",
    "sim_params.body_frame = lc.params.simulation.BodyFrame(body_frame_id=body_frame.frame_id)\n",
    "sim_params.motion_data = [global_frame, body_frame]"
   ]
  },
  {
   "cell_type": "markdown",
   "id": "ed752525",
   "metadata": {},
   "source": [
    "We'll use these later when we assign the physics to the simulation parameters"
   ]
  },
  {
   "cell_type": "markdown",
   "id": "4c06d1f3",
   "metadata": {},
   "source": [
    "### Set up material (air)"
   ]
  },
  {
   "cell_type": "code",
   "execution_count": null,
   "id": "1f615927",
   "metadata": {},
   "outputs": [],
   "source": [
    "\n",
    "material_model = lc.params.simulation.material.fluid.material_model.IdealGas(\n",
    "    molecular_weight=28.966,\n",
    "    specific_heat_cp=1006.4,\n",
    ")\n",
    "\n",
    "thermal_conductivity_model = (\n",
    "    lc.params.simulation.material.fluid.thermal_conductivity_model.PrescribedPrandtlNumber(\n",
    "        prandtl_number=0.72,\n",
    "    )\n",
    ")\n",
    "\n",
    "viscosity_model = lc.params.simulation.material.fluid.viscosity_model.Sutherland(\n",
    "    reference_viscosity=1.716e-5,\n",
    "    reference_temperature=264.37,\n",
    "    sutherland_constant=110.56,\n",
    ")\n",
    "\n",
    "fluid_material = lc.params.simulation.material.MaterialFluid(\n",
    "    reference_pressure=0,\n",
    "    material_model=material_model,\n",
    "    thermal_conductivity_model=thermal_conductivity_model,\n",
    "    viscosity_model=viscosity_model,\n",
    ")\n",
    "\n",
    "air_material = lc.params.simulation.MaterialEntity(\n",
    "    material_identifier=EntityIdentifier(id=str(uuid4()), name=\"air_fluid\"),\n",
    "    fluid=fluid_material,\n",
    ")"
   ]
  },
  {
   "cell_type": "markdown",
   "id": "6729589a",
   "metadata": {},
   "source": [
    "### Boundary conditions"
   ]
  },
  {
   "cell_type": "markdown",
   "id": "3d729d2b",
   "metadata": {},
   "source": [
    "#### Define wall boundary condition\n",
    "\n",
    "The wall boundary condition represents a solid, impermeable surface where the flow interacts with a physical object, such as an aircraft fuselage, a car body, or a pipe wall. The specific treatment of the boundary depends on whether the flow is no-slip (viscous flow) or slip (inviscid flow).\n",
    "\n",
    "For this simulation we set the wall boundary to the surfaces of the plane, and the momentum as no-slip."
   ]
  },
  {
   "cell_type": "code",
   "execution_count": null,
   "id": "818ac0a6",
   "metadata": {},
   "outputs": [],
   "source": [
    "# Import the correct WallMomentum enum\n",
    "from luminarycloud.params.enum._enum_wrappers import WallMomentum"
   ]
  },
  {
   "cell_type": "code",
   "execution_count": null,
   "id": "e6bf1c17",
   "metadata": {},
   "outputs": [],
   "source": [
    "# Create the wall boundary condition using the enum value\n",
    "wall_bc = lc.params.simulation.physics.fluid.boundary_conditions.Wall(\n",
    "    name=\"Wall\",\n",
    "    surfaces=[s.id for s in plane_surfaces],\n",
    "    momentum=lc.params.simulation.physics.fluid.boundary_conditions.wall.momentum.NoSlip(),\n",
    ")"
   ]
  },
  {
   "cell_type": "markdown",
   "id": "0c0f2fff",
   "metadata": {},
   "source": [
    "#### Define far field boundary condition\n",
    "\n",
    "Your farfield boundary defines the atmospheric conditions in which your aircraft is flying. The farfield ensures that disturbances from the aircraft dissipate naturally, preventing artificial reflections. These values define the ambient conditions that your aircraft or object is moving through.\n",
    "\n",
    "`name=\"Farfield\"`\n",
    "\n",
    "The name of the farfield boundary condition\n",
    "\n",
    "`surfaces=surface_ids`\n",
    "\n",
    "This is a list of the IDs for the surfaces that define the far field boundary.\n",
    "\n",
    "`mach_number=0.216`\n",
    "\n",
    "This defines a subsonic flow condition (about 73.4 m/s if the speed of sound is ~340 m/s).\n",
    "\n",
    "`pressure=70100`\n",
    "\n",
    "This is the static pressure at the farfield, which is lower than sea-level atmospheric pressure (suggesting a higher-altitude simulation).\n",
    "\n",
    "`temperature=288.15`\n",
    "\n",
    "This is 15°C, close to standard sea-level conditions in the International Standard Atmosphere (ISA).\n",
    "\n",
    "\n",
    "\n",
    "##### Direction\n",
    "\n",
    "`direction_specification=FARFIELD_ANGLES`\n",
    "\n",
    "This means the flow direction is set using angles (instead of velocity components).\n",
    "\n",
    "##### Angle of Attack:\n",
    "The flow is coming in at a slight upward angle (2° AoA), which is common for lift-producing wings.\n",
    "\n",
    "`angle_alpha = 2.0`\n",
    "\n",
    "This sets an angle of attack (AoA) of 2 degrees, meaning the airflow is slightly inclined relative to the aircraft.\n",
    "\n",
    "`angle_beta = 0.0`\n",
    "\n",
    "No sideslip angle, meaning the flow is aligned with the aircraft’s centerline in the lateral direction.\n"
   ]
  },
  {
   "cell_type": "code",
   "execution_count": null,
   "id": "20d86713",
   "metadata": {},
   "outputs": [],
   "source": [
    "farfield_bc = lc.params.simulation.physics.fluid.boundary_conditions.Farfield(\n",
    "    name=\"Farfield\",\n",
    "    surfaces=farfield_surface_ids,\n",
    "    mach_number=0.216,\n",
    "    pressure=70100,\n",
    "    temperature=288.15,\n",
    "    direction_specification=lc.params.enum.FarFieldFlowDirectionSpecification.FARFIELD_ANGLES,\n",
    "    angle_alpha=2.0,\n",
    "    angle_beta=0.0,\n",
    ")"
   ]
  },
  {
   "cell_type": "markdown",
   "id": "ae27e74b",
   "metadata": {},
   "source": [
    "#### Set boundary conditions\n",
    "\n",
    "The boundary conditions includes the farfield and wall boundary conditions."
   ]
  },
  {
   "cell_type": "code",
   "execution_count": null,
   "id": "e8a8265a",
   "metadata": {},
   "outputs": [],
   "source": [
    "fluid_flow_physics.fluid.boundary_conditions = [farfield_bc, wall_bc]"
   ]
  },
  {
   "cell_type": "markdown",
   "id": "03947248",
   "metadata": {},
   "source": [
    "## Create simulation parameters"
   ]
  },
  {
   "cell_type": "code",
   "execution_count": null,
   "id": "3919c933",
   "metadata": {},
   "outputs": [],
   "source": [
    "sim_params = lc.SimulationParam()"
   ]
  },
  {
   "cell_type": "markdown",
   "id": "018c4e73",
   "metadata": {},
   "source": [
    "### Assign body frame"
   ]
  },
  {
   "cell_type": "code",
   "execution_count": null,
   "id": "c0ec47f0",
   "metadata": {},
   "outputs": [],
   "source": [
    "sim_params.body_frame = lc.params.simulation.BodyFrame(body_frame_id=body_frame.frame_id)"
   ]
  },
  {
   "cell_type": "markdown",
   "id": "1659a1d7",
   "metadata": {},
   "source": [
    "### Assign material"
   ]
  },
  {
   "cell_type": "code",
   "execution_count": null,
   "id": "2df00e5a",
   "metadata": {},
   "outputs": [],
   "source": [
    "sim_params.assign_material(air_material, fluid_volume)  # or volume.id"
   ]
  },
  {
   "cell_type": "markdown",
   "id": "01b34ea3",
   "metadata": {},
   "source": [
    "### Assign physics"
   ]
  },
  {
   "cell_type": "code",
   "execution_count": null,
   "id": "19da5d53",
   "metadata": {},
   "outputs": [],
   "source": [
    "sim_params.assign_physics(fluid_flow_physics, fluid_volume)  # or volume.id"
   ]
  },
  {
   "cell_type": "markdown",
   "id": "cd9b9f41",
   "metadata": {},
   "source": [
    "## Simulation"
   ]
  },
  {
   "cell_type": "markdown",
   "id": "8c6f9697",
   "metadata": {},
   "source": [
    "### Create a simulation template\n",
    "\n",
    "We use a simulation template to hold the parameters for a simulation. In order to run the simulation, first create a simulation template based on the simulation parameters."
   ]
  },
  {
   "cell_type": "code",
   "execution_count": null,
   "id": "334417be",
   "metadata": {},
   "outputs": [],
   "source": [
    "simulation_template = project.create_simulation_template(\n",
    "    name=\"piper simulation parameters\", parameters=sim_params._to_proto()\n",
    ")"
   ]
  },
  {
   "cell_type": "markdown",
   "id": "7f0bfc1e",
   "metadata": {},
   "source": [
    "### Configure outputs"
   ]
  },
  {
   "cell_type": "markdown",
   "id": "3ff586b8",
   "metadata": {},
   "source": [
    "We output equation residuals and surface-integrated scalar outputs at every iteration, on all surfaces, volumes, monitor planes, and monitor points. This allows you to extract outputs after running a simulation without requiring you to re-run the simulation!\n",
    "\n",
    "However, if you’d like to define a stopping condition based on an output, you need to define a specific output first. Otherwise, declaring outputs up front is optional."
   ]
  },
  {
   "cell_type": "code",
   "execution_count": null,
   "id": "6598d525",
   "metadata": {},
   "outputs": [],
   "source": [
    "lift = simulation_template.create_output_definition(\n",
    "    lc.outputs.ForceOutputDefinition(\n",
    "        name=\"Lift\",\n",
    "        quantity=lc.enum.QuantityType.LIFT,\n",
    "        surfaces=[s.id for s in plane_surfaces],\n",
    "        reference_frame_id=body_frame.frame_id,\n",
    "    )\n",
    ")"
   ]
  },
  {
   "cell_type": "code",
   "execution_count": null,
   "id": "c61f21ef",
   "metadata": {},
   "outputs": [],
   "source": [
    "drag = simulation_template.create_output_definition(\n",
    "    lc.outputs.ForceOutputDefinition(\n",
    "        name=\"Drag\",\n",
    "        quantity=lc.enum.QuantityType.DRAG,\n",
    "        surfaces=[s.id for s in plane_surfaces],\n",
    "        reference_frame_id=body_frame.frame_id,\n",
    "    )\n",
    ")"
   ]
  },
  {
   "cell_type": "markdown",
   "id": "d8468a10",
   "metadata": {},
   "source": [
    "### Set stopping conditions"
   ]
  },
  {
   "cell_type": "markdown",
   "id": "0855f54b",
   "metadata": {},
   "source": [
    "Stopping Conditions are used to determine when a simulation exits and saves results. Here we set a stopping condition based on one of the custom outputs we just defined, and we'll stop the simulation after a maximum number of iterations even if the stopping condition is unmet."
   ]
  },
  {
   "cell_type": "code",
   "execution_count": null,
   "id": "38c41d71",
   "metadata": {},
   "outputs": [],
   "source": [
    "simulation_template.create_or_update_stopping_condition(\n",
    "    output_definition_id=lift.id,\n",
    "    threshold=0.0001,  # 0.01%\n",
    "    start_at_iteration=500,\n",
    "    averaging_iterations=10,\n",
    "    iterations_to_consider=5,\n",
    ")"
   ]
  },
  {
   "cell_type": "code",
   "execution_count": null,
   "id": "b7d089fd",
   "metadata": {},
   "outputs": [],
   "source": [
    "simulation_template.update_general_stopping_conditions(max_iterations=2000)"
   ]
  },
  {
   "cell_type": "markdown",
   "id": "9ec9280c",
   "metadata": {},
   "source": [
    "### Run the simulation"
   ]
  },
  {
   "cell_type": "code",
   "execution_count": null,
   "id": "2c416cc8",
   "metadata": {},
   "outputs": [],
   "source": [
    "simulation_name = \"Piper simulation\"\n",
    "batch_processing = False\n",
    "# Check if mesh is None before accessing its id attribute\n",
    "simulation = project.create_simulation(\n",
    "    mesh.id if mesh is not None else meshes[0].id,\n",
    "    simulation_name,\n",
    "    simulation_template.id,\n",
    "    batch_processing=batch_processing,\n",
    ")"
   ]
  },
  {
   "cell_type": "code",
   "execution_count": null,
   "id": "356c54b1",
   "metadata": {},
   "outputs": [],
   "source": [
    "simulation"
   ]
  },
  {
   "cell_type": "markdown",
   "id": "9fe1572a",
   "metadata": {},
   "source": [
    "Note that the status is **SIMULATION_STATUS_ACTIVE** (**ACTIVE**) while running. We must wait for the simulation to finish."
   ]
  },
  {
   "cell_type": "code",
   "execution_count": null,
   "id": "7fc88c76",
   "metadata": {},
   "outputs": [],
   "source": [
    "# Wait for simulation\n",
    "# We are getting the simulation status using project.list_simulations()[0].status.name; this will be replaced by a function\n",
    "done = False\n",
    "spinner = \"⠋⠙⠹⠸⠼⠴⠦⠧⠇⠏\"\n",
    "display(f\"Status: {simulation.status.name}⠏\", display_id=\"status_display\")\n",
    "i = 0\n",
    "while not done:\n",
    "    sim_status = project.list_simulations()[0].status.name\n",
    "    if sim_status != \"ACTIVE\":\n",
    "        update_display(f\"Status: {sim_status}\", display_id=\"status_display\")\n",
    "        done = True\n",
    "        break\n",
    "    i += 1\n",
    "    update_display(f\"Status: {sim_status}{spinner[i % len(spinner)]}\", display_id=\"status_display\")\n",
    "    time.sleep(0.5)"
   ]
  },
  {
   "cell_type": "markdown",
   "id": "302b6ce9",
   "metadata": {},
   "source": [
    "## Plot residuals\n",
    "\n",
    "Now we can download the residuals as CSV and plot them."
   ]
  },
  {
   "cell_type": "code",
   "execution_count": null,
   "id": "8cd97ffb",
   "metadata": {},
   "outputs": [],
   "source": [
    "with simulation.download_global_residuals() as stream:\n",
    "    # since this is a steady state simulation, we can drop these columns\n",
    "    residuals_df = pd.read_csv(stream, index_col=\"Iteration index\").drop(\n",
    "        [\"Time step\", \"Physical time\"], axis=1\n",
    "    )\n",
    "residuals_df"
   ]
  },
  {
   "cell_type": "code",
   "execution_count": null,
   "id": "5e5ce559",
   "metadata": {},
   "outputs": [],
   "source": [
    "# We want to plot all residuals on a log scale (residuals are typically shown this way)\n",
    "# 'Spalart-Allmaras Variable' is also available for plotting\n",
    "fig = px.line(\n",
    "    residuals_df,\n",
    "    x=residuals_df.index,\n",
    "    y=[\"X-Momentum Residual\", \"Y-Momentum Residual\", \"Z-Momentum Residual\", \"Energy Residual\"],\n",
    "    title=\"Residuals vs Iteration\",\n",
    "    template=\"plotly_white\",\n",
    "    log_y=True,\n",
    ")  # Using log scale for y-axis since these are residuals\n",
    "\n",
    "fig.update_layout(\n",
    "    xaxis_title=\"Iteration\",\n",
    "    yaxis_title=\"Residual Value\",\n",
    "    width=1000,\n",
    "    height=600,\n",
    "    showlegend=True,\n",
    "    legend_title=\"Residual Type\",\n",
    "    legend=dict(\n",
    "        orientation=\"h\",  # horizontal orientation\n",
    "        yanchor=\"bottom\",\n",
    "        y=-0.2,  # position below the plot\n",
    "        xanchor=\"center\",\n",
    "        x=0.5,  # centered horizontally\n",
    "    ),\n",
    ")\n",
    "\n",
    "# Optional: Update line styles for better visibility\n",
    "fig.update_traces(mode=\"lines\")\n",
    "\n",
    "fig.show()"
   ]
  },
  {
   "cell_type": "code",
   "execution_count": null,
   "id": "2cf2ac5e",
   "metadata": {},
   "outputs": [],
   "source": [
    "# Check if mesh is None before accessing its id attribute\n",
    "mesh_metadata = lc.get_mesh_metadata(mesh.id if mesh is not None else meshes[0].id)\n",
    "target_boundaries = [\"0/bound/BC_1\"]"
   ]
  },
  {
   "cell_type": "code",
   "execution_count": null,
   "id": "052fe184",
   "metadata": {},
   "outputs": [],
   "source": [
    "from luminarycloud.enum import ReferenceValuesType\n",
    "from luminarycloud.reference_values import ReferenceValues\n",
    "from luminarycloud.enum import QuantityType, CalculationType, SimulationStatus, ReferenceValuesType\n",
    "\n",
    "ref_vals = ReferenceValues(\n",
    "    reference_value_type=ReferenceValuesType.PRESCRIBE_VALUES,\n",
    "    area_ref=10.0,\n",
    "    length_ref=10.0,\n",
    "    p_ref=101325.0,\n",
    "    t_ref=273.15,\n",
    "    v_ref=265.05709547039106,\n",
    ")\n",
    "\n",
    "# see documentation for more details about optional parameters\n",
    "with simulation.download_surface_output(\n",
    "    QuantityType.LIFT, target_boundaries, frame_id=body_frame.frame_id, reference_values=ref_vals\n",
    ") as stream:\n",
    "    # since this is a steady state simulation, we can drop \"Time step\" and \"Physical time\"\n",
    "    lift_df = pd.read_csv(stream, index_col=\"Iteration index\").drop(\n",
    "        [\"Time step\", \"Physical time\"], axis=1\n",
    "    )\n",
    "    # rename lift column\n",
    "    lift_df = lift_df.rename(columns={\"Lift - 0/bound/BC_1\": \"lift\"})"
   ]
  },
  {
   "cell_type": "code",
   "execution_count": null,
   "id": "67f2fabd",
   "metadata": {},
   "outputs": [],
   "source": [
    "lift_df"
   ]
  },
  {
   "cell_type": "code",
   "execution_count": null,
   "id": "fb4558f5",
   "metadata": {},
   "outputs": [],
   "source": [
    "fig = px.line(lift_df, y=\"lift\", title=\"Lift vs Iteration\", template=\"plotly_white\")\n",
    "\n",
    "fig.update_layout(xaxis_title=\"Iteration\", yaxis_title=\"Lift\", width=800, height=500)\n",
    "\n",
    "fig.show()"
   ]
  },
  {
   "cell_type": "code",
   "execution_count": null,
   "id": "11002603",
   "metadata": {},
   "outputs": [],
   "source": [
    "# see documentation for more details about optional parameters\n",
    "with simulation.download_surface_output(\n",
    "    QuantityType.DRAG, target_boundaries, frame_id=body_frame.frame_id, reference_values=ref_vals\n",
    ") as stream:\n",
    "    # since this is a steady state simulation, we can drop \"Time step\" and \"Physical time\"\n",
    "    drag_df = pd.read_csv(stream, index_col=\"Iteration index\").drop(\n",
    "        [\"Time step\", \"Physical time\"], axis=1\n",
    "    )\n",
    "    # rename drag column\n",
    "    drag_df = drag_df.rename(columns={\"Drag - 0/bound/BC_1\": \"drag\"})"
   ]
  },
  {
   "cell_type": "code",
   "execution_count": null,
   "id": "8af649c2",
   "metadata": {},
   "outputs": [],
   "source": [
    "drag_df"
   ]
  },
  {
   "cell_type": "code",
   "execution_count": null,
   "id": "cc68798f",
   "metadata": {},
   "outputs": [],
   "source": [
    "fig = px.line(drag_df, y=\"drag\", title=\"Drag vs Iteration\", template=\"plotly_white\")\n",
    "\n",
    "fig.update_layout(xaxis_title=\"Iteration\", yaxis_title=\"Drag\", width=800, height=500)\n",
    "\n",
    "fig.show()"
   ]
  },
  {
   "cell_type": "markdown",
   "id": "1932f8c0",
   "metadata": {},
   "source": [
    "### Visualizing flow movement\n",
    "\n",
    "One of the powerful abilities of computational fluid dynamics is that it can allow us to visualize the usually invisible movement of a fluid past an object. This understanding can be critical in improving the designs of vehicles and aircraft.\n",
    "\n",
    "<img src=\"https://storage.googleapis.com/luminarycloud-learning/sample-projects/piper-cherokee/notebook-images/05-piper-cherokee-flow-slice.png\" width=600 />"
   ]
  },
  {
   "cell_type": "code",
   "execution_count": null,
   "id": "5af35040",
   "metadata": {},
   "outputs": [],
   "source": [
    "\n",
    "# Pick the last iteration\n",
    "solution = simulation.list_solutions()[-1]\n",
    "scene = vis.Scene(solution)\n",
    "\n",
    "# Hide the far field surface\n",
    "scene.hide_far_field()\n",
    "scene.global_display_attrs.representation = vis.Representation.SURFACE\n",
    "scene.global_display_attrs.field.quantity = vis.VisQuantity.NONE\n",
    "\n",
    "camera = vis.LookAtCamera()\n",
    "camera.look_at = [4.0, 0.0, 0.0]\n",
    "camera.position = [-4.0, -7.0, 7.0]\n",
    "camera.projection = vis.CameraProjection.PERSPECTIVE\n",
    "camera.width = 2048\n",
    "camera.height = 1024\n",
    "scene.add_camera(camera)\n",
    "\n",
    "# Add a slice to visualize the volume solution.\n",
    "slice = vis.Slice(\"x-slice\")\n",
    "slice.plane.normal = [0, 1, 0]\n",
    "slice.plane.origin = [3.55, 0, 0.52]\n",
    "slice.display_attrs.representation = vis.Representation.SURFACE\n",
    "slice.display_attrs.field.quantity = vis.VisQuantity.VELOCITY\n",
    "slice.display_attrs.field.component = vis.FieldComponent.MAGNITUDE\n",
    "scene.add_filter(slice)\n",
    "\n",
    "# Use a higher resolution to reduce line aliasing.\n",
    "image_extract = scene.render_images(\n",
    "    name=\"piper volume solution\", description=\"Piper volume solution visualization.\"\n",
    ")\n",
    "status = image_extract.wait()\n",
    "if status == vis.RenderStatusType.COMPLETED:\n",
    "    image_buffer, label = image_extract.download_images()[0]\n",
    "    image = Image.open(image_buffer)\n",
    "    display(image)\n",
    "else:\n",
    "    print(\"Image extract failed \", status)\n"
   ]
  },
  {
   "cell_type": "markdown",
   "id": "7833410a",
   "metadata": {},
   "source": [
    "We can also visualize the velocity vectors.\n",
    "\n",
    "<img src=\"https://storage.googleapis.com/luminarycloud-learning/sample-projects/piper-cherokee/notebook-images/06-piper-cherokee-flow-vectors.png\" width=600 />\n"
   ]
  },
  {
   "cell_type": "code",
   "execution_count": null,
   "id": "59688104",
   "metadata": {},
   "outputs": [],
   "source": [
    "scene = vis.Scene(solution)\n",
    "# Hide the far field surface\n",
    "scene.hide_far_field()\n",
    "scene.global_display_attrs.representation = vis.Representation.SURFACE\n",
    "scene.global_display_attrs.field.quantity = vis.VisQuantity.NONE\n",
    "\n",
    "camera = vis.LookAtCamera()\n",
    "camera.look_at = [4.0, 0.0, 0.0]\n",
    "camera.position = [-4.0, -7.0, 7.0]\n",
    "camera.projection = vis.CameraProjection.PERSPECTIVE\n",
    "camera.width = 2048\n",
    "camera.height = 1024\n",
    "scene.add_camera(camera)\n",
    "\n",
    "# Add a slice to visualize the volume solution.\n",
    "glyph = vis.FixedSizeVectorGlyphs(\"glyphs\")\n",
    "glyph.field.quantity = vis.VisQuantity.VELOCITY\n",
    "glyph.sampling_rate = 1000\n",
    "glyph.size = 0.2\n",
    "glyph.display_attrs.representation = vis.Representation.SURFACE\n",
    "glyph.display_attrs.field.quantity = vis.VisQuantity.VELOCITY\n",
    "glyph.display_attrs.field.component = vis.FieldComponent.MAGNITUDE\n",
    "scene.add_filter(glyph)\n",
    "\n",
    "# Use a higher resolution to reduce line aliasing.\n",
    "image_extract = scene.render_images(\n",
    "    name=\"piper volume solution\", description=\"Piper volume solution visualization.\"\n",
    ")\n",
    "status = image_extract.wait()\n",
    "if status == vis.RenderStatusType.COMPLETED:\n",
    "    image_buffer, label = image_extract.download_images()[0]\n",
    "    image = Image.open(image_buffer)\n",
    "    display(image)\n",
    "else:\n",
    "    print(\"Image extract failed \", status)"
   ]
  }
 ],
 "metadata": {
  "kernelspec": {
   "display_name": "Python 3 (ipykernel)",
   "language": "python",
   "name": "python3"
  }
 },
 "nbformat": 4,
 "nbformat_minor": 5
}
