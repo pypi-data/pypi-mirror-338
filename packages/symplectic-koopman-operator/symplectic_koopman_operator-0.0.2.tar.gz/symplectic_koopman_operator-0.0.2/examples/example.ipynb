{
 "cells": [
  {
   "cell_type": "markdown",
   "metadata": {},
   "source": [
    "# SympNetsTorch Example"
   ]
  },
  {
   "cell_type": "code",
   "execution_count": null,
   "metadata": {},
   "outputs": [],
   "source": [
    "import numpy as np\n",
    "import matplotlib.pyplot as plt\n",
    "from sklearn.model_selection import train_test_split\n",
    "import symplectic_koopman_operator.symplectic_koopman_operator as sko\n",
    "import torch\n",
    "import torch.nn as nn\n",
    "import torch.nn.functional as F\n",
    "import torch.optim as optim\n",
    "import SympNetsTorch.SympNets as snn\n",
    "\n",
    "%matplotlib widget"
   ]
  },
  {
   "cell_type": "markdown",
   "metadata": {},
   "source": [
    "# Global Parameters"
   ]
  },
  {
   "cell_type": "code",
   "execution_count": null,
   "metadata": {},
   "outputs": [],
   "source": [
    "# Pytorch settings variables\n",
    "random_seed = None  # Set to None to use random seed\n",
    "\n",
    "# speeds up training, but might cause problems do not change unless you get errors\n",
    "torch.backends.cudnn.enabled = True\n",
    "torch.backends.cudnn.benchmark = True\n",
    "\n",
    "# Use 64 bit precision for inverse\n",
    "torch.set_default_dtype(torch.float64)\n",
    "\n",
    "# Use GPU if available\n",
    "if random_seed is not None:\n",
    "    torch.manual_seed(random_seed)\n",
    "if torch.cuda.is_available():\n",
    "    device = \"cuda:0\"\n",
    "    torch.set_default_device(device)\n",
    "else:\n",
    "    device = \"cpu\"\n",
    "\n",
    "# Check if cuda is being used\n",
    "if torch.zeros(1).is_cuda:\n",
    "    print(\"Cuda is working!\")"
   ]
  },
  {
   "attachments": {},
   "cell_type": "markdown",
   "metadata": {},
   "source": [
    "# Set Up Variables"
   ]
  },
  {
   "cell_type": "code",
   "execution_count": null,
   "metadata": {},
   "outputs": [],
   "source": [
    "def func(x: torch.Tensor) -> torch.Tensor:\n",
    "    \"\"\"The function defining the system dynamics.\"\"\"\n",
    "    return torch.stack((3 * x[..., 0] ** 2 - x[..., 0] * x[..., 1], x[..., 1]), dim=-1)"
   ]
  },
  {
   "cell_type": "code",
   "execution_count": null,
   "metadata": {},
   "outputs": [],
   "source": [
    "# Split info\n",
    "test_size = 0.25\n",
    "random_state = None\n",
    "\n",
    "# Prep\n",
    "numdata = 50\n",
    "numfeatures = 2\n",
    "\n",
    "data_amplitude = 1.0\n",
    "\n",
    "# Create data\n",
    "x = torch.linspace(-data_amplitude, data_amplitude, numdata)\n",
    "y = torch.linspace(-data_amplitude, data_amplitude, numdata)\n",
    "x, y = torch.meshgrid(x, y, indexing=\"ij\")  # Create a meshgrid for 2D input\n",
    "x = x.flatten()\n",
    "y = y.flatten()\n",
    "\n",
    "input_data = torch.stack((x, y), dim=1)\n",
    "output_data = func(input_data)  # Apply the function to get output data\n",
    "\n",
    "train_x, test_x, train_y, test_y = train_test_split(\n",
    "    input_data, output_data, test_size=test_size, random_state=random_state\n",
    ")"
   ]
  },
  {
   "cell_type": "markdown",
   "metadata": {},
   "source": [
    "## Classes"
   ]
  },
  {
   "cell_type": "code",
   "execution_count": null,
   "metadata": {},
   "outputs": [],
   "source": [
    "class network_model_example(nn.Module):\n",
    "    def __init__(self, features: int, ncoder: int) -> None:\n",
    "        super().__init__()\n",
    "\n",
    "        # Putting models in a list to loop through and adjust them.\n",
    "        self.layers = nn.ModuleList(\n",
    "            [\n",
    "                snn.Linear(features, \"up\", n=ncoder),\n",
    "                snn.Activation(torch.relu, features, \"up\"),\n",
    "                snn.Linear(features, \"low\", n=ncoder),\n",
    "                snn.Activation(torch.relu, features, \"low\"),\n",
    "                snn.Linear(features, \"up\", n=ncoder),\n",
    "            ]\n",
    "        )\n",
    "\n",
    "    def forward(self, x: torch.Tensor) -> torch.Tensor:\n",
    "        # The function that is called when the model is being trained / tested\n",
    "        for layer in self.layers:\n",
    "            x = layer(x)\n",
    "\n",
    "        return x"
   ]
  },
  {
   "attachments": {},
   "cell_type": "markdown",
   "metadata": {},
   "source": [
    "## Training and Test Functions"
   ]
  },
  {
   "cell_type": "code",
   "execution_count": null,
   "metadata": {},
   "outputs": [],
   "source": [
    "def train_model(model, optimizer, epochs, train_loader, batch_size):\n",
    "    train_losses = []\n",
    "    train_counter = []\n",
    "\n",
    "    # set network to training mode\n",
    "    model.train()\n",
    "\n",
    "    # iterate through data batches\n",
    "    for batch_idx, (data, target) in enumerate(train_loader):\n",
    "        # reset gradients\n",
    "        optimizer.zero_grad()\n",
    "\n",
    "        # evaluate network with data\n",
    "        output = model(data)\n",
    "\n",
    "        # compute loss and derivative\n",
    "        loss = F.mse_loss(output, target)  # Can implement a custom loss function here\n",
    "\n",
    "        loss.backward()\n",
    "\n",
    "        # step optimizer\n",
    "        optimizer.step()\n",
    "\n",
    "        # print out results and save to file\n",
    "        train_losses.append(loss.item() / len(train_loader.dataset))\n",
    "        train_counter.append(\n",
    "            (batch_idx * batch_size) + ((epochs - 1) * len(train_loader.dataset))\n",
    "        )\n",
    "\n",
    "    return train_losses, train_counter\n",
    "\n",
    "\n",
    "def test_model(model, test_loader):\n",
    "    test_losses = []\n",
    "\n",
    "    model.eval()\n",
    "\n",
    "    test_loss = 0\n",
    "\n",
    "    with torch.no_grad():\n",
    "        for data, target in test_loader:\n",
    "            output = model(data)\n",
    "\n",
    "            test_loss = F.mse_loss(output, target).item()\n",
    "\n",
    "    test_loss /= len(test_loader.dataset)\n",
    "    test_losses.append(test_loss)\n",
    "\n",
    "    return test_losses"
   ]
  },
  {
   "attachments": {},
   "cell_type": "markdown",
   "metadata": {},
   "source": [
    "# Training Frequency Model"
   ]
  },
  {
   "cell_type": "code",
   "execution_count": null,
   "metadata": {},
   "outputs": [],
   "source": [
    "# Training info\n",
    "n_epochs = 150  # number of epochs to train for\n",
    "learning_rate = 1e-3\n",
    "betas = (0.9, 0.999)  # Default\n",
    "batch_size = 100\n",
    "\n",
    "# Network Objects\n",
    "nn_model = network_model_example(numfeatures // 2, 8)\n",
    "\n",
    "optimizer = optim.Adam(\n",
    "    nn_model.parameters(),\n",
    "    lr=learning_rate,\n",
    "    betas=betas,\n",
    ")\n",
    "\n",
    "train_data = torch.utils.data.TensorDataset(train_x, train_y)\n",
    "test_data = torch.utils.data.TensorDataset(test_x, test_y)\n",
    "\n",
    "train_loader = torch.utils.data.DataLoader(\n",
    "    train_data,\n",
    "    batch_size=batch_size,\n",
    "    shuffle=True,\n",
    "    generator=torch.Generator(device=device),\n",
    ")\n",
    "test_loader = torch.utils.data.DataLoader(\n",
    "    test_data,\n",
    "    batch_size=batch_size,\n",
    "    shuffle=True,\n",
    "    generator=torch.Generator(device=device),\n",
    ")\n",
    "\n",
    "# Train the _bin model\n",
    "train_losses = []\n",
    "test_losses = []\n",
    "train_count = []\n",
    "\n",
    "for epoch in range(1, n_epochs + 1):\n",
    "    temp = train_model(nn_model, optimizer, epoch, train_loader, batch_size)\n",
    "\n",
    "    train_losses += temp[0]\n",
    "    train_count += temp[1]\n",
    "\n",
    "    test_losses += test_model(nn_model, test_loader)\n",
    "\n",
    "nn_model.eval()"
   ]
  },
  {
   "cell_type": "markdown",
   "metadata": {},
   "source": [
    "## Plotting Results"
   ]
  },
  {
   "cell_type": "code",
   "execution_count": null,
   "metadata": {},
   "outputs": [],
   "source": [
    "fig, ax = plt.subplots()\n",
    "ax.plot(train_count, train_losses)\n",
    "ax.set_title(f\"Train Loss\")\n",
    "ax.set_xlabel(\"number of training examples seen\")\n",
    "ax.set_ylabel(\"negative log likelihood loss\")\n",
    "ax.set_yscale(\"log\")\n",
    "fig.tight_layout()\n",
    "fig.savefig(\"train-loss.png\", dpi=300)\n",
    "print(f\"Min Loss: {np.min(train_losses):.2e}\\n\")"
   ]
  },
  {
   "cell_type": "code",
   "execution_count": null,
   "metadata": {},
   "outputs": [],
   "source": [
    "fig, ax = plt.subplots()\n",
    "ax.plot(test_losses)\n",
    "ax.set_title(\"Test Loss\")\n",
    "ax.set_xlabel(\"epochs\")\n",
    "ax.set_ylabel(\"negative log likelihood loss\")\n",
    "ax.set_yscale(\"log\")\n",
    "fig.tight_layout()\n",
    "fig.savefig(\"test-loss.png\", dpi=300)\n",
    "print(f\"Min Loss: {np.min(test_losses):.2e}\\n\")"
   ]
  },
  {
   "cell_type": "markdown",
   "metadata": {},
   "source": [
    "## Save Model"
   ]
  },
  {
   "cell_type": "code",
   "execution_count": null,
   "metadata": {},
   "outputs": [],
   "source": [
    "model_file_name = \"model-state-dict.pt\"\n",
    "# torch.save(nn_model.state_dict(), model_file_name)"
   ]
  },
  {
   "cell_type": "code",
   "execution_count": null,
   "metadata": {},
   "outputs": [],
   "source": [
    "# Load model\n",
    "# nn_model.load_state_dict(torch.load(model_file_name))\n",
    "# nn_model.eval()"
   ]
  },
  {
   "cell_type": "code",
   "execution_count": null,
   "metadata": {},
   "outputs": [],
   "source": [
    "fig, ax = plt.subplots()\n",
    "\n",
    "y_truth = func(test_x)\n",
    "y_pred = nn_model(test_x)\n",
    "\n",
    "print(y_pred.shape)\n",
    "print(y_truth.shape)\n",
    "\n",
    "ax.plot(\n",
    "    test_x[:, 0].cpu().numpy(),\n",
    "    y_pred[:, 0].detach().cpu().numpy(),\n",
    "    \"o\",\n",
    "    label=\"Prediction\",\n",
    ")\n",
    "ax.plot(\n",
    "    test_x[:, 0].cpu().numpy(),\n",
    "    y_truth[:, 0].detach().cpu().numpy(),\n",
    "    \"o\",\n",
    "    label=\"Truth\",\n",
    "    alpha=0.25,\n",
    ")\n",
    "\n",
    "ax.set_title(\"Henon Map Prediction\")\n",
    "ax.set_xlabel(\"x\")\n",
    "ax.set_ylabel(\"y\")\n",
    "ax.legend()"
   ]
  },
  {
   "cell_type": "code",
   "execution_count": null,
   "metadata": {},
   "outputs": [],
   "source": []
  }
 ],
 "metadata": {
  "kernelspec": {
   "display_name": "cuda-torch",
   "language": "python",
   "name": "python3"
  },
  "language_info": {
   "codemirror_mode": {
    "name": "ipython",
    "version": 3
   },
   "file_extension": ".py",
   "mimetype": "text/x-python",
   "name": "python",
   "nbconvert_exporter": "python",
   "pygments_lexer": "ipython3"
  },
  "vscode": {
   "interpreter": {
    "hash": "c67f1b008625c6420db778945f5e057106d77a6a796d29069f7f781cd686ea83"
   }
  }
 },
 "nbformat": 4,
 "nbformat_minor": 4
}
