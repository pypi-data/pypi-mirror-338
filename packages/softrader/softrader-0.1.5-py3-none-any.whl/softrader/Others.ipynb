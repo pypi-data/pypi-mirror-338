{
 "cells": [
  {
   "cell_type": "code",
   "execution_count": null,
   "metadata": {},
   "outputs": [],
   "source": [
    "from enum import Enum"
   ]
  },
  {
   "cell_type": "code",
   "execution_count": null,
   "metadata": {},
   "outputs": [],
   "source": [
    "# class TIF(Enum):\n",
    "#     GTC = 'GTC'\n",
    "#     DAY = 'DAY'\n",
    "#     IOC = 'IOC'\n",
    "#     FOK = 'FOK'\n",
    "#     OPG = 'OPG'\n",
    "#     DTC = 'DTC'\n",
    "#     GTD = 'GTD'\n",
    "#     GTT = 'GTT'\n",
    "#     ATR = 'ATR'"
   ]
  }
 ],
 "metadata": {
  "language_info": {
   "name": "python"
  }
 },
 "nbformat": 4,
 "nbformat_minor": 2
}
