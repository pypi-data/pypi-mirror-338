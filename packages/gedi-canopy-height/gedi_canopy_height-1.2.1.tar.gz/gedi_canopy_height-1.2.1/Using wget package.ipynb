{
 "cells": [
  {
   "cell_type": "code",
   "execution_count": 25,
   "metadata": {},
   "outputs": [],
   "source": [
    "import os\n",
    "import requests\n",
    "import posixpath\n",
    "from tqdm.notebook import tqdm\n",
    "\n",
    "def download(URL, filename):\n",
    "    # Get the current file size if it exists\n",
    "    existing_file_size = os.path.getsize(filename) if os.path.exists(filename) else 0\n",
    "    # Request the file details using Range header if a partial file exists\n",
    "    headers = {'Range': f'bytes={existing_file_size}-'} if existing_file_size else {}\n",
    "    response = requests.get(URL, headers=headers, stream=True)\n",
    "\n",
    "    # Check for resumable support (206 Partial Content response)\n",
    "    if response.status_code not in (200, 206):\n",
    "        raise Exception(f\"Server does not support resuming or returned an error: {response.status_code}\")\n",
    "\n",
    "    # Determine total size based on Content-Range or Content-Length\n",
    "    content_range = response.headers.get('Content-Range')\n",
    "    if content_range:\n",
    "        total_size = int(content_range.split('/')[-1])\n",
    "    else:\n",
    "        total_size = int(response.headers.get('content-length', 0)) + existing_file_size\n",
    "\n",
    "    # Set mode to append if resuming, otherwise write\n",
    "    mode = 'ab' if existing_file_size else 'wb'\n",
    "    \n",
    "    # Start download\n",
    "    with open(filename, mode) as f, tqdm(\n",
    "        initial=existing_file_size,\n",
    "        total=total_size,\n",
    "        unit='B',\n",
    "        unit_scale=True,\n",
    "        unit_divisor=1024,\n",
    "        desc=f\"Downloading {posixpath.basename(URL)}\"\n",
    "    ) as bar:\n",
    "        for chunk in response.iter_content(chunk_size=8192):\n",
    "            if chunk:\n",
    "                f.write(chunk)\n",
    "                bar.update(len(chunk))\n",
    "\n",
    "    print(f\"Download completed: {filename}\")"
   ]
  },
  {
   "cell_type": "code",
   "execution_count": 26,
   "metadata": {},
   "outputs": [],
   "source": [
    "URL = \"https://glad.geog.umd.edu/Potapov/Forest_height_2019/Forest_height_2019_SAM.tif\"\n",
    "filename = \"Forest_height_2019_SAM.tif.download\""
   ]
  },
  {
   "cell_type": "code",
   "execution_count": 27,
   "metadata": {},
   "outputs": [
    {
     "data": {
      "application/vnd.jupyter.widget-view+json": {
       "model_id": "f968fdec309f49188c7496cd57b8cd6b",
       "version_major": 2,
       "version_minor": 0
      },
      "text/plain": [
       "Downloading Forest_height_2019_SAM.tif:   3%|2         | 198M/6.45G [00:00<?, ?B/s]"
      ]
     },
     "metadata": {},
     "output_type": "display_data"
    },
    {
     "name": "stdout",
     "output_type": "stream",
     "text": [
      "Download completed: Forest_height_2019_SAM.tif.download\n"
     ]
    }
   ],
   "source": [
    "download(URL, filename)"
   ]
  },
  {
   "cell_type": "code",
   "execution_count": null,
   "metadata": {},
   "outputs": [],
   "source": []
  }
 ],
 "metadata": {
  "kernelspec": {
   "display_name": "gedi-canopy-height",
   "language": "python",
   "name": "python3"
  },
  "language_info": {
   "codemirror_mode": {
    "name": "ipython",
    "version": 3
   },
   "file_extension": ".py",
   "mimetype": "text/x-python",
   "name": "python",
   "nbconvert_exporter": "python",
   "pygments_lexer": "ipython3",
   "version": "3.10.16"
  }
 },
 "nbformat": 4,
 "nbformat_minor": 2
}
