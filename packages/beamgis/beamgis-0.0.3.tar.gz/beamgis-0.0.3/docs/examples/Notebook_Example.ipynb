{
 "cells": [
  {
   "cell_type": "markdown",
   "metadata": {},
   "source": []
  },
  {
   "cell_type": "markdown",
   "metadata": {},
   "source": [
    "[![Open In Colab](https://colab.research.google.com/assets/colab-badge.svg)](https://colab.research.google.com/github/eafriyie28/beamgis/blob/main/docs/examples/Notebook_Example.ipynb)"
   ]
  },
  {
   "cell_type": "code",
   "execution_count": null,
   "metadata": {},
   "outputs": [],
   "source": [
    "import beamgis"
   ]
  },
  {
   "cell_type": "code",
   "execution_count": null,
   "metadata": {},
   "outputs": [],
   "source": [
    "# adding a basemap to a map\n",
    "# Create a map with a specific center and zoom level\n",
    "m = beamgis.Map(center=(20, 0), zoom=2, height=\"600px\")\n",
    "m.add_basemap(basemap=\"CartoDB.DarkMatter\")\n",
    "m"
   ]
  },
  {
   "cell_type": "code",
   "execution_count": null,
   "metadata": {},
   "outputs": [],
   "source": [
    "m = beamgis.Map(center=(20, 0), zoom=2, height=\"600px\")\n",
    "m.add_google_map(\"terrain\")\n",
    "m"
   ]
  },
  {
   "cell_type": "code",
   "execution_count": null,
   "metadata": {},
   "outputs": [],
   "source": [
    "# Importing GeoJSON data from a URL\n",
    "\n",
    "m = beamgis.Map()\n",
    "url = r\"https://github.com/opengeos/datasets/releases/download/us/us_southeast_countries.geojson\"\n",
    "m.add_geojson(url, zoom_to_layer=True, hover_style={\"fillColor\": \"red\"})\n",
    "m"
   ]
  },
  {
   "cell_type": "code",
   "execution_count": null,
   "metadata": {},
   "outputs": [],
   "source": [
    "url = r\"data\\us_cities.shp\""
   ]
  },
  {
   "cell_type": "code",
   "execution_count": null,
   "metadata": {},
   "outputs": [],
   "source": [
    "m = beamgis.Map()\n",
    "url = r\"data\\us_cities.shp\"\n",
    "m.add_shp(url, zoom_to_layer=True, hover_style={\"fillColor\": \"red\"})\n",
    "m"
   ]
  },
  {
   "cell_type": "markdown",
   "metadata": {},
   "source": [
    "### Using Folium in beamgis"
   ]
  },
  {
   "cell_type": "code",
   "execution_count": null,
   "metadata": {},
   "outputs": [],
   "source": [
    "# import package\n",
    "import beamgis.foliumap as beamgis"
   ]
  },
  {
   "cell_type": "code",
   "execution_count": null,
   "metadata": {},
   "outputs": [],
   "source": [
    "self = beamgis.Map(center=[20, 0], zoom=2)\n",
    "url = \"https://github.com/opengeos/datasets/releases/download/world/countries.geojson\"\n",
    "self.add_geojson(url, name=\"Countries\")\n",
    "self.add_layer_control()\n",
    "self"
   ]
  }
 ],
 "metadata": {
  "kernelspec": {
   "display_name": "geo",
   "language": "python",
   "name": "python3"
  },
  "language_info": {
   "codemirror_mode": {
    "name": "ipython",
    "version": 3
   },
   "file_extension": ".py",
   "mimetype": "text/x-python",
   "name": "python",
   "nbconvert_exporter": "python",
   "pygments_lexer": "ipython3",
   "version": "3.12.8"
  }
 },
 "nbformat": 4,
 "nbformat_minor": 2
}
