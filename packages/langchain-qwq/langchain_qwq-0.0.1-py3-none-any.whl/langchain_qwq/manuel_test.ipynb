{
 "cells": [
  {
   "cell_type": "code",
   "execution_count": 1,
   "metadata": {},
   "outputs": [],
   "source": [
    "from chat_models import ChatQwQ"
   ]
  },
  {
   "cell_type": "code",
   "execution_count": 2,
   "metadata": {},
   "outputs": [
    {
     "data": {
      "text/plain": [
       "True"
      ]
     },
     "execution_count": 2,
     "metadata": {},
     "output_type": "execute_result"
    }
   ],
   "source": [
    "from dotenv import load_dotenv\n",
    "\n",
    "load_dotenv()\n",
    "\n"
   ]
  },
  {
   "cell_type": "code",
   "execution_count": 3,
   "metadata": {},
   "outputs": [],
   "source": [
    "from langchain_core.tools import tool"
   ]
  },
  {
   "cell_type": "code",
   "execution_count": 4,
   "metadata": {},
   "outputs": [],
   "source": [
    "llm = ChatQwQ(\n",
    "    model=\"qwq-plus\",\n",
    "    max_tokens=3_000,\n",
    ")"
   ]
  },
  {
   "cell_type": "code",
   "execution_count": 18,
   "metadata": {},
   "outputs": [],
   "source": [
    "@tool\n",
    "def get_weather(location: str) -> str:\n",
    "    \"\"\"Call to surf the web.\"\"\"\n",
    "    return \"It's sunny.\"\n",
    "\n",
    "@tool\n",
    "def magic_function_no_args() -> int:\n",
    "    \"\"\"Calculates a magic function.\"\"\"\n",
    "    return 5"
   ]
  },
  {
   "cell_type": "code",
   "execution_count": 6,
   "metadata": {},
   "outputs": [],
   "source": [
    "llm_with_tools = llm.bind_tools([get_weather], tool_choice=None)"
   ]
  },
  {
   "cell_type": "code",
   "execution_count": 19,
   "metadata": {},
   "outputs": [],
   "source": [
    "llm_with_tools = llm.bind_tools([magic_function_no_args], tool_choice=None)"
   ]
  },
  {
   "cell_type": "code",
   "execution_count": 7,
   "metadata": {},
   "outputs": [],
   "source": [
    "from langchain_core.messages import HumanMessage"
   ]
  },
  {
   "cell_type": "code",
   "execution_count": 22,
   "metadata": {},
   "outputs": [],
   "source": [
    "input_message = HumanMessage(\"What is the value of magic_function_no_args()? Use the tool.\")"
   ]
  },
  {
   "cell_type": "code",
   "execution_count": 23,
   "metadata": {},
   "outputs": [],
   "source": [
    "tool_call_message = llm_with_tools.invoke([input_message])"
   ]
  },
  {
   "cell_type": "code",
   "execution_count": 10,
   "metadata": {},
   "outputs": [],
   "source": [
    "from langchain_core.messages import AIMessage"
   ]
  },
  {
   "cell_type": "code",
   "execution_count": 11,
   "metadata": {},
   "outputs": [],
   "source": [
    "assert isinstance(tool_call_message, AIMessage)\n"
   ]
  },
  {
   "cell_type": "code",
   "execution_count": 16,
   "metadata": {},
   "outputs": [],
   "source": []
  },
  {
   "cell_type": "code",
   "execution_count": 24,
   "metadata": {},
   "outputs": [
    {
     "data": {
      "text/plain": [
       "AIMessage(content='', additional_kwargs={'reasoning_content': \"Okay, the user is asking for the value of magic_function_no_args(). Let me check the tools provided. There's a function called magic_function_no_args which takes no arguments. The description says it calculates a magic function, but there's no examples given. Since it requires no parameters, I just need to call the function without any arguments. I'll make sure to format the tool call correctly in JSON within the specified XML tags.\"}, response_metadata={'finish_reason': 'tool_calls', 'model_name': 'qwq-plus'}, id='run-fc0363ca-b7e4-49f0-a04f-0959012158ef-0', tool_calls=[{'name': 'magic_function_no_args', 'args': {}, 'id': 'call_fa9e261676d1444fb8d0a6', 'type': 'tool_call'}])"
      ]
     },
     "execution_count": 24,
     "metadata": {},
     "output_type": "execute_result"
    }
   ],
   "source": [
    "tool_call_message"
   ]
  },
  {
   "cell_type": "code",
   "execution_count": 29,
   "metadata": {},
   "outputs": [],
   "source": [
    "query = \"What is the value of magic_function_no_args()? Use the tool.\""
   ]
  },
  {
   "cell_type": "code",
   "execution_count": 25,
   "metadata": {},
   "outputs": [],
   "source": [
    "tool_calls = tool_call_message.tool_calls"
   ]
  },
  {
   "cell_type": "code",
   "execution_count": 26,
   "metadata": {},
   "outputs": [
    {
     "data": {
      "text/plain": [
       "1"
      ]
     },
     "execution_count": 26,
     "metadata": {},
     "output_type": "execute_result"
    }
   ],
   "source": [
    "len(tool_calls)"
   ]
  },
  {
   "cell_type": "code",
   "execution_count": 30,
   "metadata": {},
   "outputs": [],
   "source": [
    "full = None\n",
    "for chunk in llm_with_tools.stream(query):\n",
    "    full = chunk if full is None else full + chunk  # type: ignore"
   ]
  },
  {
   "cell_type": "code",
   "execution_count": 34,
   "metadata": {},
   "outputs": [
    {
     "data": {
      "text/plain": [
       "[]"
      ]
     },
     "execution_count": 34,
     "metadata": {},
     "output_type": "execute_result"
    }
   ],
   "source": [
    "full.tool_calls"
   ]
  },
  {
   "cell_type": "code",
   "execution_count": 33,
   "metadata": {},
   "outputs": [],
   "source": [
    "assert isinstance(full, AIMessage)"
   ]
  },
  {
   "cell_type": "code",
   "execution_count": 31,
   "metadata": {},
   "outputs": [
    {
     "data": {
      "text/plain": [
       "AIMessageChunk(content='', additional_kwargs={'reasoning_content': \"Okay, the user is asking for the value of magic_function_no_args(). Let me check the tools provided. There's a function called magic_function_no_args which takes no arguments. The description says it calculates a magic function, but there's no examples given. Since it requires no parameters, I just need to call the function without any arguments. I'll make sure to structure the tool call correctly in JSON within the specified XML tags. Alright, time to output the tool call.\", 'tool_calls': [{'index': 0, 'id': 'call_30657a734bc24160a46441', 'function': {'arguments': '{}}', 'name': 'magic_function_no_args'}, 'type': 'function'}]}, response_metadata={'finish_reason': 'tool_calls', 'model_name': 'qwq-plus'}, id='run-f681c358-2fb1-472e-b0f9-13ae9b423f3c', invalid_tool_calls=[{'name': 'magic_function_no_args', 'args': '{}}', 'id': 'call_30657a734bc24160a46441', 'error': None, 'type': 'invalid_tool_call'}], tool_call_chunks=[{'name': 'magic_function_no_args', 'args': '{}}', 'id': 'call_30657a734bc24160a46441', 'index': 0, 'type': 'tool_call_chunk'}])"
      ]
     },
     "execution_count": 31,
     "metadata": {},
     "output_type": "execute_result"
    }
   ],
   "source": [
    "full"
   ]
  },
  {
   "cell_type": "code",
   "execution_count": 27,
   "metadata": {},
   "outputs": [
    {
     "data": {
      "text/plain": [
       "[{'name': 'magic_function_no_args',\n",
       "  'args': {},\n",
       "  'id': 'call_fa9e261676d1444fb8d0a6',\n",
       "  'type': 'tool_call'}]"
      ]
     },
     "execution_count": 27,
     "metadata": {},
     "output_type": "execute_result"
    }
   ],
   "source": [
    "tool_calls"
   ]
  }
 ],
 "metadata": {
  "kernelspec": {
   "display_name": "Python 3",
   "language": "python",
   "name": "python3"
  },
  "language_info": {
   "codemirror_mode": {
    "name": "ipython",
    "version": 3
   },
   "file_extension": ".py",
   "mimetype": "text/x-python",
   "name": "python",
   "nbconvert_exporter": "python",
   "pygments_lexer": "ipython3",
   "version": "3.13.1"
  }
 },
 "nbformat": 4,
 "nbformat_minor": 2
}
