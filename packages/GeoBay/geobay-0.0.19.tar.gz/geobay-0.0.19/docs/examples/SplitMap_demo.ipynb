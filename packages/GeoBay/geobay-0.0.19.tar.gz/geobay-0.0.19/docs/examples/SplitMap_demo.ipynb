{
 "cells": [
  {
   "cell_type": "code",
   "execution_count": 1,
   "id": "96d8ee89",
   "metadata": {},
   "outputs": [
    {
     "name": "stdout",
     "output_type": "stream",
     "text": [
      "Requirement already satisfied: geobay in c:\\users\\shea9\\appdata\\local\\programs\\python\\python313\\lib\\site-packages (0.0.15)\n",
      "Requirement already satisfied: numpy in c:\\users\\shea9\\appdata\\local\\programs\\python\\python313\\lib\\site-packages (from geobay) (2.2.4)\n",
      "Requirement already satisfied: ipyleaflet>=0.17.0 in c:\\users\\shea9\\appdata\\local\\programs\\python\\python313\\lib\\site-packages (from geobay) (0.19.2)\n",
      "Requirement already satisfied: geopandas>=0.10.0 in c:\\users\\shea9\\appdata\\local\\programs\\python\\python313\\lib\\site-packages (from geobay) (1.0.1)\n",
      "Requirement already satisfied: pyogrio>=0.7.2 in c:\\users\\shea9\\appdata\\local\\programs\\python\\python313\\lib\\site-packages (from geopandas>=0.10.0->geobay) (0.10.0)\n",
      "Requirement already satisfied: packaging in c:\\users\\shea9\\appdata\\roaming\\python\\python313\\site-packages (from geopandas>=0.10.0->geobay) (24.2)\n",
      "Requirement already satisfied: pandas>=1.4.0 in c:\\users\\shea9\\appdata\\local\\programs\\python\\python313\\lib\\site-packages (from geopandas>=0.10.0->geobay) (2.2.3)\n",
      "Requirement already satisfied: pyproj>=3.3.0 in c:\\users\\shea9\\appdata\\local\\programs\\python\\python313\\lib\\site-packages (from geopandas>=0.10.0->geobay) (3.7.1)\n",
      "Requirement already satisfied: shapely>=2.0.0 in c:\\users\\shea9\\appdata\\local\\programs\\python\\python313\\lib\\site-packages (from geopandas>=0.10.0->geobay) (2.1.0)\n",
      "Requirement already satisfied: branca>=0.5.0 in c:\\users\\shea9\\appdata\\local\\programs\\python\\python313\\lib\\site-packages (from ipyleaflet>=0.17.0->geobay) (0.8.1)\n",
      "Requirement already satisfied: ipywidgets<9,>=7.6.0 in c:\\users\\shea9\\appdata\\local\\programs\\python\\python313\\lib\\site-packages (from ipyleaflet>=0.17.0->geobay) (8.1.5)\n",
      "Requirement already satisfied: jupyter-leaflet<0.20,>=0.19 in c:\\users\\shea9\\appdata\\local\\programs\\python\\python313\\lib\\site-packages (from ipyleaflet>=0.17.0->geobay) (0.19.2)\n",
      "Requirement already satisfied: traittypes<3,>=0.2.1 in c:\\users\\shea9\\appdata\\local\\programs\\python\\python313\\lib\\site-packages (from ipyleaflet>=0.17.0->geobay) (0.2.1)\n",
      "Requirement already satisfied: xyzservices>=2021.8.1 in c:\\users\\shea9\\appdata\\local\\programs\\python\\python313\\lib\\site-packages (from ipyleaflet>=0.17.0->geobay) (2025.1.0)\n",
      "Requirement already satisfied: jinja2>=3 in c:\\users\\shea9\\appdata\\local\\programs\\python\\python313\\lib\\site-packages (from branca>=0.5.0->ipyleaflet>=0.17.0->geobay) (3.1.6)\n",
      "Requirement already satisfied: comm>=0.1.3 in c:\\users\\shea9\\appdata\\roaming\\python\\python313\\site-packages (from ipywidgets<9,>=7.6.0->ipyleaflet>=0.17.0->geobay) (0.2.2)\n",
      "Requirement already satisfied: ipython>=6.1.0 in c:\\users\\shea9\\appdata\\roaming\\python\\python313\\site-packages (from ipywidgets<9,>=7.6.0->ipyleaflet>=0.17.0->geobay) (9.0.1)\n",
      "Requirement already satisfied: traitlets>=4.3.1 in c:\\users\\shea9\\appdata\\roaming\\python\\python313\\site-packages (from ipywidgets<9,>=7.6.0->ipyleaflet>=0.17.0->geobay) (5.14.3)\n",
      "Requirement already satisfied: widgetsnbextension~=4.0.12 in c:\\users\\shea9\\appdata\\local\\programs\\python\\python313\\lib\\site-packages (from ipywidgets<9,>=7.6.0->ipyleaflet>=0.17.0->geobay) (4.0.13)\n",
      "Requirement already satisfied: jupyterlab-widgets~=3.0.12 in c:\\users\\shea9\\appdata\\local\\programs\\python\\python313\\lib\\site-packages (from ipywidgets<9,>=7.6.0->ipyleaflet>=0.17.0->geobay) (3.0.13)\n",
      "Requirement already satisfied: python-dateutil>=2.8.2 in c:\\users\\shea9\\appdata\\roaming\\python\\python313\\site-packages (from pandas>=1.4.0->geopandas>=0.10.0->geobay) (2.9.0.post0)\n",
      "Requirement already satisfied: pytz>=2020.1 in c:\\users\\shea9\\appdata\\local\\programs\\python\\python313\\lib\\site-packages (from pandas>=1.4.0->geopandas>=0.10.0->geobay) (2025.2)\n",
      "Requirement already satisfied: tzdata>=2022.7 in c:\\users\\shea9\\appdata\\local\\programs\\python\\python313\\lib\\site-packages (from pandas>=1.4.0->geopandas>=0.10.0->geobay) (2025.2)\n",
      "Requirement already satisfied: certifi in c:\\users\\shea9\\appdata\\local\\programs\\python\\python313\\lib\\site-packages (from pyogrio>=0.7.2->geopandas>=0.10.0->geobay) (2025.1.31)\n",
      "Requirement already satisfied: colorama in c:\\users\\shea9\\appdata\\roaming\\python\\python313\\site-packages (from ipython>=6.1.0->ipywidgets<9,>=7.6.0->ipyleaflet>=0.17.0->geobay) (0.4.6)\n",
      "Requirement already satisfied: decorator in c:\\users\\shea9\\appdata\\roaming\\python\\python313\\site-packages (from ipython>=6.1.0->ipywidgets<9,>=7.6.0->ipyleaflet>=0.17.0->geobay) (5.2.1)\n",
      "Requirement already satisfied: ipython-pygments-lexers in c:\\users\\shea9\\appdata\\roaming\\python\\python313\\site-packages (from ipython>=6.1.0->ipywidgets<9,>=7.6.0->ipyleaflet>=0.17.0->geobay) (1.1.1)\n",
      "Requirement already satisfied: jedi>=0.16 in c:\\users\\shea9\\appdata\\roaming\\python\\python313\\site-packages (from ipython>=6.1.0->ipywidgets<9,>=7.6.0->ipyleaflet>=0.17.0->geobay) (0.19.2)\n",
      "Requirement already satisfied: matplotlib-inline in c:\\users\\shea9\\appdata\\roaming\\python\\python313\\site-packages (from ipython>=6.1.0->ipywidgets<9,>=7.6.0->ipyleaflet>=0.17.0->geobay) (0.1.7)\n",
      "Requirement already satisfied: prompt_toolkit<3.1.0,>=3.0.41 in c:\\users\\shea9\\appdata\\roaming\\python\\python313\\site-packages (from ipython>=6.1.0->ipywidgets<9,>=7.6.0->ipyleaflet>=0.17.0->geobay) (3.0.50)\n",
      "Requirement already satisfied: pygments>=2.4.0 in c:\\users\\shea9\\appdata\\roaming\\python\\python313\\site-packages (from ipython>=6.1.0->ipywidgets<9,>=7.6.0->ipyleaflet>=0.17.0->geobay) (2.19.1)\n",
      "Requirement already satisfied: stack_data in c:\\users\\shea9\\appdata\\roaming\\python\\python313\\site-packages (from ipython>=6.1.0->ipywidgets<9,>=7.6.0->ipyleaflet>=0.17.0->geobay) (0.6.3)\n",
      "Requirement already satisfied: MarkupSafe>=2.0 in c:\\users\\shea9\\appdata\\local\\programs\\python\\python313\\lib\\site-packages (from jinja2>=3->branca>=0.5.0->ipyleaflet>=0.17.0->geobay) (3.0.2)\n",
      "Requirement already satisfied: six>=1.5 in c:\\users\\shea9\\appdata\\roaming\\python\\python313\\site-packages (from python-dateutil>=2.8.2->pandas>=1.4.0->geopandas>=0.10.0->geobay) (1.17.0)\n",
      "Requirement already satisfied: parso<0.9.0,>=0.8.4 in c:\\users\\shea9\\appdata\\roaming\\python\\python313\\site-packages (from jedi>=0.16->ipython>=6.1.0->ipywidgets<9,>=7.6.0->ipyleaflet>=0.17.0->geobay) (0.8.4)\n",
      "Requirement already satisfied: wcwidth in c:\\users\\shea9\\appdata\\roaming\\python\\python313\\site-packages (from prompt_toolkit<3.1.0,>=3.0.41->ipython>=6.1.0->ipywidgets<9,>=7.6.0->ipyleaflet>=0.17.0->geobay) (0.2.13)\n",
      "Requirement already satisfied: executing>=1.2.0 in c:\\users\\shea9\\appdata\\roaming\\python\\python313\\site-packages (from stack_data->ipython>=6.1.0->ipywidgets<9,>=7.6.0->ipyleaflet>=0.17.0->geobay) (2.2.0)\n",
      "Requirement already satisfied: asttokens>=2.1.0 in c:\\users\\shea9\\appdata\\roaming\\python\\python313\\site-packages (from stack_data->ipython>=6.1.0->ipywidgets<9,>=7.6.0->ipyleaflet>=0.17.0->geobay) (3.0.0)\n",
      "Requirement already satisfied: pure-eval in c:\\users\\shea9\\appdata\\roaming\\python\\python313\\site-packages (from stack_data->ipython>=6.1.0->ipywidgets<9,>=7.6.0->ipyleaflet>=0.17.0->geobay) (0.2.3)\n",
      "Note: you may need to restart the kernel to use updated packages.\n"
     ]
    },
    {
     "name": "stderr",
     "output_type": "stream",
     "text": [
      "\n",
      "[notice] A new release of pip is available: 24.2 -> 25.0.1\n",
      "[notice] To update, run: python.exe -m pip install --upgrade pip\n"
     ]
    }
   ],
   "source": [
    "pip install geobay"
   ]
  },
  {
   "cell_type": "code",
   "execution_count": 2,
   "id": "643f98fc",
   "metadata": {},
   "outputs": [
    {
     "ename": "AttributeError",
     "evalue": "'FoliumMap' object has no attribute 'add_split_map'",
     "output_type": "error",
     "traceback": [
      "\u001b[31m---------------------------------------------------------------------------\u001b[39m",
      "\u001b[31mAttributeError\u001b[39m                            Traceback (most recent call last)",
      "\u001b[36mCell\u001b[39m\u001b[36m \u001b[39m\u001b[32mIn[2]\u001b[39m\u001b[32m, line 7\u001b[39m\n\u001b[32m      4\u001b[39m my_map = FoliumMap(location=(\u001b[32m38.5\u001b[39m, -\u001b[32m98.0\u001b[39m), zoom_start=\u001b[32m5\u001b[39m)\n\u001b[32m      6\u001b[39m \u001b[38;5;66;03m# Add split map functionality\u001b[39;00m\n\u001b[32m----> \u001b[39m\u001b[32m7\u001b[39m \u001b[43mmy_map\u001b[49m\u001b[43m.\u001b[49m\u001b[43madd_split_map\u001b[49m(\u001b[33m'\u001b[39m\u001b[33mOpenStreetMap\u001b[39m\u001b[33m'\u001b[39m, \u001b[33m'\u001b[39m\u001b[33mEsri WorldImagery\u001b[39m\u001b[33m'\u001b[39m)\n\u001b[32m      9\u001b[39m \u001b[38;5;66;03m# Optional: Add layer control\u001b[39;00m\n\u001b[32m     10\u001b[39m my_map.add_layer_control()\n",
      "\u001b[31mAttributeError\u001b[39m: 'FoliumMap' object has no attribute 'add_split_map'"
     ]
    }
   ],
   "source": [
    "from GeoBay.foliumap import FoliumMap  # If using as a module\n",
    "\n",
    "# Initialize the map\n",
    "my_map = FoliumMap(location=(38.5, -98.0), zoom_start=5)\n",
    "\n",
    "# Add split map functionality\n",
    "my_map.add_split_map('OpenStreetMap', 'Esri WorldImagery')\n",
    "\n",
    "# Optional: Add layer control\n",
    "my_map.add_layer_control()\n",
    "\n",
    "# Show the map\n",
    "my_map.show_map()\n",
    "\n"
   ]
  },
  {
   "cell_type": "code",
   "execution_count": 7,
   "id": "0708fa6a",
   "metadata": {},
   "outputs": [
    {
     "ename": "AttributeError",
     "evalue": "'FoliumMap' object has no attribute 'add_split_map'",
     "output_type": "error",
     "traceback": [
      "\u001b[31m---------------------------------------------------------------------------\u001b[39m",
      "\u001b[31mAttributeError\u001b[39m                            Traceback (most recent call last)",
      "\u001b[36mCell\u001b[39m\u001b[36m \u001b[39m\u001b[32mIn[7]\u001b[39m\u001b[32m, line 7\u001b[39m\n\u001b[32m      4\u001b[39m my_map = FoliumMap(location=(\u001b[32m38.5\u001b[39m, -\u001b[32m98.0\u001b[39m), zoom_start=\u001b[32m5\u001b[39m)\n\u001b[32m      6\u001b[39m \u001b[38;5;66;03m# Add split map functionality\u001b[39;00m\n\u001b[32m----> \u001b[39m\u001b[32m7\u001b[39m \u001b[43mmy_map\u001b[49m\u001b[43m.\u001b[49m\u001b[43madd_split_map\u001b[49m(\u001b[33m'\u001b[39m\u001b[33mOpenStreetMap\u001b[39m\u001b[33m'\u001b[39m, \u001b[33m'\u001b[39m\u001b[33mEsri WorldImagery\u001b[39m\u001b[33m'\u001b[39m)\n\u001b[32m      9\u001b[39m \u001b[38;5;66;03m# Optional: Add layer control\u001b[39;00m\n\u001b[32m     10\u001b[39m my_map.add_layer_control()\n",
      "\u001b[31mAttributeError\u001b[39m: 'FoliumMap' object has no attribute 'add_split_map'"
     ]
    }
   ],
   "source": [
    "from GeoBay.foliumap import FoliumMap  # If using as a module\n",
    "\n",
    "# Initialize the map\n",
    "my_map = FoliumMap(location=(38.5, -98.0), zoom_start=5)\n",
    "\n",
    "# Add split map functionality\n",
    "my_map.add_split_map('OpenStreetMap', 'Esri WorldImagery')\n",
    "\n",
    "# Optional: Add layer control\n",
    "my_map.add_layer_control()\n",
    "\n",
    "# Show the map\n",
    "my_map.show_map()\n",
    "\n"
   ]
  },
  {
   "cell_type": "code",
   "execution_count": null,
   "id": "43d906ef",
   "metadata": {},
   "outputs": [],
   "source": []
  }
 ],
 "metadata": {
  "kernelspec": {
   "display_name": "Python 3",
   "language": "python",
   "name": "python3"
  },
  "language_info": {
   "codemirror_mode": {
    "name": "ipython",
    "version": 3
   },
   "file_extension": ".py",
   "mimetype": "text/x-python",
   "name": "python",
   "nbconvert_exporter": "python",
   "pygments_lexer": "ipython3",
   "version": "3.13.0"
  }
 },
 "nbformat": 4,
 "nbformat_minor": 5
}
