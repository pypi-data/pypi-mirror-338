{
 "cells": [
  {
   "cell_type": "code",
   "execution_count": 1,
   "metadata": {},
   "outputs": [],
   "source": [
    "from prevo.viewers import TkWindow, TkViewer\n",
    "from prevo.viewers import CvWindow, CvViewer\n",
    "from prevo.viewers import MplWindow, MplViewer\n",
    "\n",
    "from prevo.misc import PeriodicSensor\n",
    "from threading import Thread, Event\n",
    "import oclock\n",
    "import numpy as np\n",
    "%matplotlib tk"
   ]
  },
  {
   "cell_type": "markdown",
   "metadata": {},
   "source": [
    "# 1) MISC tools"
   ]
  },
  {
   "cell_type": "markdown",
   "metadata": {},
   "source": [
    "## Dummy camera sensor"
   ]
  },
  {
   "cell_type": "markdown",
   "metadata": {},
   "source": [
    "The section below is just to define a dummy class that mimicks a camera sending images on a queue."
   ]
  },
  {
   "cell_type": "code",
   "execution_count": 2,
   "metadata": {},
   "outputs": [],
   "source": [
    "class LapseCamera(PeriodicSensor):\n",
    "    \"\"\"Mock time-lapse camera returning white-noise images periodically\"\"\"\n",
    "    \n",
    "    name = 'Mock Lapse Camera'\n",
    "    \n",
    "    def __init__(self, *args, **kwargs):\n",
    "        super().__init__(*args, **kwargs)\n",
    "        self.num = 0\n",
    "    \n",
    "    def _read(self):\n",
    "        \"\"\"Return image in a dict (see explanation below)\"\"\"\n",
    "        img = np.random.randint(256, size=(480, 640), dtype='uint8')\n",
    "        data = {'image': img, 'num': self.num}\n",
    "        self.num += 1\n",
    "        return data"
   ]
  },
  {
   "cell_type": "code",
   "execution_count": 3,
   "metadata": {},
   "outputs": [],
   "source": [
    "camera1 = LapseCamera(interval=0.04)\n",
    "camera1.start()\n",
    "\n",
    "camera2 = LapseCamera(interval=2)\n",
    "camera2.start()\n",
    "\n",
    "camera3 = LapseCamera(interval=0.5)\n",
    "camera3.start()"
   ]
  },
  {
   "cell_type": "markdown",
   "metadata": {},
   "source": [
    "## External command to stop display"
   ]
  },
  {
   "cell_type": "code",
   "execution_count": 4,
   "metadata": {},
   "outputs": [],
   "source": [
    "def stop_display(after=10):\n",
    "    \"\"\"By default, send stop request after 10 seconds\"\"\"\n",
    "    stop_event = Event()\n",
    "    \n",
    "    def _stop_display():\n",
    "        timer = oclock.Timer()\n",
    "        while timer.elapsed_time < 10:\n",
    "            timer.checkpt()\n",
    "        print('STOP REQUESTED')\n",
    "        stop_event.set()\n",
    "        \n",
    "    Thread(target=_stop_display).start()\n",
    "    return stop_event"
   ]
  },
  {
   "cell_type": "markdown",
   "metadata": {},
   "source": [
    "# 2) Viewers operation"
   ]
  },
  {
   "cell_type": "markdown",
   "metadata": {},
   "source": [
    "Viewers operate independent windows (one per image source). Each window accepts a queue (`queue.Queue` objects or equivalent) as input. By default, it is assumed that the objects in the queue are dictionaries with a key `'image'` containing the image (`numpy` array or equivalent). If necessary, this behavior can be changed by changing the window's `measurement_formatter` (see example further below in **3) Subclassing**).\n",
    "\n",
    "**NOTE**: If one wants to use the `show_num` option, the measurement dictionary must also contain a `'num'` key, with the image number as a value. Here it's also possible to customize with the user-supplied `measurement_formatter`.\n",
    "\n",
    "**NOTE**: the FPS options in the arguments refer to the fps displayed in the window, not the actual FPS of the camera:\n",
    "- `calculate_fps=True` creates a `display_times` attribute (list) of the viewer where times are stored, and prints the average FPS when viewer is closed\n",
    "- `show_fps=True` shows the current (live) display FPS in the window"
   ]
  },
  {
   "cell_type": "markdown",
   "metadata": {},
   "source": [
    "## Tkinter"
   ]
  },
  {
   "cell_type": "code",
   "execution_count": 5,
   "metadata": {},
   "outputs": [],
   "source": [
    "win1 = TkWindow(camera1.queue, name='Camera 1', show_fps=True)\n",
    "win2 = TkWindow(camera2.queue, name='Camera 2', show_num=True)\n",
    "TkViewer(windows=(win1, win2)).start()"
   ]
  },
  {
   "cell_type": "markdown",
   "metadata": {},
   "source": [
    "## OpenCV"
   ]
  },
  {
   "cell_type": "code",
   "execution_count": 6,
   "metadata": {},
   "outputs": [
    {
     "name": "stdout",
     "output_type": "stream",
     "text": [
      "STOP REQUESTED\n"
     ]
    }
   ],
   "source": [
    "win1 = CvWindow(camera1.queue, name='Camera 1', show_fps=True)\n",
    "win2 = CvWindow(camera2.queue, name='Camera 2', show_num=True)\n",
    "\n",
    "# Here we include an external signal after 10 seconds to stop the viewer\n",
    "viewer = CvViewer(\n",
    "    windows=(win1, win2),\n",
    "    external_stop=stop_display(after=10),\n",
    ")\n",
    "viewer.start()"
   ]
  },
  {
   "cell_type": "markdown",
   "metadata": {},
   "source": [
    "## Matplotlib"
   ]
  },
  {
   "cell_type": "markdown",
   "metadata": {},
   "source": [
    "**NOTE**: For some reason on some platforms the Matplotlib FuncAnimation does not stop even when closed in a Jupyter environment, so the kernel has to be restarted at the end.\n",
    "\n",
    "**NOTE**: In some cases, the exiting of the viewer also creates a bug in a `on_timer` thread. I have not been able to solve this at the moment, but it does not seem to crash the program in any case."
   ]
  },
  {
   "cell_type": "code",
   "execution_count": 7,
   "metadata": {},
   "outputs": [
    {
     "name": "stdout",
     "output_type": "stream",
     "text": [
      "STOP REQUESTED\n",
      "Average display frame rate [Camera 3]: 2.041 fps. \n",
      "Average display frame rate [Camera 3]: 2.041 fps. \n"
     ]
    },
    {
     "name": "stderr",
     "output_type": "stream",
     "text": [
      "invalid command name \"5184348416_on_timer\"\n",
      "    while executing\n",
      "\"5184348416_on_timer\"\n",
      "    (\"after\" script)\n"
     ]
    }
   ],
   "source": [
    "win1 = MplWindow(camera1.queue, name='Camera 1', show_fps=True)\n",
    "win2 = MplWindow(camera2.queue, name='Camera 2', show_num=True)\n",
    "win3 = MplWindow(camera3.queue, name='Camera 3', calculate_fps=True)\n",
    "\n",
    "viewer = MplViewer(\n",
    "    windows=(win1, win2, win3),\n",
    "    blit=False,\n",
    "    external_stop=stop_display(after=10),\n",
    ")\n",
    "viewer.start()"
   ]
  },
  {
   "cell_type": "markdown",
   "metadata": {},
   "source": [
    "# 3) Subclassing"
   ]
  },
  {
   "cell_type": "markdown",
   "metadata": {},
   "source": [
    "The most obvious case for subclassing is when the format of measurements stored in the queues is not that by default (dict with key `image` and `num`). Below is an example of providing another `measurement_formatter` to the windows in a case where the camera queue contains only the image array.\n",
    "\n",
    "We also show how to subclass the Tkinter window class in order to not have to pass the new `measurement_formatter` every time."
   ]
  },
  {
   "cell_type": "markdown",
   "metadata": {},
   "source": [
    "## Dummy sensor"
   ]
  },
  {
   "cell_type": "code",
   "execution_count": 8,
   "metadata": {},
   "outputs": [],
   "source": [
    "class ModifiedLapseCamera(PeriodicSensor):\n",
    "    \"\"\"Mock camera sensor that returns images directly instead of dicts.\"\"\"\n",
    "    def _read(self):\n",
    "        img = np.random.randint(256, size=(480, 640), dtype='uint8')\n",
    "        return img"
   ]
  },
  {
   "cell_type": "code",
   "execution_count": 9,
   "metadata": {},
   "outputs": [],
   "source": [
    "simple_cam_1 = ModifiedLapseCamera(interval=0.1)\n",
    "simple_cam_1.start()\n",
    "\n",
    "simple_cam_2 = ModifiedLapseCamera(interval=0.5)\n",
    "simple_cam_2.start()"
   ]
  },
  {
   "cell_type": "markdown",
   "metadata": {},
   "source": [
    "## Custom measurement formatter"
   ]
  },
  {
   "cell_type": "code",
   "execution_count": 10,
   "metadata": {},
   "outputs": [],
   "source": [
    "class CustomFormatter:\n",
    "    \n",
    "    def __init__(self):\n",
    "        \"\"\"Since the camera source does not provide image number, we'll add it to the data with the formatter\"\"\"\n",
    "        self.image_count = 0\n",
    "        \n",
    "    def get_image(self, measurement):\n",
    "        \"\"\"Each time an image is retrieved, we also update the image number.\n",
    "        \n",
    "        Note that here the first image will have a number of 1, not 0\"\"\"\n",
    "        self.image_count += 1\n",
    "        return measurement\n",
    "    \n",
    "    def get_num(self, measurement):\n",
    "        return self.image_count"
   ]
  },
  {
   "cell_type": "markdown",
   "metadata": {},
   "source": [
    "## Subclassing Tkinter window"
   ]
  },
  {
   "cell_type": "code",
   "execution_count": 11,
   "metadata": {},
   "outputs": [],
   "source": [
    "class Window(TkWindow):\n",
    "    \n",
    "    def __init__(self, *args, **kwargs):\n",
    "        custom_formatter = CustomFormatter()\n",
    "        super().__init__(*args, measurement_formatter=custom_formatter, **kwargs)"
   ]
  },
  {
   "cell_type": "markdown",
   "metadata": {},
   "source": [
    "## Running the viewer"
   ]
  },
  {
   "cell_type": "code",
   "execution_count": 12,
   "metadata": {},
   "outputs": [],
   "source": [
    "win1 = Window(simple_cam_1.queue, name='Camera 1', show_fps=True)\n",
    "win2 = Window(simple_cam_2.queue, name='Camera 2', show_num=True)\n",
    "TkViewer((win1, win2)).start()"
   ]
  },
  {
   "cell_type": "code",
   "execution_count": null,
   "metadata": {},
   "outputs": [],
   "source": []
  }
 ],
 "metadata": {
  "kernelspec": {
   "display_name": "Python 3 (ipykernel)",
   "language": "python",
   "name": "python3"
  },
  "language_info": {
   "codemirror_mode": {
    "name": "ipython",
    "version": 3
   },
   "file_extension": ".py",
   "mimetype": "text/x-python",
   "name": "python",
   "nbconvert_exporter": "python",
   "pygments_lexer": "ipython3",
   "version": "3.10.9"
  }
 },
 "nbformat": 4,
 "nbformat_minor": 4
}
