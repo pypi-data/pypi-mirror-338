{
 "cells": [
  {
   "cell_type": "markdown",
   "metadata": {},
   "source": [
    "# Exploring the bos\n",
    "\n",
    "![overview of the bos](system_diagram.png \"Title\")\n",
    "\n",
    "The System Model (sysmod) is the knowledge graph used to represent a building and its points.\n",
    "\n",
    "System models are conventionally built up using Brick Schema, ASHRAE 223P, and Real Estate Core, though use can you any RDF schema you want (e.g., Haystack 4 is fine.)\n",
    "\n",
    "The `sysmod` service runs by default on port 2821 (0xB05) of your local machine.\n",
    "\n",
    "To get started import the `bospy` package.\n",
    "\n",
    "If you don't have these package  run:\n",
    "``` shell \n",
    "pip install grpcio grpcio-tools\n",
    "pip install bospy\n",
    "```\n",
    "\n",
    "If you are not running the bos on your local machine you'll need to set the environment variables `SYSMOD_ADDR` and `DEVCTRL_ADDR`."
   ]
  },
  {
   "cell_type": "code",
   "execution_count": 4,
   "metadata": {},
   "outputs": [],
   "source": [
    "import os\n",
    "os.environ['SYSMOD_ADDR'] = \"nuc:2821\"\n",
    "os.environ['DEVCTRL_ADDR'] = \"nuc:2822\"\n",
    "os.environ['HIS_ADDR'] = \"nuc:2823\""
   ]
  },
  {
   "cell_type": "code",
   "execution_count": 5,
   "metadata": {},
   "outputs": [
    {
     "name": "stdout",
     "output_type": "stream",
     "text": [
      "0.0.4\n"
     ]
    }
   ],
   "source": [
    "import bospy.bos as bos\n",
    "print(bos.VERSION)"
   ]
  },
  {
   "cell_type": "markdown",
   "metadata": {},
   "source": [
    "## Getting all Points\n",
    "\n",
    "To see all the points in the sysmod we can call `QueryPoints()` with no arguments."
   ]
  },
  {
   "cell_type": "code",
   "execution_count": 6,
   "metadata": {},
   "outputs": [
    {
     "name": "stdout",
     "output_type": "stream",
     "text": [
      "There are 12 points in the sysmod:\n",
      "['bos://localhost/dev/1/pts/3', 'bos://localhost/dev/1/pts/4', 'bos://localhost/dev/1/pts/5', 'bos://localhost/dev/1/pts/6', 'bos://localhost/dev/2/pts/1', 'bos://localhost/dev/3/pts/2', 'bos://localhost/dev/3/pts/3', 'bos://localhost/dev/1/pts/1', 'bos://localhost/dev/1/pts/2', 'bos://localhost/dev/2/pts/2', 'bos://localhost/dev/2/pts/3', 'bos://localhost/dev/3/pts/1']\n"
     ]
    }
   ],
   "source": [
    "all_pts = bos.QueryPoints()\n",
    "print(\"There are {} points in the sysmod:\".format(len(all_pts)))\n",
    "print(all_pts)\n"
   ]
  },
  {
   "cell_type": "markdown",
   "metadata": {},
   "source": [
    "In the bos's internal namespace points are tracked by unique URI. These URIs are not meant to be interacted with directly. Instead it's assumed they'll be passed directly to other functions. \n",
    "\n",
    "For example, maybe we want to the *names* of all our points. We can view them like this:"
   ]
  },
  {
   "cell_type": "code",
   "execution_count": 7,
   "metadata": {},
   "outputs": [
    {
     "name": "stdout",
     "output_type": "stream",
     "text": [
      "There are 12 points in the sysmod. Their names are:\n",
      "    air_temp_setpoint\n",
      "    humidity\n",
      "    status\n",
      "    power_draw\n",
      "    air_temp_west\n",
      "    air_temp_stpt_east\n",
      "    humidity_east\n",
      "    co2\n",
      "    air_temp\n",
      "    air_temp_stpt_west\n",
      "    humidity_west\n",
      "    air_temp_east\n"
     ]
    }
   ],
   "source": [
    "print(\"There are {} points in the sysmod. Their names are:\".format(len(all_pts)))\n",
    "for p in all_pts:\n",
    "    name = bos.PointToName(p)\n",
    "    print(\"   \", name)"
   ]
  },
  {
   "cell_type": "markdown",
   "metadata": {},
   "source": [
    "People familiar with building automation systems (BASs) are likely used to accessing points by name. We can get a point's uri by name with `NameToPoint()`.\n",
    "\n",
    "*Programs written by referencing points by name are not portable. If you're interested in developing portable applications consider using parametric point selections (e.g,. a combination of `type` and `location` params). Full SPARQL queries will also be supported soon*"
   ]
  },
  {
   "cell_type": "code",
   "execution_count": 8,
   "metadata": {},
   "outputs": [
    {
     "name": "stdout",
     "output_type": "stream",
     "text": [
      "the point named air_temp_setpoint is accessed via bos://localhost/dev/1/pts/3\n"
     ]
    }
   ],
   "source": [
    "name = 'air_temp_setpoint'\n",
    "pt = bos.NameToPoint(name)\n",
    "print('the point named {} is accessed via {}'.format(name, pt))"
   ]
  },
  {
   "cell_type": "markdown",
   "metadata": {},
   "source": [
    "## Getting and Setting Values\n",
    "\n",
    "If you're exploring the sysmod chances are you are looking for some points to read or write. We can read a point with `Get()` and write it with `Set()`.\n",
    "\n",
    "`Get()` and `Set()` make use of a service called `devctrl` (device control).\n",
    "\n",
    "By default `devctrl` is runs at `localhost:2822`."
   ]
  },
  {
   "cell_type": "code",
   "execution_count": 9,
   "metadata": {},
   "outputs": [
    {
     "name": "stdout",
     "output_type": "stream",
     "text": [
      "air_temp_setpoint = 22.5\n"
     ]
    }
   ],
   "source": [
    "name = 'air_temp_setpoint'\n",
    "pt = bos.NameToPoint(name)\n",
    "values = bos.Get(pt)\n",
    "print(name, \"=\", values[pt])\n"
   ]
  },
  {
   "cell_type": "markdown",
   "metadata": {},
   "source": [
    "`Get()` also accepts list of points. It returns a map of point uris and their current values. As we've seen we can swap those uris for names with `PointToName()`."
   ]
  },
  {
   "cell_type": "code",
   "execution_count": 10,
   "metadata": {},
   "outputs": [
    {
     "name": "stdout",
     "output_type": "stream",
     "text": [
      "air_temp_setpoint = 22.25\n",
      "humidity = 55\n",
      "status = True\n"
     ]
    }
   ],
   "source": [
    "values = bos.Get(all_pts[:3])\n",
    "for p, v in values.items():\n",
    "    name = bos.PointToName(p)\n",
    "    print(name, \"=\", v)"
   ]
  },
  {
   "cell_type": "markdown",
   "metadata": {},
   "source": [
    "We can set values with `Set()` by passing one point and one value like this."
   ]
  },
  {
   "cell_type": "code",
   "execution_count": 12,
   "metadata": {},
   "outputs": [
    {
     "name": "stdout",
     "output_type": "stream",
     "text": [
      "t=0 air_temp_setpoint = 23.0\n",
      "t=1 air_temp_setpoint <- 18.5 (success)\n",
      "t=2 air_temp_setpoint = 18.5\n"
     ]
    }
   ],
   "source": [
    "# check the value of 'air_temp_setpoint'\n",
    "name = 'air_temp_setpoint'\n",
    "pt = bos.NameToPoint(name)\n",
    "values = bos.Get(pt)\n",
    "print(\"t=0\",name, \"=\", values[pt])\n",
    "\n",
    "# change the setpoint\n",
    "new_value = 18.5\n",
    "ok = bos.Set(pt, new_value)\n",
    "if ok:\n",
    "    print(\"t=1\", name, \"<-\", new_value, \"(success)\")\n",
    "else:\n",
    "    print(\"t=1\", name, \"not set (error)\")\n",
    "\n",
    "# confirm it was set correctly\n",
    "values = bos.Get(pt)\n",
    "print(\"t=2\", name, \"=\", values[pt])"
   ]
  },
  {
   "cell_type": "markdown",
   "metadata": {},
   "source": [
    "## Getting Fancy\n",
    "\n",
    "### Average zoom temp\n",
    "Let's say the location 'lab' has *n* space temperature sensors and we want to decide if the average is acceptable. We can do something like this:"
   ]
  },
  {
   "cell_type": "code",
   "execution_count": 13,
   "metadata": {},
   "outputs": [
    {
     "name": "stdout",
     "output_type": "stream",
     "text": [
      "The average space temperature at 'lab' is: 20.2°C (based on 3 sensors)\n"
     ]
    }
   ],
   "source": [
    "loc = 'lab'\n",
    "pts = bos.QueryPoints(types='brick:Air_Temperature_Sensor', locations=loc)\n",
    "values = bos.Get(pts)\n",
    "\n",
    "import numpy as np\n",
    "avg = np.array([*values.values()]).mean()\n",
    "print(\"The average space temperature at '{}' is: {:.1f}°C (based on {} sensors)\".format(loc, avg, len(pts)))"
   ]
  },
  {
   "cell_type": "markdown",
   "metadata": {},
   "source": [
    "If the average is too high we can lower the set point of *all* setpoints in 'lab' with."
   ]
  },
  {
   "cell_type": "code",
   "execution_count": 14,
   "metadata": {},
   "outputs": [
    {
     "name": "stdout",
     "output_type": "stream",
     "text": [
      "air_temp_stpt_west = 18.0°C\n",
      "air_temp_stpt_east = 18.0°C\n",
      "air_temp_setpoint = 18.0°C\n"
     ]
    }
   ],
   "source": [
    "stpts = bos.QueryPoints(types='brick:Air_Temperature_Setpoint', locations=loc)\n",
    "ok = bos.Set(stpts, 18)\n",
    "\n",
    "# check our work\n",
    "values = bos.Get(stpts)\n",
    "for k, v in values.items():\n",
    "    name = bos.PointToName(k)\n",
    "    print(\"{} = {}°C\".format(name, v))"
   ]
  },
  {
   "cell_type": "code",
   "execution_count": null,
   "metadata": {},
   "outputs": [],
   "source": []
  }
 ],
 "metadata": {
  "kernelspec": {
   "display_name": "bos",
   "language": "python",
   "name": "python3"
  },
  "language_info": {
   "codemirror_mode": {
    "name": "ipython",
    "version": 3
   },
   "file_extension": ".py",
   "mimetype": "text/x-python",
   "name": "python",
   "nbconvert_exporter": "python",
   "pygments_lexer": "ipython3",
   "version": "3.12.4"
  }
 },
 "nbformat": 4,
 "nbformat_minor": 2
}
