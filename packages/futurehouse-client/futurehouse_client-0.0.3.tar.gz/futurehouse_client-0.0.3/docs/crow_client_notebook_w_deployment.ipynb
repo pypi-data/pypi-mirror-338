{
 "cells": [
  {
   "cell_type": "code",
   "execution_count": null,
   "metadata": {},
   "outputs": [],
   "source": [
    "import time\n",
    "from pathlib import Path\n",
    "\n",
    "from futurehouse_client import CrowClient, JobNames\n",
    "from futurehouse_client.models import (\n",
    "    AuthType,\n",
    "    DockerContainerConfiguration,\n",
    "    FramePath,\n",
    "    JobDeploymentConfig,\n",
    "    JobRequest,\n",
    "    RuntimeConfig,\n",
    "    Stage,\n",
    ")\n",
    "from ldp.agent import AgentConfig"
   ]
  },
  {
   "cell_type": "code",
   "execution_count": null,
   "metadata": {},
   "outputs": [],
   "source": [
    "# Instantiate the client\n",
    "client = CrowClient(\n",
    "    stage=Stage.DEV,\n",
    "    auth_type=AuthType.API_KEY,\n",
    "    api_key=\"pOxi0pSnsJST0b7+LIp3jg.platformv01.eyJqdGkiOiJlOTI5ZGIxMy1jZDA2LTRkNjUtYTBlYi01NWYzMmQzODM1MDkiLCJzdWIiOiJOaG5kVVRkTUN2ZmkzbUZINm05S1dWTFYwU0gyIiwiaWF0IjoxNzQzMDA0NDkyLCJleHAiOjE3NDU1OTY0OTJ9.GD58gN/lDkMei3Nfw/clejJjrbL0raRKnZejzPbndfE\",\n",
    ")"
   ]
  },
  {
   "cell_type": "code",
   "execution_count": null,
   "metadata": {},
   "outputs": [],
   "source": [
    "# Create a simple Job\n",
    "job_data = JobRequest(\n",
    "    name=JobNames.from_string(\"crow\"),\n",
    "    query=\"How many species of insects are there in the world?\",\n",
    "    n_replicates=2,\n",
    ")\n",
    "\n",
    "job_data = {\n",
    "    \"name\": JobNames.from_string(\"crow\"),\n",
    "    \"query\": \"What does the fox say?\",\n",
    "    \"n_replicates\": 2,\n",
    "}\n",
    "\n",
    "\n",
    "client.create_job(job_data)\n",
    "\n",
    "while client.get_job().status != \"success\":\n",
    "    time.sleep(5)\n",
    "print(client.get_job())"
   ]
  },
  {
   "cell_type": "code",
   "execution_count": null,
   "metadata": {},
   "outputs": [
    {
     "name": "stdout",
     "output_type": "stream",
     "text": [
      "The answer depends on the species concept and methods used. Traditional bird taxonomies—based largely on the Biological Species Concept (BSC), which defines species on reproductive isolation—yield totals of roughly 9,000 to 11,000 recognized species. In contrast, applying the Phylogenetic Species Concept (PSC), which emphasizes diagnosable, evolutionarily independent units based on morphological and genetic differences, produces estimates of around 18,000 species or even higher.\n",
      "\n",
      "Under traditional counts, Ernst Mayr’s 1946 assessment estimated approximately 8,600 bird species worldwide by relying on morphology and reproductive criteria, a figure that he argued was within 5–10% of the true diversity at that time (mayr1946thenumberof pages 4-7; mayr1946thenumberof pages 7-7). Similarly, Farrand and Bock’s 1980 analysis, which is based on comprehensive reviews of bird families and genera, arrived at a total near 9,021 species by compiling species counts across various families and orders (farrand1980thenumberof pages 5-6; farrand1980thenumberof pages 13-14). These figures reflect the consensus provided by mid-20th century morphological and reproductive studies and are consistent with the counts seen in earlier and contemporary taxonomic references.\n",
      "\n",
      "More recent compilations, however, have revised the traditional figures slightly upward. For instance, modern world bird lists such as those by Clements, Gill et al. (2021a), and HBW (2019) report totals of approximately 10,714, 10,964, and 11,135 species, respectively (kiziroglu2022analysisandcomparison pages 4-6; kiziroglu2022analysisandcomparison pages 9-11). These lists incorporate updated morphological analyses, museum records, and expert consensus. They reflect broad agreement among systematists while still showing modest differences—likely due to variations in applying species limits and taxonomic interpretations.\n",
      "\n",
      "In contrast to these traditional counts, research that applies the PSC reveals a dramatically higher level of avian diversity. For example, Barrowclough et al. (2016) conducted a detailed study using two independent approaches. First, they sampled 200 species from a list of 9,159 biological species and, through a diagnostic evaluation of plumage, color, and other morphological features, determined that the average biological species comprised approximately 1.97 phylogenetic species. This nearly twofold subdivision of traditional species totals led to an extrapolated estimate of about 18,043 phylogenetic species, with a bootstrap 95% confidence interval ranging from 15,845 to 20,470 species (barrowclough2016howmanykinds pages 1-2; barrowclough2016howmanykinds pages 4-5).\n",
      "\n",
      "The second approach employed by Barrowclough and colleagues involved an analysis of intraspecific mitochondrial DNA (mtDNA) variation across 437 traditional species. In this study, they counted an average of 2.4 evolutionary units per traditional species, which they regarded as proxies for distinct phylogenetic species. This molecular-based approach suggested even higher diversification, yielding an estimate on the order of 22,000 species (barrowclough2016howmanykinds pages 5-8). Despite inherent geographic and taxonomic biases in mtDNA data, the consistency between morphological and molecular datasets strongly indicates that traditional taxonomies based on the BSC systematically underestimate true avian diversity by a factor of 2 to 2.5.\n",
      "\n",
      "The discrepancy is largely due to the different criteria for what constitutes a “species.” Under the BSC, species are defined by the ability to interbreed and produce fertile offspring, often overlooking populations that are genetically and morphologically distinct but not reproductively isolated under natural conditions. In contrast, the PSC emphasizes unique character states and genetic differences that delineate separate evolutionary lineages even if ongoing hybridization occurs in nature. Thus, many traditional “subspecies” or geographically distinct forms, which may be diagnosably distinct in plumage or DNA, are treated as separate species under the PSC. This shift in definition results in a considerable increase in the number of recognized species (barrowclough2016howmanykinds pages 2-4).\n",
      "\n",
      "Furthermore, Barrowclough et al. noted that the degree of hidden diversity is not evenly distributed. Their analyses revealed a strong latitudinal gradient: the average number of phylogenetic units per species rises from about 1.4 in northern temperate regions to roughly 3.5 near the equator. This geographic pattern suggests that tropical regions harbor substantially more cryptic diversity than indicated by classical morphological studies alone (barrowclough2016howmanykinds pages 5-8). Consequently, the phylogenetic species counts, especially within the tropics, are likely to be even higher than those derived from average calculations.\n",
      "\n",
      "Historically, estimates offered by different authors have varied widely. For instance, Sharpe’s early 20th-century figures inflated species counts (due in part to treating many subspecies as full species), while Mayr’s mid-century work sought to provide a more conservative count based on reproductive isolation. The developments in molecular techniques and quantitative morphological analysis during the latter part of the 20th century further adjusted the perceived totals. Nonetheless, the progression from an 8,600–9,000 species count in earlier works (mayr1946thenumberof; farrand1980thenumberof) to over 10,000 species in recent checklists (kiziroglu2022analysisandcomparison) and then to the near doubling suggested by evolutionary analyses (barrowclough2016howmanykinds) encapsulates the evolution of species concepts in ornithology.\n",
      "\n",
      "In summary, when describing the global number of bird species, it is essential to distinguish between two frameworks:\n",
      " • Traditional counts based on the Biological Species Concept yield between approximately 8,600 and 11,100 species, as supported by Mayr (1946), Farrand and Bock (1980), and contemporary world bird lists (mayr1946thenumberof pages 4-7; farrand1980thenumberof pages 5-6; kiziroglu2022analysisandcomparison pages 4-6; kiziroglu2022analysisandcomparison pages 9-11).\n",
      " • Revised estimates based on the Phylogenetic Species Concept—incorporating both morphological (barrowclough2016howmanykinds pages 1-2; barrowclough2016howmanykinds pages 4-5) and molecular data (barrowclough2016howmanykinds pages 5-8)—suggest that avian diversity is underestimated by roughly a factor of two, with potentially around 18,000 phylogenetic species, and mtDNA analyses hinting at figures closer to 22,000 species.\n",
      "\n",
      "The choice of species concept has profound implications not only for systematic biology but also for conservation strategies, biogeographic analyses, and our overall understanding of evolutionary history. Recognizing nearly twice as many species under the PSC implies a finer resolution of evolutionary processes, particularly in regions like the tropics where genetic and morphological divergence can be especially pronounced (barrowclough2016howmanykinds pages 5-8).\n",
      "\n",
      "Thus, while the current traditional taxonomy records approximately 9,000–11,000 bird species, there is growing evidence that the true evolutionary diversity may be as high as 18,000 to 22,000 species. The answer—there is no single definitive number—is intrinsically tied to how one defines “species” and the methodologies employed to detect and describe genetic and morphological differences within and between bird populations.\n",
      "\n",
      "Each of these counts is valid within its methodological framework, and the ongoing debate underscores the dynamic nature of biological classification in the age of genomics and comparative morphology. Future comprehensive studies that integrate extensive geographic sampling and genome-wide data are likely to refine these estimates further, perhaps even revealing additional layers of cryptic diversity within what are currently regarded as single species (barrowclough2016howmanykinds pages 2-4; kiziroglu2022analysisandcomparison pages 9-11).\n",
      "\n",
      "In conclusion, if one adheres to traditional taxonomies based on the Biological Species Concept, the world harbors roughly 9,000–11,000 bird species. However, if one embraces the Phylogenetic Species Concept—supported by both morphological and molecular evidence—the actual number of bird species could be roughly double that figure, ranging from approximately 18,000 to 22,000 species (barrowclough2016howmanykinds pages 1-2; barrowclough2016howmanykinds pages 5-8; mayr1946thenumberof pages 4-7; kiziroglu2022analysisandcomparison pages 4-6).\n"
     ]
    },
    {
     "data": {
      "text/plain": [
       "{'Barrowclough et al. (2016',\n",
       " 'barrowclough2016howmanykinds',\n",
       " 'barrowclough2016howmanykinds pages 1-2',\n",
       " 'barrowclough2016howmanykinds pages 2-4',\n",
       " 'barrowclough2016howmanykinds pages 4-5',\n",
       " 'barrowclough2016howmanykinds pages 5-8',\n",
       " 'farrand1980thenumberof',\n",
       " 'farrand1980thenumberof pages 13-14',\n",
       " 'farrand1980thenumberof pages 5-6',\n",
       " 'kiziroglu2022analysisandcomparison',\n",
       " 'kiziroglu2022analysisandcomparison pages 4-6',\n",
       " 'kiziroglu2022analysisandcomparison pages 9-11',\n",
       " 'mayr1946thenumberof',\n",
       " 'mayr1946thenumberof pages 4-7',\n",
       " 'mayr1946thenumberof pages 7-7'}"
      ]
     },
     "execution_count": null,
     "metadata": {},
     "output_type": "execute_result"
    }
   ],
   "source": [
    "from paperqa.utils import get_citenames\n",
    "\n",
    "bug_id = \"d398d963-1e4c-4191-b9f2-c8df55376cb0\"\n",
    "job = client.get_job(bug_id)\n",
    "\n",
    "print(job.answer)\n",
    "\n",
    "get_citenames(job.answer)\n",
    "# job.environment_frame['state']['state'].keys()"
   ]
  },
  {
   "cell_type": "code",
   "execution_count": null,
   "metadata": {},
   "outputs": [],
   "source": [
    "# Create a more complex job with runtime config\n",
    "\n",
    "agent = AgentConfig(\n",
    "    agent_type=\"ReActAgent\",\n",
    "    agent_kwargs={\n",
    "        \"model\": \"gpt-4o-mini\",\n",
    "        \"temperature\": 0.0,\n",
    "    },\n",
    ")\n",
    "job_data = JobRequest(\n",
    "    name=JobNames.from_string(\"dummy\"),\n",
    "    query=\"How many moons does earth have?\",\n",
    "    runtime_config=RuntimeConfig(agent=agent, max_steps=5),\n",
    ")\n",
    "client.create_job(job_data)\n",
    "\n",
    "while client.get_job()[\"status\"] != \"success\":\n",
    "    time.sleep(5)\n",
    "print(client.get_job())"
   ]
  },
  {
   "cell_type": "code",
   "execution_count": null,
   "metadata": {},
   "outputs": [],
   "source": [
    "# Deploy a Crow with Frame Paths\n",
    "frame_paths = [\n",
    "    FramePath(path=\"state.pdbs\", type=\"pdb\", is_iterable=True),\n",
    "    FramePath(path=\"state.single_pdb\", type=\"pdb\"),\n",
    "]\n",
    "\n",
    "crow = JobDeploymentConfig(\n",
    "    path=Path(\"../../envs/dummy_env\"),\n",
    "    environment=\"dummy_env.env.DummyEnv\",\n",
    "    requires_aviary_internal=False,\n",
    "    environment_variables={\"SAMPLE_ENV_VAR\": \"sample_val\"},\n",
    "    agent=\"ldp.agent.SimpleAgent\",\n",
    "    container_config=DockerContainerConfiguration(cpu=\"1\", memory=\"2Gi\"),\n",
    "    force=True,\n",
    "    frame_paths=frame_paths,\n",
    "    task_description=\"This is a dummy task\",\n",
    ")\n",
    "client.create_crow(crow)"
   ]
  },
  {
   "cell_type": "code",
   "execution_count": null,
   "metadata": {},
   "outputs": [],
   "source": [
    "while client.get_build_status()[\"status\"] != \"SUCCESS\":\n",
    "    time.sleep(5)\n",
    "print(client.get_build_status())"
   ]
  }
 ],
 "metadata": {
  "kernelspec": {
   "display_name": ".venv",
   "language": "python",
   "name": "python3"
  },
  "language_info": {
   "codemirror_mode": {
    "name": "ipython",
    "version": 3
   },
   "file_extension": ".py",
   "mimetype": "text/x-python",
   "name": "python",
   "nbconvert_exporter": "python",
   "pygments_lexer": "ipython3"
  }
 },
 "nbformat": 4,
 "nbformat_minor": 4
}
