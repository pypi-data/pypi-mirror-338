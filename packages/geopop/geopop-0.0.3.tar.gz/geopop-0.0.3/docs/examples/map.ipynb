{
 "cells": [
  {
   "cell_type": "markdown",
   "metadata": {},
   "source": [
    "## Create Interactive Maps\n",
    "\n",
    "[![Open In Colab](https://colab.research.google.com/assets/colab-badge.svg)](https://colab.research.google.com/github/jriedl1/geopop/blob/test/docs/examples/map.ipynb)"
   ]
  },
  {
   "cell_type": "markdown",
   "metadata": {},
   "source": [
    "### folium example"
   ]
  },
  {
   "cell_type": "code",
   "execution_count": null,
   "metadata": {},
   "outputs": [],
   "source": [
    "import geopop.foliummap as gp\n",
    "\n",
    "self = gp.Map(center=[20, 0], zoom=2)\n",
    "url = \"https://github.com/opengeos/datasets/releases/download/world/countries.geojson\"\n",
    "self.add_geojson(url, name=\"Countries\")\n",
    "self.add_layer_control()\n",
    "self"
   ]
  },
  {
   "cell_type": "markdown",
   "metadata": {},
   "source": [
    "### ipyleaflet example"
   ]
  },
  {
   "cell_type": "code",
   "execution_count": null,
   "metadata": {},
   "outputs": [],
   "source": [
    "import geopop.ipyleafletmap as gp\n",
    "\n",
    "self = gp.Map(center=[20, 0], zoom=2)\n",
    "url = \"https://github.com/opengeos/datasets/releases/download/world/countries.geojson\"\n",
    "self.add_geojson(url, name=\"Countries\")\n",
    "self.add_layer_control()\n",
    "self"
   ]
  }
 ],
 "metadata": {
  "kernelspec": {
   "display_name": "myenv",
   "language": "python",
   "name": "python3"
  },
  "language_info": {
   "codemirror_mode": {
    "name": "ipython",
    "version": 3
   },
   "file_extension": ".py",
   "mimetype": "text/x-python",
   "name": "python",
   "nbconvert_exporter": "python",
   "pygments_lexer": "ipython3",
   "version": "3.12.2"
  }
 },
 "nbformat": 4,
 "nbformat_minor": 2
}
