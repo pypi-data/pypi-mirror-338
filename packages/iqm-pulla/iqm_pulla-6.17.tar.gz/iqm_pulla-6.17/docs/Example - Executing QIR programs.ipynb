{
 "cells": [
  {
   "cell_type": "markdown",
   "metadata": {},
   "source": [
    "# Executing QIR programs\n",
    "\n",
    "If you have a QIR string or bitcode, you can start by creating Pulla-compatible circuits representation. You can also generate a QIR string or bitcode from a qiskit circuit using IQM's fork of `qiskit_qir`, available as the package `iqm-qiskit-qir`."
   ]
  },
  {
   "cell_type": "code",
   "execution_count": 22,
   "metadata": {},
   "outputs": [],
   "source": [
    "import os\n",
    "from qiskit import visualization\n",
    "from qiskit.compiler import transpile\n",
    "from iqm.qiskit_iqm.iqm_transpilation import optimize_single_qubit_gates\n",
    "from iqm.pulla.pulla import Pulla\n",
    "from iqm.pulla.utils_qiskit import station_control_result_to_qiskit\n",
    "from iqm.pulla.utils_qir import qir_to_pulla\n",
    "from qiskit_qir import to_qir_module"
   ]
  },
  {
   "cell_type": "code",
   "execution_count": 23,
   "metadata": {},
   "outputs": [],
   "source": [
    "# Create a Pulla object and a qiskit-iqm backend for accessing the quantum computer.\n",
    "cocos_url = os.environ['PULLA_COCOS_URL']                      # or set the URL directly here\n",
    "station_control_url = os.environ['PULLA_STATION_CONTROL_URL']  # or set the URL directly here\n",
    "p = Pulla(station_control_url)\n",
    "provider = IQMProvider(cocos_url)\n",
    "backend = provider.get_backend()\n",
    "shots = 100"
   ]
  },
  {
   "cell_type": "code",
   "execution_count": null,
   "metadata": {},
   "outputs": [],
   "source": [
    "# Define a quantum circuit.\n",
    "qc = QuantumCircuit(3, 3)\n",
    "qc.h(0)\n",
    "qc.cx(0, 1)\n",
    "qc.cx(0, 2)\n",
    "qc.measure(0,0)\n",
    "qc.measure(1,1)\n",
    "qc.measure(2,2)\n",
    "qc.draw(output='mpl')"
   ]
  },
  {
   "cell_type": "code",
   "execution_count": null,
   "metadata": {},
   "outputs": [],
   "source": [
    "# Transpile the circuit using Qiskit\n",
    "qc_transpiled = transpile(qc, backend=backend, layout_method='sabre', optimization_level=3)\n",
    "qc_optimized = optimize_single_qubit_gates(qc_transpiled)\n",
    "\n",
    "#Generate the QIR\n",
    "module, _ = to_qir_module(circuit)\n",
    "qir = str(module)"
   ]
  },
  {
   "cell_type": "markdown",
   "metadata": {},
   "source": [
    "## Executing QIR"
   ]
  },
  {
   "cell_type": "code",
   "execution_count": 26,
   "metadata": {},
   "outputs": [
    {
     "name": "stderr",
     "output_type": "stream",
     "text": [
      "[01-17 16:50:24;W] station-control-client version '2.11' is newer minor version than '2.9' used by the station control server, some new client features might not be supported.\n"
     ]
    },
    {
     "name": "stdout",
     "output_type": "stream",
     "text": [
      "[01-17 16:50:24;I] Required number of qubits: 1\n",
      "[01-17 16:50:24;I] Required number of results: 1\n",
      "[01-17 16:50:24;I] QIR version: 1.0\n",
      "[01-17 16:50:26;I] Submitted sweep with ID: db089d02-2656-4d2d-bcf6-283b609d67dd\n",
      "[01-17 16:50:26;I] Created task in queue with ID: 05486e2b-528f-40e2-a5e0-657567b76242\n",
      "[01-17 16:50:26;I] Sweep link: http://xld11-s2.xld11.iqm.fi/station/sweeps/db089d02-2656-4d2d-bcf6-283b609d67dd\n",
      "[01-17 16:50:26;I] Task link: http://xld11-s2.xld11.iqm.fi/station/tasks/05486e2b-528f-40e2-a5e0-657567b76242\n",
      "[01-17 16:50:26;I] Waiting for the sweep to finish...\n",
      "SweepStatus.PROGRESS\n",
      "SweepStatus.SUCCESS\n",
      "[01-17 16:50:27;I] Sweep status: SweepStatus.SUCCESS\n",
      "StationControlResult(sweep_id=UUID('db089d02-2656-4d2d-bcf6-283b609d67dd'), task_id=UUID('05486e2b-528f-40e2-a5e0-657567b76242'), status=<TaskStatus.READY: 'READY'>, start_time='2025-01-17T14:50:25.976741+00:00', end_time='2025-01-17T14:50:26.843285+00:00', result=[{'m_1_0_0': [[0.0], [1.0], [1.0], [1.0], [1.0], [1.0], [1.0], [0.0], [1.0], [0.0], [1.0], [1.0], [1.0], [0.0], [1.0], [1.0], [1.0], [1.0], [1.0], [1.0]]}], message=None)\n",
      "Qiskit result counts: {'0': 4, '1': 16}\n"
     ]
    },
    {
     "data": {
      "image/png": "[encoded data removed]",
      "text/plain": [
       "<Figure size 640x480 with 1 Axes>"
      ]
     },
     "execution_count": 26,
     "metadata": {},
     "output_type": "execute_result"
    }
   ],
   "source": [
    "p = Pulla(station_control_url)\n",
    "circuits, compiler = qir_to_pulla(p, qir)\n",
    "\n",
    "playlist, context = compiler.compile(circuits)\n",
    "\n",
    "shots = 20\n",
    "settings, context = compiler.build_settings(context, shots=shots)\n",
    "response_data = p.execute(playlist, context, settings, verbose=False)\n",
    "print(response_data)\n",
    "\n",
    "qiskit_result = station_control_result_to_qiskit(response_data, shots=shots, execution_options=context['options'])\n",
    "print(f\"Qiskit result counts: {qiskit_result.get_counts()}\")\n",
    "visualization.plot_histogram(qiskit_result.get_counts())"
   ]
  }
 ],
 "metadata": {
  "kernelspec": {
   "display_name": "Python 3 (ipykernel)",
   "language": "python",
   "name": "python3"
  },
  "language_info": {
   "codemirror_mode": {
    "name": "ipython",
    "version": 3
   },
   "file_extension": ".py",
   "mimetype": "text/x-python",
   "name": "python",
   "nbconvert_exporter": "python",
   "pygments_lexer": "ipython3",
   "version": "3.11.9"
  }
 },
 "nbformat": 4,
 "nbformat_minor": 4
}
