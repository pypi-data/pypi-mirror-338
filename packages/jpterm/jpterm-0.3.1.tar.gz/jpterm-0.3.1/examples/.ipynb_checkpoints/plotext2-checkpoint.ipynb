{
 "cells": [
  {
   "cell_type": "code",
   "execution_count": null,
   "metadata": {},
   "outputs": [],
   "source": [
    "from textual.app import App, ComposeResult\n",
    "from textual_plotext import PlotextPlot\n",
    "from ypywidgets_textual import Widget, Driver\n",
    "\n",
    "class ScatterApp(App[None]):\n",
    "\n",
    "    def compose(self) -> ComposeResult:\n",
    "        yield PlotextPlot()\n",
    "\n",
    "    def on_mount(self) -> None:\n",
    "        plt = self.query_one(PlotextPlot).plt\n",
    "        y = plt.sin() # sinusoidal test signal\n",
    "        plt.scatter(y)\n",
    "        plt.title(\"Scatter Plot\") # to apply a title"
   ]
  },
  {
   "cell_type": "code",
   "execution_count": null,
   "metadata": {},
   "outputs": [],
   "source": [
    "w = Widget(ScatterApp)"
   ]
  },
  {
   "cell_type": "code",
   "execution_count": null,
   "metadata": {},
   "outputs": [],
   "source": [
    "w"
   ]
  },
  {
   "cell_type": "code",
   "execution_count": null,
   "metadata": {},
   "outputs": [],
   "source": []
  }
 ],
 "metadata": {
  "kernelspec": {
   "display_name": "Python 3 (ipykernel)",
   "language": "python",
   "name": "python3"
  },
  "language_info": {
   "codemirror_mode": {
    "name": "ipython",
    "version": 3
   },
   "file_extension": ".py",
   "mimetype": "text/x-python",
   "name": "python",
   "nbconvert_exporter": "python",
   "pygments_lexer": "ipython3",
   "version": "3.12.2"
  }
 },
 "nbformat": 4,
 "nbformat_minor": 4
}
