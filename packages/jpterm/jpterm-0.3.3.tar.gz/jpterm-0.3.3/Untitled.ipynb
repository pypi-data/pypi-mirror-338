{
  "cells": [
    {
      "source": "",
      "id": "6c81a4ce-bbb1-4db6-9d5b-a2536fe8dc54",
      "outputs": [],
      "execution_count": null,
      "metadata": {
        "trusted": true
      },
      "cell_type": "code"
    }
  ],
  "metadata": {
    "kernelspec": {
      "name": "python3",
      "display_name": "Python 3 (ipykernel)",
      "language": "python"
    },
    "language_info": {
      "name": ""
    }
  },
  "nbformat": 4,
  "nbformat_minor": 5
}