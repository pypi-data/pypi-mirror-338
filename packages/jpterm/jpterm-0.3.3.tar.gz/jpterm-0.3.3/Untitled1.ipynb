{
  "cells": [
    {
      "outputs": [],
      "cell_type": "code",
      "execution_count": null,
      "source": "",
      "id": "85c83414-de0c-41ea-bb4e-bfdeb41add69",
      "metadata": {
        "trusted": true
      }
    }
  ],
  "metadata": {
    "kernelspec": {
      "display_name": "Python 3 (ipykernel)",
      "language": "python",
      "name": "python3"
    },
    "language_info": {
      "name": ""
    }
  },
  "nbformat": 4,
  "nbformat_minor": 5
}