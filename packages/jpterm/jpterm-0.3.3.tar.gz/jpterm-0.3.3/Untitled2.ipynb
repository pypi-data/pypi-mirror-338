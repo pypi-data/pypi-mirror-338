{
  "cells": [
    {
      "execution_count": null,
      "metadata": {
        "trusted": true
      },
      "cell_type": "code",
      "source": "",
      "id": "62276b81-257b-4955-90f8-debd22f80d9f",
      "outputs": []
    }
  ],
  "metadata": {
    "language_info": {
      "name": ""
    },
    "kernelspec": {
      "language": "python",
      "name": "python3",
      "display_name": "Python 3 (ipykernel)"
    }
  },
  "nbformat": 4,
  "nbformat_minor": 5
}