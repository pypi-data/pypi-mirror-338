{
 "cells": [
  {
   "cell_type": "markdown",
   "id": "390c70e5-04f0-4d53-818b-a97b37ec2165",
   "metadata": {},
   "source": [
    "# Combine EpiCure and DeXtrusion results\n",
    "\n",
    "Open an EpiCured movie (treated) and overlay DeXtrusions probibility maps\n",
    "\n",
    "\n",
    "*This notebook is part of EpiCure release, see https://gitlab.pasteur.fr/gletort/epicure for more informations*"
   ]
  },
  {
   "cell_type": "code",
   "execution_count": null,
   "id": "d942aae3-8441-4cde-b7b7-621b48b4ee64",
   "metadata": {},
   "outputs": [],
   "source": [
    "import epicure.epicuring as epicure\n",
    "import os\n",
    "import numpy as np\n",
    "import napari\n",
    "import tifffile as tif"
   ]
  },
  {
   "cell_type": "code",
   "execution_count": null,
   "id": "c0b46ed0-a094-41c7-97a0-2b7b157b83a0",
   "metadata": {},
   "outputs": [],
   "source": [
    "## path to input data, and names of the movie and EpiCured segmentation\n",
    "data_dir = os.path.join(\"..\", \"data\", \"selection\", \"t000-177\")\n",
    "filename = \"Ecad\"\n",
    "data_img = filename + \".tif\"\n",
    "data_seg = filename + \"_labels.tif\"\n",
    "\n",
    "infile = os.path.join(data_dir, data_img)\n",
    "segfile = os.path.join(data_dir, \"epics\", data_seg)"
   ]
  },
  {
   "cell_type": "code",
   "execution_count": null,
   "id": "9656fb1e-ee44-4d30-9f00-b9fd7bd0d449",
   "metadata": {},
   "outputs": [],
   "source": [
    "## Load the EpiCure files and movies\n",
    "epic = epicure.EpiCure()\n",
    "napari_viewer = napari.Viewer(show=False)\n",
    "epic.viewer = napari_viewer\n",
    "epic.load_movie(infile)\n",
    "epic.verbose = 0  ## minimal printing of information messages\n",
    "epic.go_epicure(\"epics\", segfile)"
   ]
  },
  {
   "cell_type": "markdown",
   "id": "4c15f3dc-a0d4-4862-aa32-6978f4437f61",
   "metadata": {},
   "source": [
    "### Do tracking if it not had been done yet"
   ]
  },
  {
   "cell_type": "code",
   "execution_count": null,
   "id": "c58a131b-aaf1-48ee-aae7-1061efc6fc15",
   "metadata": {},
   "outputs": [],
   "source": [
    "if epic.tracked == 0:\n",
    "    epic.tracking.do_tracking()       ## Performs tracking with the default parameters. If you have saved preferences, it will use it.\n",
    "    epic.save_epicures()              ## save the results in the ouput \"epics\" folder(s)"
   ]
  },
  {
   "cell_type": "markdown",
   "id": "1de8c8d6-fb14-4837-b8d5-da8c2346a4d9",
   "metadata": {},
   "source": [
    "### Search for extrusions with `Inspect track` option.\n",
    "\n",
    "It uses all the default parameters except the ones redefined here. So if other inspect options were selected in the preferences, they will also be runned (eg if `flag track apparition` is selected by default, it will be runned here."
   ]
  },
  {
   "cell_type": "code",
   "execution_count": null,
   "id": "8996a394-d325-4e38-b773-b60b0a18b556",
   "metadata": {},
   "outputs": [],
   "source": [
    "get_extrusions = False  ## Whether to inspect tracks now to search for extruions. Put to False if it has already been done\n",
    "\n",
    "if get_extrusions:\n",
    "    epic.inspecting.get_extrusions.setChecked( True )   ## Be sure to search for extrusions\n",
    "    epic.inspecting.threshold_disparition.setText( \"300\" ) ## set the threshold of cell area so that a cell disparition is considered extrusion vs potential error\n",
    "    epic.inspecting.inspect_tracks( subprogress=False)  ## go, look for extrusions (and other suspects if selected in the saved preferences)"
   ]
  },
  {
   "cell_type": "markdown",
   "id": "af698dfb-5df7-48b8-981e-c019e2a612a4",
   "metadata": {
    "tags": []
   },
   "source": [
    "### Opens up the DeXtrusion probability maps\n",
    "\n",
    "Add the probability maps from DeXtrusion into the EpiCure viewer so that events of divisions/extrusions are overlayed with the maps"
   ]
  },
  {
   "cell_type": "code",
   "execution_count": null,
   "id": "d62f0202-e60e-44ff-9364-7298e438eb10",
   "metadata": {},
   "outputs": [],
   "source": [
    "## path to the folder containing the DeXtrusion results probability maps\n",
    "dex_data = os.path.join(\"..\", \"data\", \"selection\", \"t000-177\", \"dextrusion-run\", \"results_notum_all\")\n",
    "\n",
    "for event, evtcol in zip( [\"death\", \"division\", \"sop\"], [\"magenta\", \"cyan\", \"yellow\"] ):\n",
    "    evtfile = os.path.join( dex_data, filename + \"_cell_\" + event + \"_proba.tif\" )\n",
    "    if os.path.exists( evtfile ):\n",
    "        print( \"Loading \" + evtfile )\n",
    "        evtraw = tif.TiffFile( evtfile )\n",
    "        evtmov = evtraw.asarray()\n",
    "        evtraw.close()\n",
    "        epic.viewer.add_image( evtmov, name=\"Dext_\"+event, blending=\"additive\", colormap=evtcol, scale=(1, epic.epi_metadata[\"ScaleXY\"],epic.epi_metadata[\"ScaleXY\"]) )"
   ]
  },
  {
   "cell_type": "markdown",
   "id": "a7594dec-869b-4e08-a2dc-c61e0750ddd4",
   "metadata": {},
   "source": [
    "### Detect SOP cells from DeXtrusion probability map with EpiCure intensity group option\n",
    "\n",
    "Use EpiCure feature to classify cells based on their intensity in the probability map of being a SOP cell estimated by DeXtrusion.\n",
    "\n",
    "DeXtrusion can outputs probability maps of each events (extrusion, division, SOP). \n",
    "For SOP, the probability map will be positive in nearly all the frames within the SOP cell.\n",
    "\n",
    "EpiCure can automatically classify the cells as SOP based on their intensity along the track with the `Group from track intensity` feature in the interface that calls the `group_positive_cells` function in the API."
   ]
  },
  {
   "cell_type": "code",
   "execution_count": null,
   "id": "d425c7e2-cf4b-4fb6-a696-c3fbaaedba12",
   "metadata": {},
   "outputs": [],
   "source": [
    "## Set the group name that will be attributted to SOP cells\n",
    "ind = epic.editing.group_choice.findText( \"SOP\" )\n",
    "if ind < 0:\n",
    "    epic.editing.group_choice.addItem( \"SOP\" )\n",
    "else:\n",
    "    epic.editing.group_choice.setCurrentIndex( ind )\n",
    "\n",
    "## Measure the intensity in the \"Dext_sop\" layer. Use the sum of all intensity within the cell within the track. \n",
    "#epic.editing.group_positive_cells( \"Dext_sop\", \"sum\", 0, epic.nframes-1, epic.nframes*200*100 )"
   ]
  },
  {
   "cell_type": "code",
   "execution_count": null,
   "id": "678b0162-c91e-403d-b55e-695e68c2e642",
   "metadata": {},
   "outputs": [],
   "source": [
    "epic.viewer.show()"
   ]
  },
  {
   "cell_type": "code",
   "execution_count": null,
   "id": "8a9d1d28-5582-4c7f-bccf-e00393d9aab7",
   "metadata": {},
   "outputs": [],
   "source": []
  },
  {
   "cell_type": "code",
   "execution_count": null,
   "id": "cc31e99a-d799-4c78-a793-da7446ce92b0",
   "metadata": {},
   "outputs": [],
   "source": [
    "## Get extrusion events\n",
    "\n",
    "dz = 1\n",
    "dxy = 10\n",
    "extrusions = epic.inspecting.get_events_from_type( \"extrusion\" )\n",
    "extr_intensities = []\n",
    "for extr in extrusions:\n",
    "    position, cell = epic.inspecting.get_event_infos( extr )\n",
    "    minz = max( position[0]-dz, 0 )\n",
    "    maxz = min( position[0]+dz+1, epic.nframes )\n",
    "    minx = max( position[1]-dxy, 0 )\n",
    "    maxx = min( position[1]+dxy+1, epic.imgshape2D[0] )\n",
    "    miny = max( position[2]-dxy, 0 )\n",
    "    maxy = min( position[2]+dxy+1, epic.imgshape2D[1] )\n",
    "    dex_proba = epic.viewer.layers[\"Dext_death\"].data[minz:maxz, minx:maxx, miny:maxy]\n",
    "    dex_proba = np.max( dex_proba )\n",
    "    extr_intensities.append( dex_proba )\n",
    "    if dex_proba < 50:\n",
    "        print( epic.inspecting.index_from_id(extr) )"
   ]
  },
  {
   "cell_type": "code",
   "execution_count": null,
   "id": "164ba490-5859-4cb4-b55f-7c6a5102ea5f",
   "metadata": {},
   "outputs": [],
   "source": []
  }
 ],
 "metadata": {
  "kernelspec": {
   "display_name": "epic",
   "language": "python",
   "name": "epic"
  },
  "language_info": {
   "codemirror_mode": {
    "name": "ipython",
    "version": 3
   },
   "file_extension": ".py",
   "mimetype": "text/x-python",
   "name": "python",
   "nbconvert_exporter": "python",
   "pygments_lexer": "ipython3",
   "version": "3.10.12"
  }
 },
 "nbformat": 4,
 "nbformat_minor": 5
}
