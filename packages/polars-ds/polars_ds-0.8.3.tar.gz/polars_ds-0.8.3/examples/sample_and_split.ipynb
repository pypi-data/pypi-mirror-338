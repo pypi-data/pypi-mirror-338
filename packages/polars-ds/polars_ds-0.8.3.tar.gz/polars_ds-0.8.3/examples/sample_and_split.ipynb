{
 "cells": [
  {
   "cell_type": "markdown",
   "metadata": {},
   "source": [
    "# Sampling and Splitting"
   ]
  },
  {
   "cell_type": "markdown",
   "metadata": {},
   "source": [
    "## Sampling\n",
    "\n",
    "Sampling for basic tabular datasets. (Not designed for time series as of now.)"
   ]
  },
  {
   "cell_type": "code",
   "execution_count": 1,
   "metadata": {},
   "outputs": [],
   "source": [
    "import polars as pl\n",
    "import polars_ds as pds\n",
    "import polars_ds.sample_and_split as ss"
   ]
  },
  {
   "cell_type": "code",
   "execution_count": 2,
   "metadata": {},
   "outputs": [
    {
     "data": {
      "text/html": [
       "<div><style>\n",
       ".dataframe > thead > tr,\n",
       ".dataframe > tbody > tr {\n",
       "  text-align: right;\n",
       "  white-space: pre-wrap;\n",
       "}\n",
       "</style>\n",
       "<small>shape: (5, 8)</small><table border=\"1\" class=\"dataframe\"><thead><tr><th>row_num</th><th>uniform_1</th><th>uniform_2</th><th>exp</th><th>normal</th><th>fat_normal</th><th>flags</th><th>category</th></tr><tr><td>i64</td><td>f64</td><td>f64</td><td>f64</td><td>f64</td><td>f64</td><td>i32</td><td>str</td></tr></thead><tbody><tr><td>0</td><td>6.123157</td><td>0.01365</td><td>0.485073</td><td>0.524003</td><td>-703.178104</td><td>0</td><td>&quot;A&quot;</td></tr><tr><td>1</td><td>2.775694</td><td>0.690248</td><td>2.850941</td><td>-1.966617</td><td>-143.788506</td><td>0</td><td>&quot;A&quot;</td></tr><tr><td>2</td><td>2.049679</td><td>0.557566</td><td>2.132329</td><td>-0.160845</td><td>-71.074823</td><td>1</td><td>&quot;A&quot;</td></tr><tr><td>3</td><td>11.261876</td><td>0.561843</td><td>4.737346</td><td>1.611832</td><td>-300.312419</td><td>2</td><td>&quot;A&quot;</td></tr><tr><td>4</td><td>7.955185</td><td>0.223838</td><td>1.977746</td><td>0.272536</td><td>-398.71787</td><td>1</td><td>&quot;A&quot;</td></tr></tbody></table></div>"
      ],
      "text/plain": [
       "shape: (5, 8)\n",
       "┌─────────┬───────────┬───────────┬──────────┬───────────┬─────────────┬───────┬──────────┐\n",
       "│ row_num ┆ uniform_1 ┆ uniform_2 ┆ exp      ┆ normal    ┆ fat_normal  ┆ flags ┆ category │\n",
       "│ ---     ┆ ---       ┆ ---       ┆ ---      ┆ ---       ┆ ---         ┆ ---   ┆ ---      │\n",
       "│ i64     ┆ f64       ┆ f64       ┆ f64      ┆ f64       ┆ f64         ┆ i32   ┆ str      │\n",
       "╞═════════╪═══════════╪═══════════╪══════════╪═══════════╪═════════════╪═══════╪══════════╡\n",
       "│ 0       ┆ 6.123157  ┆ 0.01365   ┆ 0.485073 ┆ 0.524003  ┆ -703.178104 ┆ 0     ┆ A        │\n",
       "│ 1       ┆ 2.775694  ┆ 0.690248  ┆ 2.850941 ┆ -1.966617 ┆ -143.788506 ┆ 0     ┆ A        │\n",
       "│ 2       ┆ 2.049679  ┆ 0.557566  ┆ 2.132329 ┆ -0.160845 ┆ -71.074823  ┆ 1     ┆ A        │\n",
       "│ 3       ┆ 11.261876 ┆ 0.561843  ┆ 4.737346 ┆ 1.611832  ┆ -300.312419 ┆ 2     ┆ A        │\n",
       "│ 4       ┆ 7.955185  ┆ 0.223838  ┆ 1.977746 ┆ 0.272536  ┆ -398.71787  ┆ 1     ┆ A        │\n",
       "└─────────┴───────────┴───────────┴──────────┴───────────┴─────────────┴───────┴──────────┘"
      ]
     },
     "execution_count": 2,
     "metadata": {},
     "output_type": "execute_result"
    }
   ],
   "source": [
    "df = pds.frame(size=100_000).with_columns(\n",
    "    pds.random(0.0, 12.0).alias(\"uniform_1\"),\n",
    "    pds.random(0.0, 1.0).alias(\"uniform_2\"),\n",
    "    pds.random_exp(0.5).alias(\"exp\"),\n",
    "    pds.random_normal(0.0, 1.0).alias(\"normal\"),\n",
    "    pds.random_normal(0.0, 1000.0).alias(\"fat_normal\"),\n",
    "    (pds.random_int(0, 3)).alias(\"flags\"),\n",
    "    pl.Series([\"A\"] * 30_000 + [\"B\"] * 30_000 + [\"C\"] * 40_000).alias(\"category\"),\n",
    ")\n",
    "df.head()"
   ]
  },
  {
   "cell_type": "code",
   "execution_count": 3,
   "metadata": {},
   "outputs": [
    {
     "data": {
      "text/plain": [
       "['row_num', 'uniform_2', 'exp']"
      ]
     },
     "execution_count": 3,
     "metadata": {},
     "output_type": "execute_result"
    }
   ],
   "source": [
    "ss.random_cols(df.columns, 2, keep = [\"row_num\"])"
   ]
  },
  {
   "cell_type": "code",
   "execution_count": 4,
   "metadata": {},
   "outputs": [
    {
     "data": {
      "text/html": [
       "<div><style>\n",
       ".dataframe > thead > tr,\n",
       ".dataframe > tbody > tr {\n",
       "  text-align: right;\n",
       "  white-space: pre-wrap;\n",
       "}\n",
       "</style>\n",
       "<small>shape: (60_000, 8)</small><table border=\"1\" class=\"dataframe\"><thead><tr><th>row_num</th><th>uniform_1</th><th>uniform_2</th><th>exp</th><th>normal</th><th>fat_normal</th><th>flags</th><th>category</th></tr><tr><td>i64</td><td>f64</td><td>f64</td><td>f64</td><td>f64</td><td>f64</td><td>i32</td><td>str</td></tr></thead><tbody><tr><td>1</td><td>2.775694</td><td>0.690248</td><td>2.850941</td><td>-1.966617</td><td>-143.788506</td><td>0</td><td>&quot;A&quot;</td></tr><tr><td>2</td><td>2.049679</td><td>0.557566</td><td>2.132329</td><td>-0.160845</td><td>-71.074823</td><td>1</td><td>&quot;A&quot;</td></tr><tr><td>3</td><td>11.261876</td><td>0.561843</td><td>4.737346</td><td>1.611832</td><td>-300.312419</td><td>2</td><td>&quot;A&quot;</td></tr><tr><td>4</td><td>7.955185</td><td>0.223838</td><td>1.977746</td><td>0.272536</td><td>-398.71787</td><td>1</td><td>&quot;A&quot;</td></tr><tr><td>6</td><td>3.576043</td><td>0.148358</td><td>0.240111</td><td>-1.077243</td><td>-1401.035922</td><td>0</td><td>&quot;A&quot;</td></tr><tr><td>&hellip;</td><td>&hellip;</td><td>&hellip;</td><td>&hellip;</td><td>&hellip;</td><td>&hellip;</td><td>&hellip;</td><td>&hellip;</td></tr><tr><td>99990</td><td>1.210644</td><td>0.245434</td><td>2.107333</td><td>-0.943427</td><td>-105.682645</td><td>0</td><td>&quot;C&quot;</td></tr><tr><td>99994</td><td>7.409102</td><td>0.831871</td><td>1.337031</td><td>0.203354</td><td>-616.625619</td><td>0</td><td>&quot;C&quot;</td></tr><tr><td>99995</td><td>2.374191</td><td>0.994781</td><td>0.468766</td><td>-1.096312</td><td>579.203078</td><td>0</td><td>&quot;C&quot;</td></tr><tr><td>99996</td><td>9.601129</td><td>0.718286</td><td>1.247733</td><td>1.518555</td><td>1059.535828</td><td>0</td><td>&quot;C&quot;</td></tr><tr><td>99997</td><td>4.247473</td><td>0.057653</td><td>0.554583</td><td>1.383503</td><td>-925.246072</td><td>0</td><td>&quot;C&quot;</td></tr></tbody></table></div>"
      ],
      "text/plain": [
       "shape: (60_000, 8)\n",
       "┌─────────┬───────────┬───────────┬──────────┬───────────┬──────────────┬───────┬──────────┐\n",
       "│ row_num ┆ uniform_1 ┆ uniform_2 ┆ exp      ┆ normal    ┆ fat_normal   ┆ flags ┆ category │\n",
       "│ ---     ┆ ---       ┆ ---       ┆ ---      ┆ ---       ┆ ---          ┆ ---   ┆ ---      │\n",
       "│ i64     ┆ f64       ┆ f64       ┆ f64      ┆ f64       ┆ f64          ┆ i32   ┆ str      │\n",
       "╞═════════╪═══════════╪═══════════╪══════════╪═══════════╪══════════════╪═══════╪══════════╡\n",
       "│ 1       ┆ 2.775694  ┆ 0.690248  ┆ 2.850941 ┆ -1.966617 ┆ -143.788506  ┆ 0     ┆ A        │\n",
       "│ 2       ┆ 2.049679  ┆ 0.557566  ┆ 2.132329 ┆ -0.160845 ┆ -71.074823   ┆ 1     ┆ A        │\n",
       "│ 3       ┆ 11.261876 ┆ 0.561843  ┆ 4.737346 ┆ 1.611832  ┆ -300.312419  ┆ 2     ┆ A        │\n",
       "│ 4       ┆ 7.955185  ┆ 0.223838  ┆ 1.977746 ┆ 0.272536  ┆ -398.71787   ┆ 1     ┆ A        │\n",
       "│ 6       ┆ 3.576043  ┆ 0.148358  ┆ 0.240111 ┆ -1.077243 ┆ -1401.035922 ┆ 0     ┆ A        │\n",
       "│ …       ┆ …         ┆ …         ┆ …        ┆ …         ┆ …            ┆ …     ┆ …        │\n",
       "│ 99990   ┆ 1.210644  ┆ 0.245434  ┆ 2.107333 ┆ -0.943427 ┆ -105.682645  ┆ 0     ┆ C        │\n",
       "│ 99994   ┆ 7.409102  ┆ 0.831871  ┆ 1.337031 ┆ 0.203354  ┆ -616.625619  ┆ 0     ┆ C        │\n",
       "│ 99995   ┆ 2.374191  ┆ 0.994781  ┆ 0.468766 ┆ -1.096312 ┆ 579.203078   ┆ 0     ┆ C        │\n",
       "│ 99996   ┆ 9.601129  ┆ 0.718286  ┆ 1.247733 ┆ 1.518555  ┆ 1059.535828  ┆ 0     ┆ C        │\n",
       "│ 99997   ┆ 4.247473  ┆ 0.057653  ┆ 0.554583 ┆ 1.383503  ┆ -925.246072  ┆ 0     ┆ C        │\n",
       "└─────────┴───────────┴───────────┴──────────┴───────────┴──────────────┴───────┴──────────┘"
      ]
     },
     "execution_count": 4,
     "metadata": {},
     "output_type": "execute_result"
    }
   ],
   "source": [
    "# Random Sample\n",
    "ss.sample(df, 0.6) # by ratio"
   ]
  },
  {
   "cell_type": "code",
   "execution_count": 5,
   "metadata": {},
   "outputs": [
    {
     "data": {
      "text/html": [
       "<div><style>\n",
       ".dataframe > thead > tr,\n",
       ".dataframe > tbody > tr {\n",
       "  text-align: right;\n",
       "  white-space: pre-wrap;\n",
       "}\n",
       "</style>\n",
       "<small>shape: (30_000, 8)</small><table border=\"1\" class=\"dataframe\"><thead><tr><th>row_num</th><th>uniform_1</th><th>uniform_2</th><th>exp</th><th>normal</th><th>fat_normal</th><th>flags</th><th>category</th></tr><tr><td>i64</td><td>f64</td><td>f64</td><td>f64</td><td>f64</td><td>f64</td><td>i32</td><td>str</td></tr></thead><tbody><tr><td>1</td><td>2.775694</td><td>0.690248</td><td>2.850941</td><td>-1.966617</td><td>-143.788506</td><td>0</td><td>&quot;A&quot;</td></tr><tr><td>2</td><td>2.049679</td><td>0.557566</td><td>2.132329</td><td>-0.160845</td><td>-71.074823</td><td>1</td><td>&quot;A&quot;</td></tr><tr><td>5</td><td>1.6969</td><td>0.033205</td><td>1.538025</td><td>1.208673</td><td>-445.691216</td><td>0</td><td>&quot;A&quot;</td></tr><tr><td>7</td><td>8.997335</td><td>0.862542</td><td>0.442738</td><td>1.143512</td><td>1912.542472</td><td>1</td><td>&quot;A&quot;</td></tr><tr><td>9</td><td>6.104426</td><td>0.953088</td><td>4.059342</td><td>-1.483365</td><td>-1665.720052</td><td>0</td><td>&quot;A&quot;</td></tr><tr><td>&hellip;</td><td>&hellip;</td><td>&hellip;</td><td>&hellip;</td><td>&hellip;</td><td>&hellip;</td><td>&hellip;</td><td>&hellip;</td></tr><tr><td>99990</td><td>1.210644</td><td>0.245434</td><td>2.107333</td><td>-0.943427</td><td>-105.682645</td><td>0</td><td>&quot;C&quot;</td></tr><tr><td>99995</td><td>2.374191</td><td>0.994781</td><td>0.468766</td><td>-1.096312</td><td>579.203078</td><td>0</td><td>&quot;C&quot;</td></tr><tr><td>99997</td><td>4.247473</td><td>0.057653</td><td>0.554583</td><td>1.383503</td><td>-925.246072</td><td>0</td><td>&quot;C&quot;</td></tr><tr><td>99998</td><td>1.48079</td><td>0.993568</td><td>3.679975</td><td>1.270019</td><td>1459.775558</td><td>1</td><td>&quot;C&quot;</td></tr><tr><td>99999</td><td>5.102952</td><td>0.268411</td><td>1.89259</td><td>1.530195</td><td>225.941844</td><td>2</td><td>&quot;C&quot;</td></tr></tbody></table></div>"
      ],
      "text/plain": [
       "shape: (30_000, 8)\n",
       "┌─────────┬───────────┬───────────┬──────────┬───────────┬──────────────┬───────┬──────────┐\n",
       "│ row_num ┆ uniform_1 ┆ uniform_2 ┆ exp      ┆ normal    ┆ fat_normal   ┆ flags ┆ category │\n",
       "│ ---     ┆ ---       ┆ ---       ┆ ---      ┆ ---       ┆ ---          ┆ ---   ┆ ---      │\n",
       "│ i64     ┆ f64       ┆ f64       ┆ f64      ┆ f64       ┆ f64          ┆ i32   ┆ str      │\n",
       "╞═════════╪═══════════╪═══════════╪══════════╪═══════════╪══════════════╪═══════╪══════════╡\n",
       "│ 1       ┆ 2.775694  ┆ 0.690248  ┆ 2.850941 ┆ -1.966617 ┆ -143.788506  ┆ 0     ┆ A        │\n",
       "│ 2       ┆ 2.049679  ┆ 0.557566  ┆ 2.132329 ┆ -0.160845 ┆ -71.074823   ┆ 1     ┆ A        │\n",
       "│ 5       ┆ 1.6969    ┆ 0.033205  ┆ 1.538025 ┆ 1.208673  ┆ -445.691216  ┆ 0     ┆ A        │\n",
       "│ 7       ┆ 8.997335  ┆ 0.862542  ┆ 0.442738 ┆ 1.143512  ┆ 1912.542472  ┆ 1     ┆ A        │\n",
       "│ 9       ┆ 6.104426  ┆ 0.953088  ┆ 4.059342 ┆ -1.483365 ┆ -1665.720052 ┆ 0     ┆ A        │\n",
       "│ …       ┆ …         ┆ …         ┆ …        ┆ …         ┆ …            ┆ …     ┆ …        │\n",
       "│ 99990   ┆ 1.210644  ┆ 0.245434  ┆ 2.107333 ┆ -0.943427 ┆ -105.682645  ┆ 0     ┆ C        │\n",
       "│ 99995   ┆ 2.374191  ┆ 0.994781  ┆ 0.468766 ┆ -1.096312 ┆ 579.203078   ┆ 0     ┆ C        │\n",
       "│ 99997   ┆ 4.247473  ┆ 0.057653  ┆ 0.554583 ┆ 1.383503  ┆ -925.246072  ┆ 0     ┆ C        │\n",
       "│ 99998   ┆ 1.48079   ┆ 0.993568  ┆ 3.679975 ┆ 1.270019  ┆ 1459.775558  ┆ 1     ┆ C        │\n",
       "│ 99999   ┆ 5.102952  ┆ 0.268411  ┆ 1.89259  ┆ 1.530195  ┆ 225.941844   ┆ 2     ┆ C        │\n",
       "└─────────┴───────────┴───────────┴──────────┴───────────┴──────────────┴───────┴──────────┘"
      ]
     },
     "execution_count": 5,
     "metadata": {},
     "output_type": "execute_result"
    }
   ],
   "source": [
    "ss.sample(df, 30_000) # by count"
   ]
  },
  {
   "cell_type": "code",
   "execution_count": 6,
   "metadata": {},
   "outputs": [
    {
     "data": {
      "text/html": [
       "<div><style>\n",
       ".dataframe > thead > tr,\n",
       ".dataframe > tbody > tr {\n",
       "  text-align: right;\n",
       "  white-space: pre-wrap;\n",
       "}\n",
       "</style>\n",
       "<small>shape: (3, 2)</small><table border=\"1\" class=\"dataframe\"><thead><tr><th>flags</th><th>len</th></tr><tr><td>i32</td><td>u32</td></tr></thead><tbody><tr><td>0</td><td>33569</td></tr><tr><td>1</td><td>33084</td></tr><tr><td>2</td><td>33347</td></tr></tbody></table></div>"
      ],
      "text/plain": [
       "shape: (3, 2)\n",
       "┌───────┬───────┐\n",
       "│ flags ┆ len   │\n",
       "│ ---   ┆ ---   │\n",
       "│ i32   ┆ u32   │\n",
       "╞═══════╪═══════╡\n",
       "│ 0     ┆ 33569 │\n",
       "│ 1     ┆ 33084 │\n",
       "│ 2     ┆ 33347 │\n",
       "└───────┴───────┘"
      ]
     },
     "execution_count": 6,
     "metadata": {},
     "output_type": "execute_result"
    }
   ],
   "source": [
    "df.group_by(\"flags\").len().sort(\"flags\")"
   ]
  },
  {
   "cell_type": "code",
   "execution_count": 7,
   "metadata": {},
   "outputs": [
    {
     "data": {
      "text/html": [
       "<div><style>\n",
       ".dataframe > thead > tr,\n",
       ".dataframe > tbody > tr {\n",
       "  text-align: right;\n",
       "  white-space: pre-wrap;\n",
       "}\n",
       "</style>\n",
       "<small>shape: (3, 2)</small><table border=\"1\" class=\"dataframe\"><thead><tr><th>flags</th><th>len</th></tr><tr><td>i32</td><td>u32</td></tr></thead><tbody><tr><td>0</td><td>16784</td></tr><tr><td>1</td><td>33084</td></tr><tr><td>2</td><td>33347</td></tr></tbody></table></div>"
      ],
      "text/plain": [
       "shape: (3, 2)\n",
       "┌───────┬───────┐\n",
       "│ flags ┆ len   │\n",
       "│ ---   ┆ ---   │\n",
       "│ i32   ┆ u32   │\n",
       "╞═══════╪═══════╡\n",
       "│ 0     ┆ 16784 │\n",
       "│ 1     ┆ 33084 │\n",
       "│ 2     ┆ 33347 │\n",
       "└───────┴───────┘"
      ]
     },
     "execution_count": 7,
     "metadata": {},
     "output_type": "execute_result"
    }
   ],
   "source": [
    "# Downsample on one group\n",
    "sa1 = ss.downsample(\n",
    "    df, \n",
    "    (pl.col(\"flags\") == 0, 0.5)\n",
    ")\n",
    "sa1.group_by(\"flags\").len().sort(\"flags\")"
   ]
  },
  {
   "cell_type": "code",
   "execution_count": 8,
   "metadata": {},
   "outputs": [
    {
     "data": {
      "text/html": [
       "<div><style>\n",
       ".dataframe > thead > tr,\n",
       ".dataframe > tbody > tr {\n",
       "  text-align: right;\n",
       "  white-space: pre-wrap;\n",
       "}\n",
       "</style>\n",
       "<small>shape: (3, 2)</small><table border=\"1\" class=\"dataframe\"><thead><tr><th>flags</th><th>len</th></tr><tr><td>i32</td><td>u32</td></tr></thead><tbody><tr><td>0</td><td>16784</td></tr><tr><td>1</td><td>9925</td></tr><tr><td>2</td><td>13338</td></tr></tbody></table></div>"
      ],
      "text/plain": [
       "shape: (3, 2)\n",
       "┌───────┬───────┐\n",
       "│ flags ┆ len   │\n",
       "│ ---   ┆ ---   │\n",
       "│ i32   ┆ u32   │\n",
       "╞═══════╪═══════╡\n",
       "│ 0     ┆ 16784 │\n",
       "│ 1     ┆ 9925  │\n",
       "│ 2     ┆ 13338 │\n",
       "└───────┴───────┘"
      ]
     },
     "execution_count": 8,
     "metadata": {},
     "output_type": "execute_result"
    }
   ],
   "source": [
    "# Downsample on multiple groups\n",
    "sa2 = ss.downsample(\n",
    "    df, \n",
    "    (pl.col(\"flags\") == 0, 0.5),\n",
    "    (pl.col(\"flags\") == 1, 0.3),\n",
    "    (pl.col(\"flags\") == 2, 0.4),\n",
    ")\n",
    "sa2.group_by(\"flags\").len().sort(\"flags\")"
   ]
  },
  {
   "cell_type": "code",
   "execution_count": 9,
   "metadata": {},
   "outputs": [
    {
     "data": {
      "text/html": [
       "<div><style>\n",
       ".dataframe > thead > tr,\n",
       ".dataframe > tbody > tr {\n",
       "  text-align: right;\n",
       "  white-space: pre-wrap;\n",
       "}\n",
       "</style>\n",
       "<small>shape: (3, 2)</small><table border=\"1\" class=\"dataframe\"><thead><tr><th>category</th><th>len</th></tr><tr><td>str</td><td>u32</td></tr></thead><tbody><tr><td>&quot;A&quot;</td><td>30000</td></tr><tr><td>&quot;B&quot;</td><td>30000</td></tr><tr><td>&quot;C&quot;</td><td>40000</td></tr></tbody></table></div>"
      ],
      "text/plain": [
       "shape: (3, 2)\n",
       "┌──────────┬───────┐\n",
       "│ category ┆ len   │\n",
       "│ ---      ┆ ---   │\n",
       "│ str      ┆ u32   │\n",
       "╞══════════╪═══════╡\n",
       "│ A        ┆ 30000 │\n",
       "│ B        ┆ 30000 │\n",
       "│ C        ┆ 40000 │\n",
       "└──────────┴───────┘"
      ]
     },
     "execution_count": 9,
     "metadata": {},
     "output_type": "execute_result"
    }
   ],
   "source": [
    "df.group_by(\"category\").len().sort(\"category\")"
   ]
  },
  {
   "cell_type": "code",
   "execution_count": 10,
   "metadata": {},
   "outputs": [
    {
     "data": {
      "text/html": [
       "<div><style>\n",
       ".dataframe > thead > tr,\n",
       ".dataframe > tbody > tr {\n",
       "  text-align: right;\n",
       "  white-space: pre-wrap;\n",
       "}\n",
       "</style>\n",
       "<small>shape: (3, 2)</small><table border=\"1\" class=\"dataframe\"><thead><tr><th>category</th><th>len</th></tr><tr><td>str</td><td>u32</td></tr></thead><tbody><tr><td>&quot;A&quot;</td><td>30000</td></tr><tr><td>&quot;B&quot;</td><td>30000</td></tr><tr><td>&quot;C&quot;</td><td>30000</td></tr></tbody></table></div>"
      ],
      "text/plain": [
       "shape: (3, 2)\n",
       "┌──────────┬───────┐\n",
       "│ category ┆ len   │\n",
       "│ ---      ┆ ---   │\n",
       "│ str      ┆ u32   │\n",
       "╞══════════╪═══════╡\n",
       "│ A        ┆ 30000 │\n",
       "│ B        ┆ 30000 │\n",
       "│ C        ┆ 30000 │\n",
       "└──────────┴───────┘"
      ]
     },
     "execution_count": 10,
     "metadata": {},
     "output_type": "execute_result"
    }
   ],
   "source": [
    "# Volume neutral by each category, will take the greatest possible value so that we get neutral volume.\n",
    "vn = ss.volume_neutral(\n",
    "    df,\n",
    "    by = pl.col(\"category\"),\n",
    ")\n",
    "vn.group_by(\"category\").len().sort(\"category\")"
   ]
  },
  {
   "cell_type": "code",
   "execution_count": 11,
   "metadata": {},
   "outputs": [
    {
     "data": {
      "text/html": [
       "<div><style>\n",
       ".dataframe > thead > tr,\n",
       ".dataframe > tbody > tr {\n",
       "  text-align: right;\n",
       "  white-space: pre-wrap;\n",
       "}\n",
       "</style>\n",
       "<small>shape: (3, 2)</small><table border=\"1\" class=\"dataframe\"><thead><tr><th>category</th><th>len</th></tr><tr><td>str</td><td>u32</td></tr></thead><tbody><tr><td>&quot;A&quot;</td><td>10000</td></tr><tr><td>&quot;B&quot;</td><td>10000</td></tr><tr><td>&quot;C&quot;</td><td>10000</td></tr></tbody></table></div>"
      ],
      "text/plain": [
       "shape: (3, 2)\n",
       "┌──────────┬───────┐\n",
       "│ category ┆ len   │\n",
       "│ ---      ┆ ---   │\n",
       "│ str      ┆ u32   │\n",
       "╞══════════╪═══════╡\n",
       "│ A        ┆ 10000 │\n",
       "│ B        ┆ 10000 │\n",
       "│ C        ┆ 10000 │\n",
       "└──────────┴───────┘"
      ]
     },
     "execution_count": 11,
     "metadata": {},
     "output_type": "execute_result"
    }
   ],
   "source": [
    "# Volume neutral (10_000) by each category\n",
    "vn = ss.volume_neutral(\n",
    "    df,\n",
    "    by = pl.col(\"category\"),\n",
    "    target_volume = 10_000\n",
    ")\n",
    "vn.group_by(\"category\").len().sort(\"category\")"
   ]
  },
  {
   "cell_type": "code",
   "execution_count": 12,
   "metadata": {},
   "outputs": [
    {
     "data": {
      "text/html": [
       "<div><style>\n",
       ".dataframe > thead > tr,\n",
       ".dataframe > tbody > tr {\n",
       "  text-align: right;\n",
       "  white-space: pre-wrap;\n",
       "}\n",
       "</style>\n",
       "<small>shape: (3, 2)</small><table border=\"1\" class=\"dataframe\"><thead><tr><th>category</th><th>len</th></tr><tr><td>str</td><td>u32</td></tr></thead><tbody><tr><td>&quot;A&quot;</td><td>10000</td></tr><tr><td>&quot;B&quot;</td><td>4219</td></tr><tr><td>&quot;C&quot;</td><td>5781</td></tr></tbody></table></div>"
      ],
      "text/plain": [
       "shape: (3, 2)\n",
       "┌──────────┬───────┐\n",
       "│ category ┆ len   │\n",
       "│ ---      ┆ ---   │\n",
       "│ str      ┆ u32   │\n",
       "╞══════════╪═══════╡\n",
       "│ A        ┆ 10000 │\n",
       "│ B        ┆ 4219  │\n",
       "│ C        ┆ 5781  │\n",
       "└──────────┴───────┘"
      ]
     },
     "execution_count": 12,
     "metadata": {},
     "output_type": "execute_result"
    }
   ],
   "source": [
    "# Volume neutral (10_000) by a more complicated condition\n",
    "vn = ss.volume_neutral(\n",
    "    df,\n",
    "    by = pl.col(\"category\") == \"A\",\n",
    "    target_volume = 10_000\n",
    ") # This makes sense because count for B + count for C = 10_000\n",
    "vn.group_by(\"category\").len().sort(\"category\")"
   ]
  },
  {
   "cell_type": "code",
   "execution_count": 13,
   "metadata": {},
   "outputs": [
    {
     "data": {
      "text/html": [
       "<div><style>\n",
       ".dataframe > thead > tr,\n",
       ".dataframe > tbody > tr {\n",
       "  text-align: right;\n",
       "  white-space: pre-wrap;\n",
       "}\n",
       "</style>\n",
       "<small>shape: (9, 3)</small><table border=\"1\" class=\"dataframe\"><thead><tr><th>category</th><th>flags</th><th>len</th></tr><tr><td>str</td><td>i32</td><td>u32</td></tr></thead><tbody><tr><td>&quot;A&quot;</td><td>0</td><td>9954</td></tr><tr><td>&quot;A&quot;</td><td>1</td><td>9954</td></tr><tr><td>&quot;A&quot;</td><td>2</td><td>9954</td></tr><tr><td>&quot;B&quot;</td><td>0</td><td>9910</td></tr><tr><td>&quot;B&quot;</td><td>1</td><td>9910</td></tr><tr><td>&quot;B&quot;</td><td>2</td><td>9910</td></tr><tr><td>&quot;C&quot;</td><td>0</td><td>13215</td></tr><tr><td>&quot;C&quot;</td><td>1</td><td>13215</td></tr><tr><td>&quot;C&quot;</td><td>2</td><td>13215</td></tr></tbody></table></div>"
      ],
      "text/plain": [
       "shape: (9, 3)\n",
       "┌──────────┬───────┬───────┐\n",
       "│ category ┆ flags ┆ len   │\n",
       "│ ---      ┆ ---   ┆ ---   │\n",
       "│ str      ┆ i32   ┆ u32   │\n",
       "╞══════════╪═══════╪═══════╡\n",
       "│ A        ┆ 0     ┆ 9954  │\n",
       "│ A        ┆ 1     ┆ 9954  │\n",
       "│ A        ┆ 2     ┆ 9954  │\n",
       "│ B        ┆ 0     ┆ 9910  │\n",
       "│ B        ┆ 1     ┆ 9910  │\n",
       "│ B        ┆ 2     ┆ 9910  │\n",
       "│ C        ┆ 0     ┆ 13215 │\n",
       "│ C        ┆ 1     ┆ 13215 │\n",
       "│ C        ┆ 2     ┆ 13215 │\n",
       "└──────────┴───────┴───────┘"
      ]
     },
     "execution_count": 13,
     "metadata": {},
     "output_type": "execute_result"
    }
   ],
   "source": [
    "# Volume neutral sample with a control level. Volume neutral happens under the category level, meaning\n",
    "# the volume for each flag in each category is neutral.\n",
    "vn = ss.volume_neutral(\n",
    "    df,\n",
    "    by = pl.col(\"flags\"),\n",
    "    control = pl.col(\"category\")\n",
    ") \n",
    "vn.group_by([\"category\", \"flags\"]).len().sort([\"category\", \"flags\"])"
   ]
  },
  {
   "cell_type": "code",
   "execution_count": 14,
   "metadata": {},
   "outputs": [
    {
     "data": {
      "text/html": [
       "<div><style>\n",
       ".dataframe > thead > tr,\n",
       ".dataframe > tbody > tr {\n",
       "  text-align: right;\n",
       "  white-space: pre-wrap;\n",
       "}\n",
       "</style>\n",
       "<small>shape: (9, 3)</small><table border=\"1\" class=\"dataframe\"><thead><tr><th>category</th><th>flags</th><th>len</th></tr><tr><td>str</td><td>i32</td><td>u32</td></tr></thead><tbody><tr><td>&quot;A&quot;</td><td>0</td><td>9954</td></tr><tr><td>&quot;A&quot;</td><td>1</td><td>9954</td></tr><tr><td>&quot;A&quot;</td><td>2</td><td>9954</td></tr><tr><td>&quot;B&quot;</td><td>0</td><td>9910</td></tr><tr><td>&quot;B&quot;</td><td>1</td><td>9910</td></tr><tr><td>&quot;B&quot;</td><td>2</td><td>9910</td></tr><tr><td>&quot;C&quot;</td><td>0</td><td>10000</td></tr><tr><td>&quot;C&quot;</td><td>1</td><td>10000</td></tr><tr><td>&quot;C&quot;</td><td>2</td><td>10000</td></tr></tbody></table></div>"
      ],
      "text/plain": [
       "shape: (9, 3)\n",
       "┌──────────┬───────┬───────┐\n",
       "│ category ┆ flags ┆ len   │\n",
       "│ ---      ┆ ---   ┆ ---   │\n",
       "│ str      ┆ i32   ┆ u32   │\n",
       "╞══════════╪═══════╪═══════╡\n",
       "│ A        ┆ 0     ┆ 9954  │\n",
       "│ A        ┆ 1     ┆ 9954  │\n",
       "│ A        ┆ 2     ┆ 9954  │\n",
       "│ B        ┆ 0     ┆ 9910  │\n",
       "│ B        ┆ 1     ┆ 9910  │\n",
       "│ B        ┆ 2     ┆ 9910  │\n",
       "│ C        ┆ 0     ┆ 10000 │\n",
       "│ C        ┆ 1     ┆ 10000 │\n",
       "│ C        ┆ 2     ┆ 10000 │\n",
       "└──────────┴───────┴───────┘"
      ]
     },
     "execution_count": 14,
     "metadata": {},
     "output_type": "execute_result"
    }
   ],
   "source": [
    "# We may not meet the target volume for all categories.\n",
    "vn = ss.volume_neutral(\n",
    "    df,\n",
    "    by = pl.col(\"flags\"),\n",
    "    control = pl.col(\"category\"),\n",
    "    target_volume= 10_000\n",
    ") # \n",
    "vn.group_by([\"category\", \"flags\"]).len().sort([\"category\", \"flags\"])"
   ]
  },
  {
   "cell_type": "markdown",
   "metadata": {},
   "source": [
    "## Splitting\n",
    "\n",
    "Split by ratios."
   ]
  },
  {
   "cell_type": "code",
   "execution_count": 15,
   "metadata": {},
   "outputs": [
    {
     "name": "stdout",
     "output_type": "stream",
     "text": [
      "(100000, 8)\n",
      "(60000, 8)\n",
      "(40000, 8)\n"
     ]
    }
   ],
   "source": [
    "print(df.shape)\n",
    "train, test = ss.split_by_ratio(\n",
    "    df,\n",
    "    split_ratio = 0.6\n",
    ")\n",
    "print(train.shape)\n",
    "print(test.shape)\n"
   ]
  },
  {
   "cell_type": "code",
   "execution_count": 16,
   "metadata": {},
   "outputs": [
    {
     "name": "stdout",
     "output_type": "stream",
     "text": [
      "(100000, 8)\n",
      "(25000, 8)\n",
      "(40000, 8)\n",
      "(10000, 8)\n",
      "(25000, 8)\n"
     ]
    }
   ],
   "source": [
    "print(df.shape)\n",
    "for frame in ss.split_by_ratio(df, split_ratio = [0.25, 0.4, 0.10, 0.25]):\n",
    "    print(frame.shape)"
   ]
  },
  {
   "cell_type": "code",
   "execution_count": null,
   "metadata": {},
   "outputs": [],
   "source": []
  }
 ],
 "metadata": {
  "kernelspec": {
   "display_name": ".venv",
   "language": "python",
   "name": "python3"
  },
  "language_info": {
   "codemirror_mode": {
    "name": "ipython",
    "version": 3
   },
   "file_extension": ".py",
   "mimetype": "text/x-python",
   "name": "python",
   "nbconvert_exporter": "python",
   "pygments_lexer": "ipython3",
   "version": "3.13.1"
  }
 },
 "nbformat": 4,
 "nbformat_minor": 2
}
