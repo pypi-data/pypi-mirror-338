{
 "cells": [
  {
   "cell_type": "markdown",
   "id": "ad425368-8b5d-4ce3-9565-e6f691828c92",
   "metadata": {},
   "source": [
    "**Welcome to pyLIMA (v2) tutorial 5!**\n",
    "\n",
    "In this tutorial you will learn how to fit an actual planetary event using real data.\n",
    "The event is OB150966 and the relevant publication is:\n",
    "    https://ui.adsabs.harvard.edu/abs/2016ApJ...819...93S/\n",
    "\n",
    "Please take some time to familiarize yourself with the pyLIMA documentation."
   ]
  },
  {
   "cell_type": "code",
   "execution_count": null,
   "id": "5eea3243-8095-47db-b9a5-1dde7e39d8b3",
   "metadata": {},
   "outputs": [],
   "source": [
    "### First import the required libraries\n",
    "%matplotlib widget\n",
    "\n",
    "import matplotlib.pyplot as plt\n",
    "import numpy as np\n",
    "from pyLIMA.fits import DE_fit\n",
    "from pyLIMA.fits import TRF_fit\n",
    "from pyLIMA.models import PSPL_model\n",
    "from pyLIMA.models import USBL_model, pyLIMA_fancy_parameters\n",
    "from pyLIMA.outputs import pyLIMA_plots\n",
    "\n",
    "from pyLIMA import event\n",
    "from pyLIMA import telescopes"
   ]
  },
  {
   "cell_type": "markdown",
   "id": "49d93028-1915-4bb3-8913-60fb6d3c874a",
   "metadata": {},
   "source": [
    "Create a new **EVENT** object and give it a name.\n",
    "\n",
    "Here RA and DEC matter (because the event has a strong parallax signal) !!! "
   ]
  },
  {
   "cell_type": "code",
   "execution_count": null,
   "id": "80824802-5511-412b-b8c2-477d54835674",
   "metadata": {},
   "outputs": [],
   "source": [
    "your_event = event.Event(ra=268.75425, dec=-29.047111111111114)\n",
    "your_event.name = 'OB150966'"
   ]
  },
  {
   "cell_type": "markdown",
   "id": "3e5af688-b864-410c-87da-beab64596484",
   "metadata": {},
   "source": [
    "You now need to associate all data sets with this **EVENT**. \n",
    "There are 11 sets of observations and we want to include all of them. \n",
    "You could do this in a loop or load each of them individually as in this example."
   ]
  },
  {
   "cell_type": "markdown",
   "id": "78242293-af1b-4e23-bf64-aff155271843",
   "metadata": {},
   "source": [
    "The data sets are already pre-formatted: \n",
    "column 1 is the date, column 2 the magnitude and column 3 \n",
    "the uncertainty in the magnitude."
   ]
  },
  {
   "cell_type": "code",
   "execution_count": null,
   "id": "cef9a985-a01c-48e0-a625-a66d50e15265",
   "metadata": {},
   "outputs": [],
   "source": [
    "data_1 = np.loadtxt('./data/OGLE_OB150966.dat')\n",
    "telescope_1 = telescopes.Telescope(name = 'OGLE', \n",
    "                                   camera_filter = 'I',\n",
    "                                   light_curve = data_1.astype(float),\n",
    "                                   light_curve_names = ['time','mag','err_mag'],\n",
    "                                   light_curve_units = ['JD','mag','mag'])"
   ]
  },
  {
   "cell_type": "code",
   "execution_count": null,
   "id": "48164204-9c9b-4fc5-9108-a1456d20cc97",
   "metadata": {},
   "outputs": [],
   "source": [
    "data_2 = np.loadtxt('./data/MOA_OB150966.dat')\n",
    "telescope_2 = telescopes.Telescope(name = 'MOA', \n",
    "                                   camera_filter = 'I+R',\n",
    "                                   light_curve = data_2.astype(float),\n",
    "                                   light_curve_names = ['time','mag','err_mag'],\n",
    "                                   light_curve_units = ['JD','mag','mag'])"
   ]
  },
  {
   "cell_type": "code",
   "execution_count": null,
   "id": "03c87b32-e773-4cbf-a58d-418a2c08af00",
   "metadata": {},
   "outputs": [],
   "source": [
    "data_3 = np.loadtxt('./data/SPITZER_OB150966.dat')\n",
    "telescope_3 = telescopes.Telescope(name = 'SPITZER', \n",
    "                                   camera_filter = 'IRAC1',\n",
    "                                   light_curve = data_3.astype(float),\n",
    "                                   light_curve_names = ['time','mag','err_mag'],\n",
    "                                   light_curve_units = ['JD','mag','mag'])"
   ]
  },
  {
   "cell_type": "markdown",
   "id": "41f59260-4806-4dae-bdc0-ff7a579d3f21",
   "metadata": {},
   "source": [
    "<font color='green'>**IMPORTANT: Tell the code that SPITZER is in space:**</font>"
   ]
  },
  {
   "cell_type": "code",
   "execution_count": null,
   "id": "3bb6869f-2be8-484e-b2e3-e54ecc695789",
   "metadata": {},
   "outputs": [],
   "source": [
    "telescope_3.location = 'Space'\n",
    "telescope_3.spacecraft_name = 'Spitzer'"
   ]
  },
  {
   "cell_type": "code",
   "execution_count": null,
   "id": "fda8c565-f1fe-44c9-bff4-959e13bf2059",
   "metadata": {},
   "outputs": [],
   "source": [
    "data_4 = np.loadtxt('./data/DANISH_OB150966.dat')\n",
    "telescope_4 = telescopes.Telescope(name = 'DANISH', \n",
    "                                   camera_filter = 'Z+I',\n",
    "                                   light_curve = data_4.astype(float),\n",
    "                                   light_curve_names = ['time','mag','err_mag'],\n",
    "                                   light_curve_units = ['JD','mag','mag'])"
   ]
  },
  {
   "cell_type": "code",
   "execution_count": null,
   "id": "3b542e14-0324-4b97-9d3a-f4bee1014542",
   "metadata": {},
   "outputs": [],
   "source": [
    "data_5 = np.loadtxt('./data/LCO_CTIO_A_OB150966.dat')\n",
    "telescope_5 = telescopes.Telescope(name = 'LCO_CTIO_A', \n",
    "                                   camera_filter = 'I',\n",
    "                                   light_curve = data_5.astype(float),\n",
    "                                   light_curve_names = ['time','mag','err_mag'],\n",
    "                                   light_curve_units = ['JD','mag','mag'])"
   ]
  },
  {
   "cell_type": "code",
   "execution_count": null,
   "id": "bcf84f9a-72d7-42aa-8da1-433bcc471668",
   "metadata": {},
   "outputs": [],
   "source": [
    "data_6 = np.loadtxt('./data/LCO_CTIO_B_OB150966.dat')\n",
    "telescope_6 = telescopes.Telescope(name = 'LCO_CTIO_B', \n",
    "                                   camera_filter = 'I',\n",
    "                                   light_curve = data_6.astype(float),\n",
    "                                   light_curve_names = ['time','mag','err_mag'],\n",
    "                                   light_curve_units = ['JD','mag','mag'])"
   ]
  },
  {
   "cell_type": "code",
   "execution_count": null,
   "id": "15437a38-095b-45d0-965e-9a0f2a923810",
   "metadata": {},
   "outputs": [],
   "source": [
    "data_7 = np.loadtxt('./data/LCO_CTIO_OB150966.dat')\n",
    "telescope_7 = telescopes.Telescope(name = 'LCO_CTIO', \n",
    "                                   camera_filter = 'I',\n",
    "                                   light_curve = data_7.astype(float),\n",
    "                                   light_curve_names = ['time','mag','err_mag'],\n",
    "                                   light_curve_units = ['JD','mag','mag'])"
   ]
  },
  {
   "cell_type": "code",
   "execution_count": null,
   "id": "a875b9e4-649e-4833-8421-03a05a484372",
   "metadata": {},
   "outputs": [],
   "source": [
    "data_8 = np.loadtxt('./data/LCO_SAAO_OB150966.dat')\n",
    "telescope_8 = telescopes.Telescope(name = 'LCO_SAAO', \n",
    "                                   camera_filter = 'I',\n",
    "                                   light_curve = data_8.astype(float),\n",
    "                                   light_curve_names = ['time','mag','err_mag'],\n",
    "                                   light_curve_units = ['JD','mag','mag'])"
   ]
  },
  {
   "cell_type": "code",
   "execution_count": null,
   "id": "79a4b2b7-4a26-4007-bc1c-5d6514aa150e",
   "metadata": {},
   "outputs": [],
   "source": [
    "data_9 = np.loadtxt('./data/LCO_SSO_A_OB150966.dat')\n",
    "telescope_9 = telescopes.Telescope(name = 'LCO_SSO_A', \n",
    "                                   camera_filter = 'I',\n",
    "                                   light_curve = data_9.astype(float),\n",
    "                                   light_curve_names = ['time','mag','err_mag'],\n",
    "                                   light_curve_units = ['JD','mag','mag'])"
   ]
  },
  {
   "cell_type": "code",
   "execution_count": null,
   "id": "2e1c441c-bd30-4244-bc5e-26ad26eb3f57",
   "metadata": {},
   "outputs": [],
   "source": [
    "data_10 = np.loadtxt('./data/LCO_SSO_B_OB150966.dat')\n",
    "telescope_10 = telescopes.Telescope(name = 'LCO_SSO_B', \n",
    "                                   camera_filter = 'I',\n",
    "                                   light_curve = data_10.astype(float),\n",
    "                                   light_curve_names = ['time','mag','err_mag'],\n",
    "                                   light_curve_units = ['JD','mag','mag'])"
   ]
  },
  {
   "cell_type": "code",
   "execution_count": null,
   "id": "1d1f859e-f101-4c64-9ff7-7e0baa82a668",
   "metadata": {},
   "outputs": [],
   "source": [
    "data_11 = np.loadtxt('./data/LCO_SSO_OB150966.dat')\n",
    "telescope_11 = telescopes.Telescope(name = 'LCO_SSO', \n",
    "                                   camera_filter = 'I',\n",
    "                                   light_curve = data_11.astype(float),\n",
    "                                   light_curve_names = ['time','mag','err_mag'],\n",
    "                                   light_curve_units = ['JD','mag','mag'])"
   ]
  },
  {
   "cell_type": "markdown",
   "id": "a1c24ead-09a2-40b8-9f4a-16b485fb903c",
   "metadata": {},
   "source": [
    "Add the telescopes to your **EVENT**:"
   ]
  },
  {
   "cell_type": "code",
   "execution_count": null,
   "id": "352661d2-6d8f-41d7-9d2b-40e5621eff43",
   "metadata": {},
   "outputs": [],
   "source": [
    "your_event.telescopes.append(telescope_1)\n",
    "your_event.telescopes.append(telescope_2)\n",
    "your_event.telescopes.append(telescope_3)\n",
    "your_event.telescopes.append(telescope_4)\n",
    "your_event.telescopes.append(telescope_5)\n",
    "your_event.telescopes.append(telescope_6)\n",
    "your_event.telescopes.append(telescope_7)\n",
    "your_event.telescopes.append(telescope_8)\n",
    "your_event.telescopes.append(telescope_9)\n",
    "your_event.telescopes.append(telescope_10)\n",
    "your_event.telescopes.append(telescope_11)"
   ]
  },
  {
   "cell_type": "markdown",
   "id": "e5b97573-7396-4d1d-a397-63da7a878218",
   "metadata": {},
   "source": [
    "Define the survey telescope that you want to use to align all other data sets to.\n",
    "We recommend using the data set with the most measurements covering the gretest \n",
    "time span of observations:"
   ]
  },
  {
   "cell_type": "code",
   "execution_count": null,
   "id": "e6de1253-716e-4456-87ed-df072a5c9bd6",
   "metadata": {},
   "outputs": [],
   "source": [
    "your_event.find_survey('OGLE')"
   ]
  },
  {
   "cell_type": "markdown",
   "id": "a7e39a9d-8b2a-4755-ad6e-4ab3650f3be4",
   "metadata": {},
   "source": [
    "Run a quick sanity check on your input."
   ]
  },
  {
   "cell_type": "code",
   "execution_count": null,
   "id": "8da7c02a-ce39-4f52-aaeb-f5b0c130b1c5",
   "metadata": {},
   "outputs": [],
   "source": [
    "your_event.check_event()"
   ]
  },
  {
   "cell_type": "markdown",
   "id": "93f2d26b-ed91-45b8-83bf-4d7c5be8c303",
   "metadata": {},
   "source": [
    "You can now quickly browse some of the light curves to look for any obvious features.\n",
    "This should give you a hint as to which model you might want to explore first."
   ]
  },
  {
   "cell_type": "markdown",
   "id": "d6419076-fca9-48ae-9abd-ffcbcc36cf28",
   "metadata": {},
   "source": [
    "Invert the y-axis of the plots so that light curves are displayed the correct way up."
   ]
  },
  {
   "cell_type": "code",
   "execution_count": null,
   "id": "ba459243-9204-4945-9199-9b98affac525",
   "metadata": {},
   "outputs": [],
   "source": [
    "plt.gca().invert_yaxis()"
   ]
  },
  {
   "cell_type": "markdown",
   "id": "2c64c6cc-c8c5-41e7-b9fb-0d05682dc5c7",
   "metadata": {},
   "source": [
    "Loop over the telescopes and select the ones you want to plot. Here we only display \n",
    "the OGLE data:"
   ]
  },
  {
   "cell_type": "code",
   "execution_count": null,
   "id": "9e0f7406-c93c-4d49-b6fa-42529608ba4b",
   "metadata": {},
   "outputs": [],
   "source": [
    "for tel in your_event.telescopes:\n",
    "    if tel.name == 'OGLE' :\n",
    "        tel.plot_data()\n",
    "\n",
    "plt.show() "
   ]
  },
  {
   "cell_type": "markdown",
   "id": "10b0934e-6cd3-4797-a503-05f756e46081",
   "metadata": {},
   "source": [
    "The event is highly magnified but there seem to be no obvious strong \n",
    "secondary features. You can try fitting it with a simple point-source, point-lens \n",
    "(PSPL) model."
   ]
  },
  {
   "cell_type": "markdown",
   "id": "30d98c83-2f2d-4082-a478-c49214352ac7",
   "metadata": {},
   "source": [
    "Set up the PSPL **MODEL** you want to fit and link it to the **EVENT**."
   ]
  },
  {
   "cell_type": "code",
   "execution_count": null,
   "id": "b11d7c73-2c24-4ada-9f36-61aa2f131477",
   "metadata": {},
   "outputs": [],
   "source": [
    "pspl = PSPL_model.PSPLmodel(your_event)"
   ]
  },
  {
   "cell_type": "markdown",
   "id": "dedaa44a-d69e-40b5-9570-d1397be64e5e",
   "metadata": {},
   "source": [
    "Next you need to specify the fitting algorithm you want to use \n",
    " e.g. [LM_fit, TRF_fit, DE_fit, MCMC_fit, etc]. Consult the documentation for \n",
    " details on what each algorithm does. Let us try out a TRF fit and give it some \n",
    " starting guess parameters for t0, u0 and tE. You can guess roughly what starting values\n",
    " you can try for these parameters by looking at the light curve again."
   ]
  },
  {
   "cell_type": "code",
   "execution_count": null,
   "id": "010cedbc-939e-4f2d-b243-78b8bc5c3036",
   "metadata": {},
   "outputs": [],
   "source": [
    "fit_1 = TRF_fit.TRFfit(pspl)\n",
    "fit_1.model_parameters_guess = [2457205.5, 1.0, 100.0]"
   ]
  },
  {
   "cell_type": "code",
   "execution_count": null,
   "id": "6d564d16-e4c4-477d-8860-815911d8709a",
   "metadata": {},
   "outputs": [],
   "source": [
    "### Fit the model:\n",
    "fit_1.fit()"
   ]
  },
  {
   "cell_type": "markdown",
   "id": "2a98ab69-ada4-400e-afd3-305e816999cd",
   "metadata": {},
   "source": [
    "TRF doesn't explore the whole parameters space but it is good at narrowing in at a local miniumum."
   ]
  },
  {
   "cell_type": "markdown",
   "id": "10fe6fdd-165a-4458-9e73-246c0b915f4f",
   "metadata": {},
   "source": [
    "Let's plot it and look at the fit. Now all data will be aligned and displayed (with the exception of Spitzer, which is in space)."
   ]
  },
  {
   "cell_type": "code",
   "execution_count": null,
   "id": "fb1ae723-001f-45b6-bd9e-8dea673c54d1",
   "metadata": {},
   "outputs": [],
   "source": [
    "pyLIMA_plots.plot_lightcurves(pspl, fit_1.fit_results['best_model'])\n",
    "plt.show()"
   ]
  },
  {
   "cell_type": "markdown",
   "id": "96d4aa2e-b0b1-4d53-888b-ba172811f4d9",
   "metadata": {},
   "source": [
    "The fit looks reasonable, but Zoom closely around the peak and you will notice a secondary \n",
    " peak. The event is a binary! There are no clear caustic-crossing features in the light curve \n",
    " and the duration of the secondary peak is very short (less than a day), so this could be \n",
    " a planet. Since you have included Spitzer observations from space, you also now need to \n",
    " consider parallax in your model. All this implies that the next model we should allow \n",
    " for all these effects in our next model."
   ]
  },
  {
   "cell_type": "markdown",
   "id": "1f6b91c4-f831-4bb0-a475-526ac09d05f0",
   "metadata": {},
   "source": [
    "Set up a new uniform-source, binary-lens (USBL) model and link it to the EVENT.\n",
    " For the USBL model, we will also need to specify four extra parameters: rho, s, q and alpha,\n",
    " as well as two more describing the parallax vector, piEN,piEE.\n",
    " In order, the USBL parameters to be fitted are (assuming we use fancy_parameters): \n",
    " {'to': 0, 'uo': 1, 'log(tE)': 2, 'log(rho)': 3, 'log(s)': 4, 'log(q)': 5, 'alpha': 6} + [piEN,piEE]\n",
    " (note that are also secondary parameters to be optimized that allow for data offsets \n",
    " and blending)"
   ]
  },
  {
   "cell_type": "code",
   "execution_count": null,
   "id": "fd6adea9-044d-4da7-ba59-b5ef8021de0c",
   "metadata": {},
   "outputs": [],
   "source": [
    "# Use the default fancy parameters log(tE), log(rho), log(s), log(q)\n",
    "fancy = pyLIMA_fancy_parameters.standard_fancy_parameters\n",
    "usbl = USBL_model.USBLmodel(your_event, fancy_parameters=fancy, parallax=['Full', 2457205.5])"
   ]
  },
  {
   "cell_type": "markdown",
   "id": "ca7a607d-a43a-4595-895c-311c28a9fc61",
   "metadata": {},
   "source": [
    "**Note:** When you fit for parallax (and/or orbital motion), you also need to provide a \n",
    " reference time, t0par, from which to perform the computations. Good choices for t0par \n",
    " are times close to t0, or close to points of caustic entry."
   ]
  },
  {
   "cell_type": "markdown",
   "id": "22040127-cc6b-407e-87d1-f31411e865fe",
   "metadata": {},
   "source": [
    "Specify the fitting algorithm. This time go for a differential evolution search of \n",
    " the parameter space. "
   ]
  },
  {
   "cell_type": "code",
   "execution_count": null,
   "id": "3526b817-5935-4725-8a96-bfbb84b2003e",
   "metadata": {},
   "outputs": [],
   "source": [
    "fit_2 = DE_fit.DEfit(usbl, telescopes_fluxes_method='polyfit', DE_population_size=10, max_iteration=10000, display_progress=True)"
   ]
  },
  {
   "cell_type": "markdown",
   "id": "65b291ea-820a-4ef7-97d5-32f2e641a677",
   "metadata": {},
   "source": [
    "You do not need to specify an initial position, but you do need to \n",
    " provide allowed ranges for each parameter:"
   ]
  },
  {
   "cell_type": "code",
   "execution_count": null,
   "id": "1310bf46-b146-43f8-ac0f-f9c862173b95",
   "metadata": {},
   "outputs": [],
   "source": [
    "fit_2.fit_parameters['t0'][1] = [2457195.00, 2457215.00] # t0 limits\n",
    "fit_2.fit_parameters['u0'][1] = [0.001, 0.2] # u0 limits\n",
    "fit_2.fit_parameters['log_tE'][1] = [1.6, 2.0] # logtE limits in days\n",
    "fit_2.fit_parameters['log_rho'][1] = [-3.3, -1.3] # logrho\n",
    "fit_2.fit_parameters['log_separation'][1] = [0.0, 0.5] # logs limits\n",
    "fit_2.fit_parameters['log_mass_ratio'][1] = [-4.0, -1.3] # logq limits\n",
    "fit_2.fit_parameters['alpha'][1] = [-3.14, 3.14] # alpha limits (in radians)\n",
    "fit_2.fit_parameters['piEN'][1] = [-0.5, 0.5]\n",
    "fit_2.fit_parameters['piEE'][1] = [-0.5, 0.5]"
   ]
  },
  {
   "cell_type": "markdown",
   "id": "b7e7ff7c-2f83-4a58-9219-0ef89eec32f4",
   "metadata": {},
   "source": [
    "Allow multiprocessing"
   ]
  },
  {
   "cell_type": "code",
   "execution_count": null,
   "id": "125ce794-4f65-46cd-82c3-e9a41a361ea4",
   "metadata": {},
   "outputs": [],
   "source": [
    "import multiprocessing as mul\n",
    "pool = mul.Pool(processes = 4)"
   ]
  },
  {
   "cell_type": "markdown",
   "id": "dd04dde1-cf7f-4f55-9200-804612215312",
   "metadata": {},
   "source": [
    " <font color='red'>!!! WARNING !!!</font>: By executing the next commands you will start a long \n",
    " search of the parameter space. This is how you would do it in practice but since it \n",
    " takes a long time, we recommend you skip this step by leaving perform_long_fit = False\n",
    " and using the precomputed optimized parameters given below."
   ]
  },
  {
   "cell_type": "code",
   "execution_count": null,
   "id": "2ffac920-f615-4889-b0b9-97ef6b711f57",
   "metadata": {},
   "outputs": [],
   "source": [
    "perform_long_fit = False"
   ]
  },
  {
   "cell_type": "code",
   "execution_count": null,
   "id": "19ab1b08-863a-4237-aeb7-08201ce73133",
   "metadata": {},
   "outputs": [],
   "source": [
    "### Fit the model:\n",
    "if perform_long_fit:\n",
    "    fit_2.fit(computational_pool = pool)\n",
    "    \n",
    "    # Save it\n",
    "    np.save('results_USBL_DE_966.npy', fit_2.fit_results['DE_population'])\n",
    "\n",
    "else:\n",
    "    # Use the precomputed Differential Evolution (DE) results:\n",
    "    fit_2.fit_results['DE_population'] = np.load('./data/results_USBL_DE_966.npy')\n",
    "    fit_2.fit_results['best_model'] = fit_2.fit_results['DE_population'][346501][0:-1]\n",
    "    #fit_2.fit_results['best_model'] = [2457205.21, 0.0109583755, 1.78218726, -2.89415218, 0.0475121003, -3.79996021, 2.25499875, 0.0227712230, -0.227192561]\n"
   ]
  },
  {
   "cell_type": "code",
   "execution_count": null,
   "id": "8b22273b-0188-4c87-80aa-845b2fa4be11",
   "metadata": {},
   "outputs": [],
   "source": [
    "print('Best_model', fit_2.fit_results['best_model'])"
   ]
  },
  {
   "cell_type": "markdown",
   "id": "b30f0646-ef5b-4eb5-b9e2-d61872342753",
   "metadata": {},
   "source": [
    "Plot the best fit model and the corresponding geometrical configuration"
   ]
  },
  {
   "cell_type": "code",
   "execution_count": null,
   "id": "efc6c1cc-d997-4a22-b87d-689cb9ec723e",
   "metadata": {},
   "outputs": [],
   "source": [
    "pyLIMA_plots.list_of_fake_telescopes = []\n",
    "pyLIMA_plots.plot_lightcurves(usbl, fit_2.fit_results['best_model'])\n",
    "pyLIMA_plots.plot_geometry(usbl, fit_2.fit_results['best_model'])\n",
    "plt.show()"
   ]
  },
  {
   "cell_type": "markdown",
   "id": "d34f8a82-c281-49de-ab83-4b3ac9fa6804",
   "metadata": {},
   "source": [
    "This solution is close to the (+,+),wide solution reported in \n",
    " https://ui.adsabs.harvard.edu/abs/2016ApJ...819...93S/\n",
    " (Table 1, Col 2 in the paper - with the units converted to our format):\n",
    "#published_model_1 = [2457205.198, 0.0114, 1.76, -2.853, 0.0473, -3.78, 2.26, 0.0234, -0.238]"
   ]
  },
  {
   "cell_type": "markdown",
   "id": "443038d3-6d0d-46bb-8fa7-64c8261e0330",
   "metadata": {},
   "source": [
    "This concludes tutorial 5."
   ]
  }
 ],
 "metadata": {
  "kernelspec": {
   "display_name": "Python 3 (ipykernel)",
   "language": "python",
   "name": "python3"
  },
  "language_info": {
   "codemirror_mode": {
    "name": "ipython",
    "version": 3
   },
   "file_extension": ".py",
   "mimetype": "text/x-python",
   "name": "python",
   "nbconvert_exporter": "python",
   "pygments_lexer": "ipython3",
   "version": "3.12.3"
  }
 },
 "nbformat": 4,
 "nbformat_minor": 5
}
