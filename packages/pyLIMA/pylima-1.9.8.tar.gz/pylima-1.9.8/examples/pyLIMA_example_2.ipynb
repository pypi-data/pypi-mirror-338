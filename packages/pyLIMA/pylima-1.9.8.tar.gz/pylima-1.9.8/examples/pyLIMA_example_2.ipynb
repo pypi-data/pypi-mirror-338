{
 "cells": [
  {
   "cell_type": "markdown",
   "id": "c930f2d6-5ccc-4313-8854-7dda402b430f",
   "metadata": {},
   "source": [
    "**Welcome to pyLIMA (v2) tutorial 2!**\n",
    "\n",
    "This second tutorial will give you some basics about how to reconfigure your input parameters.\n",
    "\n",
    "If you do not like the standard pyLIMA parameters, this is made for you. We will demonstrate how to\n",
    "replace them with parameters of your choice using the fancy_parameters module.\n",
    "\n",
    "We are going to fit the same light curves as in tutorial 1, but using different parametrization."
   ]
  },
  {
   "cell_type": "code",
   "execution_count": null,
   "id": "9c14ca3e-8279-48be-aecf-bb8cbc83435e",
   "metadata": {},
   "outputs": [],
   "source": [
    "### First import the required libraries as before.\n",
    "%matplotlib widget\n",
    "\n",
    "import matplotlib.pyplot as plt\n",
    "import numpy as np\n",
    "from pyLIMA.fits import TRF_fit\n",
    "from pyLIMA.models import FSPL_model\n",
    "### Import fancy_parameters. This will allow us to change the definitions as required.\n",
    "from pyLIMA.models import pyLIMA_fancy_parameters\n",
    "from pyLIMA.outputs import pyLIMA_plots\n",
    "\n",
    "from pyLIMA import event\n",
    "from pyLIMA import telescopes"
   ]
  },
  {
   "cell_type": "markdown",
   "id": "3fa44c8d-1dc7-441d-bb2f-fbcd4743d7fa",
   "metadata": {},
   "source": [
    "fancy_parameters already provides some commonly used options, for example:"
   ]
  },
  {
   "cell_type": "code",
   "execution_count": null,
   "id": "34ebafbf-b67e-496c-b17f-f6bb5f8f1985",
   "metadata": {},
   "outputs": [],
   "source": [
    "pyLIMA_fancy_parameters.standard_fancy_parameters"
   ]
  },
  {
   "cell_type": "markdown",
   "id": "b07232e7-2186-4f66-b8d9-81c536430498",
   "metadata": {},
   "source": [
    "Begin by create a new EVENT object and giving it a name, as in example 1."
   ]
  },
  {
   "cell_type": "code",
   "execution_count": null,
   "id": "68b524fd-bf40-4287-974c-a38861d70437",
   "metadata": {},
   "outputs": [],
   "source": [
    "your_event = event.Event()\n",
    "your_event.name = 'My event name'"
   ]
  },
  {
   "cell_type": "markdown",
   "id": "11131a94-c3fb-4ede-a3aa-263b4b4aff6b",
   "metadata": {},
   "source": [
    "Associate some data sets with this **EVENT**. \n",
    "\n",
    "Again, you will use simulated I-band data sets from two telescopes, OGLE and LCO.\n",
    "\n",
    "The data sets are pre-formatted: column 1 is the date, column 2 the magnitude and column 3 the uncertainty in the magnitude.\n",
    "\n",
    "Load up the data:"
   ]
  },
  {
   "cell_type": "code",
   "execution_count": null,
   "id": "61a68b13-2fda-46e4-ace2-1fcb45c8087f",
   "metadata": {},
   "outputs": [],
   "source": [
    "data_1 = np.loadtxt('./data/Survey_1.dat')\n",
    "telescope_1 = telescopes.Telescope(name = 'OGLE', \n",
    "                                   camera_filter = 'I',\n",
    "                                   light_curve = data_1.astype(float),\n",
    "                                   light_curve_names = ['time','mag','err_mag'],\n",
    "                                   light_curve_units = ['JD','mag','mag'])\n",
    "\n",
    "data_2 = np.loadtxt('./data/Followup_1.dat')\n",
    "telescope_2 = telescopes.Telescope(name = 'LCO', \n",
    "                                   camera_filter = 'I',\n",
    "                                   light_curve = data_2.astype(float),\n",
    "                                   light_curve_names = ['time','mag','err_mag'],\n",
    "                                   light_curve_units = ['JD','mag','mag'])"
   ]
  },
  {
   "cell_type": "markdown",
   "id": "949df1b4-302c-48ba-836a-ba053c7e4981",
   "metadata": {},
   "source": [
    "Append these two telescope data sets to your EVENT object."
   ]
  },
  {
   "cell_type": "code",
   "execution_count": null,
   "id": "0611cfdf-d04f-454c-b77e-20eb6c18339c",
   "metadata": {},
   "outputs": [],
   "source": [
    "your_event.telescopes.append(telescope_1)\n",
    "your_event.telescopes.append(telescope_2)"
   ]
  },
  {
   "cell_type": "markdown",
   "id": "1faed2b7-b4c7-4766-b55c-50c4e26b1de1",
   "metadata": {},
   "source": [
    "Define the survey telescope that you want to use to align all other data sets to.\n",
    "\n",
    "We recommend using the data set with the most measurements covering the gretest \n",
    "time span of observations:"
   ]
  },
  {
   "cell_type": "code",
   "execution_count": null,
   "id": "bd86a759-730f-4dda-96a8-d6efb8b6ee7d",
   "metadata": {},
   "outputs": [],
   "source": [
    "your_event.find_survey('OGLE')"
   ]
  },
  {
   "cell_type": "markdown",
   "id": "1f8c08d8-5b06-41aa-aec7-7572c1a38eca",
   "metadata": {},
   "source": [
    "Run a quick sanity check on your input."
   ]
  },
  {
   "cell_type": "code",
   "execution_count": null,
   "id": "b406d307-4194-4359-8b88-73f36d6fc1b6",
   "metadata": {},
   "outputs": [],
   "source": [
    "your_event.check_event()"
   ]
  },
  {
   "cell_type": "markdown",
   "id": "634edafb-cbb8-451e-99fd-aacc784248c8",
   "metadata": {},
   "source": [
    "If necessary, set the microlensing limb-darkening coefficients (gamma) for each telescope.\n",
    "\n",
    "We already saw in example 1 that setting limb darkening coefficients improves the fit for this event, so we set them again:"
   ]
  },
  {
   "cell_type": "code",
   "execution_count": null,
   "id": "928e40c2-e821-40d1-a6e7-89604735d46d",
   "metadata": {},
   "outputs": [],
   "source": [
    "your_event.telescopes[0].ld_gamma = 0.5\n",
    "your_event.telescopes[1].ld_gamma = 0.5"
   ]
  },
  {
   "cell_type": "markdown",
   "id": "237f25ed-4cfc-411f-acbc-9bdbc577b9cc",
   "metadata": {},
   "source": [
    "Define the model and fit method (as in example 1) and let it know that you will be using alternative parameters.\n",
    "\n",
    "To do this, set the option fancy_parameters when you define the model. We will replace just one parameter, tE with log_tE.\n",
    "\n",
    "In essence, we need to define a transformation function within pyLIMA.\n",
    "\n",
    "For this particular transformation, i.e. from tE to log(tE), pyLIMA already provides the necessary functions to convert back and forth: "
   ]
  },
  {
   "cell_type": "code",
   "execution_count": null,
   "id": "8d018426-afb3-4394-9fc5-76262ef006a5",
   "metadata": {},
   "outputs": [],
   "source": [
    "my_pars = {'log_tE': 'tE'}\n",
    "\n",
    "fspl = FSPL_model.FSPLmodel(your_event, fancy_parameters=my_pars)"
   ]
  },
  {
   "cell_type": "markdown",
   "id": "cf211a31-d93c-448f-ac6e-273cb18064a5",
   "metadata": {},
   "source": [
    "We now want to fit this FSPL model to the data using the Trust Region Reflective (TRF) algorithm, but we have set it to use different parameters for the fit. \n",
    "\n",
    "Instead of tE, we have now set it to use log_tE.\n",
    "\n",
    "We can make this faster by using the results we obtained in example 1: [t0, u0, tE, rho] = [79.9, 0.008, 10.1, 0.023]. \n",
    "\n",
    "Since the results in example 1 were given in the standard format, we need to adjust them so they match the new definition."
   ]
  },
  {
   "cell_type": "code",
   "execution_count": null,
   "id": "02618b0a-d273-4e50-b864-c398d00b5604",
   "metadata": {},
   "outputs": [],
   "source": [
    "guess_parameters = [79.9, 0.008, np.log10(10.1), 0.023]"
   ]
  },
  {
   "cell_type": "markdown",
   "id": "f2ed1244-9961-41f9-ba43-f88642a4a238",
   "metadata": {},
   "source": [
    "Import the TRF fitting algorithm and fit:"
   ]
  },
  {
   "cell_type": "code",
   "execution_count": null,
   "id": "f7b8fa12-0cbe-42cd-a1ed-b9f056580e69",
   "metadata": {},
   "outputs": [],
   "source": [
    "my_fit = TRF_fit.TRFfit(fspl)\n",
    "my_fit.model_parameters_guess = guess_parameters\n",
    "my_fit.fit()"
   ]
  },
  {
   "cell_type": "markdown",
   "id": "52035ca9-f303-4e7f-a5f8-c21ceefd1a45",
   "metadata": {},
   "source": [
    "Let's see the plot. Zoom close to the peak again to see what is going on."
   ]
  },
  {
   "cell_type": "code",
   "execution_count": null,
   "id": "cec27ad5-65d3-41fb-aa74-775bd01a3194",
   "metadata": {},
   "outputs": [],
   "source": [
    "pyLIMA_plots.plot_lightcurves(fspl, my_fit.fit_results['best_model'])\n",
    "plt.show()"
   ]
  },
  {
   "cell_type": "markdown",
   "id": "02c677fa-cde3-469c-bfb5-acd7d7f7dc14",
   "metadata": {},
   "source": [
    "So this works as expected! "
   ]
  },
  {
   "cell_type": "markdown",
   "id": "4ae73983-ba6a-4d79-b315-3e7c2620b3d4",
   "metadata": {},
   "source": [
    "OK, let's try something more complicated now: define t_star = rho*tE and use log_rho = log(rho).\n",
    "\n",
    "The log_rho definition is already provided by pyLIMA, but t_star isn't. \n",
    "\n",
    "So we need to tell pyLIMA what kind of changes we want by defining them:"
   ]
  },
  {
   "cell_type": "markdown",
   "id": "a774106d-29cf-4dc8-8c02-9de87ab812c2",
   "metadata": {},
   "source": [
    "Define the transformation from t_star --> t_E. This uses the default parameterisation.\n"
   ]
  },
  {
   "cell_type": "code",
   "execution_count": null,
   "id": "ab34a47e-256d-47e7-8558-6eb7c8131a31",
   "metadata": {},
   "outputs": [],
   "source": [
    "def t_star(x):\n",
    "    return x.rho * x.tE\n",
    "\n",
    "setattr(pyLIMA_fancy_parameters, 't_star', t_star)"
   ]
  },
  {
   "cell_type": "markdown",
   "id": "ef9beb81-410f-41c4-a359-534055ba1852",
   "metadata": {},
   "source": [
    "It is also necessary to define the inverse transformation from t_E --> t_star.\n",
    "\n",
    "Note that the inverse transformation needs to be defined using the new parameterisation!"
   ]
  },
  {
   "cell_type": "code",
   "execution_count": null,
   "id": "279ca504-fb92-426e-a9c8-2d0692c2c265",
   "metadata": {},
   "outputs": [],
   "source": [
    "def tE(x):\n",
    "    return x.t_star/10**(x.log_rho)\n",
    "\n",
    "setattr(pyLIMA_fancy_parameters, 'tE', tE)"
   ]
  },
  {
   "cell_type": "markdown",
   "id": "9f337a6b-78c5-4e04-b6a1-ab9795a3351b",
   "metadata": {},
   "source": [
    "Your new t_star definition is now part of fancy_parameters and you can use it."
   ]
  },
  {
   "cell_type": "code",
   "execution_count": null,
   "id": "0522756b-f9c4-45b8-b90c-665d302a866d",
   "metadata": {},
   "outputs": [],
   "source": [
    "dir(pyLIMA_fancy_parameters)"
   ]
  },
  {
   "cell_type": "markdown",
   "id": "73d97b9f-b073-4dfa-b425-0685717d07b8",
   "metadata": {},
   "source": [
    "Update the fancy parameter dictionary with the new definitions:"
   ]
  },
  {
   "cell_type": "code",
   "execution_count": null,
   "id": "08d6990e-68de-4e23-878c-543619ed4ec6",
   "metadata": {},
   "outputs": [],
   "source": [
    "my_pars2 = {'log_rho':'rho', 't_star':'tE'}\n",
    "fspl2 = FSPL_model.FSPLmodel(your_event,fancy_parameters=my_pars2)"
   ]
  },
  {
   "cell_type": "markdown",
   "id": "340175a0-3fb6-4ad7-91e9-15b7f1033c83",
   "metadata": {},
   "source": [
    "Give it the guess parameters we obtained from example 1, formatted using the new definitions.\n",
    "\n",
    "t_star = rho * tE so in our example that is 10.1 * 0.023:"
   ]
  },
  {
   "cell_type": "code",
   "execution_count": null,
   "id": "639252ed-ed7d-4386-aea0-bd443582aede",
   "metadata": {},
   "outputs": [],
   "source": [
    "guess_parameters2 = [79.9, 0.008, 10.1 * 0.023, np.log10(0.023)]"
   ]
  },
  {
   "cell_type": "markdown",
   "id": "9d9bab81-72a6-44a2-a9a2-3a39b3766a66",
   "metadata": {},
   "source": [
    "Perform the fit using the new parameter definitions:"
   ]
  },
  {
   "cell_type": "code",
   "execution_count": null,
   "id": "5c9c34c6-6bfd-40f7-9e82-ac428b6a896d",
   "metadata": {},
   "outputs": [],
   "source": [
    "my_fit2 = TRF_fit.TRFfit(fspl2)\n",
    "my_fit2.model_parameters_guess = guess_parameters2\n",
    "my_fit2.fit()"
   ]
  },
  {
   "cell_type": "markdown",
   "id": "f32d5107-f792-43f7-b5cc-9a610e022f9a",
   "metadata": {},
   "source": [
    "To call all standard plotting options you can optionally use the fit_outputs module. \n",
    "\n",
    "If you want just the light curve, you can use plot_lightcurves as in example 1."
   ]
  },
  {
   "cell_type": "code",
   "execution_count": null,
   "id": "9475170f-d878-4bf8-a5c0-a9cb6589e13c",
   "metadata": {},
   "outputs": [],
   "source": [
    "my_fit2.fit_outputs()\n",
    "plt.show()"
   ]
  },
  {
   "cell_type": "markdown",
   "id": "fb4b6409-d0ea-4134-8257-1d7ff6312923",
   "metadata": {},
   "source": [
    "Let's look at the optimized parameters and the $\\chi^2$ of the fit:"
   ]
  },
  {
   "cell_type": "code",
   "execution_count": null,
   "id": "a7405c7d-a8ac-4b15-866d-63cb1ecd2fa0",
   "metadata": {},
   "outputs": [],
   "source": [
    "print(\"fit results: \", my_fit2.fit_results['best_model'])\n",
    "print(\"chi2: \", my_fit2.fit_results['chi2'])"
   ]
  },
  {
   "cell_type": "markdown",
   "id": "8225c6a2-440d-4331-855e-278b0ebb4385",
   "metadata": {},
   "source": [
    "If you have forgotten the order of the parameters, do:"
   ]
  },
  {
   "cell_type": "code",
   "execution_count": null,
   "id": "6cc6c130-0795-43ce-b5b6-278fe8c89736",
   "metadata": {},
   "outputs": [],
   "source": [
    "my_fit2.fit_parameters.keys()"
   ]
  },
  {
   "cell_type": "markdown",
   "id": "bff69f4d-839d-43e1-bc2e-394a2a0c4642",
   "metadata": {},
   "source": [
    "Note that the results now are displayed with our newly defined parameters.\n",
    "\n",
    "This concludes tutorial 2."
   ]
  }
 ],
 "metadata": {
  "kernelspec": {
   "display_name": "Python 3 (ipykernel)",
   "language": "python",
   "name": "python3"
  },
  "language_info": {
   "codemirror_mode": {
    "name": "ipython",
    "version": 3
   },
   "file_extension": ".py",
   "mimetype": "text/x-python",
   "name": "python",
   "nbconvert_exporter": "python",
   "pygments_lexer": "ipython3",
   "version": "3.12.3"
  }
 },
 "nbformat": 4,
 "nbformat_minor": 5
}
