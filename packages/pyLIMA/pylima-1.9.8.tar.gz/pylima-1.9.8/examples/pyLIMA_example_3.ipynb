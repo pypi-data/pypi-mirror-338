{
 "cells": [
  {
   "cell_type": "markdown",
   "id": "7dec7b49-e237-4045-868b-6d54a2d2f0e2",
   "metadata": {},
   "source": [
    "**Welcome to pyLIMA (v2) tutorial 3!**\n",
    "\n",
    "In this tutorial you will learn how you can use pyLIMA to simulate a microlensing \n",
    "light curve. \n",
    "\n",
    "We will cover how to call the pyLIMA microlensing simulator and generate \n",
    "sample light curves.\n",
    "\n",
    "We will also fit these light curves and see if we can recover the input parameters.\n",
    "\n",
    "Please take some time to familiarize yourself with the pyLIMA documentation."
   ]
  },
  {
   "cell_type": "code",
   "execution_count": null,
   "id": "3015fd82-6e8e-446d-8ca3-24002734592e",
   "metadata": {},
   "outputs": [],
   "source": [
    "### Import the required libraries.\n",
    "import matplotlib.pyplot as plt\n",
    "from pyLIMA.fits import DE_fit\n",
    "from pyLIMA.models import PSPL_model\n",
    "from pyLIMA.outputs import pyLIMA_plots\n",
    "### Import the simulator to be used for generating the simulated light curve\n",
    "from pyLIMA.simulations import simulator\n",
    "from pyLIMA.toolbox import brightness_transformation\n",
    "\n",
    "from pyLIMA import event"
   ]
  },
  {
   "cell_type": "markdown",
   "id": "52763ccc-0472-4c4e-8cbc-969fa42a0130",
   "metadata": {},
   "source": [
    "Create a new EVENT object and give it a name.\n",
    "You can also set the coordinates for an event.\n",
    "\n",
    "In the context of the simulation, the coordinates will be used to check whether the target is observable from a specific observatory."
   ]
  },
  {
   "cell_type": "code",
   "execution_count": null,
   "id": "f8d609e0-acef-48fc-83b8-580ff510f94c",
   "metadata": {},
   "outputs": [],
   "source": [
    "your_event = event.Event(ra=270, dec=-30)\n",
    "your_event.name = 'My simulated event'"
   ]
  },
  {
   "cell_type": "markdown",
   "id": "50c71346-73d4-4311-870b-28bb99b68b46",
   "metadata": {},
   "source": [
    "Create some telescope(s) to observe the event from. \n",
    "\n",
    "The function we will use will create a generic telescope class (see pyLIMA documentation for details). \n",
    "\n",
    "We will need to create a new telescope for each observatory, telescope, filter combination. \n",
    "\n",
    "Let us start simple and generate a single telescope first. We will also set uniform_sampling=True, which will make sure the light curve generated will not have any gaps due to the night/day cycle."
   ]
  },
  {
   "cell_type": "code",
   "execution_count": null,
   "id": "dcc4f380-aed0-4929-8b01-3d4127fd3c23",
   "metadata": {},
   "outputs": [],
   "source": [
    "CTIO_I = simulator.simulate_a_telescope(name='CTIO_I', time_start=2457365.5,\n",
    "                                        time_end=2457965.5, sampling=4,\n",
    "                                        location='Earth', camera_filter='I',\n",
    "                                        uniform_sampling=True, astrometry=False)"
   ]
  },
  {
   "cell_type": "markdown",
   "id": "f1b98b5b-2fb2-453f-bde5-37c18307c205",
   "metadata": {},
   "source": [
    "Similar to tutorial 1, we need to associate this telescopee with the event we created:"
   ]
  },
  {
   "cell_type": "code",
   "execution_count": null,
   "id": "f201cc24-37e2-4b6d-b1bb-1c33909e9ce9",
   "metadata": {},
   "outputs": [],
   "source": [
    "your_event.telescopes.append(CTIO_I)"
   ]
  },
  {
   "cell_type": "markdown",
   "id": "63431361-0707-4480-8656-ece87a2790ca",
   "metadata": {},
   "source": [
    "Run a quick sanity check on your input."
   ]
  },
  {
   "cell_type": "code",
   "execution_count": null,
   "id": "adc052d9-429f-4850-9b0a-69335f787428",
   "metadata": {},
   "outputs": [],
   "source": [
    "your_event.check_event()"
   ]
  },
  {
   "cell_type": "markdown",
   "id": "60a45d80-b7ac-4dde-a55d-888ea07ba51f",
   "metadata": {},
   "source": [
    "Now construct the **MODEL** you want to deploy to construct the light curves and link it to the **EVENT** you prepared.\n",
    "\n",
    "We will use a simple point-lens point-source (PSPL) model in this example."
   ]
  },
  {
   "cell_type": "code",
   "execution_count": null,
   "id": "2404f024-51d9-439e-bcfa-e9e095f0b79b",
   "metadata": {},
   "outputs": [],
   "source": [
    "pspl = PSPL_model.PSPLmodel(your_event)"
   ]
  },
  {
   "cell_type": "markdown",
   "id": "a129867d-410a-4091-a923-50c63b1af3fb",
   "metadata": {},
   "source": [
    "Now that the **MODEL** is there, we need to set the relevant parameters.\n",
    "\n",
    "The parameters are drawn uniformly from the bounds defined but you can also set them manually. Please consult the documentation for more details on the parameters of the **MODEL** you want to use. For the PSPL example, pspl_parameters = [to, uo, tE, flux_source, flux_blend]"
   ]
  },
  {
   "cell_type": "code",
   "execution_count": null,
   "id": "b32737be-15c4-404f-b6b6-38ffaf70529c",
   "metadata": {},
   "outputs": [],
   "source": [
    "pspl_parameters = simulator.simulate_microlensing_model_parameters(pspl)\n",
    "print(pspl_parameters)"
   ]
  },
  {
   "cell_type": "markdown",
   "id": "61d42859-f9b2-4c81-80cf-5ad3a3aa3c25",
   "metadata": {},
   "source": [
    "Recall that to see the order and names of the paramaters you can always use:"
   ]
  },
  {
   "cell_type": "code",
   "execution_count": null,
   "id": "fdc2381a-5b1c-455c-8e38-f6969c06e35d",
   "metadata": {},
   "outputs": [],
   "source": [
    "pspl.model_dictionnary"
   ]
  },
  {
   "cell_type": "markdown",
   "id": "b43a63a4-f972-4400-a701-3c8bdac740bb",
   "metadata": {},
   "source": [
    "Transform the parameters into a pyLIMA class object. See the documentation for details."
   ]
  },
  {
   "cell_type": "code",
   "execution_count": null,
   "id": "b4a70159-bd55-4e22-a263-fdf556ca735d",
   "metadata": {},
   "outputs": [],
   "source": [
    "pyLIMA_parameters_1 = pspl.compute_pyLIMA_parameters(pspl_parameters)"
   ]
  },
  {
   "cell_type": "markdown",
   "id": "a9170e77-6ac0-48f0-9d09-1aac0f2bfd4c",
   "metadata": {},
   "source": [
    "Now we have defined the **MODEL** we want to simulate, we have defined the telescope details, so we just inject these into our simulator to produce a light curve:"
   ]
  },
  {
   "cell_type": "code",
   "execution_count": null,
   "id": "05f0daa4-bf19-4029-bac5-44ff56a032e8",
   "metadata": {},
   "outputs": [],
   "source": [
    "simulator.simulate_lightcurve(pspl, pyLIMA_parameters_1)"
   ]
  },
  {
   "cell_type": "markdown",
   "id": "a49c8e88-a700-421b-8f8a-5d0365b73615",
   "metadata": {},
   "source": [
    "Let's plot our simulated light curve using the pyLIMA plotter (recommended)!"
   ]
  },
  {
   "cell_type": "code",
   "execution_count": null,
   "id": "e94d858d-1bb0-4171-aab2-aff141a2034b",
   "metadata": {},
   "outputs": [],
   "source": [
    "pyLIMA_plots.plot_lightcurves(pspl, pspl_parameters)\n",
    "plt.show()"
   ]
  },
  {
   "cell_type": "markdown",
   "id": "dc3adb60-a151-4c9e-8053-26a2b90911d7",
   "metadata": {},
   "source": [
    "... or you can just plot the results yourself any way you want to using matplotlib"
   ]
  },
  {
   "cell_type": "code",
   "execution_count": null,
   "id": "47210ef7-1301-44c3-8911-4e6568c65dda",
   "metadata": {},
   "outputs": [],
   "source": [
    "plt.close('all')\n",
    "plt.errorbar(CTIO_I.lightcurve['time'].value - 2450000,\n",
    "             CTIO_I.lightcurve['mag'].value,\n",
    "             yerr=CTIO_I.lightcurve['err_mag'].value,\n",
    "             fmt='.', label=CTIO_I.name)\n",
    "\n",
    "plt.gca().invert_yaxis()\n",
    "plt.legend()\n",
    "plt.show()"
   ]
  },
  {
   "cell_type": "markdown",
   "id": "e569bcd0-4aa9-49e9-a986-26f3ae3abec9",
   "metadata": {},
   "source": [
    "OK, so now we want to simulate something more complicated. \n",
    "\n",
    "Say, we have multiple telescopes around the world imaging the event in different bands and at different time intervals.\n",
    "\n",
    "In addition, we also want to simulate bad weather, avoid pointing too close to the moon, and also account for observing limitations due to the location of the target in the sky relative to the Sun. \n",
    "\n",
    "(For a full list of the options available please consult the documentation!)"
   ]
  },
  {
   "cell_type": "markdown",
   "id": "6eaf4ab5-06a5-4827-9b22-8684b25dcad0",
   "metadata": {},
   "source": [
    "Let's create a new event to observe:"
   ]
  },
  {
   "cell_type": "code",
   "execution_count": null,
   "id": "272ac35d-9acf-4706-b70d-f9d9c81a4634",
   "metadata": {},
   "outputs": [],
   "source": [
    "your_event2 = event.Event(ra=264, dec=-28)\n",
    "your_event2.name = 'My simulated event 2'"
   ]
  },
  {
   "cell_type": "markdown",
   "id": "149be2f2-3f8d-4c20-9f86-c4f9ba794bb7",
   "metadata": {},
   "source": [
    "We will simulate telescopes in South Africa (SAAO),  Chile (CTIO) and Australia (SSO).\n",
    "\n",
    "For observing bands, we're simulate I-band for all sites, and also add a daily V-band observation from CTIO. Each observing band counts as a seperate telescope, so we will need to create _four_ telescope objects:"
   ]
  },
  {
   "cell_type": "code",
   "execution_count": null,
   "id": "4ea79074-dd0f-48f0-8ebe-f28c10f80f26",
   "metadata": {},
   "outputs": [],
   "source": [
    "SAAO_I = simulator.simulate_a_telescope(name='SAAO_I', time_start=2457575.5,\n",
    "                                        time_end=2457625.5, sampling=2.5,\n",
    "                                        location='Earth', camera_filter='I',\n",
    "                                        uniform_sampling=False, altitude=400,\n",
    "                                        longitude=20.659279,\n",
    "                                        latitude=-32.3959,\n",
    "                                        bad_weather_percentage=20.0 / 100,\n",
    "                                        moon_windows_avoidance=20, minimum_alt=15,\n",
    "                                        astrometry=False)\n",
    "\n",
    "SSO_I = simulator.simulate_a_telescope('SSO_I', time_start=2457535.5,\n",
    "                                       time_end=2457645.5, sampling=2.5,\n",
    "                                       location='Earth', camera_filter='I',\n",
    "                                       uniform_sampling=False, altitude=1165,\n",
    "                                       longitude=149.0685,\n",
    "                                       latitude=-31.2749,\n",
    "                                       bad_weather_percentage=35.0 / 100,\n",
    "                                       moon_windows_avoidance=20, minimum_alt=15,\n",
    "                                       astrometry=False)\n",
    "\n",
    "CTIO_I = simulator.simulate_a_telescope('CTIO_I', time_start=2457365.5,\n",
    "                                        time_end=2457965.5, sampling=4.5,\n",
    "                                        location='Earth', camera_filter='I',\n",
    "                                        uniform_sampling=False, altitude=1000,\n",
    "                                        longitude=-109.285399,\n",
    "                                        latitude=-27.130,\n",
    "                                        bad_weather_percentage=10.0 / 100,\n",
    "                                        moon_windows_avoidance=30, minimum_alt=30,\n",
    "                                        astrometry=False)\n",
    "\n",
    "CTIO_V = simulator.simulate_a_telescope('CTIO_V', time_start=2457365.5,\n",
    "                                        time_end=2457965.5, sampling=24.5,\n",
    "                                        location='Earth', camera_filter='V',\n",
    "                                        uniform_sampling=False, altitude=1000,\n",
    "                                        longitude=-109.285399,\n",
    "                                        latitude=-27.130,\n",
    "                                        bad_weather_percentage=10.0 / 100,\n",
    "                                        moon_windows_avoidance=30, minimum_alt=30,\n",
    "                                        astrometry=False)"
   ]
  },
  {
   "cell_type": "markdown",
   "id": "a8017d6d-8ff0-4507-ac40-f52fcb6b6d65",
   "metadata": {},
   "source": [
    "The meaning of the parameters, in this example, for the SAAO_I data set are:\n",
    "name = \"SAAO_I\", your_event2, location = 'Earth', start_obs =2457585.5, end_obs = 2457615.5,\n",
    "sampling(hours) = 2, location='Earth', filter = 'I', uniform_sampling=True, altitude = 400 m, \n",
    "longitude = 20.659279, latitude = -32.3959, bad_weather_percentage = 20%, \n",
    "moon_windows_avoidance (degrees)=20, minimum_alt=15),\n",
    "astrometry=False"
   ]
  },
  {
   "cell_type": "markdown",
   "id": "eeb7bb86-47ac-487b-9107-c5ef1a813e9b",
   "metadata": {},
   "source": [
    "Associate these telescopes with the event we created:"
   ]
  },
  {
   "cell_type": "code",
   "execution_count": null,
   "id": "0468047c-f754-4f44-a912-39f97d07ff4a",
   "metadata": {},
   "outputs": [],
   "source": [
    "your_event2.telescopes.append(SAAO_I)\n",
    "your_event2.telescopes.append(SSO_I)\n",
    "your_event2.telescopes.append(CTIO_I)\n",
    "your_event2.telescopes.append(CTIO_V)"
   ]
  },
  {
   "cell_type": "markdown",
   "id": "2c0d5bd5-f001-4565-9271-7809e60addf1",
   "metadata": {},
   "source": [
    "Run a quick sanity check on your input."
   ]
  },
  {
   "cell_type": "code",
   "execution_count": null,
   "id": "8d13e770-732d-4131-9e96-c8b16d6ac4b0",
   "metadata": {},
   "outputs": [],
   "source": [
    "your_event2.check_event()"
   ]
  },
  {
   "cell_type": "markdown",
   "id": "ec29422d-3a3d-44ef-8665-769aff767ede",
   "metadata": {},
   "source": [
    "Define which data set to align all data to (optional):"
   ]
  },
  {
   "cell_type": "code",
   "execution_count": null,
   "id": "a81d78f6-4582-4d00-80dc-e67061e0bed9",
   "metadata": {},
   "outputs": [],
   "source": [
    "your_event2.find_survey('CTIO_I')"
   ]
  },
  {
   "cell_type": "markdown",
   "id": "77cb7d41-5b4c-4798-9637-62d6dafb5d5d",
   "metadata": {},
   "source": [
    "Now construct the **MODEL** you want to deploy to construct the light curves and link it to the **EVENT** you prepared.\n",
    "\n",
    "We will use the double-source point-lens (DSPL) model for this example."
   ]
  },
  {
   "cell_type": "code",
   "execution_count": null,
   "id": "ef219d28-6b3c-4f85-bfad-0ed467fd5ea8",
   "metadata": {},
   "outputs": [],
   "source": [
    "dspl = PSPL_model.PSPLmodel(your_event2, double_source=['Static',2457500])"
   ]
  },
  {
   "cell_type": "markdown",
   "id": "51ca8f8e-9438-4be2-9c92-914715d80ccd",
   "metadata": {},
   "source": [
    "Now that the MODEL is there, we need to set the relevant parameters.\n",
    "\n",
    "The parameters are drawn uniformly from the bounds defined but you can also set them manually. Please consult the documentation for more details on the parameters of the MODEL you want to use. For the DSPL example, dspl_parameters = [to, uo, tE,delta_to, delta_uo, q_fluxr_1, q_fluxr2, ...]\n",
    "where q_fluxr_* is the flux ratio in each observing band."
   ]
  },
  {
   "cell_type": "code",
   "execution_count": null,
   "id": "7b53d755-4fb9-4b3f-83ef-1feec0a7f532",
   "metadata": {},
   "outputs": [],
   "source": [
    "dspl_parameters = simulator.simulate_microlensing_model_parameters(dspl)\n",
    "print(dspl_parameters)"
   ]
  },
  {
   "cell_type": "markdown",
   "id": "75a8e22d-c4e9-4ead-a694-4724224f0323",
   "metadata": {},
   "source": [
    "To see the order and names of the paramaters use:"
   ]
  },
  {
   "cell_type": "code",
   "execution_count": null,
   "id": "7be48ac9-7adf-4eb2-893d-4738aeb34694",
   "metadata": {},
   "outputs": [],
   "source": [
    "print(dspl.model_dictionnary)"
   ]
  },
  {
   "cell_type": "markdown",
   "id": "df5b7f5f-3888-451a-b445-0dca06cfdb48",
   "metadata": {},
   "source": [
    "pyLIMA has provided some random values for the fluxes drawn from uniform distributions.\n",
    "\n",
    "These do not represent any physical system and are likely off for the telescope/filter combination that you as a user have defined, but they can be used as placeholders for you to define your own values. We will see how to do that later. For now, just use these temporary values for the simulation."
   ]
  },
  {
   "cell_type": "markdown",
   "id": "5d9b726b-ab34-45dc-a3eb-ff2fff7b9d8f",
   "metadata": {},
   "source": [
    "Transform the parameters into pyLIMA standards:"
   ]
  },
  {
   "cell_type": "code",
   "execution_count": null,
   "id": "28e3ad3b-462c-4a57-a3b2-20ebca443520",
   "metadata": {},
   "outputs": [],
   "source": [
    "pyLIMA_parameters = dspl.compute_pyLIMA_parameters(dspl_parameters)"
   ]
  },
  {
   "cell_type": "markdown",
   "id": "f069722e-20f1-4e21-9702-99f0e9e89c16",
   "metadata": {},
   "source": [
    "Now we have defined the MODEL we want to simulate, we have defined the telescopes and fluxes in each observing band, so we just inject these into our simulator to produce a light curve:"
   ]
  },
  {
   "cell_type": "code",
   "execution_count": null,
   "id": "4cc37b79-8f5d-45d5-ad6f-efa03429bfaa",
   "metadata": {},
   "outputs": [],
   "source": [
    "simulator.simulate_lightcurve(dspl, pyLIMA_parameters)"
   ]
  },
  {
   "cell_type": "markdown",
   "id": "bc634395-38f0-48de-862b-5d5b3f000286",
   "metadata": {},
   "source": [
    "Let's plot our simulated light curve!"
   ]
  },
  {
   "cell_type": "code",
   "execution_count": null,
   "id": "9658fbb2-adc6-4503-8633-adce23bf901c",
   "metadata": {},
   "outputs": [],
   "source": [
    "### Plot with pyLIMA plotter (recommended):\n",
    "pyLIMA_plots.list_of_fake_telescopes = []  # cleaning previous plots\n",
    "\n",
    "pyLIMA_plots.plot_lightcurves(dspl, dspl_parameters)\n",
    "plt.show()"
   ]
  },
  {
   "cell_type": "code",
   "execution_count": null,
   "id": "6f4b2540-f0f6-43e6-93a0-063aec61c6e4",
   "metadata": {},
   "outputs": [],
   "source": [
    "### ... or plot it all manually if you prefer:\n",
    "plt.close('all')\n",
    "for telescope in your_event2.telescopes:\n",
    "    plt.errorbar(telescope.lightcurve['time'].value-2450000,\n",
    "                 telescope.lightcurve['mag'].value,\n",
    "                 yerr=telescope.lightcurve['err_mag'].value, \n",
    "                 fmt='.', label=telescope.name)\n",
    "\n",
    "plt.gca().invert_yaxis()\n",
    "plt.legend()\n",
    "plt.show()"
   ]
  },
  {
   "cell_type": "markdown",
   "id": "e0caac6c-76ab-4db7-8737-8b5ffe66f472",
   "metadata": {},
   "source": [
    "Say you want to define your own values to use, instead of having the pyLIMA simulators randomly guess.\n",
    "\n",
    "Here's how you can do that. Let's fix the DSPL parameters to some values where the binary source model produces two clear peaks, and then just adjust the flux parameters."
   ]
  },
  {
   "cell_type": "code",
   "execution_count": null,
   "id": "c86d2c13-382f-4dc7-882b-7eef53c446e7",
   "metadata": {},
   "outputs": [],
   "source": [
    "dspl_parameters[0:7] = [2457760.216627234, 0.8605811108889658, 116.43231096591524, 143.4484970433387,\n",
    "                        -0.6046788112617074,  0.15157064165919296,\n",
    "                        0.18958495421162946]"
   ]
  },
  {
   "cell_type": "markdown",
   "id": "2ddc1ca9-73da-4e24-b5e2-f5a6f111d07c",
   "metadata": {},
   "source": [
    "The order of the parameters is:"
   ]
  },
  {
   "cell_type": "code",
   "execution_count": null,
   "id": "a5c6251d-799d-4b5c-954b-7baa8877bce1",
   "metadata": {},
   "outputs": [],
   "source": [
    "print(dspl.model_dictionnary)"
   ]
  },
  {
   "cell_type": "markdown",
   "id": "8cbd3ac3-ff90-48c5-8359-6474b7ede6f4",
   "metadata": {},
   "source": [
    "... and we will replace all source and blend flux elements with our own values. We can assume the fluxes are calibrated. Set up the magnitude values you want:"
   ]
  },
  {
   "cell_type": "code",
   "execution_count": null,
   "id": "6b2f9b9d-73ec-45e9-ad77-b393a6f46811",
   "metadata": {},
   "outputs": [],
   "source": [
    "magsource_CTIO_I = 17.32\n",
    "magblend_CTIO_I = 20.89\n",
    "magsource_SAAO_I = 17.32\n",
    "magblend_SAAO_I = 20.89\n",
    "magsource_SSO_I = 17.32\n",
    "magblend_SSO_I = 20.89\n",
    "magsource_CTIO_V = 19.18\n",
    "magblend_CTIO_V = 21.22"
   ]
  },
  {
   "cell_type": "markdown",
   "id": "48704348-5f53-4846-9ff5-6b3e9b483586",
   "metadata": {},
   "source": [
    "Now we need to convert these to fluxes. Set up an empty array to hold the values:"
   ]
  },
  {
   "cell_type": "code",
   "execution_count": null,
   "id": "95d75674-ef75-4efa-9e4a-1edd41de6d03",
   "metadata": {},
   "outputs": [],
   "source": [
    "fluxes = []"
   ]
  },
  {
   "cell_type": "markdown",
   "id": "c429e71e-86d0-4586-ad56-493b835cc633",
   "metadata": {},
   "source": [
    "Import the magnitude to flux coversion function from pyLIMA and populate the array"
   ]
  },
  {
   "cell_type": "code",
   "execution_count": null,
   "id": "01f01c1c-4f63-4033-9169-ce2dfa743708",
   "metadata": {},
   "outputs": [],
   "source": [
    "for mag in [magsource_CTIO_I, magblend_CTIO_I, magsource_SAAO_I, magblend_SAAO_I,\n",
    "            magsource_SSO_I, magblend_SSO_I, magsource_CTIO_V, magblend_CTIO_V]:\n",
    "    flux = brightness_transformation.magnitude_to_flux(mag)\n",
    "    fluxes.append(flux)"
   ]
  },
  {
   "cell_type": "markdown",
   "id": "80bcac55-a161-4893-826a-ab71b1954e4a",
   "metadata": {},
   "source": [
    "Now we add these fluxes to the dspl_parameters we prepared earlier:"
   ]
  },
  {
   "cell_type": "code",
   "execution_count": null,
   "id": "ab516367-6848-4e8c-9a2c-82652afc94c9",
   "metadata": {},
   "outputs": [],
   "source": [
    "dspl_parameters[7:] = fluxes"
   ]
  },
  {
   "cell_type": "markdown",
   "id": "ad3fb93f-24e9-491a-b040-4307c0f7c446",
   "metadata": {},
   "source": [
    "Transform the parameters into pyLIMA standards:"
   ]
  },
  {
   "cell_type": "code",
   "execution_count": null,
   "id": "9f60cee0-4181-4b5f-a6d0-9abd480f17ee",
   "metadata": {},
   "outputs": [],
   "source": [
    "pyLIMA_parameters = dspl.compute_pyLIMA_parameters(dspl_parameters)"
   ]
  },
  {
   "cell_type": "markdown",
   "id": "f8b5e3d0-9752-4eda-81f4-bc5e35451913",
   "metadata": {},
   "source": [
    "Produce the lightcurve:"
   ]
  },
  {
   "cell_type": "code",
   "execution_count": null,
   "id": "8e6ecff2-8ca5-4da0-9888-39ad669a2eed",
   "metadata": {},
   "outputs": [],
   "source": [
    "simulator.simulate_lightcurve(dspl, pyLIMA_parameters)"
   ]
  },
  {
   "cell_type": "markdown",
   "id": "1b2bce5d-c27b-45bf-84ae-ea705d88a621",
   "metadata": {},
   "source": [
    "Plot it:"
   ]
  },
  {
   "cell_type": "code",
   "execution_count": null,
   "id": "2825e184-7934-4d3f-bee9-3a9bb8b8d596",
   "metadata": {},
   "outputs": [],
   "source": [
    "pyLIMA_plots.plot_lightcurves(dspl, dspl_parameters)\n",
    "plt.show()"
   ]
  },
  {
   "cell_type": "markdown",
   "id": "d3237cf8-1a10-49fd-b305-d4a1769f4a76",
   "metadata": {},
   "source": [
    "A short commentary to explain the DSPL parameters in this example:"
   ]
  },
  {
   "cell_type": "code",
   "execution_count": null,
   "id": "cc4185a2-9ab8-4eab-bda1-c1e8e405612f",
   "metadata": {},
   "outputs": [],
   "source": [
    "print (dspl_parameters)\n",
    "parameter_commentary = ['Time of minimum impact parameter for source 1',\n",
    "                        'minimum impact parameter for source 1',\n",
    "                        'difference of time of minimum impact parameter between the two sources',\n",
    "                        'difference of minimum impact parameters between the two sources',\n",
    "                        'angular Einstein radius crossing time',\n",
    "                        'flux ratio in I between source 1 and source 2',\n",
    "                        'flux ratio in V between source 1 and source 2',\n",
    "                        'source flux of source 1 for telescope CTIO_I (survey telescope)',\n",
    "                        'blending ratio of source 1 for telescope CTIO_I (survey telescope)',\n",
    "                        'source flux of source 1 for telescope SAAO_I',\n",
    "                        'blending ratio of source 1 for telescope SAAO_I',\n",
    "                        'source flux of source 1 for telescope SSO_I',\n",
    "                        'blending ratio of source 1 for telescope SSO_I',\n",
    "                        'source flux of source 1 for telescope CTIO_V',\n",
    "                        'blending ratio of source 1 for telescope CTIO_V',\n",
    "                        ]\n",
    "\n",
    "for key in dspl.model_dictionnary.keys():\n",
    "    indice = dspl.model_dictionnary[key]\n",
    "    print (key, ' = ', dspl_parameters[indice], ' : ', parameter_commentary[indice] )"
   ]
  },
  {
   "cell_type": "markdown",
   "id": "a1dc28de-ba78-4eab-b8c3-caafcb693f98",
   "metadata": {},
   "source": [
    "Let's try to fit this now! (This can take a while!) \n",
    "\n",
    "You can check the first tutorial again for a detailed explanation if needed."
   ]
  },
  {
   "cell_type": "code",
   "execution_count": null,
   "id": "4f11367b-5490-41a7-9a0a-863eb375a3d6",
   "metadata": {},
   "outputs": [],
   "source": [
    "my_fit = DE_fit.DEfit(dspl, display_progress=False, strategy='best1bin')\n",
    "my_fit.fit()\n",
    "\n",
    "my_fit.fit_results['best_model']"
   ]
  },
  {
   "cell_type": "markdown",
   "id": "f5abe1b8-bf52-4bf1-a7d8-1aa14064b6f8",
   "metadata": {},
   "source": [
    "Compare your DSPL fit parameters with what you defined in the DSPL simulation above:"
   ]
  },
  {
   "cell_type": "code",
   "execution_count": null,
   "id": "509fd94e-284e-45a0-aefa-19d9119d0d10",
   "metadata": {},
   "outputs": [],
   "source": [
    "print(my_fit.fit_results['best_model'] - dspl_parameters[0:7])"
   ]
  },
  {
   "cell_type": "markdown",
   "id": "c1169781-2e07-42ba-a980-4b5de920e575",
   "metadata": {},
   "source": [
    "Plot and constrast the optimized fit results and the simulated light curve:"
   ]
  },
  {
   "cell_type": "code",
   "execution_count": null,
   "id": "68c44b33-833c-44fe-b690-a7aaa9f88642",
   "metadata": {},
   "outputs": [],
   "source": [
    "pyLIMA_plots.plot_lightcurves(dspl, my_fit.fit_results['best_model'])\n",
    "pyLIMA_plots.plot_lightcurves(dspl, dspl_parameters)\n",
    "plt.show()"
   ]
  },
  {
   "cell_type": "markdown",
   "id": "098790c5-2768-41b0-a48c-9eacfebcfe70",
   "metadata": {},
   "source": [
    "This concludes tutorial 3."
   ]
  }
 ],
 "metadata": {
  "kernelspec": {
   "display_name": "Python 3 (ipykernel)",
   "language": "python",
   "name": "python3"
  },
  "language_info": {
   "codemirror_mode": {
    "name": "ipython",
    "version": 3
   },
   "file_extension": ".py",
   "mimetype": "text/x-python",
   "name": "python",
   "nbconvert_exporter": "python",
   "pygments_lexer": "ipython3",
   "version": "3.12.3"
  }
 },
 "nbformat": 4,
 "nbformat_minor": 5
}
