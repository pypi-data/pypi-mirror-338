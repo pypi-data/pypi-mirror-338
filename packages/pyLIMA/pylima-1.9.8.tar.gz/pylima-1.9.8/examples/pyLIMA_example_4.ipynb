{
 "cells": [
  {
   "cell_type": "markdown",
   "id": "38aa6332-68b9-4ebb-bbae-bcc7aa9ed68d",
   "metadata": {},
   "source": [
    "**Welcome to pyLIMA (v2) tutorial 4!**\n",
    "\n",
    "In this tutorial you will learn how to code your own objective function to be optimised, instead of using the standard pyLIMA routines. \n",
    "\n",
    "For example, you might want to use SIMPLEX $\\chi^2$ minimization, instead of LM.\n",
    "\n",
    "In scipy.optimize the SIMPLEX method is called 'Nelder-Mead'.\n",
    "\n",
    "We will use the same example light curves as in tutorial 1.\n",
    "\n",
    "Please take some time to familiarize yourself with the pyLIMA documentation."
   ]
  },
  {
   "cell_type": "code",
   "execution_count": null,
   "id": "76625578-e78f-4cad-937e-032d1e037070",
   "metadata": {},
   "outputs": [],
   "source": [
    "### Import the required libraries.\n",
    "%matplotlib widget\n",
    "\n",
    "import matplotlib.pyplot as plt\n",
    "import numpy as np\n",
    "import scipy.optimize as so\n",
    "from pyLIMA.models import FSPL_model\n",
    "from pyLIMA.outputs import pyLIMA_plots\n",
    "\n",
    "from pyLIMA import event\n",
    "from pyLIMA import telescopes"
   ]
  },
  {
   "cell_type": "markdown",
   "id": "81f74336-1c37-4fab-9fa5-47c80fa30610",
   "metadata": {},
   "source": [
    "Create a new **EVENT** object and give it a name."
   ]
  },
  {
   "cell_type": "code",
   "execution_count": null,
   "id": "c6586d87-09b2-4e7f-b4b5-f557da804101",
   "metadata": {},
   "outputs": [],
   "source": [
    "your_event = event.Event()\n",
    "your_event.name = 'My event name'"
   ]
  },
  {
   "cell_type": "markdown",
   "id": "80d24d69-a66c-402c-8d93-ad7160254b95",
   "metadata": {},
   "source": [
    "You now need to associate some data sets with this **EVENT**. \n",
    "\n",
    "For this example, you will use simulated I-band data sets from two telescopes, OGLE and LCO.\n",
    "\n",
    "The data sets are pre-formatted: column 1 is the date, column 2 the magnitude and column 3 the uncertainty in the magnitude."
   ]
  },
  {
   "cell_type": "code",
   "execution_count": null,
   "id": "edaff43a-adbe-4b00-a96e-c430d196dcc3",
   "metadata": {},
   "outputs": [],
   "source": [
    "data_1 = np.loadtxt('./data/Survey_1.dat')\n",
    "telescope_1 = telescopes.Telescope(name = 'OGLE', \n",
    "                                   camera_filter = 'I',\n",
    "                                   light_curve = data_1.astype(float),\n",
    "                                   light_curve_names = ['time','mag','err_mag'],\n",
    "                                   light_curve_units = ['JD','mag','mag'])\n",
    "\n",
    "data_2 = np.loadtxt('./data/Followup_1.dat')\n",
    "telescope_2 = telescopes.Telescope(name = 'LCO', \n",
    "                                   camera_filter = 'I',\n",
    "                                   light_curve = data_2.astype(float),\n",
    "                                   light_curve_names = ['time','mag','err_mag'],\n",
    "                                   light_curve_units = ['JD','mag','mag'])"
   ]
  },
  {
   "cell_type": "markdown",
   "id": "83eff167-70cc-4893-b4de-478ef94db948",
   "metadata": {},
   "source": [
    "Append these two telescope data sets to your **EVENT** object."
   ]
  },
  {
   "cell_type": "code",
   "execution_count": null,
   "id": "afa3949c-265b-4407-b1af-59a0e371b531",
   "metadata": {},
   "outputs": [],
   "source": [
    "your_event.telescopes.append(telescope_1)\n",
    "your_event.telescopes.append(telescope_2)"
   ]
  },
  {
   "cell_type": "markdown",
   "id": "285382bf-7c09-48c3-99e1-7e5b1ab45e97",
   "metadata": {},
   "source": [
    "Define the survey telescope that you want to use to align all other data sets to.\n",
    "\n",
    "We recommend using the data set with the most measurements covering the gretest time span of observations:"
   ]
  },
  {
   "cell_type": "code",
   "execution_count": null,
   "id": "923e4949-b57f-4905-9770-2af1676af880",
   "metadata": {},
   "outputs": [],
   "source": [
    "your_event.find_survey('OGLE')"
   ]
  },
  {
   "cell_type": "code",
   "execution_count": null,
   "id": "772e446d-3080-4789-83b9-0ef8456b4a3b",
   "metadata": {},
   "outputs": [],
   "source": [
    "### Run a quick sanity check on your input.\n",
    "your_event.check_event()"
   ]
  },
  {
   "cell_type": "markdown",
   "id": "cce39157-3c5f-4edd-8d40-e2f6e2bce676",
   "metadata": {},
   "source": [
    "Set the microlensing limb-darkening coefficients (gamma) for each telescope:"
   ]
  },
  {
   "cell_type": "code",
   "execution_count": null,
   "id": "f2a68806-8c6c-412c-b67c-8188f5952dd9",
   "metadata": {},
   "outputs": [],
   "source": [
    "your_event.telescopes[0].ld_gamma = 0.5\n",
    "your_event.telescopes[1].ld_gamma = 0.5"
   ]
  },
  {
   "cell_type": "markdown",
   "id": "732977c4-44dd-4970-a0d2-0e9e23a2d0fd",
   "metadata": {},
   "source": [
    "Next, construct the **MODEL** you want to fit and link it to the **EVENT** you prepared. \n",
    "Let's go with a basic FSPL, without second order effects:"
   ]
  },
  {
   "cell_type": "code",
   "execution_count": null,
   "id": "4099f10e-8806-463e-8166-3d30cbeb27d3",
   "metadata": {},
   "outputs": [],
   "source": [
    "fspl = FSPL_model.FSPLmodel(your_event)"
   ]
  },
  {
   "cell_type": "markdown",
   "id": "dc7c6ba1-351d-44a7-bc01-456a8b683571",
   "metadata": {},
   "source": [
    "Now we want to define the **OBJECTIVE FUNCTION** to use for the **MODEL** you prepared.\n",
    "Here we take a simple $\\chi^2$, and fit in flux units:"
   ]
  },
  {
   "cell_type": "code",
   "execution_count": null,
   "id": "691d5831-613f-41c1-822e-1e4217eb64bb",
   "metadata": {},
   "outputs": [],
   "source": [
    "def chisq(fit_process_parameters, your_model):\n",
    "        pyLIMA_parameters = your_model.compute_pyLIMA_parameters(fit_process_parameters)\n",
    "        \n",
    "        chichi = 0\n",
    "        for telescope in your_model.event.telescopes:\n",
    "            # Compute fit residuals\n",
    "            model = your_model.compute_the_microlensing_model(telescope, pyLIMA_parameters)['photometry']\n",
    "            flux = telescope.lightcurve['flux'].value\n",
    "            errflux = telescope.lightcurve['err_flux'].value\n",
    "            residus = (flux - model)/errflux \n",
    "            chichi += (residus ** 2).sum()\n",
    "        \n",
    "        return chichi"
   ]
  },
  {
   "cell_type": "markdown",
   "id": "aa41ad6c-88ff-46b3-9243-b7aec6c1c3f0",
   "metadata": {},
   "source": [
    "Now we can use your chisq **OBJECTIVE FUNCTION** for the fit. \n",
    "\n",
    "Let's assume it is scipy.optimize.minimize"
   ]
  },
  {
   "cell_type": "code",
   "execution_count": null,
   "id": "21d94466-1648-483b-ae86-2779326ffd39",
   "metadata": {},
   "outputs": [],
   "source": [
    "### You need a reasonable starting guess ...\n",
    "your_guess = [79.963, 0.01, 9.6, 0.04]"
   ]
  },
  {
   "cell_type": "markdown",
   "id": "63bfbc45-2e63-4c8e-b0c5-b78d99395b25",
   "metadata": {},
   "source": [
    "This next command is done automatically in pyLIMA for the default optimizers but since we defined our own **OBJECTIVE FUNCTION** here we need to call it explicitly to initialize the parameters in the model."
   ]
  },
  {
   "cell_type": "code",
   "execution_count": null,
   "id": "ac6eb5f4-e3da-42e2-bb2d-39fa29d5a89d",
   "metadata": {},
   "outputs": [],
   "source": [
    "fspl.define_model_parameters()"
   ]
  },
  {
   "cell_type": "markdown",
   "id": "1db785ff-98fa-4a0c-999a-5cbccdaa8d0c",
   "metadata": {},
   "source": [
    "Now run the optimization using your chisq function:"
   ]
  },
  {
   "cell_type": "code",
   "execution_count": null,
   "id": "21ad6615-8f12-45d6-b6ba-0600761ac710",
   "metadata": {},
   "outputs": [],
   "source": [
    "result = so.minimize(chisq, your_guess, args=(fspl), method='Nelder-Mead')\n",
    "print (result)"
   ]
  },
  {
   "cell_type": "markdown",
   "id": "b1ce89fb-7321-43bb-9053-084dccd3f58d",
   "metadata": {},
   "source": [
    "Let's look at the optimized parameters and the $\\chi^2$ of the fit.\n",
    "\n",
    "In this particular case, the function we defined uses scipy.optimize, where the optimized parameters are stored in result.x and the $\\chi^2$ in result.fun."
   ]
  },
  {
   "cell_type": "code",
   "execution_count": null,
   "id": "0c67ef2e-e82a-49e9-879b-e64cadf3c008",
   "metadata": {},
   "outputs": [],
   "source": [
    "print (\"Optimized parameters:\", result.x)\n",
    "print (\"chi^2:\", result.fun)"
   ]
  },
  {
   "cell_type": "markdown",
   "id": "b0927689-c14e-4f74-81cb-77166f51ec26",
   "metadata": {},
   "source": [
    "In case you have forgotten, the order and names of the parameters can be obtained from:"
   ]
  },
  {
   "cell_type": "code",
   "execution_count": null,
   "id": "fa2faa14-b31d-4fc0-ba7a-53e8cfedccf4",
   "metadata": {},
   "outputs": [],
   "source": [
    "fspl.model_dictionnary"
   ]
  },
  {
   "cell_type": "markdown",
   "id": "70866904-71d2-436c-ab89-2b54edfeee48",
   "metadata": {},
   "source": [
    "Finally, let's look at the plot of the fit. Import the pyLIMA plotting tools:"
   ]
  },
  {
   "cell_type": "code",
   "execution_count": null,
   "id": "90b4d576-e9ad-4700-aec7-2ef96cd5fd5d",
   "metadata": {},
   "outputs": [],
   "source": [
    "plt.close('all')\n",
    "pyLIMA_plots.plot_lightcurves(fspl, result.x)\n",
    "plt.show()"
   ]
  },
  {
   "cell_type": "markdown",
   "id": "f7781e79-c648-4dd5-a935-965fae6d567c",
   "metadata": {},
   "source": [
    "This concludes tutorial 4."
   ]
  }
 ],
 "metadata": {
  "kernelspec": {
   "display_name": "Python 3 (ipykernel)",
   "language": "python",
   "name": "python3"
  },
  "language_info": {
   "codemirror_mode": {
    "name": "ipython",
    "version": 3
   },
   "file_extension": ".py",
   "mimetype": "text/x-python",
   "name": "python",
   "nbconvert_exporter": "python",
   "pygments_lexer": "ipython3",
   "version": "3.12.3"
  }
 },
 "nbformat": 4,
 "nbformat_minor": 5
}
