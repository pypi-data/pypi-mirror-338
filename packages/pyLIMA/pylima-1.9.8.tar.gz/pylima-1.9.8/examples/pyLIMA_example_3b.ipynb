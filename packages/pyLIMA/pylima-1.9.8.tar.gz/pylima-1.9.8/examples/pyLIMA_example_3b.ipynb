{
 "cells": [
  {
   "cell_type": "markdown",
   "id": "6a5854f2-9d2c-4691-ab64-1095b3ea8c67",
   "metadata": {},
   "source": [
    "**Welcome to pyLIMA (v2) tutorial 3b!**\n",
    "\n",
    "In this tutorial you will learn how to use the pyLIMA simulator to simulate \n",
    "observations from space. We will also learn how to add parallax to our models.\n",
    "\n",
    "Please take some time to familiarize yourself with the pyLIMA documentation."
   ]
  },
  {
   "cell_type": "code",
   "execution_count": null,
   "id": "f218a8fe-722e-4e72-83ce-a5c1ee5768e0",
   "metadata": {},
   "outputs": [],
   "source": [
    "### Import the required libraries.\n",
    "%matplotlib widget\n",
    "\n",
    "import matplotlib.pyplot as plt\n",
    "from pyLIMA.models import PSPL_model\n",
    "from pyLIMA.outputs import pyLIMA_plots\n",
    "### Import the simulator to be used for generating the simulated light curve\n",
    "from pyLIMA.simulations import simulator\n",
    "\n",
    "from pyLIMA import event"
   ]
  },
  {
   "cell_type": "markdown",
   "id": "2085d4c3-6d31-4594-887f-d57191cd5e03",
   "metadata": {},
   "source": [
    "Create a new EVENT object and give it a name.\n",
    "\n",
    "You can also set the coordinates for an event.\n",
    "\n",
    "In the context of the simulation, the coordinates will be used to check whether the target is observable from a specific observatory."
   ]
  },
  {
   "cell_type": "code",
   "execution_count": null,
   "id": "5d6a825f-b8eb-462d-b36a-9e58fd5f6a06",
   "metadata": {},
   "outputs": [],
   "source": [
    "your_event = event.Event(ra=270, dec=-30)\n",
    "your_event.name = 'My simulated event'"
   ]
  },
  {
   "cell_type": "markdown",
   "id": "b6fb8ef4-6206-42c4-a853-2d5e137fbd47",
   "metadata": {},
   "source": [
    "Create some telescope(s) to observe the event from. See tutorial 3 for more details.\n",
    "\n",
    "We will use CTIO_I (from Earth), Gaia_G and Spitzer_H (from Space):"
   ]
  },
  {
   "cell_type": "code",
   "execution_count": null,
   "id": "b12cb421-f2e5-4de5-b502-2f9e8ac48ad8",
   "metadata": {},
   "outputs": [],
   "source": [
    "CTIO_I = simulator.simulate_a_telescope(name='CTIO_I', time_start=2458365.5, time_end=2458965.5, sampling=4, location='Earth', camera_filter='I',\n",
    "                                        uniform_sampling=False, altitude=1000, longitude = -109.285399, \n",
    "                                        latitude = -27.130, bad_weather_percentage=10.0 / 100, \n",
    "                                        moon_windows_avoidance=30, minimum_alt=30, astrometry=False)\n",
    "\n",
    "GAIA_G = simulator.simulate_a_telescope(name='GAIA_G', time_start=2458365.5, time_end=2458965.5, sampling=168, location='Space', camera_filter='G',\n",
    "                                        uniform_sampling=True, spacecraft_name='Gaia', astrometry=False)\n",
    "\n",
    "SPITZER_H = simulator.simulate_a_telescope(name='SPITZER_H', time_start=2458565.5, time_end=2458765.5, sampling=168, location='Space', camera_filter='H',\n",
    "                                        uniform_sampling=True, spacecraft_name='Spitzer', astrometry=False)"
   ]
  },
  {
   "cell_type": "markdown",
   "id": "3d4cb1dd-8c7c-475c-b6c1-bd9697a4b571",
   "metadata": {},
   "source": [
    "Similar to tutorial 1, we need to associate this telescopee with the event we created:"
   ]
  },
  {
   "cell_type": "code",
   "execution_count": null,
   "id": "55fee10f-ab6c-44a7-ab46-8a65b75b8004",
   "metadata": {},
   "outputs": [],
   "source": [
    "your_event.telescopes.append(CTIO_I)\n",
    "your_event.telescopes.append(GAIA_G)\n",
    "your_event.telescopes.append(SPITZER_H)"
   ]
  },
  {
   "cell_type": "code",
   "execution_count": null,
   "id": "b009bbc0-5a52-409c-9bad-a1b5677b3cc7",
   "metadata": {},
   "outputs": [],
   "source": [
    "### Run a quick sanity check on your input.\n",
    "your_event.check_event()"
   ]
  },
  {
   "cell_type": "markdown",
   "id": "f73fda3d-fae9-4e68-9371-80e1a581c2b9",
   "metadata": {},
   "source": [
    "Now construct the MODEL you want to deploy:\n",
    "\n",
    "We will use a simple point-lens point-source (PSPL) model but we will also add parallax.\n",
    "\n",
    "This involves invoking the parallax= option when setting up our **MODEL**.\n",
    "\n",
    "Note that here we want to give a raference date to evalueate the parallax from, and this needs to be close to t0."
   ]
  },
  {
   "cell_type": "code",
   "execution_count": null,
   "id": "4fce4bdd-264e-47e8-aade-d9582d43bc2f",
   "metadata": {},
   "outputs": [],
   "source": [
    "pspl = PSPL_model.PSPLmodel(your_event, parallax=['Full', 2458565.5])"
   ]
  },
  {
   "cell_type": "markdown",
   "id": "0c3ebea2-9363-474c-b14b-037508b8f298",
   "metadata": {},
   "source": [
    "Now that the **MODEL** is there, we need to set the relevant parameters."
   ]
  },
  {
   "cell_type": "code",
   "execution_count": null,
   "id": "c5e1a031-033d-4241-b735-9fac7030b28a",
   "metadata": {},
   "outputs": [],
   "source": [
    "### pspl_parameters = [to, uo, tE, flux_source, flux_blend]\n",
    "pspl_parameters = simulator.simulate_microlensing_model_parameters(pspl)"
   ]
  },
  {
   "cell_type": "markdown",
   "id": "d1424902-d93f-4dfa-8fbb-f15b62d63bf4",
   "metadata": {},
   "source": [
    "For the purposes of this demonstration we will set the parameters to some reasonable values.\n",
    "\n",
    "Let's fix t0 to the value we set when we were preparing our MODEL (including parallax) above.\n",
    "\n",
    "This is the reference date (t0_\\bar) we want to evaluate the parallax from:"
   ]
  },
  {
   "cell_type": "code",
   "execution_count": null,
   "id": "3e28d2f7-3f48-41bf-9356-7573a8d8e432",
   "metadata": {},
   "outputs": [],
   "source": [
    "pspl_parameters[0] = 2458565.25\n",
    "pspl_parameters[1:5] = [0.60, 81.50, 0.02, 0.07]"
   ]
  },
  {
   "cell_type": "markdown",
   "id": "b83350d5-ada1-4411-b231-26ccd3db323a",
   "metadata": {},
   "source": [
    "We also artificially set the source and blend fluxes of all telescopes to the same values just for plotting purposes (you don't have to do this normally):"
   ]
  },
  {
   "cell_type": "code",
   "execution_count": null,
   "id": "4cd316f0-1bdb-4006-9475-31d742774420",
   "metadata": {},
   "outputs": [],
   "source": [
    "pspl_parameters[-6::2] = [10000.,10000.,10000.] # source fluxes\n",
    "pspl_parameters[-6::2] = [1000.,1000.,1000.] # blend fluxes"
   ]
  },
  {
   "cell_type": "markdown",
   "id": "c8f07e8e-e2cb-4cac-939b-8f6e626e5237",
   "metadata": {},
   "source": [
    "Transform the parameters into a pyLIMA class object. See the documentation for details."
   ]
  },
  {
   "cell_type": "code",
   "execution_count": null,
   "id": "2404dff5-02de-4bcd-85b8-e20c2bcf789b",
   "metadata": {},
   "outputs": [],
   "source": [
    "pyLIMA_parameters_1 = pspl.compute_pyLIMA_parameters(pspl_parameters)"
   ]
  },
  {
   "cell_type": "markdown",
   "id": "1ac3eb21-859e-44fa-b1d3-6d0e5237af3e",
   "metadata": {},
   "source": [
    "Now we have defined the **MODEL** we want to simulate, we have defined the telescope details, so we just inject these into our simulator to produce a light curve:"
   ]
  },
  {
   "cell_type": "code",
   "execution_count": null,
   "id": "c46ba660-3fa3-40e2-8eb0-15e5e9fd47f4",
   "metadata": {},
   "outputs": [],
   "source": [
    "simulator.simulate_lightcurve(pspl, pyLIMA_parameters_1)"
   ]
  },
  {
   "cell_type": "markdown",
   "id": "cbae051f-4314-4b2b-8623-44194abce4ba",
   "metadata": {},
   "source": [
    "Let's plot our simulated light curve using the pyLIMA plotter:"
   ]
  },
  {
   "cell_type": "code",
   "execution_count": null,
   "id": "c55c0763-c45d-4e8f-abe0-163d494bff32",
   "metadata": {},
   "outputs": [],
   "source": [
    "pyLIMA_plots.plot_lightcurves(pspl, pspl_parameters)"
   ]
  },
  {
   "cell_type": "markdown",
   "id": "7e538986-0967-4a1d-af7d-c0382d6a535f",
   "metadata": {},
   "source": [
    "Let's look at the source trajectory looks like from Earth and Space:"
   ]
  },
  {
   "cell_type": "code",
   "execution_count": null,
   "id": "a4efa0cb-a7da-40d1-ab14-4f916583cfaf",
   "metadata": {},
   "outputs": [],
   "source": [
    "pyLIMA_plots.plot_geometry(pspl, pspl_parameters)\n",
    "plt.show()"
   ]
  },
  {
   "cell_type": "markdown",
   "id": "024f9b7b-6344-4dfb-963f-fe528e4cb5b1",
   "metadata": {},
   "source": [
    "This concludes tutorial 3b."
   ]
  }
 ],
 "metadata": {
  "kernelspec": {
   "display_name": "Python 3 (ipykernel)",
   "language": "python",
   "name": "python3"
  },
  "language_info": {
   "codemirror_mode": {
    "name": "ipython",
    "version": 3
   },
   "file_extension": ".py",
   "mimetype": "text/x-python",
   "name": "python",
   "nbconvert_exporter": "python",
   "pygments_lexer": "ipython3",
   "version": "3.12.3"
  }
 },
 "nbformat": 4,
 "nbformat_minor": 5
}
