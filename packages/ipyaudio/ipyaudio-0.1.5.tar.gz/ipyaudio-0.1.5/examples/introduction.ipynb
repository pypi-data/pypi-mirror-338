{
 "cells": [
  {
   "cell_type": "markdown",
   "metadata": {},
   "source": [
    "# Introduction"
   ]
  },
  {
   "cell_type": "code",
   "execution_count": 1,
   "metadata": {},
   "outputs": [
    {
     "name": "stderr",
     "output_type": "stream",
     "text": [
      "2025-04-04 20:53:35,657 - modelscope - INFO - Not logged-in, you can login for uploadingor accessing controlled entities.\n"
     ]
    },
    {
     "name": "stdout",
     "output_type": "stream",
     "text": [
      "Downloading Model from https://www.modelscope.cn to directory: /Users/pengzhendong/.cache/modelscope/hub/models/pengzhendong/streaming-paraformer-zh-en\n"
     ]
    }
   ],
   "source": [
    "from IPython.display import display\n",
    "import ipywidgets as widgets\n",
    "from modelscope import snapshot_download\n",
    "from sherpa_onnx import OnlineRecognizer\n",
    "\n",
    "from ipyaudio import Recorder\n",
    "\n",
    "repo_dir = snapshot_download(\"pengzhendong/streaming-paraformer-zh-en\")\n",
    "recognizer = OnlineRecognizer.from_paraformer(\n",
    "    tokens=f\"{repo_dir}/tokens.txt\",\n",
    "    encoder=f\"{repo_dir}/encoder.onnx\",\n",
    "    decoder=f\"{repo_dir}/decoder.onnx\",\n",
    "    num_threads=1,\n",
    "    provider=\"cpu\",\n",
    "    sample_rate=16000,\n",
    "    decoding_method=\"greedy_search\",\n",
    ")\n",
    "stream = recognizer.create_stream()"
   ]
  },
  {
   "cell_type": "code",
   "execution_count": 2,
   "metadata": {},
   "outputs": [
    {
     "data": {
      "application/vnd.jupyter.widget-view+json": {
       "model_id": "62164c597bb241fabefd9c10fd9b7307",
       "version_major": 2,
       "version_minor": 0
      },
      "text/plain": [
       "Recorder(value=None, config={'options': {'backend': 'WebAudio', 'container': '', 'waveColor': '#4BF2A7'}, 'rec…"
      ]
     },
     "metadata": {},
     "output_type": "display_data"
    }
   ],
   "source": [
    "recorder = Recorder()\n",
    "\n",
    "def on_end_change(change):\n",
    "    recognizer.reset(stream)\n",
    "    # stream.input_finished()\n",
    "recorder.observe(on_end_change, names=\"end\")"
   ]
  },
  {
   "cell_type": "code",
   "execution_count": 10,
   "metadata": {},
   "outputs": [
    {
     "data": {
      "text/plain": [
       "'一二三四五六七八九十十十一十二十三十四二二三四'"
      ]
     },
     "metadata": {},
     "output_type": "display_data"
    }
   ],
   "source": [
    "display_id = display(\"\", display_id=True)\n",
    "stream = recognizer.create_stream()\n",
    "\n",
    "def on_frame_change(change):\n",
    "    stream.accept_waveform(16000, recorder.frame[0].tolist())\n",
    "    while recognizer.is_ready(stream):\n",
    "        recognizer.decode_stream(stream)\n",
    "        result = recognizer.get_result(stream)\n",
    "        display_id.update(result)\n",
    "\n",
    "recorder.observe(on_frame_change, names=\"frame\")"
   ]
  },
  {
   "cell_type": "code",
   "execution_count": null,
   "metadata": {},
   "outputs": [],
   "source": []
  }
 ],
 "metadata": {
  "kernelspec": {
   "display_name": "Python 3 (ipykernel)",
   "language": "python",
   "name": "python3"
  },
  "language_info": {
   "codemirror_mode": {
    "name": "ipython",
    "version": 3
   },
   "file_extension": ".py",
   "mimetype": "text/x-python",
   "name": "python",
   "nbconvert_exporter": "python",
   "pygments_lexer": "ipython3",
   "version": "3.13.2"
  }
 },
 "nbformat": 4,
 "nbformat_minor": 4
}
