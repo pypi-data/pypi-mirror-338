{
 "cells": [
  {
   "cell_type": "markdown",
   "id": "9b41060f",
   "metadata": {},
   "source": [
    "# natural-pdf Tutorials\n",
    "\n",
    "Welcome to the natural-pdf tutorials. These guides will walk you through the various features and capabilities of the library for working with PDF documents.\n",
    "\n",
    "## Tutorial Series\n",
    "\n",
    "### Beginner Tutorials\n",
    "1. [Getting Started](01-getting-started.md) - Introduction to basic functionality\n",
    "2. [Finding Elements](02-finding-elements.md) - How to find and work with document elements\n",
    "\n",
    "### Intermediate Tutorials\n",
    "3. [Working with Regions](07-working-with-regions.md) - Create and manipulate rectangular areas for targeted content extraction\n",
    "4. [Spatial Navigation](08-spatial-navigation.md) - Navigate document elements relative to each other\n",
    "5. [Section Extraction](09-section-extraction.md) - Extract document sections based on headings or separators\n",
    "6. [Form Field Extraction](10-form-field-extraction.md) - Extract structured data from forms and documents\n",
    "\n",
    "### Advanced Tutorials\n",
    "7. [Enhanced Table Processing](11-enhanced-table-processing.md) - Advanced techniques for working with complex tables\n",
    "8. [OCR Integration](12-ocr-integration.md) - Work with scanned documents using optical character recognition\n",
    "\n",
    "## Using the Tutorials\n",
    "\n",
    "Each tutorial is designed to be concise and practical, focusing on real-world use cases. The code examples:\n",
    "\n",
    "- Use clean, straightforward Python\n",
    "- Include visualizations to help you understand what's happening\n",
    "- Show immediate results at the end of each code block\n",
    "- Build on concepts from previous tutorials\n",
    "\n",
    "## Sample PDFs\n",
    "\n",
    "These tutorials use various PDF files located in the `pdfs/` directory:\n",
    "\n",
    "- `01-practice.pdf` - A simple practice PDF used in basic tutorials\n",
    "- `needs-ocr.pdf` - A scanned document for OCR examples\n",
    "- `Atlanta_Public_Schools_GA_sample.pdf` - Contains structured records\n",
    "- `2019 Statistics.pdf` - Contains statistical tables\n",
    "- Other PDF samples for specific extraction scenarios\n",
    "\n",
    "## Getting the Most from These Tutorials\n",
    "\n",
    "1. **Run the Code**: Each tutorial contains executable code cells you can run in Jupyter notebooks.\n",
    "2. **Visualize Elements**: Use the `.show()` function to see what elements are being detected.\n",
    "3. **Try with Your Documents**: Adapt the examples to work with your own PDF documents.\n",
    "4. **Combine Techniques**: The most powerful applications combine several techniques from different tutorials.\n",
    "\n",
    "## Additional Resources\n",
    "\n",
    "- [GitHub Repository](https://github.com/thomasniebler/natural-pdf)\n",
    "- [API Documentation](API.md)\n",
    "- [Example Gallery](Examples.md) "
   ]
  }
 ],
 "metadata": {
  "jupytext": {
   "cell_metadata_filter": "-all",
   "main_language": "python",
   "notebook_metadata_filter": "-all"
  },
  "language_info": {
   "codemirror_mode": {
    "name": "ipython",
    "version": 3
   },
   "file_extension": ".py",
   "mimetype": "text/x-python",
   "name": "python",
   "nbconvert_exporter": "python",
   "pygments_lexer": "ipython3",
   "version": "3.10.13"
  }
 },
 "nbformat": 4,
 "nbformat_minor": 5
}
