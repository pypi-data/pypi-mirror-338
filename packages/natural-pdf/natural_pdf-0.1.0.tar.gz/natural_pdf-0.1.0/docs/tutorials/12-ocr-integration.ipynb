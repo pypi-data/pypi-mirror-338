{
 "cells": [
  {
   "cell_type": "markdown",
   "id": "ce54bc54",
   "metadata": {},
   "source": [
    "# Tutorial 12: OCR Integration for Scanned Documents\n",
    "\n",
    "Optical Character Recognition (OCR) allows you to extract text from scanned documents where the text isn't embedded in the PDF. This tutorial demonstrates how to work with scanned documents."
   ]
  },
  {
   "cell_type": "code",
   "execution_count": 1,
   "id": "ef69baf9",
   "metadata": {
    "execution": {
     "iopub.execute_input": "2025-04-02T16:55:40.728761Z",
     "iopub.status.busy": "2025-04-02T16:55:40.726547Z",
     "iopub.status.idle": "2025-04-02T16:55:46.320454Z",
     "shell.execute_reply": "2025-04-02T16:55:46.320071Z"
    }
   },
   "outputs": [
    {
     "data": {
      "text/plain": [
       "'Without OCR: 0 characters extracted'"
      ]
     },
     "execution_count": 1,
     "metadata": {},
     "output_type": "execute_result"
    }
   ],
   "source": [
    "from natural_pdf import PDF\n",
    "\n",
    "# Load a PDF\n",
    "pdf = PDF(\"pdfs/needs-ocr.pdf\")\n",
    "page = pdf.pages[0]\n",
    "\n",
    "# Try extracting text without OCR\n",
    "text_without_ocr = page.extract_text()\n",
    "f\"Without OCR: {len(text_without_ocr)} characters extracted\""
   ]
  },
  {
   "cell_type": "markdown",
   "id": "af2c3f41",
   "metadata": {},
   "source": [
    "## Enabling OCR"
   ]
  },
  {
   "cell_type": "code",
   "execution_count": 2,
   "id": "f6254dea",
   "metadata": {
    "execution": {
     "iopub.execute_input": "2025-04-02T16:55:46.322070Z",
     "iopub.status.busy": "2025-04-02T16:55:46.321829Z",
     "iopub.status.idle": "2025-04-02T16:55:46.324368Z",
     "shell.execute_reply": "2025-04-02T16:55:46.324117Z"
    }
   },
   "outputs": [
    {
     "data": {
      "text/plain": [
       "''"
      ]
     },
     "execution_count": 2,
     "metadata": {},
     "output_type": "execute_result"
    }
   ],
   "source": [
    "# Enable OCR for text extraction\n",
    "page.use_ocr = True\n",
    "\n",
    "# Extract text with OCR enabled\n",
    "text_with_ocr = page.extract_text()\n",
    "\n",
    "# Preview the extracted text\n",
    "text_with_ocr[:200] + \"...\" if len(text_with_ocr) > 200 else text_with_ocr"
   ]
  },
  {
   "cell_type": "markdown",
   "id": "4f1e214a",
   "metadata": {},
   "source": [
    "## Finding Text Elements with OCR"
   ]
  },
  {
   "cell_type": "code",
   "execution_count": 3,
   "id": "fdd95dc4",
   "metadata": {
    "execution": {
     "iopub.execute_input": "2025-04-02T16:55:46.325559Z",
     "iopub.status.busy": "2025-04-02T16:55:46.325454Z",
     "iopub.status.idle": "2025-04-02T16:55:56.992342Z",
     "shell.execute_reply": "2025-04-02T16:55:56.991781Z"
    }
   },
   "outputs": [
    {
     "name": "stderr",
     "output_type": "stream",
     "text": [
      "[2025-04-02 12:55:46,374] [ WARNING] easyocr.py:71 - Using CPU. Note: This module is much faster with a GPU.\n"
     ]
    },
    {
     "data": {
      "text/plain": [
       "<ElementCollection[Mixed](count=0)>"
      ]
     },
     "execution_count": 3,
     "metadata": {},
     "output_type": "execute_result"
    }
   ],
   "source": [
    "# Convert text-as-image to text elements\n",
    "page.apply_ocr()\n",
    "\n",
    "# Select all text pieces on the page\n",
    "text_elements = page.find_all('text')\n",
    "f\"Found {len(text_elements)} text elements\"\n",
    "\n",
    "# Visualize the elements\n",
    "text_elements.highlight()"
   ]
  },
  {
   "cell_type": "markdown",
   "id": "2df698f2",
   "metadata": {},
   "source": [
    "## OCR Configuration Options"
   ]
  },
  {
   "cell_type": "code",
   "execution_count": 4,
   "id": "53ca842f",
   "metadata": {
    "execution": {
     "iopub.execute_input": "2025-04-02T16:55:56.996718Z",
     "iopub.status.busy": "2025-04-02T16:55:56.996439Z",
     "iopub.status.idle": "2025-04-02T16:55:56.999929Z",
     "shell.execute_reply": "2025-04-02T16:55:56.999594Z"
    }
   },
   "outputs": [
    {
     "data": {
      "text/plain": [
       "''"
      ]
     },
     "execution_count": 4,
     "metadata": {},
     "output_type": "execute_result"
    }
   ],
   "source": [
    "# Set OCR configuration for better results\n",
    "page.ocr_config = {\n",
    "    'language': 'eng',  # English\n",
    "    'dpi': 300,         # Higher resolution\n",
    "}\n",
    "\n",
    "# Extract text with the improved configuration\n",
    "improved_text = page.extract_text()\n",
    "\n",
    "# Preview the text\n",
    "improved_text[:200] + \"...\" if len(improved_text) > 200 else improved_text"
   ]
  },
  {
   "cell_type": "markdown",
   "id": "6ba306de",
   "metadata": {},
   "source": [
    "## Working with Multi-language Documents"
   ]
  },
  {
   "cell_type": "code",
   "execution_count": 5,
   "id": "e22d0dce",
   "metadata": {
    "execution": {
     "iopub.execute_input": "2025-04-02T16:55:57.001408Z",
     "iopub.status.busy": "2025-04-02T16:55:57.001290Z",
     "iopub.status.idle": "2025-04-02T16:55:57.003835Z",
     "shell.execute_reply": "2025-04-02T16:55:57.003564Z"
    }
   },
   "outputs": [
    {
     "data": {
      "text/plain": [
       "''"
      ]
     },
     "execution_count": 5,
     "metadata": {},
     "output_type": "execute_result"
    }
   ],
   "source": [
    "# Configure for multiple languages\n",
    "page.ocr_config = {\n",
    "    'language': 'eng+fra+deu',  # English, French, German\n",
    "    'dpi': 300\n",
    "}\n",
    "\n",
    "# Extract text with multi-language support\n",
    "multilang_text = page.extract_text()\n",
    "multilang_text[:200]"
   ]
  },
  {
   "cell_type": "markdown",
   "id": "f19ecc74",
   "metadata": {},
   "source": [
    "## Extracting Tables from Scanned Documents"
   ]
  },
  {
   "cell_type": "code",
   "execution_count": 6,
   "id": "af750879",
   "metadata": {
    "execution": {
     "iopub.execute_input": "2025-04-02T16:55:57.005087Z",
     "iopub.status.busy": "2025-04-02T16:55:57.004992Z",
     "iopub.status.idle": "2025-04-02T16:55:59.265308Z",
     "shell.execute_reply": "2025-04-02T16:55:59.264977Z"
    }
   },
   "outputs": [
    {
     "name": "stdout",
     "output_type": "stream",
     "text": [
      "\n"
     ]
    },
    {
     "name": "stdout",
     "output_type": "stream",
     "text": [
      "image 1/1 /var/folders/25/h3prywj14qb0mlkl2s8bxq5m0000gn/T/tmpwnd56v62/temp_layout_image.png: 1024x800 2 titles, 2 plain texts, 3 abandons, 1 table, 1669.2ms\n"
     ]
    },
    {
     "name": "stdout",
     "output_type": "stream",
     "text": [
      "Speed: 5.4ms preprocess, 1669.2ms inference, 0.9ms postprocess per image at shape (1, 3, 1024, 800)\n"
     ]
    }
   ],
   "source": [
    "# Enable OCR and analyze the document layout\n",
    "page.use_ocr = True\n",
    "page.analyze_layout()\n",
    "\n",
    "# Find table regions\n",
    "table_regions = page.find_all('region[type=table]')\n",
    "\n",
    "# Visualize any detected tables\n",
    "table_regions.highlight()\n",
    "\n",
    "# Extract the first table if found\n",
    "if table_regions:\n",
    "    table_data = table_regions[0].extract_table()\n",
    "    table_data\n",
    "else:\n",
    "    \"No tables found in the document\""
   ]
  },
  {
   "cell_type": "markdown",
   "id": "5e7ca6ba",
   "metadata": {},
   "source": [
    "## Finding Form Fields in Scanned Documents"
   ]
  },
  {
   "cell_type": "code",
   "execution_count": 7,
   "id": "89b18646",
   "metadata": {
    "execution": {
     "iopub.execute_input": "2025-04-02T16:55:59.266948Z",
     "iopub.status.busy": "2025-04-02T16:55:59.266826Z",
     "iopub.status.idle": "2025-04-02T16:55:59.270238Z",
     "shell.execute_reply": "2025-04-02T16:55:59.269973Z"
    }
   },
   "outputs": [
    {
     "data": {
      "text/plain": [
       "{}"
      ]
     },
     "execution_count": 7,
     "metadata": {},
     "output_type": "execute_result"
    }
   ],
   "source": [
    "# Look for potential form labels (containing a colon)\n",
    "labels = page.find_all('text:contains(\":\")') \n",
    "\n",
    "# Visualize the labels\n",
    "labels.highlight()\n",
    "\n",
    "# Extract form data by looking to the right of each label\n",
    "form_data = {}\n",
    "for label in labels:\n",
    "    # Clean the label text\n",
    "    field_name = label.text.strip().rstrip(':')\n",
    "    \n",
    "    # Find the value to the right\n",
    "    value_element = label.right(width=200)\n",
    "    value = value_element.extract_text().strip()\n",
    "    \n",
    "    # Add to our dictionary\n",
    "    form_data[field_name] = value\n",
    "\n",
    "# Display the extracted data\n",
    "form_data"
   ]
  },
  {
   "cell_type": "markdown",
   "id": "0c58df33",
   "metadata": {},
   "source": [
    "## Combining OCR with Layout Analysis"
   ]
  },
  {
   "cell_type": "code",
   "execution_count": 8,
   "id": "6313c9ec",
   "metadata": {
    "execution": {
     "iopub.execute_input": "2025-04-02T16:55:59.271560Z",
     "iopub.status.busy": "2025-04-02T16:55:59.271462Z",
     "iopub.status.idle": "2025-04-02T16:56:00.965135Z",
     "shell.execute_reply": "2025-04-02T16:56:00.964814Z"
    }
   },
   "outputs": [
    {
     "name": "stdout",
     "output_type": "stream",
     "text": [
      "\n"
     ]
    },
    {
     "name": "stdout",
     "output_type": "stream",
     "text": [
      "image 1/1 /var/folders/25/h3prywj14qb0mlkl2s8bxq5m0000gn/T/tmp3vfztjao/temp_layout_image.png: 1024x800 2 titles, 2 plain texts, 3 abandons, 1 table, 1611.7ms\n"
     ]
    },
    {
     "name": "stdout",
     "output_type": "stream",
     "text": [
      "Speed: 5.2ms preprocess, 1611.7ms inference, 0.7ms postprocess per image at shape (1, 3, 1024, 800)\n"
     ]
    },
    {
     "data": {
      "text/plain": [
       "[]"
      ]
     },
     "execution_count": 8,
     "metadata": {},
     "output_type": "execute_result"
    }
   ],
   "source": [
    "# Apply OCR and analyze layout\n",
    "page.use_ocr = True\n",
    "page.analyze_layout()\n",
    "\n",
    "# Find document structure elements\n",
    "headings = page.find_all('region[type=heading]')\n",
    "paragraphs = page.find_all('region[type=paragraph]')\n",
    "\n",
    "# Visualize the structure\n",
    "headings.highlight(color=\"red\", label=\"Headings\")\n",
    "paragraphs.highlight(color=\"blue\", label=\"Paragraphs\")\n",
    "\n",
    "# Create a simple document outline\n",
    "document_outline = []\n",
    "for heading in headings:\n",
    "    heading_text = heading.extract_text()\n",
    "    document_outline.append(heading_text)\n",
    "\n",
    "document_outline"
   ]
  },
  {
   "cell_type": "markdown",
   "id": "5b9276d2",
   "metadata": {},
   "source": [
    "## Working with Multiple Pages"
   ]
  },
  {
   "cell_type": "code",
   "execution_count": 9,
   "id": "5c009501",
   "metadata": {
    "execution": {
     "iopub.execute_input": "2025-04-02T16:56:00.966557Z",
     "iopub.status.busy": "2025-04-02T16:56:00.966450Z",
     "iopub.status.idle": "2025-04-02T16:56:00.969261Z",
     "shell.execute_reply": "2025-04-02T16:56:00.968995Z"
    }
   },
   "outputs": [
    {
     "data": {
      "text/plain": [
       "['Page 1: ...']"
      ]
     },
     "execution_count": 9,
     "metadata": {},
     "output_type": "execute_result"
    }
   ],
   "source": [
    "# Process all pages in the document\n",
    "all_text = []\n",
    "\n",
    "for i, page in enumerate(pdf.pages):\n",
    "    # Enable OCR for each page\n",
    "    page.use_ocr = True\n",
    "    \n",
    "    # Extract text\n",
    "    page_text = page.extract_text()\n",
    "    \n",
    "    # Add to our collection with page number\n",
    "    all_text.append(f\"Page {i+1}: {page_text[:100]}...\")\n",
    "\n",
    "# Show the first few pages\n",
    "all_text"
   ]
  },
  {
   "cell_type": "markdown",
   "id": "8f2f2d0c",
   "metadata": {},
   "source": [
    "OCR integration enables you to work with scanned documents, historical archives, and image-based PDFs that don't have embedded text. By combining OCR with natural-pdf's layout analysis capabilities, you can turn any document into structured, searchable data. "
   ]
  }
 ],
 "metadata": {
  "jupytext": {
   "cell_metadata_filter": "-all",
   "main_language": "python",
   "notebook_metadata_filter": "-all"
  },
  "language_info": {
   "codemirror_mode": {
    "name": "ipython",
    "version": 3
   },
   "file_extension": ".py",
   "mimetype": "text/x-python",
   "name": "python",
   "nbconvert_exporter": "python",
   "pygments_lexer": "ipython3",
   "version": "3.10.13"
  }
 },
 "nbformat": 4,
 "nbformat_minor": 5
}
