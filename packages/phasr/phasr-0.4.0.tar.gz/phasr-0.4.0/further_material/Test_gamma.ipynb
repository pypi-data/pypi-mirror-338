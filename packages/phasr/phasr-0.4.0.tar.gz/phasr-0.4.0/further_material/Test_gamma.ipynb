{
 "cells": [
  {
   "cell_type": "code",
   "execution_count": 1,
   "id": "75a7a3df-def5-4828-ad10-2a515b6353ed",
   "metadata": {
    "editable": true,
    "execution": {
     "iopub.execute_input": "2025-02-28T13:38:15.867685Z",
     "iopub.status.busy": "2025-02-28T13:38:15.867685Z",
     "iopub.status.idle": "2025-02-28T13:38:16.479997Z",
     "shell.execute_reply": "2025-02-28T13:38:16.479997Z",
     "shell.execute_reply.started": "2025-02-28T13:38:15.867685Z"
    },
    "frozen": false
   },
   "outputs": [],
   "source": [
    "import numpy as np\n",
    "pi=np.pi\n",
    "#\n",
    "import matplotlib.pyplot as plt\n",
    "import matplotlib as mpl"
   ]
  },
  {
   "cell_type": "code",
   "execution_count": 2,
   "id": "5b460cec-5ce5-4d1f-9c14-e32d46507a6c",
   "metadata": {
    "editable": true,
    "execution": {
     "iopub.execute_input": "2025-02-28T13:38:16.483474Z",
     "iopub.status.busy": "2025-02-28T13:38:16.479997Z",
     "iopub.status.idle": "2025-02-28T13:38:17.184834Z",
     "shell.execute_reply": "2025-02-28T13:38:17.184834Z",
     "shell.execute_reply.started": "2025-02-28T13:38:16.483474Z"
    },
    "frozen": false
   },
   "outputs": [],
   "source": [
    "import phasr as phr"
   ]
  },
  {
   "cell_type": "code",
   "execution_count": 3,
   "id": "2fad1593-8060-498b-9c95-b34c304c157b",
   "metadata": {
    "editable": true,
    "execution": {
     "iopub.execute_input": "2025-02-28T13:38:17.184834Z",
     "iopub.status.busy": "2025-02-28T13:38:17.184834Z",
     "iopub.status.idle": "2025-02-28T13:38:17.203164Z",
     "shell.execute_reply": "2025-02-28T13:38:17.202103Z",
     "shell.execute_reply.started": "2025-02-28T13:38:17.184834Z"
    },
    "frozen": false
   },
   "outputs": [
    {
     "data": {
      "text/plain": [
       "'0.3.1.dev0+gea06a1e.d20250207'"
      ]
     },
     "execution_count": 3,
     "metadata": {},
     "output_type": "execute_result"
    }
   ],
   "source": [
    "phr.__version__"
   ]
  },
  {
   "cell_type": "code",
   "execution_count": 4,
   "id": "9f275267-346d-4a0b-8646-62224536fc7e",
   "metadata": {
    "execution": {
     "iopub.execute_input": "2025-02-28T13:38:17.203164Z",
     "iopub.status.busy": "2025-02-28T13:38:17.203164Z",
     "iopub.status.idle": "2025-02-28T13:38:17.218943Z",
     "shell.execute_reply": "2025-02-28T13:38:17.218943Z",
     "shell.execute_reply.started": "2025-02-28T13:38:17.203164Z"
    }
   },
   "outputs": [],
   "source": [
    "def rho_kappa(kappa,Z,alpha_el=phr.constants.alpha_el):\n",
    "    return np.sqrt(kappa**2-(alpha_el*Z)**2) if np.abs(kappa) > alpha_el*Z else np.sqrt(kappa**2-(alpha_el*Z)**2+0j)"
   ]
  },
  {
   "cell_type": "code",
   "execution_count": 5,
   "id": "3b06d14c-c1b3-44c9-8a5d-95dd0f4b5f01",
   "metadata": {
    "execution": {
     "iopub.execute_input": "2025-02-28T13:38:17.218943Z",
     "iopub.status.busy": "2025-02-28T13:38:17.218943Z",
     "iopub.status.idle": "2025-02-28T13:38:17.227031Z",
     "shell.execute_reply": "2025-02-28T13:38:17.227031Z",
     "shell.execute_reply.started": "2025-02-28T13:38:17.218943Z"
    }
   },
   "outputs": [],
   "source": [
    "from scipy.special import gamma as sp_gamma\n",
    "from mpmath import gamma as mp_gamma, arg as mp_arg\n",
    "def angle_gamma(z):\n",
    "    return float(mp_arg(mp_gamma(z)))"
   ]
  },
  {
   "cell_type": "code",
   "execution_count": 71,
   "id": "4c46d99d-f576-4320-bb5d-399ecbd7281d",
   "metadata": {
    "execution": {
     "iopub.execute_input": "2025-02-28T13:35:18.238897Z",
     "iopub.status.busy": "2025-02-28T13:35:18.238897Z",
     "iopub.status.idle": "2025-02-28T13:35:18.251853Z",
     "shell.execute_reply": "2025-02-28T13:35:18.251853Z",
     "shell.execute_reply.started": "2025-02-28T13:35:18.238897Z"
    }
   },
   "outputs": [],
   "source": [
    "kappa=-150\n",
    "Z=13\n",
    "energy=1000\n",
    "mass=0\n",
    "reg=+1\n",
    "alpha_el=phr.constants.alpha_el\n",
    "k=np.sqrt(energy**2-mass**2)\n",
    "y=alpha_el*Z*energy/k\n",
    "rho=rho_kappa(kappa,Z)\n",
    "sigma=reg*rho\n",
    "z=sigma+1j*y\n",
    "diff = angle_gamma(z)-np.angle(sp_gamma(z))"
   ]
  },
  {
   "cell_type": "code",
   "execution_count": 72,
   "id": "f14f0285-7329-471d-b26b-ea5621f2810d",
   "metadata": {
    "execution": {
     "iopub.execute_input": "2025-02-28T13:35:27.437749Z",
     "iopub.status.busy": "2025-02-28T13:35:27.437749Z",
     "iopub.status.idle": "2025-02-28T13:35:33.180836Z",
     "shell.execute_reply": "2025-02-28T13:35:33.180836Z",
     "shell.execute_reply.started": "2025-02-28T13:35:27.437749Z"
    }
   },
   "outputs": [
    {
     "name": "stdout",
     "output_type": "stream",
     "text": [
      "70.9 µs ± 1.43 µs per loop (mean ± std. dev. of 7 runs, 10,000 loops each)\n"
     ]
    }
   ],
   "source": [
    "%timeit angle_gamma(z)"
   ]
  },
  {
   "cell_type": "code",
   "execution_count": 73,
   "id": "a87f6e4b-a284-4639-8370-c51132ea1e8d",
   "metadata": {
    "execution": {
     "iopub.execute_input": "2025-02-28T13:35:38.012296Z",
     "iopub.status.busy": "2025-02-28T13:35:38.007068Z",
     "iopub.status.idle": "2025-02-28T13:35:40.173110Z",
     "shell.execute_reply": "2025-02-28T13:35:40.173110Z",
     "shell.execute_reply.started": "2025-02-28T13:35:38.012296Z"
    }
   },
   "outputs": [
    {
     "name": "stdout",
     "output_type": "stream",
     "text": [
      "2.63 µs ± 58.2 ns per loop (mean ± std. dev. of 7 runs, 100,000 loops each)\n"
     ]
    }
   ],
   "source": [
    "%timeit np.angle(sp_gamma(z))"
   ]
  },
  {
   "cell_type": "code",
   "execution_count": 63,
   "id": "b449304b-895e-46a1-a6c5-ea889893fbc1",
   "metadata": {
    "execution": {
     "iopub.execute_input": "2025-02-28T13:33:33.877772Z",
     "iopub.status.busy": "2025-02-28T13:33:33.877772Z",
     "iopub.status.idle": "2025-02-28T13:33:33.892552Z",
     "shell.execute_reply": "2025-02-28T13:33:33.892552Z",
     "shell.execute_reply.started": "2025-02-28T13:33:33.877772Z"
    }
   },
   "outputs": [
    {
     "data": {
      "text/plain": [
       "(inf+infj)"
      ]
     },
     "execution_count": 63,
     "metadata": {},
     "output_type": "execute_result"
    }
   ],
   "source": [
    "sp_gamma(z)"
   ]
  },
  {
   "cell_type": "code",
   "execution_count": 64,
   "id": "92eac4fb-6bda-42c9-8b9b-8a4cb984b2e1",
   "metadata": {
    "execution": {
     "iopub.execute_input": "2025-02-28T13:33:34.047521Z",
     "iopub.status.busy": "2025-02-28T13:33:34.037541Z",
     "iopub.status.idle": "2025-02-28T13:33:34.067582Z",
     "shell.execute_reply": "2025-02-28T13:33:34.066575Z",
     "shell.execute_reply.started": "2025-02-28T13:33:34.047521Z"
    }
   },
   "outputs": [
    {
     "data": {
      "text/plain": [
       "0.7853981633974483"
      ]
     },
     "execution_count": 64,
     "metadata": {},
     "output_type": "execute_result"
    }
   ],
   "source": [
    "np.angle(sp_gamma(z))"
   ]
  },
  {
   "cell_type": "code",
   "execution_count": 65,
   "id": "ddf70ef3-1f6f-4ddb-9dcf-e6a6ef3abc00",
   "metadata": {
    "execution": {
     "iopub.execute_input": "2025-02-28T13:33:34.217610Z",
     "iopub.status.busy": "2025-02-28T13:33:34.217610Z",
     "iopub.status.idle": "2025-02-28T13:33:34.242570Z",
     "shell.execute_reply": "2025-02-28T13:33:34.242570Z",
     "shell.execute_reply.started": "2025-02-28T13:33:34.217610Z"
    }
   },
   "outputs": [
    {
     "data": {
      "text/plain": [
       "mpc(real='8.7444883497071015e+611', imag='5.2528189655997678e+611')"
      ]
     },
     "execution_count": 65,
     "metadata": {},
     "output_type": "execute_result"
    }
   ],
   "source": [
    "mp_gamma(z)"
   ]
  },
  {
   "cell_type": "code",
   "execution_count": 66,
   "id": "91d85631-fcc4-4e7e-b5a4-04ebe5786273",
   "metadata": {
    "execution": {
     "iopub.execute_input": "2025-02-28T13:33:34.467369Z",
     "iopub.status.busy": "2025-02-28T13:33:34.467369Z",
     "iopub.status.idle": "2025-02-28T13:33:34.481129Z",
     "shell.execute_reply": "2025-02-28T13:33:34.481129Z",
     "shell.execute_reply.started": "2025-02-28T13:33:34.467369Z"
    }
   },
   "outputs": [
    {
     "data": {
      "text/plain": [
       "mpf('0.54093445174017696')"
      ]
     },
     "execution_count": 66,
     "metadata": {},
     "output_type": "execute_result"
    }
   ],
   "source": [
    "mp_arg(mp_gamma(z))"
   ]
  },
  {
   "cell_type": "code",
   "execution_count": 67,
   "id": "3f625a2e-1181-4ad0-9831-ea2ed2e0f991",
   "metadata": {
    "execution": {
     "iopub.execute_input": "2025-02-28T13:33:34.807496Z",
     "iopub.status.busy": "2025-02-28T13:33:34.807496Z",
     "iopub.status.idle": "2025-02-28T13:33:34.832161Z",
     "shell.execute_reply": "2025-02-28T13:33:34.832161Z",
     "shell.execute_reply.started": "2025-02-28T13:33:34.807496Z"
    }
   },
   "outputs": [
    {
     "data": {
      "text/plain": [
       "0.540934451740177"
      ]
     },
     "execution_count": 67,
     "metadata": {},
     "output_type": "execute_result"
    }
   ],
   "source": [
    "angle_gamma(z)"
   ]
  },
  {
   "cell_type": "code",
   "execution_count": 70,
   "id": "6ea8dad9-8608-4a34-990a-f595a66732c8",
   "metadata": {
    "execution": {
     "iopub.execute_input": "2025-02-28T13:34:16.595926Z",
     "iopub.status.busy": "2025-02-28T13:34:16.595926Z",
     "iopub.status.idle": "2025-02-28T13:34:16.654143Z",
     "shell.execute_reply": "2025-02-28T13:34:16.654143Z",
     "shell.execute_reply.started": "2025-02-28T13:34:16.595926Z"
    }
   },
   "outputs": [
    {
     "name": "stdout",
     "output_type": "stream",
     "text": [
      "-172 -0.2973541457009342 (inf+infj)\n",
      "-173 -0.29680260150026877 (inf+infj)\n",
      "-174 -0.2962542454176396 (inf+infj)\n",
      "-175 -0.2957090408079903 (inf+infj)\n",
      "-176 -0.29516695165446566 (inf+infj)\n",
      "-177 -0.2946279425541348 (inf+infj)\n",
      "-178 -0.2940919787041171 (inf+infj)\n",
      "-179 -0.2935590258880972 (inf+infj)\n",
      "-180 -0.29302905046321875 (inf+infj)\n",
      "-181 -0.29250201934733955 (inf+infj)\n",
      "-182 -0.2919779000066407 (inf+infj)\n",
      "-183 -0.2914566604435756 (inf+infj)\n",
      "-184 -0.29093826918514776 (inf+infj)\n",
      "-185 -0.2904226952715079 (inf+infj)\n",
      "-186 -0.28990990824485857 (inf+infj)\n",
      "-187 -0.2893998781386574 (inf+infj)\n",
      "-188 -0.28889257546710934 (inf+infj)\n",
      "-189 -0.28838797121493726 (inf+infj)\n",
      "-190 -0.2878860368274245 (inf+infj)\n",
      "-191 -0.2873867442007187 (inf+infj)\n",
      "-192 -0.2868900656723894 (inf+infj)\n",
      "-193 -0.28639597401223205 (inf+infj)\n",
      "-194 -0.28590444241330965 (inf+infj)\n",
      "-195 -0.2854154444832258 (inf+infj)\n",
      "-196 -0.28492895423562126 (inf+infj)\n",
      "-197 -0.2844449460818873 (inf+infj)\n",
      "-198 -0.28396339482308985 (inf+infj)\n",
      "-199 -0.283484275642097 (inf+infj)\n",
      "-200 -0.2830075640959048 (inf+infj)\n",
      "-201 -0.2825332361081542 (inf+infj)\n",
      "-202 -0.2820612679618355 (inf+infj)\n",
      "-203 -0.28159163629217177 (inf+infj)\n",
      "-204 -0.2811243180796785 (inf+infj)\n",
      "-205 -0.28065929064339334 (inf+infj)\n",
      "-206 -0.2801965316342707 (inf+infj)\n",
      "-207 -0.27973601902873646 (inf+infj)\n",
      "-208 -0.27927773112239906 (inf+infj)\n",
      "-209 -0.2788216465239115 (inf+infj)\n",
      "-210 -0.27836774414897913 (inf+infj)\n",
      "-211 -0.27791600321451215 (inf+infj)\n",
      "-212 -0.27746640323291516 (inf+infj)\n",
      "-213 -0.2770189240065113 (inf+infj)\n",
      "-214 -0.27657354562209857 (inf+infj)\n",
      "-215 -0.27613024844563194 (inf+infj)\n",
      "-216 -0.27568901311703 (inf+infj)\n",
      "-217 -0.2752498205451014 (inf+infj)\n",
      "-218 -0.27481265190258874 (inf+infj)\n",
      "-219 -0.27437748862132505 (inf+infj)\n",
      "-220 -0.27394431238750216 (inf+infj)\n",
      "-221 -0.27351310513704596 (inf+infj)\n",
      "-222 -0.27308384905109573 (inf+infj)\n",
      "-223 -0.27265652655158645 (inf+infj)\n",
      "-224 -0.27223112029692964 (inf+infj)\n",
      "-225 -0.27180761317779 (inf+infj)\n",
      "-226 -0.2713859883129569 (inf+infj)\n",
      "-227 -0.270966229045307 (inf+infj)\n",
      "-228 -0.2705483189378547 (inf+infj)\n",
      "-229 -0.27013224176989115 (inf+infj)\n",
      "-230 -0.2697179815332056 (inf+infj)\n",
      "-231 -0.26930552242839045 (inf+infj)\n",
      "-232 -0.26889484886122506 (inf+infj)\n",
      "-233 -0.2684859454391382 (inf+infj)\n",
      "-234 -0.2680787969677467 (inf+infj)\n",
      "-235 -0.26767338844746713 (inf+infj)\n",
      "-236 -0.26726970507019987 (inf+infj)\n",
      "-237 -0.2668677322160844 (inf+infj)\n",
      "-238 -0.26646745545032136 (inf+infj)\n",
      "-239 -0.2660688605200632 (inf+infj)\n",
      "-240 -0.2656719333513682 (inf+infj)\n",
      "-241 -0.26527666004621875 (inf+infj)\n",
      "-242 -0.2648830268796022 (inf+infj)\n",
      "-243 -0.2644910202966505 (inf+infj)\n",
      "-244 -0.2641006269098396 (inf+infj)\n",
      "-245 -0.2637118334962463 (inf+infj)\n",
      "-246 -0.26332462699486103 (inf+infj)\n",
      "-247 -0.2629389945039545 (inf+infj)\n",
      "-248 -0.26255492327849905 (inf+infj)\n",
      "-249 -0.26217240072764036 (inf+infj)\n",
      "-250 -0.26179141441222165 (inf+infj)\n",
      "-251 -0.2614119520423558 (inf+infj)\n",
      "-252 -0.26103400147504696 (inf+infj)\n",
      "-253 -0.2606575507118586 (inf+infj)\n",
      "-254 -0.2602825878966286 (inf+infj)\n",
      "-255 -0.25990910131322775 (inf+infj)\n",
      "-256 -0.25953707938336434 (inf+infj)\n",
      "-257 -0.2591665106644292 (inf+infj)\n",
      "-258 -0.25879738384738493 (inf+infj)\n",
      "-259 -0.25842968775469455 (inf+infj)\n",
      "-260 -0.25806341133829036 (inf+infj)\n",
      "-261 -0.2576985436775828 (inf+infj)\n",
      "-262 -0.2573350739775063 (inf+infj)\n",
      "-263 -0.2569729915666028 (inf+infj)\n",
      "-264 -0.25661228589514196 (inf+infj)\n",
      "-265 -0.256252946533277 (inf+infj)\n",
      "-266 -0.25589496316923455 (inf+infj)\n",
      "-267 -0.25553832560753986 (inf+infj)\n",
      "-268 -0.25518302376727364 (inf+infj)\n",
      "-269 -0.2548290476803635 (inf+infj)\n",
      "-270 -0.2544763874899044 (inf+infj)\n",
      "-271 -0.2541250334485129 (inf+infj)\n",
      "-272 -0.25377497591671017 (inf+infj)\n",
      "-273 -0.2534262053613351 (inf+infj)\n",
      "-274 -0.2530787123539866 (inf+infj)\n",
      "-275 -0.2527324875694946 (inf+infj)\n",
      "-276 -0.2523875217844178 (inf+infj)\n",
      "-277 -0.25204380587556996 (inf+infj)\n",
      "-278 -0.2517013308185718 (inf+infj)\n",
      "-279 -0.2513600876864296 (inf+infj)\n",
      "-280 -0.2510200676481388 (inf+infj)\n",
      "-281 -0.25068126196731244 (inf+infj)\n",
      "-282 -0.25034366200083535 (inf+infj)\n",
      "-283 -0.25000725919753986 (inf+infj)\n",
      "-284 -0.24967204509690677 (inf+infj)\n",
      "-285 -0.249338011327789 (inf+infj)\n",
      "-286 -0.24900514960715614 (inf+infj)\n",
      "-287 -0.24867345173886346 (inf+infj)\n",
      "-288 -0.24834290961243966 (inf+infj)\n",
      "-289 -0.24801351520189818 (inf+infj)\n",
      "-290 -0.24768526056456652 (inf+infj)\n",
      "-291 -0.2473581378399382 (inf+infj)\n",
      "-292 -0.24703213924854284 (inf+infj)\n",
      "-293 -0.2467072570908363 (inf+infj)\n",
      "-294 -0.24638348374610886 (inf+infj)\n",
      "-295 -0.2460608116714138 (inf+infj)\n",
      "-296 -0.24573923340051207 (inf+infj)\n",
      "-297 -0.24541874154283572 (inf+infj)\n",
      "-298 -0.24509932878246965 (inf+infj)\n",
      "-299 -0.2447809878771483 (inf+infj)\n"
     ]
    }
   ],
   "source": [
    "for kappa in range(-1,-300,-1):\n",
    "    Z=13\n",
    "    energy=1000\n",
    "    mass=0\n",
    "    reg=+1\n",
    "    alpha_el=phr.constants.alpha_el\n",
    "    k=np.sqrt(energy**2-mass**2)\n",
    "    y=alpha_el*Z*energy/k\n",
    "    rho=rho_kappa(kappa,Z)\n",
    "    sigma=reg*rho\n",
    "    z=sigma+1j*y\n",
    "    diff = angle_gamma(z)-np.angle(sp_gamma(z))\n",
    "    if np.abs(diff)>1e-12:\n",
    "        print(kappa, diff, sp_gamma(z))\n"
   ]
  },
  {
   "cell_type": "code",
   "execution_count": null,
   "id": "353d3287-15ad-4f9d-875f-40b7382db23a",
   "metadata": {
    "deletable": true,
    "editable": true,
    "frozen": false
   },
   "outputs": [],
   "source": []
  }
 ],
 "metadata": {
  "kernelspec": {
   "display_name": "Python 3 (ipykernel)",
   "language": "python",
   "name": "python3"
  },
  "language_info": {
   "codemirror_mode": {
    "name": "ipython",
    "version": 3
   },
   "file_extension": ".py",
   "mimetype": "text/x-python",
   "name": "python",
   "nbconvert_exporter": "python",
   "pygments_lexer": "ipython3",
   "version": "3.8.18"
  }
 },
 "nbformat": 4,
 "nbformat_minor": 5
}
