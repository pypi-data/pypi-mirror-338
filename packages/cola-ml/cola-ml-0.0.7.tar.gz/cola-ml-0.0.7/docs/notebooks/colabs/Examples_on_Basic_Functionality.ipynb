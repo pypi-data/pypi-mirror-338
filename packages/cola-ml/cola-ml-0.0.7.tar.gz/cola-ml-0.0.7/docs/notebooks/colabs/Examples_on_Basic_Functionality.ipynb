{
 "cells": [
  {
   "attachments": {},
   "cell_type": "markdown",
   "metadata": {},
   "source": [
    "First install the repo and requirements."
   ]
  },
  {
   "cell_type": "code",
   "execution_count": null,
   "metadata": {},
   "outputs": [],
   "source": [
    "%pip --quiet install git+https://github.com/wilson-labs/cola.git"
   ]
  },
  {
   "cell_type": "markdown",
   "id": "e3653c03",
   "metadata": {},
   "source": [
    "# Examples on Common LA Operations\n",
    "\n",
    "The goal of this section is to show useful examples of common functionality such as: linear solves, eigendecomposition, SVD and trace estimation.\n",
    "You can find other linear algebra operations on our [high-level API](https://cola.readthedocs.io/en/latest/package/cola.linalg.html) guide."
   ]
  },
  {
   "cell_type": "code",
   "execution_count": 1,
   "id": "58aca7ce",
   "metadata": {},
   "outputs": [],
   "source": [
    "import cola\n",
    "import numpy as np\n",
    "from matplotlib import pyplot as plt\n",
    "from jax import numpy as jnp\n",
    "from jax.random import PRNGKey\n",
    "from jax.random import normal\n",
    "from jax.random import split"
   ]
  },
  {
   "cell_type": "markdown",
   "id": "f9b4a763",
   "metadata": {},
   "source": [
    "## Linear Solves\n",
    "\n",
    "Given a square linear operator $A$ and a rhs vector $b$ we want to find $x$ such that $Ax=b$.\n",
    "We'll start by showing you how to use `CoLA`'s high-level interface to get $x$.\n",
    "For this we'll generate a small example ($N=100$) on `JAX` using two utility functions `generate_spectrum` and `generate_pd_from_diag`. Both functions allow me to generate a PSD operator $A$ where its eigenvalues behave in the following manner."
   ]
  },
  {
   "cell_type": "code",
   "execution_count": 2,
   "id": "e97dc396",
   "metadata": {},
   "outputs": [
    {
     "name": "stderr",
     "output_type": "stream",
     "text": [
      "No GPU/TPU found, falling back to CPU. (Set TF_CPP_MIN_LOG_LEVEL=0 and rerun for more info.)\n"
     ]
    }
   ],
   "source": [
    "from cola.utils_test import generate_spectrum\n",
    "from cola.utils_test import generate_pd_from_diag\n",
    "\n",
    "N = 100\n",
    "dtype = jnp.float32\n",
    "key = PRNGKey(seed=21)\n",
    "diag = generate_spectrum(coeff=0.5, scale=1.0, size=N, dtype=np.float32)\n",
    "A = jnp.array(generate_pd_from_diag(diag, dtype=diag.dtype), dtype=dtype)\n",
    "key = split(key, num=1)\n",
    "rhs = normal(key, shape=(N,))\n",
    "rhs /= jnp.linalg.norm(rhs)"
   ]
  },
  {
   "cell_type": "code",
   "execution_count": 3,
   "id": "f16323a5",
   "metadata": {},
   "outputs": [
    {
     "data": {
      "image/png": "[encoded data removed]",
      "text/plain": [
       "<Figure size 640x480 with 1 Axes>"
      ]
     },
     "metadata": {},
     "output_type": "display_data"
    }
   ],
   "source": [
    "plt.figure()\n",
    "plt.plot(diag)\n",
    "plt.ylabel(\"eigenvalues\")\n",
    "plt.xlabel(\"index\")\n",
    "plt.show()"
   ]
  },
  {
   "cell_type": "markdown",
   "id": "65a48863",
   "metadata": {},
   "source": [
    "To start using `CoLA` we'll first transform $A$ into a `LinearOperator` as follows"
   ]
  },
  {
   "cell_type": "code",
   "execution_count": 4,
   "id": "87d64104",
   "metadata": {},
   "outputs": [],
   "source": [
    "A_op = cola.ops.Dense(A)"
   ]
  },
  {
   "cell_type": "markdown",
   "id": "e9033c95",
   "metadata": {},
   "source": [
    "In this case we are using a `Dense` operator as we are given the dense representation of $A$. However, if we are given an `matvec` function instead, you can use the base `LinearOperator` class shown [here](https://cola.readthedocs.io/en/latest/package/cola.linear_operators.html)."
   ]
  },
  {
   "cell_type": "code",
   "execution_count": 5,
   "id": "0326a12b",
   "metadata": {},
   "outputs": [
    {
     "name": "stdout",
     "output_type": "stream",
     "text": [
      "8.65e-06\n"
     ]
    }
   ],
   "source": [
    "soln = cola.inverse(A_op) @ rhs\n",
    "soln_jax = jnp.linalg.solve(A, rhs)\n",
    "abs_diff = jnp.linalg.norm(soln - soln_jax)\n",
    "print(f\"{abs_diff:1.2e}\")"
   ]
  },
  {
   "cell_type": "markdown",
   "id": "427162fe",
   "metadata": {},
   "source": [
    "In this case `cola.inverse(A)` represents the linear operator $A^{-1}$ that, when applied to a vector $b$, it solves the linear system $A x = b$ and then outputs $x$.\n",
    "It does not, however, compute the inverse densely $A^{-1}$ and then multiply it by the vector $b$.\n",
    "\n",
    "As you can see, in the high-level interface `CoLA` determines for the user not only what algorithm to run, given the problem and present strucutre, but it also has a set of hyperparameter default for these algorithms that work well in practice.\n",
    "Thus, the user can only focus on expressing what they want to do.\n",
    "\n",
    "Yet, in some instances a user might want to run a specific algorithm.\n",
    "For this case, the user can select an appropriate solver from the following set of [algorithms](https://cola.readthedocs.io/en/latest/package/cola.algorithms.html).\n",
    "For example, if in the above problem the user wanted to use conjugate gradients (CG),\n",
    "then they could run"
   ]
  },
  {
   "cell_type": "code",
   "execution_count": 6,
   "id": "17747b65",
   "metadata": {},
   "outputs": [
    {
     "name": "stdout",
     "output_type": "stream",
     "text": [
      "1.87e-05\n",
      "CG took 61 iterations\n"
     ]
    }
   ],
   "source": [
    "from cola.algorithms import cg\n",
    "\n",
    "soln, info = cg(A_op, rhs, tol=1e-6, max_iters=100)\n",
    "soln_jax = jnp.linalg.solve(A, rhs)\n",
    "abs_diff = jnp.linalg.norm(soln - soln_jax)\n",
    "print(f\"{abs_diff:1.2e}\")\n",
    "print(f\"CG took {info['iterations']:,d} iterations\")"
   ]
  },
  {
   "cell_type": "markdown",
   "id": "42635c86",
   "metadata": {},
   "source": [
    "A key difference now is that the algorithm not only outputs a solution but also information `info` specific about the algorithm and the run such as the number of iterations that the algorithm took or the evolution of the residual through each iteration.\n",
    "\n",
    "Or if the user want to use GMRES they could run the following."
   ]
  },
  {
   "cell_type": "code",
   "execution_count": 7,
   "id": "46821a38",
   "metadata": {},
   "outputs": [
    {
     "name": "stdout",
     "output_type": "stream",
     "text": [
      "8.94e-03\n"
     ]
    }
   ],
   "source": [
    "from cola.algorithms import gmres\n",
    "\n",
    "soln, _ = gmres(A_op, rhs, tol=1e-6, max_iters=100)\n",
    "soln_jax = jnp.linalg.solve(A, rhs)\n",
    "abs_diff = jnp.linalg.norm(soln - soln_jax)\n",
    "print(f\"{abs_diff:1.2e}\")"
   ]
  },
  {
   "cell_type": "markdown",
   "id": "22384e5a",
   "metadata": {},
   "source": [
    "## Eigendecomposition\n",
    "\n",
    "Another popular linear algebra operation is to find the eigenvalues and eigenvectors of a given linear operator $A$. That is, find $V$ and $\\Lambda$ such that $A = V \\Lambda V^*$.\n",
    "To show how to do this in `CoLA` I'll generate again a PSD example but now use `PyTorch` instead."
   ]
  },
  {
   "cell_type": "code",
   "execution_count": 8,
   "id": "2a341033",
   "metadata": {},
   "outputs": [
    {
     "name": "stdout",
     "output_type": "stream",
     "text": [
      "1.43e-15\n"
     ]
    }
   ],
   "source": [
    "from cola import PSD\n",
    "import torch\n",
    "\n",
    "N = 100\n",
    "dtype = torch.float64\n",
    "diag = generate_spectrum(coeff=0.5, scale=1.0, size=N, dtype=np.float64)\n",
    "A = torch.tensor(generate_pd_from_diag(diag, dtype=diag.dtype), dtype=dtype)\n",
    "A_op = PSD(cola.ops.Dense(A))\n",
    "diag = torch.tensor(diag)\n",
    "\n",
    "eig_vals, eig_vecs = cola.eig(A_op)\n",
    "eig_vals, _ = torch.sort(eig_vals, descending=True)\n",
    "abs_diff = torch.linalg.norm(diag - eig_vals)\n",
    "print(f\"{abs_diff:1.2e}\")"
   ]
  },
  {
   "cell_type": "markdown",
   "id": "f530084d",
   "metadata": {},
   "source": [
    "Nevertheless, when $A$ is quite large we cannot afford the time or memory for a full decomposition. We could thus use an iterative eigenvalue algorithm such as power iteration (if we only want the maximum eigenvalue), Lanczos (if we have a symmetric operator) or Arnoldi (which works in general). Let's see how to run all of those options.\n",
    "So to compute the maximum eigenvalue we could run"
   ]
  },
  {
   "cell_type": "code",
   "execution_count": 9,
   "id": "c3cbf4b0",
   "metadata": {},
   "outputs": [
    {
     "name": "stdout",
     "output_type": "stream",
     "text": [
      "Max eigenvalue: 1.00000\n",
      "Max eigenvalue estimate: 1.00000\n",
      "3.80e-07\n"
     ]
    }
   ],
   "source": [
    "eig_max = cola.eigmax(A_op)\n",
    "abs_diff = torch.linalg.norm(diag[0] - eig_max)\n",
    "print(f\"Max eigenvalue: {diag[0]:2.5f}\")\n",
    "print(f\"Max eigenvalue estimate: {eig_max.item():2.5f}\")\n",
    "print(f\"{abs_diff:1.2e}\")"
   ]
  },
  {
   "cell_type": "markdown",
   "id": "15c00f6c",
   "metadata": {},
   "source": [
    "Indeed we recover the largest eigenvalue. The algorithm that `CoLA` ran in this case was the power method. But since in this example $A$ is symmetric we could use Lanczos and we can do so as follows"
   ]
  },
  {
   "cell_type": "code",
   "execution_count": 10,
   "id": "7f9674f3",
   "metadata": {},
   "outputs": [
    {
     "name": "stdout",
     "output_type": "stream",
     "text": [
      "1.15e-15\n"
     ]
    }
   ],
   "source": [
    "eig_vals, eig_vecs = cola.eig(A_op, method=\"lanczos\")\n",
    "eig_vals, _ = torch.sort(eig_vals, descending=True)\n",
    "abs_diff = torch.linalg.norm(diag - eig_vals)\n",
    "print(f\"{abs_diff:1.2e}\")"
   ]
  },
  {
   "cell_type": "markdown",
   "id": "dbc4b67e",
   "metadata": {},
   "source": [
    "Finally, we could run the workhorse algorithm from large and general linear operators: Arnoldi. In this case, I'll show how to run this algorithm using the low-level algorithmic interface in `CoLA`"
   ]
  },
  {
   "cell_type": "code",
   "execution_count": 11,
   "id": "2c98bdfa",
   "metadata": {},
   "outputs": [
    {
     "name": "stdout",
     "output_type": "stream",
     "text": [
      "3.74e-10\n"
     ]
    },
    {
     "name": "stderr",
     "output_type": "stream",
     "text": [
      "/home/ubu/cola/cola/torch_fns.py:140: UserWarning: Casting complex values to real discards the imaginary part (Triggered internally at ../aten/src/ATen/native/Copy.cpp:278.)\n",
      "  return array.to(dtype)\n"
     ]
    }
   ],
   "source": [
    "eig_vals, eig_vecs, _ = cola.algorithms.arnoldi_eig(A_op, max_iters=60)\n",
    "eig_vals, _ = torch.sort(eig_vals, descending=True)\n",
    "abs_diff = torch.linalg.norm(diag[:10] - eig_vals[:10])\n",
    "print(f\"{abs_diff:1.2e}\")"
   ]
  },
  {
   "cell_type": "markdown",
   "id": "99f52bd5",
   "metadata": {},
   "source": [
    "In the previous example I passed `max_iters` as Arnoldi is usually ran for much less than the size of the problem. As you can see from the difference, this general algorithm is able to recover the top 10 eigenvalues to numerical precision.\n",
    "Moreover, the estimates of the other values are fairly close to the target value (although not to a high precision)."
   ]
  },
  {
   "cell_type": "code",
   "execution_count": 12,
   "id": "0bad470e",
   "metadata": {},
   "outputs": [
    {
     "name": "stdout",
     "output_type": "stream",
     "text": [
      "tensor([1.0000, 0.9000, 0.8586, 0.8268, 0.8000, 0.7764, 0.7551, 0.7354, 0.7172,\n",
      "        0.7000, 0.6838, 0.6683, 0.6536, 0.6394, 0.6258, 0.6127, 0.6000, 0.5877,\n",
      "        0.5757, 0.5641, 0.5528, 0.5417, 0.5310, 0.5204, 0.5101, 0.5000, 0.4901,\n",
      "        0.4804, 0.4708, 0.4615], dtype=torch.float64)\n",
      "tensor([1.0000, 0.9000, 0.8586, 0.8268, 0.8000, 0.7764, 0.7551, 0.7354, 0.7172,\n",
      "        0.7000, 0.6838, 0.6683, 0.6536, 0.6394, 0.6258, 0.6127, 0.6000, 0.5829,\n",
      "        0.5755, 0.5632, 0.5405, 0.5307, 0.5058, 0.4967, 0.4749, 0.4570, 0.4422,\n",
      "        0.4282, 0.4019, 0.3896], dtype=torch.float64)\n"
     ]
    }
   ],
   "source": [
    "print(diag[:30])\n",
    "print(eig_vals[:30])"
   ]
  },
  {
   "cell_type": "markdown",
   "id": "7ee7ca0b",
   "metadata": {},
   "source": [
    "## Singular Value Decomposition (SVD)"
   ]
  },
  {
   "cell_type": "code",
   "execution_count": null,
   "id": "e1f93e5c",
   "metadata": {},
   "outputs": [],
   "source": []
  },
  {
   "cell_type": "markdown",
   "id": "ff33e0ce",
   "metadata": {},
   "source": [
    "## Trace Estimation"
   ]
  },
  {
   "cell_type": "code",
   "execution_count": null,
   "id": "3c585c4f",
   "metadata": {},
   "outputs": [],
   "source": []
  }
 ],
 "metadata": {
  "accelerator": "GPU",
  "kernelspec": {
   "display_name": "Python 3",
   "language": "python",
   "name": "python3"
  },
  "language_info": {
   "codemirror_mode": {
    "name": "ipython",
    "version": 3
   },
   "file_extension": ".py",
   "mimetype": "text/x-python",
   "name": "python",
   "nbconvert_exporter": "python",
   "pygments_lexer": "ipython3",
   "version": "3.8.5"
  }
 },
 "nbformat": 4,
 "nbformat_minor": 4
}
