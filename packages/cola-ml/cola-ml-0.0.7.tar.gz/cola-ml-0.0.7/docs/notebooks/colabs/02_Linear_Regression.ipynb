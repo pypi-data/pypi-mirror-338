{
 "cells": [
  {
   "attachments": {},
   "cell_type": "markdown",
   "metadata": {},
   "source": [
    "First install the repo and requirements."
   ]
  },
  {
   "cell_type": "code",
   "execution_count": null,
   "metadata": {},
   "outputs": [],
   "source": [
    "%pip --quiet install git+https://github.com/wilson-labs/cola.git"
   ]
  },
  {
   "attachments": {},
   "cell_type": "markdown",
   "id": "bfb3e774",
   "metadata": {},
   "source": [
    "# Linear Regression"
   ]
  },
  {
   "attachments": {},
   "cell_type": "markdown",
   "id": "ecf53cd2",
   "metadata": {},
   "source": [
    "In this notebook"
   ]
  },
  {
   "cell_type": "code",
   "execution_count": 12,
   "id": "6a0529de",
   "metadata": {},
   "outputs": [],
   "source": [
    "import cola\n",
    "import numpy as np\n",
    "\n",
    "Phi = np.random.randn(100, 10)\n",
    "y = np.random.randn(100)"
   ]
  },
  {
   "cell_type": "code",
   "execution_count": 13,
   "id": "1e988043",
   "metadata": {},
   "outputs": [
    {
     "name": "stdout",
     "output_type": "stream",
     "text": [
      "(10, 10)\n",
      "(10, 10)\n"
     ]
    }
   ],
   "source": [
    "beta = cola.pinv(cola.lazify(Phi))@y"
   ]
  },
  {
   "cell_type": "code",
   "execution_count": null,
   "id": "ed07ce80",
   "metadata": {},
   "outputs": [],
   "source": []
  }
 ],
 "metadata": {
  "accelerator": "GPU",
  "kernelspec": {
   "display_name": "Python 3",
   "language": "python",
   "name": "python3"
  },
  "language_info": {
   "codemirror_mode": {
    "name": "ipython",
    "version": 3
   },
   "file_extension": ".py",
   "mimetype": "text/x-python",
   "name": "python",
   "nbconvert_exporter": "python",
   "pygments_lexer": "ipython3",
   "version": "3.8.5"
  }
 },
 "nbformat": 4,
 "nbformat_minor": 4
}
