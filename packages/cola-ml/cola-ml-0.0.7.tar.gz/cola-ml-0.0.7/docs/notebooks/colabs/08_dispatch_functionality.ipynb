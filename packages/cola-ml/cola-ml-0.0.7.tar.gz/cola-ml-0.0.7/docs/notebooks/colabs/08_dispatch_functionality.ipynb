{
 "cells": [
  {
   "attachments": {},
   "cell_type": "markdown",
   "metadata": {},
   "source": [
    "First install the repo and requirements."
   ]
  },
  {
   "cell_type": "code",
   "execution_count": null,
   "metadata": {},
   "outputs": [],
   "source": [
    "%pip --quiet install git+https://github.com/wilson-labs/cola.git"
   ]
  },
  {
   "cell_type": "code",
   "execution_count": 1,
   "metadata": {},
   "outputs": [],
   "source": [
    "from plum import dispatch\n",
    "import logging\n",
    "logging.getLogger().setLevel(logging.INFO)"
   ]
  },
  {
   "cell_type": "code",
   "execution_count": 2,
   "metadata": {},
   "outputs": [],
   "source": [
    "@dispatch(cond = lambda a: a>0)\n",
    "def test(a: int):\n",
    "    return -a\n",
    "\n",
    "@dispatch\n",
    "def test(a: str):\n",
    "    return a\n",
    "\n",
    "@dispatch\n",
    "def test(a):\n",
    "    return a\n",
    "    "
   ]
  },
  {
   "cell_type": "code",
   "execution_count": 3,
   "metadata": {},
   "outputs": [
    {
     "name": "stderr",
     "output_type": "stream",
     "text": [
      "INFO:root:Dispatched on test(str)\n"
     ]
    },
    {
     "data": {
      "text/plain": [
       "'a'"
      ]
     },
     "execution_count": 3,
     "metadata": {},
     "output_type": "execute_result"
    }
   ],
   "source": [
    "test(\"a\")"
   ]
  },
  {
   "cell_type": "code",
   "execution_count": 4,
   "metadata": {},
   "outputs": [
    {
     "data": {
      "text/plain": [
       "[Signature(int, implementation=<function test at 0x7f68c4491ab0>),\n",
       " Signature(str, implementation=<function test at 0x7f68c4491a20>),\n",
       " Signature(typing.Any, implementation=<function test at 0x7f68c4491b40>)]"
      ]
     },
     "execution_count": 4,
     "metadata": {},
     "output_type": "execute_result"
    }
   ],
   "source": [
    "test.methods"
   ]
  },
  {
   "cell_type": "code",
   "execution_count": 5,
   "metadata": {},
   "outputs": [
    {
     "data": {
      "text/plain": [
       "[(<function __main__.test(a: int)>,\n",
       "  None,\n",
       "  <function __main__.<lambda>(a)>,\n",
       "  0,\n",
       "  False),\n",
       " (<function __main__.test(a: str)>, None, None, 0, False),\n",
       " (<function __main__.test(a)>, None, None, 0, False)]"
      ]
     },
     "execution_count": 5,
     "metadata": {},
     "output_type": "execute_result"
    }
   ],
   "source": [
    "test._resolved"
   ]
  },
  {
   "cell_type": "code",
   "execution_count": 6,
   "metadata": {},
   "outputs": [
    {
     "name": "stderr",
     "output_type": "stream",
     "text": [
      "INFO:root:Dispatched on test(int) with cond=<lambda>\n",
      "INFO:root:Dispatched on test(typing.Any)\n",
      "INFO:root:Dispatched on test(typing.Any)\n",
      "INFO:root:Dispatched on test(typing.Any)\n",
      "WARNING:root:-2\n",
      "INFO:root:Dispatched on test(int) with cond=<lambda>\n",
      "WARNING:root:-22\n"
     ]
    }
   ],
   "source": [
    "with test.disable_methods((str,)):\n",
    "    test(2)\n",
    "    test(\"a\")\n",
    "    test(\"b\")\n",
    "    logging.warning(test(-2))\n",
    "    logging.warning(test(22))"
   ]
  },
  {
   "cell_type": "code",
   "execution_count": 7,
   "metadata": {},
   "outputs": [
    {
     "data": {
      "text/plain": [
       "[(<function __main__.test(a: int)>,\n",
       "  None,\n",
       "  <function __main__.<lambda>(a)>,\n",
       "  0,\n",
       "  False),\n",
       " (<function __main__.test(a: str)>, None, None, 0, False),\n",
       " (<function __main__.test(a)>, None, None, 0, False),\n",
       " (<function <function test at 0x7f68c4491ab0> with 2 registered and 1 pending method(s)>,\n",
       "  Signature(str),\n",
       "  None,\n",
       "  None,\n",
       "  True)]"
      ]
     },
     "execution_count": 7,
     "metadata": {},
     "output_type": "execute_result"
    }
   ],
   "source": [
    "test._resolved"
   ]
  },
  {
   "cell_type": "code",
   "execution_count": 8,
   "metadata": {},
   "outputs": [
    {
     "ename": "TypeError",
     "evalue": "None is not a callable object",
     "output_type": "error",
     "traceback": [
      "\u001b[0;31m---------------------------------------------------------------------------\u001b[0m",
      "\u001b[0;31mTypeError\u001b[0m                                 Traceback (most recent call last)",
      "Cell \u001b[0;32mIn[8], line 1\u001b[0m\n\u001b[0;32m----> 1\u001b[0m test\u001b[39m.\u001b[39;49mmethods\n",
      "File \u001b[0;32m~/plum/plum/function.py:181\u001b[0m, in \u001b[0;36mFunction.methods\u001b[0;34m(self)\u001b[0m\n\u001b[1;32m    178\u001b[0m \u001b[39m@property\u001b[39m\n\u001b[1;32m    179\u001b[0m \u001b[39mdef\u001b[39;00m \u001b[39mmethods\u001b[39m(\u001b[39mself\u001b[39m):\n\u001b[1;32m    180\u001b[0m \u001b[39m    \u001b[39m\u001b[39m\"\"\"list[:class:`.signature.Signature`]: All available methods.\"\"\"\u001b[39;00m\n\u001b[0;32m--> 181\u001b[0m     \u001b[39mself\u001b[39;49m\u001b[39m.\u001b[39;49m_resolve_pending_registrations()\n\u001b[1;32m    182\u001b[0m     \u001b[39mreturn\u001b[39;00m \u001b[39mself\u001b[39m\u001b[39m.\u001b[39m_resolver\u001b[39m.\u001b[39msignatures\n",
      "File \u001b[0;32m~/plum/plum/function.py:319\u001b[0m, in \u001b[0;36mFunction._resolve_pending_registrations\u001b[0;34m(self)\u001b[0m\n\u001b[1;32m    313\u001b[0m     signature\u001b[39m.\u001b[39mimplementation \u001b[39m=\u001b[39m _change_function_name(\n\u001b[1;32m    314\u001b[0m         signature\u001b[39m.\u001b[39mimplementation,\n\u001b[1;32m    315\u001b[0m         \u001b[39mself\u001b[39m\u001b[39m.\u001b[39m\u001b[39m__name__\u001b[39m,\n\u001b[1;32m    316\u001b[0m     )\n\u001b[1;32m    318\u001b[0m \u001b[39m# Process default values.\u001b[39;00m\n\u001b[0;32m--> 319\u001b[0m \u001b[39mfor\u001b[39;00m subsignature \u001b[39min\u001b[39;00m append_default_args(signature, f):\n\u001b[1;32m    320\u001b[0m     \u001b[39mif\u001b[39;00m \u001b[39mnot\u001b[39;00m to_remove: \u001b[39mself\u001b[39m\u001b[39m.\u001b[39m_resolver\u001b[39m.\u001b[39mregister(subsignature)\n\u001b[1;32m    321\u001b[0m     \u001b[39melse\u001b[39;00m: \u001b[39mself\u001b[39m\u001b[39m.\u001b[39m_resolver\u001b[39m.\u001b[39munregister(subsignature)\n",
      "File \u001b[0;32m~/plum/plum/signature.py:283\u001b[0m, in \u001b[0;36mappend_default_args\u001b[0;34m(signature, f)\u001b[0m\n\u001b[1;32m    269\u001b[0m \u001b[39m\u001b[39m\u001b[39m\"\"\"Returns a list of signatures of function `f`, where those signatures are derived\u001b[39;00m\n\u001b[1;32m    270\u001b[0m \u001b[39mfrom the input arguments of `f` by treating every non-keyword-only argument with a\u001b[39;00m\n\u001b[1;32m    271\u001b[0m \u001b[39mdefault value as a keyword-only argument turn by turn.\u001b[39;00m\n\u001b[0;32m   (...)\u001b[0m\n\u001b[1;32m    280\u001b[0m \u001b[39m    default arguments.\u001b[39;00m\n\u001b[1;32m    281\u001b[0m \u001b[39m\"\"\"\u001b[39;00m\n\u001b[1;32m    282\u001b[0m \u001b[39m# Extract specification.\u001b[39;00m\n\u001b[0;32m--> 283\u001b[0m f_signature \u001b[39m=\u001b[39m _inspect_signature(f)\n\u001b[1;32m    285\u001b[0m signatures \u001b[39m=\u001b[39m [signature]\n\u001b[1;32m    287\u001b[0m arg_names \u001b[39m=\u001b[39m \u001b[39mlist\u001b[39m(f_signature\u001b[39m.\u001b[39mparameters\u001b[39m.\u001b[39mkeys())\n",
      "File \u001b[0;32m~/plum/plum/signature.py:195\u001b[0m, in \u001b[0;36m_inspect_signature\u001b[0;34m(f)\u001b[0m\n\u001b[1;32m    193\u001b[0m \u001b[39melif\u001b[39;00m \u001b[39misinstance\u001b[39m(f, operator\u001b[39m.\u001b[39mattrgetter):\n\u001b[1;32m    194\u001b[0m     f \u001b[39m=\u001b[39m wrap_lambda(f)\n\u001b[0;32m--> 195\u001b[0m \u001b[39mreturn\u001b[39;00m inspect\u001b[39m.\u001b[39;49msignature(f)\n",
      "File \u001b[0;32m~/miniconda3/envs/gr/lib/python3.10/inspect.py:3253\u001b[0m, in \u001b[0;36msignature\u001b[0;34m(obj, follow_wrapped, globals, locals, eval_str)\u001b[0m\n\u001b[1;32m   3251\u001b[0m \u001b[39mdef\u001b[39;00m \u001b[39msignature\u001b[39m(obj, \u001b[39m*\u001b[39m, follow_wrapped\u001b[39m=\u001b[39m\u001b[39mTrue\u001b[39;00m, \u001b[39mglobals\u001b[39m\u001b[39m=\u001b[39m\u001b[39mNone\u001b[39;00m, \u001b[39mlocals\u001b[39m\u001b[39m=\u001b[39m\u001b[39mNone\u001b[39;00m, eval_str\u001b[39m=\u001b[39m\u001b[39mFalse\u001b[39;00m):\n\u001b[1;32m   3252\u001b[0m \u001b[39m    \u001b[39m\u001b[39m\"\"\"Get a signature object for the passed callable.\"\"\"\u001b[39;00m\n\u001b[0;32m-> 3253\u001b[0m     \u001b[39mreturn\u001b[39;00m Signature\u001b[39m.\u001b[39;49mfrom_callable(obj, follow_wrapped\u001b[39m=\u001b[39;49mfollow_wrapped,\n\u001b[1;32m   3254\u001b[0m                                    \u001b[39mglobals\u001b[39;49m\u001b[39m=\u001b[39;49m\u001b[39mglobals\u001b[39;49m, \u001b[39mlocals\u001b[39;49m\u001b[39m=\u001b[39;49m\u001b[39mlocals\u001b[39;49m, eval_str\u001b[39m=\u001b[39;49meval_str)\n",
      "File \u001b[0;32m~/miniconda3/envs/gr/lib/python3.10/inspect.py:3001\u001b[0m, in \u001b[0;36mSignature.from_callable\u001b[0;34m(cls, obj, follow_wrapped, globals, locals, eval_str)\u001b[0m\n\u001b[1;32m   2997\u001b[0m \u001b[39m@classmethod\u001b[39m\n\u001b[1;32m   2998\u001b[0m \u001b[39mdef\u001b[39;00m \u001b[39mfrom_callable\u001b[39m(\u001b[39mcls\u001b[39m, obj, \u001b[39m*\u001b[39m,\n\u001b[1;32m   2999\u001b[0m                   follow_wrapped\u001b[39m=\u001b[39m\u001b[39mTrue\u001b[39;00m, \u001b[39mglobals\u001b[39m\u001b[39m=\u001b[39m\u001b[39mNone\u001b[39;00m, \u001b[39mlocals\u001b[39m\u001b[39m=\u001b[39m\u001b[39mNone\u001b[39;00m, eval_str\u001b[39m=\u001b[39m\u001b[39mFalse\u001b[39;00m):\n\u001b[1;32m   3000\u001b[0m \u001b[39m    \u001b[39m\u001b[39m\"\"\"Constructs Signature for the given callable object.\"\"\"\u001b[39;00m\n\u001b[0;32m-> 3001\u001b[0m     \u001b[39mreturn\u001b[39;00m _signature_from_callable(obj, sigcls\u001b[39m=\u001b[39;49m\u001b[39mcls\u001b[39;49m,\n\u001b[1;32m   3002\u001b[0m                                     follow_wrapper_chains\u001b[39m=\u001b[39;49mfollow_wrapped,\n\u001b[1;32m   3003\u001b[0m                                     \u001b[39mglobals\u001b[39;49m\u001b[39m=\u001b[39;49m\u001b[39mglobals\u001b[39;49m, \u001b[39mlocals\u001b[39;49m\u001b[39m=\u001b[39;49m\u001b[39mlocals\u001b[39;49m, eval_str\u001b[39m=\u001b[39;49meval_str)\n",
      "File \u001b[0;32m~/miniconda3/envs/gr/lib/python3.10/inspect.py:2395\u001b[0m, in \u001b[0;36m_signature_from_callable\u001b[0;34m(obj, follow_wrapper_chains, skip_bound_arg, globals, locals, eval_str, sigcls)\u001b[0m\n\u001b[1;32m   2386\u001b[0m _get_signature_of \u001b[39m=\u001b[39m functools\u001b[39m.\u001b[39mpartial(_signature_from_callable,\n\u001b[1;32m   2387\u001b[0m                             follow_wrapper_chains\u001b[39m=\u001b[39mfollow_wrapper_chains,\n\u001b[1;32m   2388\u001b[0m                             skip_bound_arg\u001b[39m=\u001b[39mskip_bound_arg,\n\u001b[0;32m   (...)\u001b[0m\n\u001b[1;32m   2391\u001b[0m                             sigcls\u001b[39m=\u001b[39msigcls,\n\u001b[1;32m   2392\u001b[0m                             eval_str\u001b[39m=\u001b[39meval_str)\n\u001b[1;32m   2394\u001b[0m \u001b[39mif\u001b[39;00m \u001b[39mnot\u001b[39;00m callable(obj):\n\u001b[0;32m-> 2395\u001b[0m     \u001b[39mraise\u001b[39;00m \u001b[39mTypeError\u001b[39;00m(\u001b[39m'\u001b[39m\u001b[39m{!r}\u001b[39;00m\u001b[39m is not a callable object\u001b[39m\u001b[39m'\u001b[39m\u001b[39m.\u001b[39mformat(obj))\n\u001b[1;32m   2397\u001b[0m \u001b[39mif\u001b[39;00m \u001b[39misinstance\u001b[39m(obj, types\u001b[39m.\u001b[39mMethodType):\n\u001b[1;32m   2398\u001b[0m     \u001b[39m# In this case we skip the first parameter of the underlying\u001b[39;00m\n\u001b[1;32m   2399\u001b[0m     \u001b[39m# function (usually `self` or `cls`).\u001b[39;00m\n\u001b[1;32m   2400\u001b[0m     sig \u001b[39m=\u001b[39m _get_signature_of(obj\u001b[39m.\u001b[39m\u001b[39m__func__\u001b[39m)\n",
      "\u001b[0;31mTypeError\u001b[0m: None is not a callable object"
     ]
    }
   ],
   "source": [
    "test.methods"
   ]
  },
  {
   "cell_type": "code",
   "execution_count": 5,
   "metadata": {},
   "outputs": [
    {
     "name": "stderr",
     "output_type": "stream",
     "text": [
      "INFO:root:Dispatched on test(str)\n"
     ]
    },
    {
     "data": {
      "text/plain": [
       "'a'"
      ]
     },
     "execution_count": 5,
     "metadata": {},
     "output_type": "execute_result"
    }
   ],
   "source": [
    "test(\"a\")"
   ]
  },
  {
   "cell_type": "code",
   "execution_count": null,
   "metadata": {},
   "outputs": [],
   "source": []
  }
 ],
 "metadata": {
  "accelerator": "GPU",
  "kernelspec": {
   "display_name": "Python 3",
   "language": "python",
   "name": "python3"
  },
  "language_info": {
   "codemirror_mode": {
    "name": "ipython",
    "version": 3
   },
   "file_extension": ".py",
   "mimetype": "text/x-python",
   "name": "python",
   "nbconvert_exporter": "python",
   "pygments_lexer": "ipython3",
   "version": "3.8.5"
  }
 },
 "nbformat": 4,
 "nbformat_minor": 4
}
