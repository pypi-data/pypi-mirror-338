{
 "cells": [
  {
   "cell_type": "markdown",
   "id": "fefdf13c",
   "metadata": {},
   "source": [
    "\n",
    "# Jupyter MCP サンプルノートブック\n",
    "\n",
    "このノートブックは、Jupyter MCPサーバーの動作確認用のサンプルです。\n"
   ]
  },
  {
   "cell_type": "code",
   "execution_count": null,
   "id": "6d676b7c",
   "metadata": {},
   "outputs": [],
   "source": [
    "\n",
    "# 基本的なライブラリをインポート\n",
    "import numpy as np\n",
    "import pandas as pd\n",
    "import matplotlib.pyplot as plt\n",
    "\n",
    "# グラフをノートブック内に表示\n",
    "%matplotlib inline\n"
   ]
  },
  {
   "cell_type": "code",
   "execution_count": null,
   "id": "a5208298",
   "metadata": {},
   "outputs": [],
   "source": [
    "\n",
    "# サンプルデータを作成\n",
    "data = {\n",
    "    'A': np.random.rand(10),\n",
    "    'B': np.random.rand(10),\n",
    "    'C': np.random.rand(10)\n",
    "}\n",
    "\n",
    "df = pd.DataFrame(data)\n",
    "df\n"
   ]
  },
  {
   "cell_type": "code",
   "execution_count": null,
   "id": "34ad10fb",
   "metadata": {},
   "outputs": [],
   "source": [
    "\n",
    "# データをプロット\n",
    "plt.figure(figsize=(10, 6))\n",
    "for column in df.columns:\n",
    "    plt.plot(df.index, df[column], label=column)\n",
    "plt.legend()\n",
    "plt.title('サンプルデータ')\n",
    "plt.xlabel('インデックス')\n",
    "plt.ylabel('値')\n",
    "plt.grid(True)\n",
    "plt.show()\n"
   ]
  },
  {
   "cell_type": "markdown",
   "id": "c9d730ff",
   "metadata": {},
   "source": [
    "\n",
    "## データの集計\n",
    "\n",
    "基本的な統計情報を確認します。\n"
   ]
  },
  {
   "cell_type": "code",
   "execution_count": null,
   "id": "0ea439f1",
   "metadata": {},
   "outputs": [],
   "source": [
    "\n",
    "# 統計情報\n",
    "df.describe()\n"
   ]
  },
  {
   "cell_type": "code",
   "execution_count": null,
   "id": "a3df8f87",
   "metadata": {},
   "outputs": [],
   "source": [
    "\n",
    "# テスト用のコード\n",
    "import numpy as np\n",
    "x = np.linspace(0, 10, 100)\n",
    "y = np.sin(x)\n",
    "print(\"sin関数の最大値:\", np.max(y))\n",
    "np.max(y)\n"
   ]
  }
 ],
 "metadata": {
  "kernelspec": {
   "display_name": "Python 3",
   "language": "python",
   "name": "python3"
  },
  "language_info": {
   "codemirror_mode": {
    "name": "ipython",
    "version": 3
   },
   "file_extension": ".py",
   "mimetype": "text/x-python",
   "name": "python",
   "nbconvert_exporter": "python",
   "pygments_lexer": "ipython3",
   "version": "3.12.2"
  }
 },
 "nbformat": 4,
 "nbformat_minor": 5
}
