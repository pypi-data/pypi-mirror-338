{
 "cells": [
  {
   "cell_type": "markdown",
   "id": "035c0f3f-2a23-48fb-a97f-92b9ae4486c6",
   "metadata": {},
   "source": [
    "# Quick start"
   ]
  },
  {
   "cell_type": "markdown",
   "id": "6d7c4f4a-b872-4503-980e-72c0783d40c7",
   "metadata": {},
   "source": [
    "## Installation\n",
    "Install the Hipersim package from PyPi.org:\n",
    "\n",
    "```bash\n",
    "pip install hipersim\n",
    "```"
   ]
  },
  {
   "cell_type": "markdown",
   "id": "036e9bd5-1162-4ea7-bb92-8ae52748b3e8",
   "metadata": {},
   "source": [
    "## Generate and save Mann turbulence field"
   ]
  },
  {
   "cell_type": "code",
   "execution_count": 2,
   "id": "efde0b45-f88a-45c5-a2d7-274aeff5e68a",
   "metadata": {},
   "outputs": [],
   "source": [
    "from hipersim import MannTurbulenceField\n",
    "mtf = MannTurbulenceField.generate(alphaepsilon=.1,\n",
    "                                   L=33.6,\n",
    "                                   Gamma=3.9,\n",
    "                                   Nxyz=(1024,64,64), \n",
    "                                   dxyz=(4,2,2), \n",
    "                                   seed=1, \n",
    "                                   HighFreqComp=0, \n",
    "                                   double_xyz=(False, True, True))\n",
    "mtf.to_hawc2()"
   ]
  },
  {
   "cell_type": "code",
   "execution_count": 6,
   "id": "9756ba8d-a19a-4ad9-bb8a-dcaca27b7c24",
   "metadata": {},
   "outputs": [
    {
     "name": "stdout",
     "output_type": "stream",
     "text": [
      "\n",
      "(.py311_dynamiks_jupyter7) \u001b[m\u001b[32m\u001b]9;8;\"USERNAME\"\u001b\\@\u001b]9;8;\"COMPUTERNAME\"\u001b\\ \u001b[92mc:\\mmpe\\programming\\python\\Topfarm\\hipersim\\doc\u001b[90m\n",
      "\u001b[90m$\u001b[m \u001b]9;12\u001b\\dir Hipersim* \n",
      " Volume in drive C is Windows\n",
      " Volume Serial Number is 1AB2-743B\n",
      "\n",
      " Directory of c:\\mmpe\\programming\\python\\Topfarm\\hipersim\\doc\n",
      "\n",
      "08-03-2024  12:57        16,777,216 Hipersim_mann_l33.6_ae0.1000_g3.9_h0_1024xd64xd64_4.000x2.00x2.00_s0001u.turb\n",
      "08-03-2024  12:57        16,777,216 Hipersim_mann_l33.6_ae0.1000_g3.9_h0_1024xd64xd64_4.000x2.00x2.00_s0001v.turb\n",
      "08-03-2024  12:57        16,777,216 Hipersim_mann_l33.6_ae0.1000_g3.9_h0_1024xd64xd64_4.000x2.00x2.00_s0001w.turb\n",
      "               3 File(s)     50,331,648 bytes\n",
      "               0 Dir(s)  48,721,588,224 bytes free\n"
     ]
    }
   ],
   "source": [
    "!ls Hipersim*"
   ]
  },
  {
   "cell_type": "code",
   "execution_count": null,
   "id": "71924fe5-36b9-4286-8e23-c5d2ec8ae355",
   "metadata": {},
   "outputs": [],
   "source": []
  }
 ],
 "metadata": {
  "kernelspec": {
   "display_name": "Python 3 (ipykernel)",
   "language": "python",
   "name": "python3"
  },
  "language_info": {
   "codemirror_mode": {
    "name": "ipython",
    "version": 3
   },
   "file_extension": ".py",
   "mimetype": "text/x-python",
   "name": "python",
   "nbconvert_exporter": "python",
   "pygments_lexer": "ipython3",
   "version": "3.11.7"
  }
 },
 "nbformat": 4,
 "nbformat_minor": 5
}
