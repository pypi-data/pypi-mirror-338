{
 "cells": [
  {
   "cell_type": "markdown",
   "id": "2cf04e1e",
   "metadata": {},
   "source": [
    "# Mann spectrum"
   ]
  },
  {
   "cell_type": "code",
   "execution_count": 1,
   "id": "2420ca5c",
   "metadata": {},
   "outputs": [],
   "source": [
    "import matplotlib.pyplot as plt\n",
    "import numpy as np\n",
    "from ipywidgets import interact\n",
    "from ipywidgets import FloatSlider\n",
    "from hipersim.turbgen.mannspectrum import MannSpectrum_TableLookup\n",
    "c_lst = ['#1f77b4', '#ff7f0e', '#2ca02c', '#d62728'] # [plt.plot([])[0].get_color() for c in range(4)]"
   ]
  },
  {
   "cell_type": "code",
   "execution_count": 4,
   "id": "a07fff84",
   "metadata": {},
   "outputs": [],
   "source": [
    "def _plot_spectra(ae23,L,G,ls='-'):\n",
    "    k1, Phi = MannSpectrum_TableLookup(Gamma=G, L=L, alphaepsilon=ae23, kinput=None)\n",
    "    \n",
    "    for P, l, c in zip(Phi,['uu','vv','ww','uw'], c_lst):\n",
    "        if ls!='-':\n",
    "            l = ''\n",
    "        plt.semilogx(k1,k1*P, color=c, ls=ls, label=l)\n",
    "    \n",
    "def plot_spectra(ae23,L,G):\n",
    "    plt.gca().cla()\n",
    "    _plot_spectra(ae23=.1,L=33.6,G=3.9,ls='--')\n",
    "    plt.plot([],'--', color='grey', label=r'$\\alpha\\epsilon^{2/3}=.1, L=33.6, \\Gamma=3.9$')\n",
    "    _plot_spectra(ae23,L,G)\n",
    "    plt.xlabel('Wave number, $k_1$ $  [m^{-1}$]')\n",
    "    plt.ylabel('$k_1 S(k_1)[m^2s^{-2}]$')\n",
    "    plt.legend()\n",
    "    plt.grid()"
   ]
  },
  {
   "cell_type": "code",
   "execution_count": 5,
   "id": "2f8b9e9e",
   "metadata": {},
   "outputs": [
    {
     "data": {
      "application/vnd.jupyter.widget-view+json": {
       "model_id": "bd9c4584cd34433283ebf4c07c2d4975",
       "version_major": 2,
       "version_minor": 0
      },
      "text/plain": [
       "interactive(children=(FloatSlider(value=0.1, description='ae23', max=1.0), FloatSlider(value=33.6, description…"
      ]
     },
     "metadata": {},
     "output_type": "display_data"
    }
   ],
   "source": [
    "_ = interact(plot_spectra, \n",
    "             ae23=FloatSlider(min=0, max=1, step=.1, value=.1, continuous_update=True),\n",
    "             L=FloatSlider(min=0.1, max=200, step=.1, value=33.6, continuous_update=True),\n",
    "             G=FloatSlider(min=0, max=5, step=.1, value=3.9, continuous_update=True),\n",
    "              )"
   ]
  },
  {
   "cell_type": "code",
   "execution_count": null,
   "id": "fd6c439e",
   "metadata": {},
   "outputs": [],
   "source": []
  }
 ],
 "metadata": {
  "kernelspec": {
   "display_name": "Python 3 (ipykernel)",
   "language": "python",
   "name": "python3"
  },
  "language_info": {
   "codemirror_mode": {
    "name": "ipython",
    "version": 3
   },
   "file_extension": ".py",
   "mimetype": "text/x-python",
   "name": "python",
   "nbconvert_exporter": "python",
   "pygments_lexer": "ipython3",
   "version": "3.11.7"
  },
  "toc": {
   "base_numbering": 1,
   "nav_menu": {},
   "number_sections": true,
   "sideBar": true,
   "skip_h1_title": false,
   "title_cell": "Table of Contents",
   "title_sidebar": "Contents",
   "toc_cell": false,
   "toc_position": {},
   "toc_section_display": true,
   "toc_window_display": true
  }
 },
 "nbformat": 4,
 "nbformat_minor": 5
}
