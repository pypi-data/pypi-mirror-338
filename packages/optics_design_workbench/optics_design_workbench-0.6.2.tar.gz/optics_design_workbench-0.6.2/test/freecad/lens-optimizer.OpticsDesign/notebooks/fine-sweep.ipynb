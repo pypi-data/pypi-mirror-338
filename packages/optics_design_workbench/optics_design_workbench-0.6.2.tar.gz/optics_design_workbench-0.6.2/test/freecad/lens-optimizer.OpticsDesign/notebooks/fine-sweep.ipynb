{
 "cells": [
  {
   "cell_type": "code",
   "execution_count": null,
   "metadata": {
    "execution": {
     "iopub.execute_input": "2025-02-28T13:37:14.485950Z",
     "iopub.status.busy": "2025-02-28T13:37:14.485841Z",
     "iopub.status.idle": "2025-02-28T13:37:15.774974Z",
     "shell.execute_reply": "2025-02-28T13:37:15.774703Z"
    }
   },
   "outputs": [],
   "source": [
    "from numpy import *\n",
    "from matplotlib.pyplot import *\n",
    "import scipy\n",
    "\n",
    "from optics_design_workbench import jupyter_utils"
   ]
  },
  {
   "cell_type": "markdown",
   "metadata": {},
   "source": [
    "# Run simulations for various lens radii"
   ]
  },
  {
   "cell_type": "code",
   "execution_count": null,
   "metadata": {
    "execution": {
     "iopub.execute_input": "2025-02-28T13:37:15.776972Z",
     "iopub.status.busy": "2025-02-28T13:37:15.776796Z",
     "iopub.status.idle": "2025-02-28T13:37:15.778516Z",
     "shell.execute_reply": "2025-02-28T13:37:15.778266Z"
    }
   },
   "outputs": [],
   "source": [
    "#simulationMode = 'true'\n",
    "simulationMode = 'pseudo'\n",
    "#simulationMode = 'fans'"
   ]
  },
  {
   "cell_type": "code",
   "execution_count": null,
   "metadata": {
    "execution": {
     "iopub.execute_input": "2025-02-28T13:37:15.779741Z",
     "iopub.status.busy": "2025-02-28T13:37:15.779542Z",
     "iopub.status.idle": "2025-02-28T13:37:15.781287Z",
     "shell.execute_reply": "2025-02-28T13:37:15.780973Z"
    }
   },
   "outputs": [],
   "source": [
    "# prefer using this cell to open the FreeCAD Gui. This call is blocking\n",
    "# until FreeCAD is closed again, which helps to avoid editing a FCStd \n",
    "# file from jupyter and the FreeCAD Gui in parallel.\n",
    "\n",
    "#jupyter_utils.openFreecadGui()"
   ]
  },
  {
   "cell_type": "code",
   "execution_count": null,
   "metadata": {
    "execution": {
     "iopub.execute_input": "2025-02-28T13:37:15.782783Z",
     "iopub.status.busy": "2025-02-28T13:37:15.782495Z",
     "iopub.status.idle": "2025-02-28T13:40:07.479526Z",
     "shell.execute_reply": "2025-02-28T13:40:07.479261Z"
    }
   },
   "outputs": [],
   "source": [
    "# prepare arrays/lists for parameters/results\n",
    "radii = linspace(30, 50, 15)\n",
    "results = []\n",
    "\n",
    "# open FCStd Document as a context manager. The context manager makes sure\n",
    "# the file is closed again with certainty. Keep in mind that if the file is\n",
    "# open in another FreeCAD GUI, saving from the Gui will overwrite the file\n",
    "# and may leads to inconsistent file versions being seen by different \n",
    "# worker processes.\n",
    "with jupyter_utils.FreecadDocument() as f:\n",
    "\n",
    "  # setup progress tracking\n",
    "  jupyter_utils.setupProgressTracker(totalSimulations=len(radii))\n",
    "\n",
    "  # try different radii\n",
    "  for rad in radii:\n",
    "\n",
    "    # update radius and placement of both spheres that form the lens\n",
    "    f.Sphere001.Radius = rad\n",
    "    f.Sphere001.Placement.Base = [0, 0, -rad/1.9]\n",
    "    f.Sphere.Radius = rad\n",
    "    f.Sphere.Placement.Base = [0, 0, rad/1.9]\n",
    "\n",
    "    # run a simulation\n",
    "    results.append( f.runSimulation(simulationMode) )\n"
   ]
  },
  {
   "cell_type": "code",
   "execution_count": null,
   "metadata": {
    "execution": {
     "iopub.execute_input": "2025-02-28T13:40:07.480683Z",
     "iopub.status.busy": "2025-02-28T13:40:07.480586Z",
     "iopub.status.idle": "2025-02-28T13:40:07.483763Z",
     "shell.execute_reply": "2025-02-28T13:40:07.483560Z"
    }
   },
   "outputs": [],
   "source": [
    "# show list of the first ten results\n",
    "results[:10]"
   ]
  },
  {
   "cell_type": "code",
   "execution_count": null,
   "metadata": {
    "execution": {
     "iopub.execute_input": "2025-02-28T13:40:07.484814Z",
     "iopub.status.busy": "2025-02-28T13:40:07.484714Z",
     "iopub.status.idle": "2025-02-28T13:40:07.486995Z",
     "shell.execute_reply": "2025-02-28T13:40:07.486754Z"
    }
   },
   "outputs": [],
   "source": [
    "# print filesystem tree overview of first result file:\n",
    "results[0].printTree()"
   ]
  },
  {
   "cell_type": "markdown",
   "metadata": {},
   "source": [
    "# Create histograms and do Gauss fit for each histogram"
   ]
  },
  {
   "cell_type": "code",
   "execution_count": null,
   "metadata": {
    "execution": {
     "iopub.execute_input": "2025-02-28T13:40:07.488617Z",
     "iopub.status.busy": "2025-02-28T13:40:07.488419Z",
     "iopub.status.idle": "2025-02-28T13:40:07.491390Z",
     "shell.execute_reply": "2025-02-28T13:40:07.490601Z"
    }
   },
   "outputs": [],
   "source": [
    "gauss = lambda X, amp, x0, sigma: amp*exp(-(X-x0)**2/sigma**2)"
   ]
  },
  {
   "cell_type": "code",
   "execution_count": null,
   "metadata": {
    "execution": {
     "iopub.execute_input": "2025-02-28T13:40:07.492573Z",
     "iopub.status.busy": "2025-02-28T13:40:07.492459Z",
     "iopub.status.idle": "2025-02-28T13:40:07.748626Z",
     "shell.execute_reply": "2025-02-28T13:40:07.748263Z"
    }
   },
   "outputs": [],
   "source": [
    "sigmas, x0s, _Hs = [], [], []\n",
    "for r in results:\n",
    "  hits = r.loadHits('*')\n",
    "  hist = hits.histogram(bins=(300, 301))\n",
    "\n",
    "  #figure(figsize=(4,4))\n",
    "  #pcolormesh(X, Y, H.T)\n",
    "  #show()\n",
    "  \n",
    "  #figure(figsize=(4,4))\n",
    "  H, X = hist.hist, hist.binX\n",
    "  _H = H.sum(axis=1)\n",
    "  #plot(X, _H)\n",
    "  try:\n",
    "    (amp, x0, sigma), _ = scipy.optimize.curve_fit(gauss, X, _H, p0=(max(_H), 0, 1))\n",
    "  except Exception:\n",
    "    amp, x0, sigma = nan, nan, nan\n",
    "  #plot(X, gauss(X, amp, x0, sigma))\n",
    "  #show()\n",
    "\n",
    "  sigmas.append(sigma)\n",
    "  x0s.append(x0)\n",
    "  _Hs.append(_H)"
   ]
  },
  {
   "cell_type": "code",
   "execution_count": null,
   "metadata": {
    "execution": {
     "iopub.execute_input": "2025-02-28T13:40:07.750168Z",
     "iopub.status.busy": "2025-02-28T13:40:07.749846Z",
     "iopub.status.idle": "2025-02-28T13:40:07.751920Z",
     "shell.execute_reply": "2025-02-28T13:40:07.751640Z"
    }
   },
   "outputs": [],
   "source": [
    "sigmas, x0s, _Hs = [array(A) for A in (sigmas, x0s, _Hs)]"
   ]
  },
  {
   "cell_type": "code",
   "execution_count": null,
   "metadata": {
    "execution": {
     "iopub.execute_input": "2025-02-28T13:40:07.752903Z",
     "iopub.status.busy": "2025-02-28T13:40:07.752783Z",
     "iopub.status.idle": "2025-02-28T13:40:07.863160Z",
     "shell.execute_reply": "2025-02-28T13:40:07.862883Z"
    }
   },
   "outputs": [],
   "source": [
    "import matplotlib.colors as col\n",
    "_Hs = array(_Hs)\n",
    "pcolormesh(X[:-1], radii, _Hs, norm=col.Normalize(_Hs.min(), _Hs.max()/5, clip=True))\n",
    "xlabel('X coordinate')\n",
    "ylabel('lens radius')\n",
    "savefig('lens-optimizer-sweep-result-cmap.jpg')"
   ]
  },
  {
   "cell_type": "code",
   "execution_count": null,
   "metadata": {
    "execution": {
     "iopub.execute_input": "2025-02-28T13:40:07.864213Z",
     "iopub.status.busy": "2025-02-28T13:40:07.864101Z",
     "iopub.status.idle": "2025-02-28T13:40:08.021678Z",
     "shell.execute_reply": "2025-02-28T13:40:08.021212Z"
    }
   },
   "outputs": [],
   "source": [
    "plot(radii, sigmas)\n",
    "plot(radii, abs(x0s))\n",
    "xlabel('lens radius')\n",
    "ylabel('sigma (blue) and |x0| (orange)')\n",
    "semilogy()\n",
    "savefig('lens-optimizer-sweep-result-sigma-vs-radii.jpg')"
   ]
  },
  {
   "cell_type": "code",
   "execution_count": null,
   "metadata": {},
   "outputs": [],
   "source": []
  }
 ],
 "metadata": {},
 "nbformat": 4,
 "nbformat_minor": 2
}