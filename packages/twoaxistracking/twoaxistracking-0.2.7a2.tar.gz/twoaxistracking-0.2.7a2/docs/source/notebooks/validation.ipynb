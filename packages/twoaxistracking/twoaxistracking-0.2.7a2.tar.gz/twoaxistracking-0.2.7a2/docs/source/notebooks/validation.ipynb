{
 "cells": [
  {
   "cell_type": "markdown",
   "metadata": {},
   "source": [
    "# Validation\n",
    "\n",
    "This document shows how the shading calculations using the ``twoaxistracking`` package compare to existing methods found in the literature. Specifically, the annual shading loss is calculated for nine different field layouts and compared with the values presented in Cumpston and Pye (2014).\n",
    "\n",
    "Import necessary packages:"
   ]
  },
  {
   "cell_type": "code",
   "execution_count": 1,
   "metadata": {},
   "outputs": [],
   "source": [
    "import pandas as pd\n",
    "import numpy as np\n",
    "from shapely import geometry\n",
    "import twoaxistracking"
   ]
  },
  {
   "cell_type": "markdown",
   "metadata": {},
   "source": [
    "## Definition of collector geometry\n",
    "\n",
    "The study by Cumpston and Pye (2014) simulated shading for a circular aperture. The study made no distinction between gross and aperture area, i.e., the two geometries were assumed to be the same."
   ]
  },
  {
   "cell_type": "code",
   "execution_count": 2,
   "metadata": {},
   "outputs": [
    {
     "data": {
      "image/svg+xml": [
       "<svg xmlns=\"http://www.w3.org/2000/svg\" xmlns:xlink=\"http://www.w3.org/1999/xlink\" width=\"100.0\" height=\"100.0\" viewBox=\"-0.6093247502315768 -0.6093247502315768 1.2186495004631537 1.2186495004631537\" preserveAspectRatio=\"xMinYMin meet\"><g transform=\"matrix(1,0,0,-1,0,0.0)\"><path fill-rule=\"evenodd\" fill=\"#66cc99\" stroke=\"#555555\" stroke-width=\"0.024372990009263074\" opacity=\"0.6\" d=\"M 0.5641895835477563,0.0 L 0.5614728564942745,-0.055300249583076784 L 0.5533488389004679,-0.11006792753247706 L 0.539895769496805,-0.16377559117048995 L 0.5212432086958386,-0.21590600633668597 L 0.4975707908546091,-0.26595712863563087 L 0.4691064942975874,-0.3134469383988593 L 0.43612444576078485,-0.35791808279778053 L 0.3989422804014327,-0.3989422804014327 L 0.35791808279778053,-0.4361244457607848 L 0.31344693839885934,-0.4691064942975874 L 0.265957128635631,-0.49757079085460904 L 0.215906006336686,-0.5212432086958386 L 0.16377559117048995,-0.5398957694968051 L 0.11006792753247711,-0.5533488389004679 L 0.055300249583076874,-0.5614728564942744 L 3.4546648380201897e-17,-0.5641895835477563 L -0.055300249583076805,-0.5614728564942745 L -0.11006792753247703,-0.5533488389004679 L -0.16377559117048984,-0.5398957694968051 L -0.21590600633668594,-0.5212432086958386 L -0.2659571286356309,-0.4975707908546091 L -0.3134469383988591,-0.46910649429758744 L -0.3579180827977805,-0.4361244457607849 L -0.39894228040143265,-0.3989422804014327 L -0.43612444576078485,-0.35791808279778053 L -0.46910649429758744,-0.3134469383988593 L -0.49757079085460904,-0.265957128635631 L -0.5212432086958386,-0.21590600633668602 L -0.539895769496805,-0.16377559117048998 L -0.5533488389004679,-0.11006792753247727 L -0.5614728564942744,-0.05530024958307691 L -0.5641895835477563,-6.909329676040379e-17 L -0.5614728564942745,0.05530024958307678 L -0.5533488389004679,0.11006792753247713 L -0.5398957694968051,0.16377559117048981 L -0.5212432086958387,0.21590600633668589 L -0.4975707908546091,0.26595712863563087 L -0.4691064942975875,0.3134469383988591 L -0.4361244457607849,0.3579180827977804 L -0.39894228040143276,0.39894228040143265 L -0.3579180827977808,0.4361244457607847 L -0.3134469383988593,0.4691064942975874 L -0.265957128635631,0.49757079085460904 L -0.21590600633668627,0.5212432086958385 L -0.16377559117049,0.539895769496805 L -0.1100679275324773,0.5533488389004679 L -0.0553002495830767,0.5614728564942745 L -1.0363994514060568e-16,0.5641895835477563 L 0.05530024958307649,0.5614728564942745 L 0.1100679275324771,0.5533488389004679 L 0.1637755911704898,0.5398957694968051 L 0.21590600633668608,0.5212432086958385 L 0.26595712863563087,0.4975707908546091 L 0.31344693839885907,0.4691064942975875 L 0.35791808279778065,0.4361244457607848 L 0.3989422804014326,0.39894228040143276 L 0.43612444576078463,0.3579180827977808 L 0.4691064942975874,0.3134469383988593 L 0.497570790854609,0.26595712863563103 L 0.5212432086958385,0.2159060063366863 L 0.539895769496805,0.16377559117049004 L 0.5533488389004679,0.11006792753247734 L 0.5614728564942745,0.05530024958307673 L 0.5641895835477563,0.0 z\" /></g></svg>"
      ],
      "text/plain": [
       "<shapely.geometry.polygon.Polygon at 0x258c7b2fd88>"
      ]
     },
     "execution_count": 2,
     "metadata": {},
     "output_type": "execute_result"
    }
   ],
   "source": [
    "radius = np.sqrt(1/np.pi)  # radius for a circle with an area of 1\n",
    "collector_geometry = geometry.Point(0,0).buffer(radius)\n",
    "\n",
    "collector_geometry"
   ]
  },
  {
   "cell_type": "markdown",
   "metadata": {},
   "source": [
    "<br>\n",
    "\n",
    "## Reference dataset\n",
    "The simulations carried out in the reference study were based on the 1976 irradiance dataset from Barstow.\n",
    "\n",
    "A stringent quality-control of this dataset was carried out as described in the [Reference irradiance dataset](reference_dataset.ipynb) section. This step was necessary as the dataset contained several periods of erroneous data, e.g., irradiance at night and periods with unfeasible irradiance levels.\n",
    "\n",
    "Load the quality-controlled dataset:"
   ]
  },
  {
   "cell_type": "code",
   "execution_count": 3,
   "metadata": {
    "tags": [
     "hide-output"
    ]
   },
   "outputs": [
    {
     "data": {
      "text/html": [
       "<div>\n",
       "<style scoped>\n",
       "    .dataframe tbody tr th:only-of-type {\n",
       "        vertical-align: middle;\n",
       "    }\n",
       "\n",
       "    .dataframe tbody tr th {\n",
       "        vertical-align: top;\n",
       "    }\n",
       "\n",
       "    .dataframe thead th {\n",
       "        text-align: right;\n",
       "    }\n",
       "</style>\n",
       "<table border=\"1\" class=\"dataframe\">\n",
       "  <thead>\n",
       "    <tr style=\"text-align: right;\">\n",
       "      <th></th>\n",
       "      <th>ghi</th>\n",
       "      <th>dni</th>\n",
       "      <th>dhi_calc</th>\n",
       "      <th>temp_air</th>\n",
       "      <th>apparent_zenith</th>\n",
       "      <th>zenith</th>\n",
       "      <th>apparent_elevation</th>\n",
       "      <th>elevation</th>\n",
       "      <th>azimuth</th>\n",
       "      <th>dni_extra</th>\n",
       "    </tr>\n",
       "    <tr>\n",
       "      <th>time</th>\n",
       "      <th></th>\n",
       "      <th></th>\n",
       "      <th></th>\n",
       "      <th></th>\n",
       "      <th></th>\n",
       "      <th></th>\n",
       "      <th></th>\n",
       "      <th></th>\n",
       "      <th></th>\n",
       "      <th></th>\n",
       "    </tr>\n",
       "  </thead>\n",
       "  <tbody>\n",
       "    <tr>\n",
       "      <th>1976-01-01 00:15:00-08:00</th>\n",
       "      <td>0.88</td>\n",
       "      <td>0.94</td>\n",
       "      <td>0.88</td>\n",
       "      <td>-1.59</td>\n",
       "      <td>167.092519</td>\n",
       "      <td>167.092519</td>\n",
       "      <td>-77.092519</td>\n",
       "      <td>-77.092519</td>\n",
       "      <td>25.278534</td>\n",
       "      <td>1413.981805</td>\n",
       "    </tr>\n",
       "    <tr>\n",
       "      <th>1976-01-01 00:30:00-08:00</th>\n",
       "      <td>0.00</td>\n",
       "      <td>0.94</td>\n",
       "      <td>0.00</td>\n",
       "      <td>-1.94</td>\n",
       "      <td>165.467857</td>\n",
       "      <td>165.467857</td>\n",
       "      <td>-75.467857</td>\n",
       "      <td>-75.467857</td>\n",
       "      <td>38.153710</td>\n",
       "      <td>1413.981805</td>\n",
       "    </tr>\n",
       "    <tr>\n",
       "      <th>1976-01-01 00:45:00-08:00</th>\n",
       "      <td>0.88</td>\n",
       "      <td>1.88</td>\n",
       "      <td>0.88</td>\n",
       "      <td>-2.36</td>\n",
       "      <td>163.355080</td>\n",
       "      <td>163.355080</td>\n",
       "      <td>-73.355080</td>\n",
       "      <td>-73.355080</td>\n",
       "      <td>48.333521</td>\n",
       "      <td>1413.981805</td>\n",
       "    </tr>\n",
       "    <tr>\n",
       "      <th>1976-01-01 01:00:00-08:00</th>\n",
       "      <td>0.00</td>\n",
       "      <td>0.94</td>\n",
       "      <td>0.00</td>\n",
       "      <td>-2.50</td>\n",
       "      <td>160.917391</td>\n",
       "      <td>160.917391</td>\n",
       "      <td>-70.917391</td>\n",
       "      <td>-70.917391</td>\n",
       "      <td>56.311453</td>\n",
       "      <td>1413.981805</td>\n",
       "    </tr>\n",
       "    <tr>\n",
       "      <th>1976-01-01 01:15:00-08:00</th>\n",
       "      <td>0.88</td>\n",
       "      <td>0.00</td>\n",
       "      <td>0.88</td>\n",
       "      <td>-2.78</td>\n",
       "      <td>158.265917</td>\n",
       "      <td>158.265917</td>\n",
       "      <td>-68.265917</td>\n",
       "      <td>-68.265917</td>\n",
       "      <td>62.652770</td>\n",
       "      <td>1413.981805</td>\n",
       "    </tr>\n",
       "  </tbody>\n",
       "</table>\n",
       "</div>"
      ],
      "text/plain": [
       "                            ghi   dni  dhi_calc  temp_air  apparent_zenith  \\\n",
       "time                                                                         \n",
       "1976-01-01 00:15:00-08:00  0.88  0.94      0.88     -1.59       167.092519   \n",
       "1976-01-01 00:30:00-08:00  0.00  0.94      0.00     -1.94       165.467857   \n",
       "1976-01-01 00:45:00-08:00  0.88  1.88      0.88     -2.36       163.355080   \n",
       "1976-01-01 01:00:00-08:00  0.00  0.94      0.00     -2.50       160.917391   \n",
       "1976-01-01 01:15:00-08:00  0.88  0.00      0.88     -2.78       158.265917   \n",
       "\n",
       "                               zenith  apparent_elevation  elevation  \\\n",
       "time                                                                   \n",
       "1976-01-01 00:15:00-08:00  167.092519          -77.092519 -77.092519   \n",
       "1976-01-01 00:30:00-08:00  165.467857          -75.467857 -75.467857   \n",
       "1976-01-01 00:45:00-08:00  163.355080          -73.355080 -73.355080   \n",
       "1976-01-01 01:00:00-08:00  160.917391          -70.917391 -70.917391   \n",
       "1976-01-01 01:15:00-08:00  158.265917          -68.265917 -68.265917   \n",
       "\n",
       "                             azimuth    dni_extra  \n",
       "time                                               \n",
       "1976-01-01 00:15:00-08:00  25.278534  1413.981805  \n",
       "1976-01-01 00:30:00-08:00  38.153710  1413.981805  \n",
       "1976-01-01 00:45:00-08:00  48.333521  1413.981805  \n",
       "1976-01-01 01:00:00-08:00  56.311453  1413.981805  \n",
       "1976-01-01 01:15:00-08:00  62.652770  1413.981805  "
      ]
     },
     "execution_count": 3,
     "metadata": {},
     "output_type": "execute_result"
    }
   ],
   "source": [
    "filename = '../../../data/barstow_1976_irradiance_data_quality_controlled.csv'\n",
    "df = pd.read_csv(filename, index_col=0, parse_dates=[0])\n",
    "\n",
    "df.head()  # print the first five rows of the dataframe"
   ]
  },
  {
   "cell_type": "markdown",
   "metadata": {},
   "source": [
    "<br>\n",
    "\n",
    "Furthermore, it is important to note that the reference study only performed simulations \"for solar elevation angles greater than 10°\".\n",
    "\n",
    "Therefore, a new column of the direct normal irradiance (DNI) is derived where the irradiance below 10° elevation is set to zero."
   ]
  },
  {
   "cell_type": "code",
   "execution_count": 4,
   "metadata": {},
   "outputs": [],
   "source": [
    "df['dni>10deg'] = df.loc[df['elevation']>10, 'dni']\n",
    "df['dni>10deg'] = df['dni>10deg'].fillna(0)"
   ]
  },
  {
   "cell_type": "markdown",
   "metadata": {},
   "source": [
    "<br>\n",
    "\n",
    "## Field layouts\n",
    "\n",
    "Cumpston and Pye (2010) provided the annual shading loss (ASL) for nine different field layouts (GCR ranging from 0.1 to 0.9). The field layout parameters and their annual shading loss were:"
   ]
  },
  {
   "cell_type": "code",
   "execution_count": 5,
   "metadata": {
    "tags": [
     "hide-input"
    ]
   },
   "outputs": [
    {
     "data": {
      "text/html": [
       "<div>\n",
       "<style scoped>\n",
       "    .dataframe tbody tr th:only-of-type {\n",
       "        vertical-align: middle;\n",
       "    }\n",
       "\n",
       "    .dataframe tbody tr th {\n",
       "        vertical-align: top;\n",
       "    }\n",
       "\n",
       "    .dataframe thead th {\n",
       "        text-align: right;\n",
       "    }\n",
       "</style>\n",
       "<table border=\"1\" class=\"dataframe\">\n",
       "  <thead>\n",
       "    <tr style=\"text-align: right;\">\n",
       "      <th></th>\n",
       "      <th>gcr</th>\n",
       "      <th>aspect_ratio</th>\n",
       "      <th>rotation</th>\n",
       "      <th>offset</th>\n",
       "      <th>asl_cumpston</th>\n",
       "    </tr>\n",
       "  </thead>\n",
       "  <tbody>\n",
       "    <tr>\n",
       "      <th>0</th>\n",
       "      <td>0.1</td>\n",
       "      <td>2.30</td>\n",
       "      <td>0.0</td>\n",
       "      <td>0.0</td>\n",
       "      <td>0.04</td>\n",
       "    </tr>\n",
       "    <tr>\n",
       "      <th>1</th>\n",
       "      <td>0.2</td>\n",
       "      <td>1.61</td>\n",
       "      <td>0.0</td>\n",
       "      <td>0.0</td>\n",
       "      <td>1.53</td>\n",
       "    </tr>\n",
       "    <tr>\n",
       "      <th>2</th>\n",
       "      <td>0.3</td>\n",
       "      <td>1.11</td>\n",
       "      <td>1.0</td>\n",
       "      <td>-0.5</td>\n",
       "      <td>4.50</td>\n",
       "    </tr>\n",
       "    <tr>\n",
       "      <th>3</th>\n",
       "      <td>0.4</td>\n",
       "      <td>1.00</td>\n",
       "      <td>0.0</td>\n",
       "      <td>-0.5</td>\n",
       "      <td>8.14</td>\n",
       "    </tr>\n",
       "    <tr>\n",
       "      <th>4</th>\n",
       "      <td>0.5</td>\n",
       "      <td>0.87</td>\n",
       "      <td>0.0</td>\n",
       "      <td>-0.5</td>\n",
       "      <td>12.40</td>\n",
       "    </tr>\n",
       "    <tr>\n",
       "      <th>5</th>\n",
       "      <td>0.6</td>\n",
       "      <td>0.87</td>\n",
       "      <td>0.0</td>\n",
       "      <td>-0.5</td>\n",
       "      <td>17.20</td>\n",
       "    </tr>\n",
       "    <tr>\n",
       "      <th>6</th>\n",
       "      <td>0.7</td>\n",
       "      <td>0.87</td>\n",
       "      <td>0.0</td>\n",
       "      <td>-0.5</td>\n",
       "      <td>22.30</td>\n",
       "    </tr>\n",
       "    <tr>\n",
       "      <th>7</th>\n",
       "      <td>0.8</td>\n",
       "      <td>0.87</td>\n",
       "      <td>89.0</td>\n",
       "      <td>-0.5</td>\n",
       "      <td>27.60</td>\n",
       "    </tr>\n",
       "    <tr>\n",
       "      <th>8</th>\n",
       "      <td>0.9</td>\n",
       "      <td>0.87</td>\n",
       "      <td>167.0</td>\n",
       "      <td>-0.5</td>\n",
       "      <td>33.10</td>\n",
       "    </tr>\n",
       "  </tbody>\n",
       "</table>\n",
       "</div>"
      ],
      "text/plain": [
       "   gcr  aspect_ratio  rotation  offset  asl_cumpston\n",
       "0  0.1          2.30       0.0     0.0          0.04\n",
       "1  0.2          1.61       0.0     0.0          1.53\n",
       "2  0.3          1.11       1.0    -0.5          4.50\n",
       "3  0.4          1.00       0.0    -0.5          8.14\n",
       "4  0.5          0.87       0.0    -0.5         12.40\n",
       "5  0.6          0.87       0.0    -0.5         17.20\n",
       "6  0.7          0.87       0.0    -0.5         22.30\n",
       "7  0.8          0.87      89.0    -0.5         27.60\n",
       "8  0.9          0.87     167.0    -0.5         33.10"
      ]
     },
     "execution_count": 5,
     "metadata": {},
     "output_type": "execute_result"
    }
   ],
   "source": [
    "dfc = pd.DataFrame(\n",
    "    columns=['gcr', 'aspect_ratio', 'rotation', 'offset', 'asl_cumpston'],\n",
    "    data=[\n",
    "        [0.1, 2.3, 0.0, 0.0, 0.04],\n",
    "        [0.2, 1.61, 0.0, 0.0, 1.53],\n",
    "        [0.3, 1.11, 1.0, -0.5, 4.50],\n",
    "        [0.4, 1.0, 0.0, -0.5, 8.14],\n",
    "        [0.5, np.sqrt(3)/2, 0.0, -0.5, 12.4],\n",
    "        [0.6, np.sqrt(3)/2, 0.0, -0.5, 17.2],\n",
    "        [0.7, np.sqrt(3)/2, 0.0, -0.5, 22.3],\n",
    "        [0.8, np.sqrt(3)/2, 89.0, -0.5, 27.6],\n",
    "        [0.9, np.sqrt(3)/2, 167.0, -0.5, 33.1]])\n",
    "\n",
    "dfc.round(2)"
   ]
  },
  {
   "cell_type": "markdown",
   "metadata": {},
   "source": [
    "<br>\n",
    "\n",
    "For comparison the annual shading loss for the nine field layouts were therefore calculated using the `twoaxistracking` package:"
   ]
  },
  {
   "cell_type": "code",
   "execution_count": 6,
   "metadata": {},
   "outputs": [
    {
     "name": "stderr",
     "output_type": "stream",
     "text": [
      "C:\\Users\\arajen\\Documents\\GitHub\\twoaxistracking\\twoaxistracking\\layout.py:176: RuntimeWarning: invalid value encountered in arcsin\n",
      "  (tracker_distance * np.cos(delta_gamma_rad)))) + relative_slope\n"
     ]
    }
   ],
   "source": [
    "field_parameters = ['gcr', 'aspect_ratio', 'rotation', 'offset']\n",
    "\n",
    "for index, (gcr, aspect_ratio, rotation, offset) in dfc[field_parameters].iterrows():\n",
    "    # Define the tracker field for each configuration\n",
    "    tracker_field = twoaxistracking.TrackerField(\n",
    "        total_collector_geometry=collector_geometry,\n",
    "        active_collector_geometry=collector_geometry,\n",
    "        neighbor_order=2,\n",
    "        gcr=gcr,\n",
    "        aspect_ratio=aspect_ratio,\n",
    "        rotation=rotation,\n",
    "        offset=offset)\n",
    "    \n",
    "    # Calculate shaded fraction for each timestamp\n",
    "    df['shaded_fraction'] = tracker_field.get_shaded_fraction(df['elevation'], df['azimuth'])\n",
    "\n",
    "    # Calculate annual shading loss\n",
    "    dfc.loc[index, 'asl_twoaxistracking'] = (df['shaded_fraction'].multiply(df['dni>10deg'], axis='rows').sum() / \n",
    "        df['dni>10deg'].sum())*100"
   ]
  },
  {
   "cell_type": "markdown",
   "metadata": {},
   "source": [
    "<br>\n",
    "\n",
    "### Comparison of annual shading loss\n",
    "The annual shading loss (ASL) presented in Cumpston and Pye (2014) and those calculated using the `twoaxistracking` package are shown below. The deviations between the shading fractions are presented both in absolute and relative terms."
   ]
  },
  {
   "cell_type": "code",
   "execution_count": 10,
   "metadata": {
    "tags": [
     "hide-input"
    ]
   },
   "outputs": [
    {
     "data": {
      "text/html": [
       "<div>\n",
       "<style scoped>\n",
       "    .dataframe tbody tr th:only-of-type {\n",
       "        vertical-align: middle;\n",
       "    }\n",
       "\n",
       "    .dataframe tbody tr th {\n",
       "        vertical-align: top;\n",
       "    }\n",
       "\n",
       "    .dataframe thead th {\n",
       "        text-align: right;\n",
       "    }\n",
       "</style>\n",
       "<table border=\"1\" class=\"dataframe\">\n",
       "  <thead>\n",
       "    <tr style=\"text-align: right;\">\n",
       "      <th></th>\n",
       "      <th>asl_cumpston</th>\n",
       "      <th>asl_twoaxistracking</th>\n",
       "      <th>absolute_deviation</th>\n",
       "      <th>relative_deviation</th>\n",
       "    </tr>\n",
       "    <tr>\n",
       "      <th>gcr</th>\n",
       "      <th></th>\n",
       "      <th></th>\n",
       "      <th></th>\n",
       "      <th></th>\n",
       "    </tr>\n",
       "  </thead>\n",
       "  <tbody>\n",
       "    <tr>\n",
       "      <th>0.1</th>\n",
       "      <td>0.04 %</td>\n",
       "      <td>0.04 %</td>\n",
       "      <td>0.00 %</td>\n",
       "      <td>0.00 %</td>\n",
       "    </tr>\n",
       "    <tr>\n",
       "      <th>0.2</th>\n",
       "      <td>1.53 %</td>\n",
       "      <td>1.51 %</td>\n",
       "      <td>-0.02 %</td>\n",
       "      <td>-1.31 %</td>\n",
       "    </tr>\n",
       "    <tr>\n",
       "      <th>0.3</th>\n",
       "      <td>4.50 %</td>\n",
       "      <td>4.49 %</td>\n",
       "      <td>-0.01 %</td>\n",
       "      <td>-0.22 %</td>\n",
       "    </tr>\n",
       "    <tr>\n",
       "      <th>0.4</th>\n",
       "      <td>8.14 %</td>\n",
       "      <td>8.09 %</td>\n",
       "      <td>-0.05 %</td>\n",
       "      <td>-0.61 %</td>\n",
       "    </tr>\n",
       "    <tr>\n",
       "      <th>0.5</th>\n",
       "      <td>12.40 %</td>\n",
       "      <td>12.30 %</td>\n",
       "      <td>-0.10 %</td>\n",
       "      <td>-0.81 %</td>\n",
       "    </tr>\n",
       "    <tr>\n",
       "      <th>0.6</th>\n",
       "      <td>17.20 %</td>\n",
       "      <td>17.10 %</td>\n",
       "      <td>-0.10 %</td>\n",
       "      <td>-0.58 %</td>\n",
       "    </tr>\n",
       "    <tr>\n",
       "      <th>0.7</th>\n",
       "      <td>22.30 %</td>\n",
       "      <td>22.20 %</td>\n",
       "      <td>-0.10 %</td>\n",
       "      <td>-0.45 %</td>\n",
       "    </tr>\n",
       "    <tr>\n",
       "      <th>0.8</th>\n",
       "      <td>27.60 %</td>\n",
       "      <td>27.40 %</td>\n",
       "      <td>-0.20 %</td>\n",
       "      <td>-0.72 %</td>\n",
       "    </tr>\n",
       "    <tr>\n",
       "      <th>0.9</th>\n",
       "      <td>33.10 %</td>\n",
       "      <td>32.90 %</td>\n",
       "      <td>-0.20 %</td>\n",
       "      <td>-0.60 %</td>\n",
       "    </tr>\n",
       "  </tbody>\n",
       "</table>\n",
       "</div>"
      ],
      "text/plain": [
       "    asl_cumpston asl_twoaxistracking absolute_deviation relative_deviation\n",
       "gcr                                                                       \n",
       "0.1       0.04 %              0.04 %             0.00 %             0.00 %\n",
       "0.2       1.53 %              1.51 %            -0.02 %            -1.31 %\n",
       "0.3       4.50 %              4.49 %            -0.01 %            -0.22 %\n",
       "0.4       8.14 %              8.09 %            -0.05 %            -0.61 %\n",
       "0.5      12.40 %             12.30 %            -0.10 %            -0.81 %\n",
       "0.6      17.20 %             17.10 %            -0.10 %            -0.58 %\n",
       "0.7      22.30 %             22.20 %            -0.10 %            -0.45 %\n",
       "0.8      27.60 %             27.40 %            -0.20 %            -0.72 %\n",
       "0.9      33.10 %             32.90 %            -0.20 %            -0.60 %"
      ]
     },
     "execution_count": 10,
     "metadata": {},
     "output_type": "execute_result"
    }
   ],
   "source": [
    "# Limit asl_twoaxistracking to three significant figures and two decimal places\n",
    "dfc['asl_twoaxistracking'] = dfc['asl_twoaxistracking'].\\\n",
    "    apply(lambda s: f\"{s:.3g}\").astype(float).round(2)\n",
    "# Calculate absolute and relatieve deviation\n",
    "dfc['absolute_deviation'] = (dfc['asl_twoaxistracking'] - dfc['asl_cumpston'])\n",
    "dfc['relative_deviation'] = (dfc['asl_twoaxistracking'] - dfc['asl_cumpston']).\\\n",
    "    divide(dfc['asl_cumpston']).multiply(100)\n",
    "\n",
    "result_columns = ['asl_cumpston', 'asl_twoaxistracking', 'absolute_deviation', 'relative_deviation']\n",
    "dfc.set_index('gcr')[result_columns].round(2).map(lambda s: f\"{s:.2f} %\")"
   ]
  },
  {
   "cell_type": "markdown",
   "metadata": {},
   "source": [
    "The comparison above shows that the differences between the annual shading losses are very low (always lower than 1.3%). The discrepancies are believed to be due to minor differences in the quality control procedure applied to reference data.\n",
    "\n",
    "The reference study (Cumpston and Pye, 2014) utilized the shading calculation algorithm developed by Meller (2010). Meller's algorithm has previously been compared to results from Pons & Dugan (1984)."
   ]
  },
  {
   "cell_type": "markdown",
   "metadata": {},
   "source": [
    "## References\n",
    "\n",
    "[Cumpston, J. and Pye, J., 2014. Shading and land use in regularly-spaced sun-tracking collectors. Sol. Energy 108, 199–209.](https://doi.org/10.1016/j.solener.2014.06.012)\n",
    "\n",
    "[Meller, Y., 2010. Analytically calculating shading in regular arrays of sun-pointing collectors. Sol. Energy 84, 1967–1974. ](https://doi.org/10.1016/j.solener.2010.08.006)\n",
    "\n",
    "[Pons, R.L., Dugan, A.F., 1984. The effect of concentrator field layout on the performance of point-focus distributed receiver systems. J. Sol. Energy Eng. Trans. ASME 106, 35–38.](https://doi.org/10.1115/1.3267559)"
   ]
  },
  {
   "cell_type": "code",
   "execution_count": null,
   "metadata": {},
   "outputs": [],
   "source": []
  }
 ],
 "metadata": {
  "kernelspec": {
   "display_name": "Python 3 (ipykernel)",
   "language": "python",
   "name": "python3"
  },
  "language_info": {
   "codemirror_mode": {
    "name": "ipython",
    "version": 3
   },
   "file_extension": ".py",
   "mimetype": "text/x-python",
   "name": "python",
   "nbconvert_exporter": "python",
   "pygments_lexer": "ipython3",
   "version": "3.7.12"
  },
  "mystnb": {
   "execution_timeout": 120
  }
 },
 "nbformat": 4,
 "nbformat_minor": 4
}
