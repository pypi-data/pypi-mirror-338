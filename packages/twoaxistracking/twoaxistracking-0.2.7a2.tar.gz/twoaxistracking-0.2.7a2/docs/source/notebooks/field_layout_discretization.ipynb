{
 "cells": [
  {
   "cell_type": "markdown",
   "metadata": {},
   "source": [
    "# Field layout discretization\n",
    "\n",
    "This notebook demonstrates how to uniformly discretize the field layout parameters.\n",
    "\n",
    "Import necessary packages:"
   ]
  },
  {
   "cell_type": "code",
   "execution_count": 1,
   "metadata": {},
   "outputs": [],
   "source": [
    "import pandas as pd\n",
    "import numpy as np\n",
    "import matplotlib.pyplot as plt\n",
    "# The following libraries are not standard and have to be installed separately.\n",
    "# It is recommended to install shapely using conda.\n",
    "import pvlib\n",
    "from shapely import geometry"
   ]
  },
  {
   "cell_type": "markdown",
   "metadata": {},
   "source": [
    "## Define collector aperture area\n",
    "\n",
    "First, it is necessary to define the collector aperture, as this determines the feasible range of ground cover ratios and aspect ratios. \n",
    "\n",
    "This example will be based on a square collector aperture, as defined below (other geometries are easily defined using shapely):"
   ]
  },
  {
   "cell_type": "code",
   "execution_count": 2,
   "metadata": {},
   "outputs": [
    {
     "name": "stdout",
     "output_type": "stream",
     "text": [
      "Collector area: 1.0\n",
      "Collector L_min: 1.41\n"
     ]
    },
    {
     "data": {
      "image/svg+xml": [
       "<svg xmlns=\"http://www.w3.org/2000/svg\" xmlns:xlink=\"http://www.w3.org/1999/xlink\" width=\"100.0\" height=\"100.0\" viewBox=\"-0.54 -0.54 1.08 1.08\" preserveAspectRatio=\"xMinYMin meet\"><g transform=\"matrix(1,0,0,-1,0,0.0)\"><path fill-rule=\"evenodd\" fill=\"#66cc99\" stroke=\"#555555\" stroke-width=\"0.0216\" opacity=\"0.6\" d=\"M 0.5,-0.5 L 0.5,0.5 L -0.5,0.5 L -0.5,-0.5 L 0.5,-0.5 z\" /></g></svg>"
      ],
      "text/plain": [
       "<shapely.geometry.polygon.Polygon at 0x24f35d4cee0>"
      ]
     },
     "execution_count": 2,
     "metadata": {},
     "output_type": "execute_result"
    }
   ],
   "source": [
    "# Definition of aperture geometry using shapely\n",
    "collector_geometry = geometry.box(-0.5, -0.5, 0.5, 0.5)\n",
    "collector_area = collector_geometry.area\n",
    "\n",
    "# Calculate the minimum distance between trackers (L_min) - also called D_min\n",
    "L_min = 2*collector_geometry.hausdorff_distance(geometry.Point(0, 0))\n",
    "\n",
    "print(\"Collector area: %2.1f\"% collector_area)\n",
    "print(\"Collector L_min: %1.2f\"% L_min)\n",
    "collector_geometry"
   ]
  },
  {
   "cell_type": "markdown",
   "metadata": {},
   "source": [
    "## Determine discrete simulation layouts\n",
    "The second step is to define the discrete GCRs to simulate and the step size for the discretization of the aspect ratios, offsets, and rotations.\n",
    "\n",
    "The discretization assumes that the parameters are simulated for the entire range, i.e., aspect ratios: [0.866, GCR<sub> max</sub> ], rotations: [0, 180), and offsets: [-0.5, 0.5]."
   ]
  },
  {
   "cell_type": "code",
   "execution_count": 3,
   "metadata": {},
   "outputs": [],
   "source": [
    "# Determine range of gcrs\n",
    "gcr_step = 0.05\n",
    "gcr_start = 0.1\n",
    "# The maximum GCR depends on the collector aperture geometry\n",
    "gcr_max = collector_area / (L_min**2 * np.sqrt(1-(-0.5)**2))\n",
    "gcrs = np.round(np.hstack([np.arange(gcr_start, gcr_max, gcr_step), gcr_max]), 3)\n",
    "\n",
    "# Determine step size for discretization of the aspect ratio, offset, and rotation\n",
    "aspect_ratio_step = 0.05\n",
    "offset_step = 0.05\n",
    "rotation_step = 5\n",
    "\n",
    "# Calculate discrete rotations and offsets\n",
    "rotations = np.arange(0, 180, rotation_step)\n",
    "offsets = np.arange(-0.5, 0.5+offset_step, offset_step)"
   ]
  },
  {
   "cell_type": "markdown",
   "metadata": {},
   "source": [
    "<br>\n",
    "\n",
    "Generate a dataframe of unique feasible discrete layouts:"
   ]
  },
  {
   "cell_type": "code",
   "execution_count": 4,
   "metadata": {},
   "outputs": [
    {
     "name": "stdout",
     "output_type": "stream",
     "text": [
      "Number of unique layouts: 174960\n"
     ]
    },
    {
     "data": {
      "text/html": [
       "<div>\n",
       "<style scoped>\n",
       "    .dataframe tbody tr th:only-of-type {\n",
       "        vertical-align: middle;\n",
       "    }\n",
       "\n",
       "    .dataframe tbody tr th {\n",
       "        vertical-align: top;\n",
       "    }\n",
       "\n",
       "    .dataframe thead th {\n",
       "        text-align: right;\n",
       "    }\n",
       "</style>\n",
       "<table border=\"1\" class=\"dataframe\">\n",
       "  <thead>\n",
       "    <tr style=\"text-align: right;\">\n",
       "      <th></th>\n",
       "      <th>gcr</th>\n",
       "      <th>aspect_ratio</th>\n",
       "      <th>offset</th>\n",
       "      <th>rotation</th>\n",
       "    </tr>\n",
       "  </thead>\n",
       "  <tbody>\n",
       "    <tr>\n",
       "      <th>0</th>\n",
       "      <td>0.1</td>\n",
       "      <td>0.866025</td>\n",
       "      <td>-0.5</td>\n",
       "      <td>0</td>\n",
       "    </tr>\n",
       "    <tr>\n",
       "      <th>1</th>\n",
       "      <td>0.1</td>\n",
       "      <td>0.900000</td>\n",
       "      <td>-0.5</td>\n",
       "      <td>0</td>\n",
       "    </tr>\n",
       "    <tr>\n",
       "      <th>2</th>\n",
       "      <td>0.1</td>\n",
       "      <td>0.950000</td>\n",
       "      <td>-0.5</td>\n",
       "      <td>0</td>\n",
       "    </tr>\n",
       "    <tr>\n",
       "      <th>3</th>\n",
       "      <td>0.1</td>\n",
       "      <td>1.000000</td>\n",
       "      <td>-0.5</td>\n",
       "      <td>0</td>\n",
       "    </tr>\n",
       "    <tr>\n",
       "      <th>4</th>\n",
       "      <td>0.1</td>\n",
       "      <td>1.050000</td>\n",
       "      <td>-0.5</td>\n",
       "      <td>0</td>\n",
       "    </tr>\n",
       "  </tbody>\n",
       "</table>\n",
       "</div>"
      ],
      "text/plain": [
       "   gcr  aspect_ratio  offset  rotation\n",
       "0  0.1      0.866025    -0.5         0\n",
       "1  0.1      0.900000    -0.5         0\n",
       "2  0.1      0.950000    -0.5         0\n",
       "3  0.1      1.000000    -0.5         0\n",
       "4  0.1      1.050000    -0.5         0"
      ]
     },
     "execution_count": 4,
     "metadata": {},
     "output_type": "execute_result"
    }
   ],
   "source": [
    "parameters = []\n",
    "for gcr in gcrs:\n",
    "    for offset in offsets:\n",
    "        for rotation in rotations:\n",
    "            aspect_ratio_max = collector_area/(gcr*L_min**2)\n",
    "            aspect_ratio_min = np.sqrt(1-offset**2)\n",
    "            aspect_ratio_start = np.ceil(aspect_ratio_min/aspect_ratio_step)*aspect_ratio_step\n",
    "            aspect_ratios = np.hstack(\n",
    "                [aspect_ratio_min,\n",
    "                 np.arange(aspect_ratio_start, aspect_ratio_max, aspect_ratio_step),\n",
    "                 aspect_ratio_max\n",
    "                 ])\n",
    "            # Remove duplicate values when aspect_ratio_min==1\n",
    "            aspect_ratios = np.unique(aspect_ratios)\n",
    "            for aspect_ratio in aspect_ratios:\n",
    "                if gcr <= collector_area / (L_min**2 * np.sqrt(1-offset**2)):\n",
    "                    parameters.append([gcr, aspect_ratio, offset, rotation])\n",
    "\n",
    "layouts = pd.DataFrame(parameters,\n",
    "                       columns=['gcr', 'aspect_ratio', 'offset', 'rotation'])\n",
    "\n",
    "print(f\"Number of unique layouts: {layouts.shape[0]}\")\n",
    "layouts.head()"
   ]
  },
  {
   "cell_type": "markdown",
   "metadata": {},
   "source": [
    "## Visualization of layout discretization\n",
    "The following plot illustrates the discrete aspect ratios and offsets for GCR=0.2 and GCR=0.3. Note, each point shown is simulated for the all discrete rotations."
   ]
  },
  {
   "cell_type": "code",
   "execution_count": 5,
   "metadata": {
    "tags": [
     "hide-input"
    ]
   },
   "outputs": [
    {
     "data": {
      "image/png": "[encoded data removed]",
      "text/plain": [
       "<Figure size 288x288 with 2 Axes>"
      ]
     },
     "metadata": {
      "needs_background": "light"
     },
     "output_type": "display_data"
    }
   ],
   "source": [
    "gcrs_subset = np.array([0.2, 0.3])\n",
    "\n",
    "fig, axes = plt.subplots(ncols=len(gcrs_subset), figsize=(4,4), sharey=True)\n",
    "axes[0].set_yticks(np.arange(0.8, 10, 0.2))\n",
    "\n",
    "for i, gcr in enumerate(gcrs_subset):\n",
    "    layouts[(layouts['gcr'] == gcr)].plot.scatter( #  & (layouts['offset']<0.5-0.00001)\n",
    "        ax=axes[i], x='offset', y='aspect_ratio', s=1, c='k',\n",
    "        legend=False, zorder=2)\n",
    "\n",
    "    axes[i].set_xlabel('Offset')\n",
    "    axes[i].set_title(\"GCR: %1.2f\" % gcr)\n",
    "    axes[i].set_xticks([-0.5, 0, 0.5])\n",
    "    axes[i].set_xlim([-0.6, 0.6])\n",
    "    axes[i].set_ylim([0.8, 2.2])\n",
    "    axes[i].tick_params(axis='both', which='major')\n",
    "    x_vals = np.linspace(-0.5, 0.5, 100)\n",
    "    aspect_ratio_max = collector_area/(gcr*L_min**2)\n",
    "    axes[i].fill_between(x_vals, np.sqrt(1-x_vals**2), aspect_ratio_max, facecolor='b', alpha=0.2)\n",
    "axes[0].set_ylabel('Aspect ratio')\n",
    "\n",
    "fig.tight_layout()"
   ]
  }
 ],
 "metadata": {
  "kernelspec": {
   "display_name": "Python 3 (ipykernel)",
   "language": "python",
   "name": "python3"
  },
  "language_info": {
   "codemirror_mode": {
    "name": "ipython",
    "version": 3
   },
   "file_extension": ".py",
   "mimetype": "text/x-python",
   "name": "python",
   "nbconvert_exporter": "python",
   "pygments_lexer": "ipython3",
   "version": "3.7.12"
  }
 },
 "nbformat": 4,
 "nbformat_minor": 4
}
