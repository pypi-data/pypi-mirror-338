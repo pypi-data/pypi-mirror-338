{
 "cells": [
  {
   "cell_type": "markdown",
   "metadata": {},
   "source": [
    "# Iterative Lattice Analysis Example"
   ]
  },
  {
   "cell_type": "markdown",
   "metadata": {},
   "source": [
    "Install with `pip install iterative-lattice-analysis`\n",
    "\n",
    "`setup_and_execute_iteration_method` from the `iteration_functions` module is the main method for using the iterative method on any python function that represents the one turn map."
   ]
  },
  {
   "cell_type": "markdown",
   "metadata": {},
   "source": [
    "A one turn map can be create from a madx sequence with `create-ptc-files` from the `madx-ptc-utils` package. From the example directory run the following command."
   ]
  },
  {
   "cell_type": "markdown",
   "metadata": {},
   "source": [
    "`$ create-ptc-files example.madx --ptc-order 10 --ptc-dim 4`"
   ]
  },
  {
   "cell_type": "markdown",
   "metadata": {},
   "source": [
    "A folder called \"out\" will be created with another folder \"example\" inside. This is to prevent overwriting of other lattices."
   ]
  },
  {
   "cell_type": "code",
   "execution_count": null,
   "metadata": {},
   "outputs": [],
   "source": [
    "from madx_ptc_utils.python_from_ptc import python_from_ptc\n",
    "import numpy as np\n",
    "import sympy\n",
    "import pathlib\n",
    "import matplotlib.pyplot as plt\n",
    "from iterative_lattice_analysis.iteration_functions import (\n",
    "    setup_and_execute_iteration_method,\n",
    ")\n",
    "\n",
    "%matplotlib widget"
   ]
  },
  {
   "cell_type": "markdown",
   "metadata": {},
   "source": [
    "## Lattice Parameters"
   ]
  },
  {
   "cell_type": "code",
   "execution_count": null,
   "metadata": {},
   "outputs": [],
   "source": [
    "dim = 2  # Spacial dimension, i.e. 4-D phase space\n",
    "order = 3  # Order of the square matrix treatment on the coordinates\n",
    "res = None  # Any nearby resonances to avoid ex: [1, 2] is for Qx + 2Qy = l where l is an integer\n",
    "x_range = (-0.035, 0.030)  # Range of the x coordinates\n",
    "y_range = (0, 0.013)  # Range of the y coordinates\n",
    "npos = (150, 100)  # Number of points in the x and y coordinates\n",
    "nangle = int(2**4)  # Number of angles to consider when sampling each initial condition\n",
    "niters = 20  # Number of iterations to perform for the iterative method\n",
    "cores = 32  # Number of cores to use for the parallel computation\n",
    "\n",
    "# Folder to save the results of the iteration method\n",
    "results_folder = pathlib.Path(\"./iteration-results/\")"
   ]
  },
  {
   "cell_type": "markdown",
   "metadata": {},
   "source": [
    "You can import the one turn map directly as a python object by passing the folder into the `python_from_ptc` function from the `madx-ptc-utils` package."
   ]
  },
  {
   "cell_type": "code",
   "execution_count": null,
   "metadata": {},
   "outputs": [],
   "source": [
    "# Folder with the PTC files i.e. the output of `create-ptc-files` function\n",
    "function_folder = pathlib.Path(\"./out/example\")\n",
    "\n",
    "func = python_from_ptc(function_folder)\n",
    "\n",
    "x, px, y, py = sympy.symbols(\"x p_x y p_y\")\n",
    "\n",
    "nx, npx, ny, npy = func(x, px, y, py)\n",
    "\n",
    "display(nx)"
   ]
  },
  {
   "cell_type": "markdown",
   "metadata": {},
   "source": [
    "But you could also pass the folder into the iteration method instead of a python function."
   ]
  },
  {
   "cell_type": "code",
   "execution_count": null,
   "metadata": {},
   "outputs": [],
   "source": [
    "setup_and_execute_iteration_method(\n",
    "    dim=dim,\n",
    "    order=order,\n",
    "    res=res,\n",
    "    x_range=x_range,\n",
    "    y_range=y_range,\n",
    "    number_position_samples=npos,\n",
    "    number_angle_samples=nangle,\n",
    "    number_iterations=niters,\n",
    "    function=function_folder,  # Takes the folder with the PTC files or a function\n",
    "    results_folder=results_folder,\n",
    "    newton_inverse=True,  # Use numerical inverse for the square matrix\n",
    "    cores=cores,\n",
    ")"
   ]
  },
  {
   "cell_type": "markdown",
   "metadata": {},
   "source": [
    "Load the data found in the results folder"
   ]
  },
  {
   "cell_type": "code",
   "execution_count": null,
   "metadata": {},
   "outputs": [],
   "source": [
    "U = np.loadtxt(results_folder / \"U.txt\", dtype=np.complex128)\n",
    "linear_tunes = np.loadtxt(results_folder / \"linear_tunes.txt\", dtype=np.float64)\n",
    "xiniarr = np.loadtxt(results_folder / \"xini.txt\", dtype=np.float64)\n",
    "yiniarr = np.loadtxt(results_folder / \"yini.txt\", dtype=np.float64)\n",
    "freq_results = np.loadtxt(results_folder / \"freq.txt\", dtype=np.float64)\n",
    "error_results = np.loadtxt(results_folder / \"error.txt\", dtype=np.float64)\n",
    "tune_results = freq_results / (2 * np.pi)"
   ]
  },
  {
   "cell_type": "markdown",
   "metadata": {},
   "source": [
    "Plot the data"
   ]
  },
  {
   "cell_type": "code",
   "execution_count": null,
   "metadata": {},
   "outputs": [],
   "source": [
    "fig, ax = plt.subplots()\n",
    "\n",
    "ax.set_title(\"Convergence Map\")\n",
    "ax.set_xlabel(r\"$x$\")\n",
    "ax.set_ylabel(r\"$y$\")\n",
    "\n",
    "error_exponent = np.log10(error_results + 1e-16)\n",
    "colorbar_label = r\"$\\min (\\log_{10} {(||{W_{n+1} - W_n}||+10^{-16})})$\"\n",
    "\n",
    "im = ax.scatter(\n",
    "    xiniarr,\n",
    "    yiniarr,\n",
    "    c=error_exponent,\n",
    "    s=7,\n",
    "    marker=\"s\",\n",
    "    cmap=\"jet\",\n",
    "    vmax=np.nanmax(error_exponent),\n",
    "    vmin=np.nanmin(error_exponent),\n",
    ")\n",
    "\n",
    "\n",
    "fig.colorbar(im, ax=ax, label=colorbar_label)\n",
    "fig.savefig(results_folder / \"convergence-map.png\", dpi=300)\n",
    "\n",
    "print(\"Max error:\", np.nanmax(error_results))\n",
    "print(\"Min error:\", np.nanmin(error_results))"
   ]
  },
  {
   "cell_type": "code",
   "execution_count": null,
   "metadata": {},
   "outputs": [],
   "source": [
    "fig, ax = plt.subplots()\n",
    "\n",
    "ax.set_title(\"Convergence Map Tune Space\")\n",
    "ax.set_xlabel(\"$Q_x$\")\n",
    "ax.set_ylabel(\"$Q_y$\")\n",
    "\n",
    "im = ax.scatter(\n",
    "    tune_results[:, 0],\n",
    "    tune_results[:, 1],\n",
    "    c=error_exponent,\n",
    "    cmap=\"jet\",\n",
    "    vmax=np.nanmax(error_exponent),\n",
    "    vmin=np.nanmin(error_exponent),\n",
    "    s=10,\n",
    ")\n",
    "\n",
    "ax.plot(\n",
    "    *linear_tunes,\n",
    "    marker=\"x\",\n",
    "    label=\"linear tune\",\n",
    "    color=\"black\",\n",
    "    linestyle=\"None\",\n",
    "    markersize=10,\n",
    ")\n",
    "\n",
    "fig.legend()\n",
    "\n",
    "fig.colorbar(im, ax=ax, label=colorbar_label)\n",
    "\n",
    "fig.savefig(results_folder / \"convergence-map-tune-space.png\", dpi=300)"
   ]
  },
  {
   "cell_type": "code",
   "execution_count": null,
   "metadata": {},
   "outputs": [],
   "source": []
  }
 ],
 "metadata": {
  "kernelspec": {
   "display_name": "cuda-torch",
   "language": "python",
   "name": "python3"
  },
  "language_info": {
   "codemirror_mode": {
    "name": "ipython",
    "version": 3
   },
   "file_extension": ".py",
   "mimetype": "text/x-python",
   "name": "python",
   "nbconvert_exporter": "python",
   "pygments_lexer": "ipython3",
   "version": "3.10.12"
  }
 },
 "nbformat": 4,
 "nbformat_minor": 2
}
