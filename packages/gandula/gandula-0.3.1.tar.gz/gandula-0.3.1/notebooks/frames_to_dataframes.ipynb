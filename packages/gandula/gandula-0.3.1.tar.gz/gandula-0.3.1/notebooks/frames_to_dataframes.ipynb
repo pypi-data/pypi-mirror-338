{
 "cells": [
  {
   "cell_type": "code",
   "execution_count": null,
   "id": "initial_id",
   "metadata": {
    "ExecuteTime": {
     "end_time": "2024-10-19T05:05:44.769544Z",
     "start_time": "2024-10-19T05:05:44.764057Z"
    }
   },
   "outputs": [],
   "source": [
    "import gandula"
   ]
  },
  {
   "cell_type": "code",
   "execution_count": null,
   "id": "96a280122db09026",
   "metadata": {
    "ExecuteTime": {
     "end_time": "2024-10-19T05:07:17.669112Z",
     "start_time": "2024-10-19T05:05:50.475085Z"
    },
    "collapsed": false,
    "jupyter": {
     "outputs_hidden": false
    }
   },
   "outputs": [],
   "source": [
    "frames = gandula.get_frames(\n",
    "    '/Users/thiago/football/ufmg/gandula/_data/tracking/premier-league/23-24/',\n",
    "    13617,\n",
    ")"
   ]
  },
  {
   "cell_type": "code",
   "execution_count": null,
   "id": "5f0fa56169a9a02d",
   "metadata": {
    "ExecuteTime": {
     "end_time": "2024-10-19T05:07:26.205708Z",
     "start_time": "2024-10-19T05:07:17.690808Z"
    },
    "collapsed": false,
    "jupyter": {
     "outputs_hidden": false
    }
   },
   "outputs": [],
   "source": [
    "frames_df, players_df = gandula.export(frames, fmt='dataframe')"
   ]
  },
  {
   "cell_type": "code",
   "execution_count": null,
   "id": "cc8d3030-736c-452e-bfb7-57faf18dbd5d",
   "metadata": {},
   "outputs": [],
   "source": [
    "frames_df"
   ]
  },
  {
   "cell_type": "code",
   "execution_count": null,
   "id": "699dba0e-67c9-4144-ad54-c92045b5f0bd",
   "metadata": {},
   "outputs": [],
   "source": [
    "players_df"
   ]
  },
  {
   "cell_type": "code",
   "execution_count": null,
   "id": "d5692505-4a55-45a0-9bb0-f9b155519f06",
   "metadata": {},
   "outputs": [],
   "source": []
  }
 ],
 "metadata": {
  "kernelspec": {
   "display_name": "Python 3 (ipykernel)",
   "language": "python",
   "name": "python3"
  },
  "language_info": {
   "codemirror_mode": {
    "name": "ipython",
    "version": 3
   },
   "file_extension": ".py",
   "mimetype": "text/x-python",
   "name": "python",
   "nbconvert_exporter": "python",
   "pygments_lexer": "ipython3",
   "version": "3.12.1"
  }
 },
 "nbformat": 4,
 "nbformat_minor": 5
}
