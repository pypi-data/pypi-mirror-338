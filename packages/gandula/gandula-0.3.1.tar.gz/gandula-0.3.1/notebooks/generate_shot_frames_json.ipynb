{
 "cells": [
  {
   "cell_type": "code",
   "execution_count": 1,
   "id": "d911d4f2-6842-4d96-bb50-bad80730c8a9",
   "metadata": {},
   "outputs": [],
   "source": [
    "import gandula\n",
    "import tqdm\n",
    "from gandula.utils.frames import get_shot_frames"
   ]
  },
  {
   "cell_type": "code",
   "execution_count": 2,
   "id": "1eeb5cac",
   "metadata": {},
   "outputs": [],
   "source": [
    "import os"
   ]
  },
  {
   "cell_type": "code",
   "execution_count": 3,
   "id": "3e1793f9",
   "metadata": {},
   "outputs": [],
   "source": [
    "data_dir = os.getcwd() + '/_data'"
   ]
  },
  {
   "cell_type": "code",
   "execution_count": 4,
   "id": "7c2845da-6adc-4218-91c1-0400f645e819",
   "metadata": {},
   "outputs": [
    {
     "name": "stderr",
     "output_type": "stream",
     "text": [
      "  5%|▍         | 3/64 [05:58<2:03:13, 121.20s/it]"
     ]
    },
    {
     "name": "stdout",
     "output_type": "stream",
     "text": [
      "Player 2144 (pass) not found in frame 92653\n"
     ]
    },
    {
     "name": "stderr",
     "output_type": "stream",
     "text": [
      "  9%|▉         | 6/64 [16:11<3:05:50, 192.25s/it]"
     ]
    },
    {
     "name": "stdout",
     "output_type": "stream",
     "text": [
      "Player 1696 (target) not found in frame 143941\n",
      "Player 8341 (target) not found in frame 148938\n",
      "Player 8341 (receiver) not found in frame 148938\n",
      "Player 8341 (pass) not found in frame 149003\n",
      "Player 401 (target) not found in frame 156440\n",
      "Player 401 (pass) not found in frame 157557\n",
      "Player 401 (pass) not found in frame 157557\n",
      "Player 13863 (target) not found in frame 203088\n",
      "Player 8341 (target) not found in frame 212107\n",
      "Player 13866 (pass) not found in frame 212310\n"
     ]
    },
    {
     "name": "stderr",
     "output_type": "stream",
     "text": [
      " 12%|█▎        | 8/64 [23:54<3:18:23, 212.56s/it]"
     ]
    },
    {
     "name": "stdout",
     "output_type": "stream",
     "text": [
      "Player 8330 (failedIntervention) not found in frame 236039\n"
     ]
    },
    {
     "name": "stderr",
     "output_type": "stream",
     "text": [
      " 16%|█▌        | 10/64 [38:11<5:16:24, 351.56s/it]"
     ]
    },
    {
     "name": "stdout",
     "output_type": "stream",
     "text": [
      "Player 9820 (target) not found in frame 62168\n",
      "Player 9820 (target) not found in frame 62168\n",
      "Player 9820 (target) not found in frame 62168\n",
      "Player 9820 (target) not found in frame 62168\n",
      "Player 9820 (target) not found in frame 62168\n",
      "Player 9820 (target) not found in frame 62168\n",
      "Player 9820 (target) not found in frame 62168\n",
      "Player 9820 (target) not found in frame 62168\n",
      "Player 233 (defender) not found in frame 119535\n",
      "Player 233 (pass) not found in frame 119585\n"
     ]
    },
    {
     "name": "stderr",
     "output_type": "stream",
     "text": [
      " 17%|█▋        | 11/64 [42:35<4:46:48, 324.69s/it]"
     ]
    },
    {
     "name": "stdout",
     "output_type": "stream",
     "text": [
      "Player 4622 (target) not found in frame 165231\n",
      "Player 4622 (target) not found in frame 165231\n",
      "Player 4622 (target) not found in frame 165231\n",
      "Player 4622 (target) not found in frame 165231\n",
      "Player 4622 (target) not found in frame 165231\n",
      "Player 4622 (target) not found in frame 165231\n",
      "Player 4622 (target) not found in frame 165231\n",
      "Player 4622 (target) not found in frame 165231\n",
      "Player 4622 (failedIntervention) not found in frame 166132\n",
      "Player 4622 (target) not found in frame 179758\n",
      "Player 4622 (receiver) not found in frame 179758\n",
      "Player 4622 (pass) not found in frame 182589\n",
      "Player 4622 (pass) not found in frame 182589\n"
     ]
    },
    {
     "name": "stderr",
     "output_type": "stream",
     "text": [
      " 22%|██▏       | 14/64 [49:57<2:54:13, 209.07s/it]"
     ]
    },
    {
     "name": "stdout",
     "output_type": "stream",
     "text": [
      "Player 13867 (target) not found in frame 123362\n",
      "Player 13867 (receiver) not found in frame 123362\n",
      "Player 13867 (pass) not found in frame 123488\n"
     ]
    },
    {
     "name": "stderr",
     "output_type": "stream",
     "text": [
      " 27%|██▋       | 17/64 [1:01:43<2:59:51, 229.62s/it]"
     ]
    },
    {
     "name": "stdout",
     "output_type": "stream",
     "text": [
      "Player 12235 (defender) not found in frame 182767\n"
     ]
    },
    {
     "name": "stderr",
     "output_type": "stream",
     "text": [
      " 31%|███▏      | 20/64 [1:10:57<2:25:32, 198.46s/it]"
     ]
    },
    {
     "name": "stdout",
     "output_type": "stream",
     "text": [
      "Player 14001 (failedIntervention) not found in frame 101349\n",
      "Player 14005 (target) not found in frame 153324\n",
      "Player 14005 (receiver) not found in frame 153324\n",
      "Player 14005 (pass) not found in frame 153363\n"
     ]
    },
    {
     "name": "stderr",
     "output_type": "stream",
     "text": [
      " 38%|███▊      | 24/64 [1:20:20<1:40:56, 151.41s/it]"
     ]
    },
    {
     "name": "stdout",
     "output_type": "stream",
     "text": [
      "Player 8027 (target) not found in frame 129139\n",
      "Player 4324 (failedIntervention) not found in frame 164597\n"
     ]
    },
    {
     "name": "stderr",
     "output_type": "stream",
     "text": [
      " 41%|████      | 26/64 [1:26:50<1:46:53, 168.77s/it]"
     ]
    },
    {
     "name": "stdout",
     "output_type": "stream",
     "text": [
      "Player 1530 (target) not found in frame 120950\n",
      "Player 1530 (receiver) not found in frame 120950\n",
      "Player 1530 (pass) not found in frame 120982\n",
      "Player 1950 (target) not found in frame 122970\n",
      "Player 1950 (receiver) not found in frame 122970\n"
     ]
    },
    {
     "name": "stderr",
     "output_type": "stream",
     "text": [
      " 47%|████▋     | 30/64 [1:38:30<1:36:27, 170.23s/it]"
     ]
    },
    {
     "name": "stdout",
     "output_type": "stream",
     "text": [
      "Player 4404 (pass) not found in frame 145711\n"
     ]
    },
    {
     "name": "stderr",
     "output_type": "stream",
     "text": [
      " 56%|█████▋    | 36/64 [1:55:52<1:24:00, 180.02s/it]"
     ]
    },
    {
     "name": "stdout",
     "output_type": "stream",
     "text": [
      "Player 14022 (target) not found in frame 152647\n",
      "Player 14022 (receiver) not found in frame 152647\n",
      "Player 14022 (pass) not found in frame 152706\n"
     ]
    },
    {
     "name": "stderr",
     "output_type": "stream",
     "text": [
      " 59%|█████▉    | 38/64 [2:01:26<1:16:36, 176.80s/it]"
     ]
    },
    {
     "name": "stdout",
     "output_type": "stream",
     "text": [
      "Player 12022 (target) not found in frame 92425\n",
      "Player 1532 (target) not found in frame 159975\n",
      "Player 1532 (target) not found in frame 171986\n"
     ]
    },
    {
     "name": "stderr",
     "output_type": "stream",
     "text": [
      " 61%|██████    | 39/64 [2:05:46<1:24:08, 201.93s/it]"
     ]
    },
    {
     "name": "stdout",
     "output_type": "stream",
     "text": [
      "Player 1877 (target) not found in frame 121963\n",
      "Player 1877 (receiver) not found in frame 121963\n",
      "Player 1877 (pass) not found in frame 122019\n",
      "Player 2111 (target) not found in frame 148943\n",
      "Player 2111 (receiver) not found in frame 148943\n",
      "Player 2111 (pass) not found in frame 149017\n",
      "Player 1880 (target) not found in frame 153161\n",
      "Player 1880 (receiver) not found in frame 153161\n",
      "Player 1880 (pass) not found in frame 153232\n"
     ]
    },
    {
     "name": "stderr",
     "output_type": "stream",
     "text": [
      " 66%|██████▌   | 42/64 [2:15:38<1:12:58, 199.04s/it]"
     ]
    },
    {
     "name": "stdout",
     "output_type": "stream",
     "text": [
      "Player 13855 (target) not found in frame 108661\n"
     ]
    },
    {
     "name": "stderr",
     "output_type": "stream",
     "text": [
      " 67%|██████▋   | 43/64 [2:17:49<1:02:28, 178.49s/it]"
     ]
    },
    {
     "name": "stdout",
     "output_type": "stream",
     "text": [
      "Player 1950 (target) not found in frame 116076\n"
     ]
    },
    {
     "name": "stderr",
     "output_type": "stream",
     "text": [
      " 70%|███████   | 45/64 [2:23:45<55:02, 173.84s/it]  "
     ]
    },
    {
     "name": "stdout",
     "output_type": "stream",
     "text": [
      "Player 14036 (receiver) not found in frame 9425\n"
     ]
    },
    {
     "name": "stderr",
     "output_type": "stream",
     "text": [
      " 77%|███████▋  | 49/64 [2:36:25<46:53, 187.59s/it]"
     ]
    },
    {
     "name": "stdout",
     "output_type": "stream",
     "text": [
      "Player 13962 (target) not found in frame 134389\n",
      "Player 13962 (defender) not found in frame 145967\n",
      "Player 13962 (pass) not found in frame 146007\n",
      "Player 13962 (target) not found in frame 146087\n",
      "Player 13962 (receiver) not found in frame 146087\n",
      "Player 13962 (pass) not found in frame 146145\n"
     ]
    },
    {
     "name": "stderr",
     "output_type": "stream",
     "text": [
      " 78%|███████▊  | 50/64 [2:38:32<39:31, 169.39s/it]"
     ]
    },
    {
     "name": "stdout",
     "output_type": "stream",
     "text": [
      "Player 2052 (target) not found in frame 162349\n"
     ]
    },
    {
     "name": "stderr",
     "output_type": "stream",
     "text": [
      " 80%|███████▉  | 51/64 [2:41:27<37:03, 171.04s/it]"
     ]
    },
    {
     "name": "stdout",
     "output_type": "stream",
     "text": [
      "Player 1067 (target) not found in frame 66142\n",
      "Player 13970 (target) not found in frame 155232\n",
      "Player 13970 (receiver) not found in frame 155232\n",
      "Player 13970 (pass) not found in frame 155382\n",
      "Player 13970 (target) not found in frame 158521\n",
      "Player 13970 (receiver) not found in frame 158521\n",
      "Player 13970 (pass) not found in frame 158566\n"
     ]
    },
    {
     "name": "stderr",
     "output_type": "stream",
     "text": [
      " 81%|████████▏ | 52/64 [2:44:26<34:42, 173.58s/it]"
     ]
    },
    {
     "name": "stdout",
     "output_type": "stream",
     "text": [
      "Player 12022 (target) not found in frame 92083\n"
     ]
    },
    {
     "name": "stderr",
     "output_type": "stream",
     "text": [
      " 83%|████████▎ | 53/64 [2:47:37<32:47, 178.90s/it]"
     ]
    },
    {
     "name": "stdout",
     "output_type": "stream",
     "text": [
      "Player 14028 (target) not found in frame 32188\n",
      "Player 4142 (target) not found in frame 153352\n"
     ]
    },
    {
     "name": "stderr",
     "output_type": "stream",
     "text": [
      " 86%|████████▌ | 55/64 [2:54:21<28:44, 191.60s/it]"
     ]
    },
    {
     "name": "stdout",
     "output_type": "stream",
     "text": [
      "Player 14011 (target) not found in frame 131011\n",
      "Player 14011 (target) not found in frame 131011\n",
      "Player 14011 (target) not found in frame 131011\n",
      "Player 14011 (target) not found in frame 131011\n",
      "Player 14011 (target) not found in frame 131011\n",
      "Player 14011 (target) not found in frame 131011\n",
      "Player 14011 (target) not found in frame 131011\n",
      "Player 14011 (target) not found in frame 131011\n"
     ]
    },
    {
     "name": "stderr",
     "output_type": "stream",
     "text": [
      " 89%|████████▉ | 57/64 [3:00:44<21:49, 187.02s/it]"
     ]
    },
    {
     "name": "stdout",
     "output_type": "stream",
     "text": [
      "Player 2368 (target) not found in frame 114624\n",
      "Player 401 (target) not found in frame 154342\n"
     ]
    },
    {
     "name": "stderr",
     "output_type": "stream",
     "text": [
      " 92%|█████████▏| 59/64 [3:07:07<15:34, 186.92s/it]"
     ]
    },
    {
     "name": "stdout",
     "output_type": "stream",
     "text": [
      "Player 13780 (pass) not found in frame 145460\n"
     ]
    },
    {
     "name": "stderr",
     "output_type": "stream",
     "text": [
      " 94%|█████████▍| 60/64 [3:10:01<12:12, 183.07s/it]"
     ]
    },
    {
     "name": "stdout",
     "output_type": "stream",
     "text": [
      "Player 11843 (target) not found in frame 130927\n",
      "Player 13926 (receiver) not found in frame 149857\n"
     ]
    },
    {
     "name": "stderr",
     "output_type": "stream",
     "text": [
      " 98%|█████████▊| 63/64 [3:17:29<02:39, 159.81s/it]"
     ]
    },
    {
     "name": "stdout",
     "output_type": "stream",
     "text": [
      "Player 5074 (target) not found in frame 126996\n",
      "Player 5074 (target) not found in frame 126996\n",
      "Player 5074 (target) not found in frame 126996\n",
      "Player 5074 (target) not found in frame 126996\n",
      "Player 5074 (target) not found in frame 126996\n",
      "Player 5074 (target) not found in frame 126996\n",
      "Player 5074 (target) not found in frame 126996\n",
      "Player 5074 (target) not found in frame 126996\n"
     ]
    },
    {
     "name": "stderr",
     "output_type": "stream",
     "text": [
      "100%|██████████| 64/64 [3:19:32<00:00, 187.08s/it]\n"
     ]
    }
   ],
   "source": [
    "all_shot_frames = []\n",
    "\n",
    "# list all games in folder\n",
    "games = os.listdir(f'{data_dir}/tracking/world-cup/2022')\n",
    "# sort games\n",
    "games = sorted(games)\n",
    "\n",
    "for game in tqdm.tqdm(games):\n",
    "    game = game.split('.')[0]\n",
    "    # load game\n",
    "    game_frames = gandula.get_enhanced_frames(\n",
    "        data_dir=f'{data_dir}/tracking/world-cup/2022',\n",
    "        match_id=game,\n",
    "        events_path=f'{data_dir}/event/world-cup/2022',\n",
    "    )\n",
    "    shot_frames = get_shot_frames(game_frames, enhanced=True)\n",
    "    for shot in shot_frames:\n",
    "        all_shot_frames.append(shot)"
   ]
  },
  {
   "cell_type": "code",
   "execution_count": 5,
   "id": "3beaf74d-9724-458e-92a8-a28b6a9f230f",
   "metadata": {},
   "outputs": [],
   "source": [
    "import pickle\n",
    "\n",
    "# save all shot frames as json\n",
    "with open(f'{data_dir}/enhanced/world-cup/2022/enhaced_frames_shots.pkl', 'wb') as f:\n",
    "    pickle.dump(all_shot_frames, f)"
   ]
  },
  {
   "cell_type": "code",
   "execution_count": null,
   "id": "df49377d",
   "metadata": {},
   "outputs": [],
   "source": []
  }
 ],
 "metadata": {
  "kernelspec": {
   "display_name": "Python 3 (ipykernel)",
   "language": "python",
   "name": "python3"
  },
  "language_info": {
   "codemirror_mode": {
    "name": "ipython",
    "version": 3
   },
   "file_extension": ".py",
   "mimetype": "text/x-python",
   "name": "python",
   "nbconvert_exporter": "python",
   "pygments_lexer": "ipython3",
   "version": "3.12.1"
  }
 },
 "nbformat": 4,
 "nbformat_minor": 5
}
