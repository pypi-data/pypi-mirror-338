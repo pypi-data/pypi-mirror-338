{
 "cells": [
  {
   "cell_type": "code",
   "execution_count": null,
   "id": "def74a06-4979-409f-9d48-86f2e5b93fe3",
   "metadata": {},
   "outputs": [],
   "source": [
    "import gandula"
   ]
  },
  {
   "cell_type": "code",
   "execution_count": null,
   "id": "ce7b3211-1d3b-47a8-9359-d3e48bea78bc",
   "metadata": {},
   "outputs": [],
   "source": [
    "frames = gandula.get_frames(\n",
    "    '/Users/thiago/football/ufmg/gandula/_data/tracking/premier-league/22-23', 4621\n",
    ")"
   ]
  },
  {
   "cell_type": "code",
   "execution_count": null,
   "id": "dc6770ff-2632-4e01-a903-1f246dc22fb3",
   "metadata": {},
   "outputs": [],
   "source": [
    "frames_df, players_ball_df = gandula.pff_frames_to_dataframe(frames)"
   ]
  },
  {
   "cell_type": "code",
   "execution_count": null,
   "id": "1772f618-5d78-4085-82e0-fceb2c47292c",
   "metadata": {},
   "outputs": [],
   "source": [
    "from gandula.features.pff import add_ball_speed, add_players_speed"
   ]
  },
  {
   "cell_type": "code",
   "execution_count": null,
   "id": "0c066682-2725-4506-93aa-4470405927df",
   "metadata": {},
   "outputs": [],
   "source": [
    "add_players_speed(players_ball_df)"
   ]
  },
  {
   "cell_type": "code",
   "execution_count": null,
   "id": "ddff95ea-0492-4faf-95e1-7f35d9953f62",
   "metadata": {},
   "outputs": [],
   "source": [
    "add_ball_speed(players_ball_df)"
   ]
  },
  {
   "cell_type": "code",
   "execution_count": null,
   "id": "19a65742-c401-48ed-b91d-f3089fefe9ac",
   "metadata": {},
   "outputs": [],
   "source": []
  }
 ],
 "metadata": {
  "kernelspec": {
   "display_name": "Python 3 (ipykernel)",
   "language": "python",
   "name": "python3"
  },
  "language_info": {
   "codemirror_mode": {
    "name": "ipython",
    "version": 3
   },
   "file_extension": ".py",
   "mimetype": "text/x-python",
   "name": "python",
   "nbconvert_exporter": "python",
   "pygments_lexer": "ipython3",
   "version": "3.12.1"
  }
 },
 "nbformat": 4,
 "nbformat_minor": 5
}
