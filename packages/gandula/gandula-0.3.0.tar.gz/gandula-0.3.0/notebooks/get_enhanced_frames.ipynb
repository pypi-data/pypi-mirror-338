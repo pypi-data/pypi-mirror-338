{
 "cells": [
  {
   "cell_type": "code",
   "execution_count": 1,
   "id": "e3d99848-e4fa-41da-8b03-abc8499bb934",
   "metadata": {},
   "outputs": [],
   "source": [
    "import gandula"
   ]
  },
  {
   "cell_type": "code",
   "execution_count": 2,
   "id": "ed7ec0af-7d08-4e36-9afe-e7c95b1f7071",
   "metadata": {},
   "outputs": [
    {
     "data": {
      "application/vnd.jupyter.widget-view+json": {
       "model_id": "",
       "version_major": 2,
       "version_minor": 0
      },
      "text/plain": [
       "Loading frames from match 4621: 0 frames [00:00, ? frames/s]"
      ]
     },
     "metadata": {},
     "output_type": "display_data"
    },
    {
     "data": {
      "application/vnd.jupyter.widget-view+json": {
       "model_id": "",
       "version_major": 2,
       "version_minor": 0
      },
      "text/plain": [
       "Validating frames:   0%|          | 0/46546 [00:00<?, ? frames/s]"
      ]
     },
     "metadata": {},
     "output_type": "display_data"
    }
   ],
   "source": [
    "match, frames = gandula.get_enhanced(\n",
    "    4621, '/Users/thiago/football/ufmg/gandula/_data/tracking/premier-league/22-23'\n",
    ")"
   ]
  },
  {
   "cell_type": "code",
   "execution_count": null,
   "id": "42eda794-25d5-406c-b0fb-6b6311853000",
   "metadata": {},
   "outputs": [],
   "source": [
    "from gandula.utils.pff_event_enhancer import enhance_match"
   ]
  },
  {
   "cell_type": "code",
   "execution_count": 4,
   "id": "6aa86a9c-f3dc-45aa-a6ac-44e8ce73d88d",
   "metadata": {},
   "outputs": [],
   "source": [
    "enhanced_match = enhance_match(match, frames)"
   ]
  },
  {
   "cell_type": "code",
   "execution_count": 5,
   "id": "5a9bb208-104c-48e0-9e94-050508200fdb",
   "metadata": {},
   "outputs": [
    {
     "data": {
      "text/plain": [
       "{'id': '6900047',\n",
       " 'bodyType': <PFF_BodyType.RIGHT_FOOT: 'R'>,\n",
       " 'duration': 0.0,\n",
       " 'endTime': 238.805,\n",
       " 'formattedGameClock': '00:00',\n",
       " 'gameClock': 0.0,\n",
       " 'gameEventType': <PFF_EventType.FIRST_HALF_KICKOFF: 'FIRSTKICKOFF'>,\n",
       " 'heightType': <HeightType.GROUND: 'G'>,\n",
       " 'period': '1',\n",
       " 'player': {'id': '223'},\n",
       " 'possessionEvents': [{'id': '6789499',\n",
       "   'endTime': 238.805,\n",
       "   'formattedGameClock': '00:00',\n",
       "   'game': {'id': '4621'},\n",
       "   'gameClock': 0.0,\n",
       "   'gameEvent': {'id': '6900047'},\n",
       "   'lastInGameEvent': 1,\n",
       "   'passingEvent': {'ballHeightType': <HeightType.GROUND: 'G'>,\n",
       "    'game': {'id': '4621'},\n",
       "    'gameEvent': {'id': '6900047'},\n",
       "    'id': '4523298',\n",
       "    'noLook': False,\n",
       "    'passAccuracyType': <PassAccuracyType.STANDARD: 'S'>,\n",
       "    'passBodyType': <PFF_BodyType.RIGHT_FOOT: 'R'>,\n",
       "    'passHighPointType': <HeightType.GROUND: 'G'>,\n",
       "    'passOutcomeType': <PFF_PassOutcomeType.COMPLETE: 'C'>,\n",
       "    'passPointX': 9.228,\n",
       "    'passPointY': 9.414,\n",
       "    'passType': <PFF_PassType.STANDARD_PASS: 'S'>,\n",
       "    'passerPlayer': {'id': '223'},\n",
       "    'possessionEvent': {'id': '6789499'},\n",
       "    'receiverBodyType': <PFF_BodyType.RIGHT_FOOT: 'R'>,\n",
       "    'receiverHeightType': <HeightType.GROUND: 'G'>,\n",
       "    'receiverPlayer': {'id': '231'},\n",
       "    'receiverPointX': -15.666,\n",
       "    'receiverPointY': 0.188,\n",
       "    'targetFacingType': <FacingType.GOAL: 'G'>,\n",
       "    'targetPlayer': {'id': '231'}},\n",
       "   'possessionEventType': <PFF_PossessionEventType.PASS: 'PA'>,\n",
       "   'startTime': 238.805,\n",
       "   'videoUrl': 'epitome.pff.com/e2795189-c474-4aa9-a409-19b11db651e9/238.805'}],\n",
       " 'setpieceType': <PFF_SetpieceType.KICKOFF: 'K'>,\n",
       " 'startTime': 238.805,\n",
       " 'subType': <SubType.STANDARD: 'S'>,\n",
       " 'team': {'id': '8', 'name': 'Everton', 'shortName': 'EVE'},\n",
       " 'touches': 1}"
      ]
     },
     "execution_count": 5,
     "metadata": {},
     "output_type": "execute_result"
    }
   ],
   "source": [
    "gandula.view(enhanced_match.gameEvents[0])"
   ]
  },
  {
   "cell_type": "code",
   "execution_count": null,
   "id": "af90df21-d19b-4a0e-bd2f-5c142caac1a4",
   "metadata": {},
   "outputs": [],
   "source": []
  }
 ],
 "metadata": {
  "kernelspec": {
   "display_name": "Python 3",
   "language": "python",
   "name": "python3"
  },
  "language_info": {
   "codemirror_mode": {
    "name": "ipython",
    "version": 3
   },
   "file_extension": ".py",
   "mimetype": "text/x-python",
   "name": "python",
   "nbconvert_exporter": "python",
   "pygments_lexer": "ipython3",
   "version": "3.10.0"
  }
 },
 "nbformat": 4,
 "nbformat_minor": 5
}
