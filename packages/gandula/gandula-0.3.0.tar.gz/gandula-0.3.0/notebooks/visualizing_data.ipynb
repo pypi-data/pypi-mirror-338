{
 "cells": [
  {
   "cell_type": "code",
   "execution_count": null,
   "id": "f997f250-1e46-4ca5-b207-67ba8cc3e0bb",
   "metadata": {},
   "outputs": [],
   "source": [
    "import gandula"
   ]
  },
  {
   "cell_type": "markdown",
   "id": "6a74e6a8-82c0-46bc-8528-7aabee9fadec",
   "metadata": {},
   "source": [
    "## Events and Frames"
   ]
  },
  {
   "cell_type": "code",
   "execution_count": null,
   "id": "62a2552b-3f07-44c3-8c5e-0cb0211e74c8",
   "metadata": {},
   "outputs": [],
   "source": [
    "match = gandula.get_match(4620)"
   ]
  },
  {
   "cell_type": "code",
   "execution_count": null,
   "id": "53f62775-94be-4448-9ad5-4478b49c5d35",
   "metadata": {},
   "outputs": [],
   "source": [
    "events = sorted(match.gameEvents, key=lambda x: float(x.startTime))"
   ]
  },
  {
   "cell_type": "markdown",
   "id": "cf30a5e3-9389-4d1c-b82d-e5f134287bc0",
   "metadata": {},
   "source": [
    "### Visualizing events and frames (dictionaries) \n",
    "In football data analysis, events are often represented as dictionaries containing detailed information about player actions, timestamps, and locations. This is the most trivial form of visualization, allowing us to inspect the raw data behind each action.\n",
    "\n",
    "In `gandula`, there is a slight difference in accessing this data for event data `events` and tracking data `frames`."
   ]
  },
  {
   "cell_type": "markdown",
   "id": "60ce6034-6071-4180-a044-1de4d8772129",
   "metadata": {},
   "source": [
    "#### Events\n",
    "You can inspect the contents of any event data object by calling `gandula.view(event)`.\n",
    "\n",
    "For example, using the loaded match above, you can view the entire match information, the players involved, the game events, or the possession events. In the lines below, we show all these cases."
   ]
  },
  {
   "cell_type": "markdown",
   "id": "93e33b4a-5a57-4790-826b-5ab84929c95c",
   "metadata": {},
   "source": [
    "##### Inspecting event data\n",
    "ps: these are pretty long!"
   ]
  },
  {
   "cell_type": "code",
   "execution_count": null,
   "id": "e20b1442-164c-4e73-bb69-bb8b7a8e5673",
   "metadata": {
    "scrolled": true
   },
   "outputs": [],
   "source": [
    "# this is pretty long, but you get all data available for the match.\n",
    "gandula.view(match)"
   ]
  },
  {
   "cell_type": "code",
   "execution_count": null,
   "id": "1b2f9b7f-d34c-4c07-b99e-5ebe51ee4b3e",
   "metadata": {},
   "outputs": [],
   "source": [
    "# autocomplete is avaiable for navigating the match object.\n",
    "# Try it out by uncommenting the next line, putting the cursor right after '.'\n",
    "# and pressing tab:\n",
    "\n",
    "# match."
   ]
  },
  {
   "cell_type": "code",
   "execution_count": null,
   "id": "43686639-cf31-48fe-903a-ea14579a806a",
   "metadata": {
    "scrolled": true
   },
   "outputs": [],
   "source": [
    "# you can view any part of `match` as a dict using gandula.view\n",
    "players = match.rosters\n",
    "gandula.view(players)"
   ]
  },
  {
   "cell_type": "code",
   "execution_count": null,
   "id": "4db36f69-13f1-46eb-8df0-e6d7e96b2f47",
   "metadata": {
    "scrolled": true
   },
   "outputs": [],
   "source": [
    "# viewing all the game events\n",
    "gandula.view(events)"
   ]
  },
  {
   "cell_type": "code",
   "execution_count": null,
   "id": "b93e43ae-f53a-4877-96f3-040f0840e7ed",
   "metadata": {},
   "outputs": [],
   "source": [
    "# viewing a single game event\n",
    "event = events[0]\n",
    "gandula.view(event)"
   ]
  },
  {
   "cell_type": "code",
   "execution_count": null,
   "id": "40684cea-5922-4859-87e6-811e60e6a8f9",
   "metadata": {},
   "outputs": [],
   "source": [
    "# viewing a single possession event\n",
    "event_with_possession = next(e for e in events if e.possessionEvents)\n",
    "possession_event = event_with_possession.possessionEvents[0]\n",
    "gandula.view(possession_event)"
   ]
  },
  {
   "cell_type": "markdown",
   "id": "e0292a16-915b-4cd0-bf66-876c28f84bd5",
   "metadata": {},
   "source": [
    "#### Video of a possession event"
   ]
  },
  {
   "cell_type": "code",
   "execution_count": null,
   "id": "2fd99b8d-a3b4-43bb-8cfd-d24c4acc7a15",
   "metadata": {},
   "outputs": [],
   "source": [
    "gandula.video(possession_event)"
   ]
  },
  {
   "cell_type": "markdown",
   "id": "2f97bbfb-aaac-4b4b-a93e-4d5b5b966052",
   "metadata": {},
   "source": [
    "If you want to watch more of the video, you have to set the initial and end buffer for the event. This is how much we'll load of the video before and after the possession event takes place. The default value is 1.0, representing 1 second."
   ]
  },
  {
   "cell_type": "code",
   "execution_count": null,
   "id": "2602e72b-aa31-4ec4-b3b5-9f0ecbf77209",
   "metadata": {},
   "outputs": [],
   "source": [
    "gandula.video(possession_event, start_buffer_sec=10, end_buffer_sec=10)"
   ]
  },
  {
   "cell_type": "markdown",
   "id": "a72cae02-a7cc-4096-8fdf-f676998b8441",
   "metadata": {},
   "source": [
    "#### Visualizing Tracking data\n",
    "The more intuitive way for tracking data is to show the disposition of players and ball on the pitch. With that in mind, the default visualization for frames when calling `gandula.view(frame)` is going to be an image instead of a dictionary."
   ]
  },
  {
   "cell_type": "code",
   "execution_count": null,
   "id": "55c06c82-2ecb-4ddf-a526-078722b755f2",
   "metadata": {},
   "outputs": [],
   "source": [
    "import gandula\n",
    "\n",
    "frames = gandula.get_frames(\n",
    "    data_dir='/Users/thiago/football/ufmg/gandula/_data/tracking/premier-league/22-23',\n",
    "    match_id=4621,\n",
    "    record_filter=lambda x: 10000 < x['frameNum'] < 10250,\n",
    ")"
   ]
  },
  {
   "cell_type": "code",
   "execution_count": null,
   "id": "f27111c2-3006-4131-868d-856e64a993ef",
   "metadata": {},
   "outputs": [],
   "source": [
    "gandula.view(frames)"
   ]
  },
  {
   "cell_type": "code",
   "execution_count": null,
   "id": "d93a167f-b828-4910-9c2b-8b570cdcf020",
   "metadata": {},
   "outputs": [],
   "source": [
    "gandula.view(frames[0])"
   ]
  },
  {
   "cell_type": "markdown",
   "id": "a78d862f-1071-40c7-a986-fc525ffa5bac",
   "metadata": {},
   "source": [
    "Be careful -- `export` will overwrite the file if it already exists."
   ]
  },
  {
   "cell_type": "code",
   "execution_count": null,
   "id": "984f5a44-2bb5-4c2a-9cce-7018b9f5df92",
   "metadata": {},
   "outputs": [],
   "source": [
    "gandula.export(frames, fmt='gif', filename='frame_gif_example.gif')"
   ]
  },
  {
   "cell_type": "code",
   "execution_count": null,
   "id": "201b968a-c39d-4d2d-a848-a89c16522f67",
   "metadata": {},
   "outputs": [],
   "source": [
    "# PNGs are exported as `filename_{index}.png` if there's more than one.\n",
    "gandula.export(frames[0], fmt='png', filename='single_frame_example.png')"
   ]
  },
  {
   "cell_type": "code",
   "execution_count": null,
   "id": "da4d91a6-3c70-41e0-a1e5-a366ecc7c1c4",
   "metadata": {},
   "outputs": [],
   "source": [
    "metadata_df, players_df = gandula.export(frames, fmt='dataframe')"
   ]
  },
  {
   "cell_type": "code",
   "execution_count": null,
   "id": "7c7498a1-af31-43f5-88a1-0b42d277b407",
   "metadata": {},
   "outputs": [],
   "source": [
    "metadata_df"
   ]
  },
  {
   "cell_type": "code",
   "execution_count": null,
   "id": "ab9c7f8a-0b8f-461f-b161-6fc1d4cc9c9c",
   "metadata": {},
   "outputs": [],
   "source": [
    "players_df"
   ]
  },
  {
   "cell_type": "code",
   "execution_count": null,
   "id": "38848d93-e4cf-41b2-a402-35ad9035fd7f",
   "metadata": {},
   "outputs": [],
   "source": []
  }
 ],
 "metadata": {
  "kernelspec": {
   "display_name": "Python 3 (ipykernel)",
   "language": "python",
   "name": "python3"
  },
  "language_info": {
   "codemirror_mode": {
    "name": "ipython",
    "version": 3
   },
   "file_extension": ".py",
   "mimetype": "text/x-python",
   "name": "python",
   "nbconvert_exporter": "python",
   "pygments_lexer": "ipython3",
   "version": "3.12.1"
  }
 },
 "nbformat": 4,
 "nbformat_minor": 5
}
