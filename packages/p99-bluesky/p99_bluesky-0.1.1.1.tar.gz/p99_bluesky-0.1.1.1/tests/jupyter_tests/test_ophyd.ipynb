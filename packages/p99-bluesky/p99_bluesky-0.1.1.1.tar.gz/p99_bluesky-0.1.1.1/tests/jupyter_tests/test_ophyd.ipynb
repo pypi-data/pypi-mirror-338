{
 "cells": [
  {
   "cell_type": "code",
   "execution_count": 1,
   "id": "b33a8163-11f1-48fe-b792-52e712ecaef2",
   "metadata": {},
   "outputs": [],
   "source": [
    "import os\n",
    "\n",
    "#os.chdir(\"/workspaces/p99-bluesky//src/\")"
   ]
  },
  {
   "cell_type": "code",
   "execution_count": 3,
   "id": "8f6bcd35-8889-458c-bb41-532425ab7cc8",
   "metadata": {},
   "outputs": [],
   "source": [
    "import asyncio\n",
    "\n",
    "#from epics import caget, caput,cainfo\n",
    "from bluesky import RunEngine\n",
    "from bluesky.callbacks.best_effort import BestEffortCallback\n",
    "from bluesky.plans import grid_scan\n",
    "# from ophyd.sim import noisy_det as det\n",
    "from databroker import Broker\n",
    "from ophyd_async.core import (\n",
    "        AutoIncrementFilenameProvider,\n",
    "        init_devices,\n",
    "        StaticPathProvider,\n",
    ")\n",
    "from ophyd_async.epics.adcore import SingleTriggerDetector\n",
    "\n",
    "from p99_bluesky.devices.p99 import (\n",
    "        Andor2Ad,\n",
    "        ThreeAxisStage,\n",
    ")\n",
    "from p99_bluesky.plans.ad_plans import takeImg\n",
    "from p99_bluesky.plans.fast_scan import fast_scan_1d\n",
    "from p99_bluesky.plans.stxm import (\n",
    "        #grid_scan,\n",
    "        stxm_fast,\n",
    ")\n",
    "\n",
    "loop = asyncio.get_event_loop()\n",
    "bec = BestEffortCallback()\n",
    "RE = RunEngine({})\n",
    "db = Broker.named('temp')\n",
    "RE.subscribe(db.insert)\n",
    "from ophyd_async.epics import adandor"
   ]
  },
  {
   "cell_type": "code",
   "execution_count": 4,
   "id": "56fcd4c9-9dd4-42c9-ba4c-80f543695f2d",
   "metadata": {},
   "outputs": [],
   "source": [
    "andor_data_patt_provider = StaticPathProvider(filename_provider= AutoIncrementFilenameProvider(base_filename=\"andor2\"),\n",
    "                                              directory_path=\"/dls/p99/data/2024/cm37284-2/processing/writenData\")\n"
   ]
  },
  {
   "cell_type": "code",
   "execution_count": null,
   "id": "d6b991ee-1cd2-4779-8d84-999e5d28cd47",
   "metadata": {},
   "outputs": [],
   "source": [
    "adandor.Andor2DetectorBL99P-EA-DET-03:CAM:AcquireTime"
   ]
  },
  {
   "cell_type": "code",
   "execution_count": 5,
   "id": "23aea3e7-f43b-457c-918a-a9100608cb2f",
   "metadata": {},
   "outputs": [],
   "source": [
    "with init_devices():\n",
    "    andor_ad2= adandor.Andor2Detector(prefix=\"BL99P-EA-DET-03:\",drv_suffix= \"CAM:\",path_provider=andor_data_patt_provider, fileio_suffix=\"HDF5:\")"
   ]
  },
  {
   "cell_type": "code",
   "execution_count": 6,
   "id": "ae70d8ad-7e4e-4653-8a30-4d01b8a5d42b",
   "metadata": {},
   "outputs": [
    {
     "data": {
      "text/plain": [
       "{'andor_ad2-driver-acquire_period': {'value': 0.6999989748001099,\n",
       "  'timestamp': 1737044103.195045,\n",
       "  'alarm_severity': 0},\n",
       " 'andor_ad2-driver-acquire_time': {'value': 0.30000001192092896,\n",
       "  'timestamp': 1737044103.145938,\n",
       "  'alarm_severity': 0}}"
      ]
     },
     "execution_count": 6,
     "metadata": {},
     "output_type": "execute_result"
    }
   ],
   "source": [
    "await andor_ad2.read_configuration()"
   ]
  },
  {
   "cell_type": "code",
   "execution_count": 7,
   "id": "c506ed31-1eb5-47e2-9240-49378d50af3d",
   "metadata": {},
   "outputs": [],
   "source": [
    "from bluesky.plans import count"
   ]
  },
  {
   "cell_type": "code",
   "execution_count": 8,
   "id": "e9c80a1b-6fcd-489a-8228-217d7d101681",
   "metadata": {},
   "outputs": [],
   "source": [
    "from ophyd_async.core import StrictEnum, TriggerInfo\n",
    "class DetectorTrigger(StrictEnum):\n",
    "    \"\"\"Type of mechanism for triggering a detector to take frames\"\"\"\n",
    "\n",
    "    #: Detector generates internal trigger for given rate\n",
    "    INTERNAL = \"internal\"\n",
    "    #: Expect a series of arbitrary length trigger signals\n",
    "    EDGE_TRIGGER = \"edge_trigger\"\n",
    "    #: Expect a series of constant width external gate signals\n",
    "    CONSTANT_GATE = \"constant_gate\"\n",
    "    #: Expect a series of variable width external gate signals\n",
    "    VARIABLE_GATE = \"variable_gate\"\n",
    "\n",
    "k = TriggerInfo(\n",
    "                    number_of_triggers=1,\n",
    "                    trigger=DetectorTrigger.INTERNAL,\n",
    "                    deadtime=None,\n",
    "                    livetime=0.3,\n",
    "                    frame_timeout=None,\n",
    "                )"
   ]
  },
  {
   "cell_type": "code",
   "execution_count": null,
   "id": "286d4a34-6bce-4f54-af01-e3c665529492",
   "metadata": {},
   "outputs": [],
   "source": [
    "await andor_ad2.prepare(k)\n",
    "await andor_ad2.kickoff()"
   ]
  },
  {
   "cell_type": "code",
   "execution_count": 9,
   "id": "c8207748-5302-4ef0-ba3d-8a4a79a780fe",
   "metadata": {},
   "outputs": [
    {
     "data": {
      "text/plain": [
       "('fb196cab-0fcd-4053-bfbb-240b09a89863',)"
      ]
     },
     "execution_count": 9,
     "metadata": {},
     "output_type": "execute_result"
    }
   ],
   "source": [
    "from collections import defaultdict\n",
    "\n",
    "\n",
    "docs = defaultdict(list)\n",
    "\n",
    "def capture_emitted(name, doc):\n",
    "    docs[name].append(doc)\n",
    "RE(count([andor_ad2],4), capture_emitted)"
   ]
  },
  {
   "cell_type": "code",
   "execution_count": 14,
   "id": "939157ce-9282-43ad-bf34-c43c9a13064f",
   "metadata": {},
   "outputs": [],
   "source": [
    "from bluesky import plan_stubs as bps\n",
    "from bluesky import preprocessors as bpp\n",
    "def takeImg(\n",
    "    det,\n",
    "    exposure: float,\n",
    "    n_img: int = 1,\n",
    "    det_trig: DetectorTrigger = DetectorTrigger.INTERNAL,\n",
    "):\n",
    "    \"\"\"\n",
    "    Bare minimum to take an image using prepare plan with full detector control\n",
    "    e.g. Able to change tigger_info unlike tigger\n",
    "    \"\"\"\n",
    "    grp = \"prepare\"\n",
    "    deadtime: float = 0.5\n",
    "    tigger_info = TriggerInfo(\n",
    "        number_of_triggers=n_img,\n",
    "        trigger=det_trig,\n",
    "        deadtime=deadtime,\n",
    "        livetime=exposure,\n",
    "        frame_timeout=None,\n",
    "    )\n",
    "\n",
    "    @bpp.stage_decorator([det])\n",
    "    @bpp.run_decorator()\n",
    "    def innerTakeImg():\n",
    "        yield from bps.prepare(det, tigger_info, group=grp, wait=True)\n",
    "        yield from bps.trigger_and_read([det])\n",
    "\n",
    "    yield from innerTakeImg()\n"
   ]
  },
  {
   "cell_type": "code",
   "execution_count": 15,
   "id": "d91f1fd6-223f-4381-8bce-163fb80a6627",
   "metadata": {},
   "outputs": [
    {
     "name": "stderr",
     "output_type": "stream",
     "text": [
      "Run aborted\n",
      "Traceback (most recent call last):\n",
      "  File \"/venv/lib/python3.12/site-packages/bluesky/run_engine.py\", line 1605, in _run\n",
      "    msg = self._plan_stack[-1].send(resp)\n",
      "          ^^^^^^^^^^^^^^^^^^^^^^^^^^^^^^^\n",
      "  File \"/tmp/ipykernel_10485/3751989266.py\", line 29, in takeImg\n",
      "    yield from innerTakeImg()\n",
      "  File \"/venv/lib/python3.12/site-packages/bluesky/utils/__init__.py\", line 1260, in dec_inner\n",
      "    return (yield from plan)\n",
      "            ^^^^^^^^^^^^^^^\n",
      "  File \"/venv/lib/python3.12/site-packages/bluesky/preprocessors.py\", line 995, in stage_wrapper\n",
      "    return (yield from finalize_wrapper(inner(), unstage_devices()))\n",
      "            ^^^^^^^^^^^^^^^^^^^^^^^^^^^^^^^^^^^^^^^^^^^^^^^^^^^^^^^\n",
      "  File \"/venv/lib/python3.12/site-packages/bluesky/preprocessors.py\", line 536, in finalize_wrapper\n",
      "    ret = yield from plan\n",
      "          ^^^^^^^^^^^^^^^\n",
      "  File \"/venv/lib/python3.12/site-packages/bluesky/preprocessors.py\", line 993, in inner\n",
      "    return (yield from plan)\n",
      "            ^^^^^^^^^^^^^^^\n",
      "  File \"/venv/lib/python3.12/site-packages/bluesky/utils/__init__.py\", line 1260, in dec_inner\n",
      "    return (yield from plan)\n",
      "            ^^^^^^^^^^^^^^^\n",
      "  File \"/venv/lib/python3.12/site-packages/bluesky/preprocessors.py\", line 358, in run_wrapper\n",
      "    yield from contingency_wrapper(plan, except_plan=except_plan, else_plan=close_run)\n",
      "  File \"/venv/lib/python3.12/site-packages/bluesky/preprocessors.py\", line 604, in contingency_wrapper\n",
      "    ret = yield from plan\n",
      "          ^^^^^^^^^^^^^^^\n",
      "  File \"/tmp/ipykernel_10485/3751989266.py\", line 27, in innerTakeImg\n",
      "    yield from bps.trigger_and_read([det])\n",
      "  File \"/venv/lib/python3.12/site-packages/bluesky/utils/__init__.py\", line 1954, in __iter__\n",
      "    return (yield from self._iter)\n",
      "            ^^^^^^^^^^^^^^^^^^^^^\n",
      "  File \"/venv/lib/python3.12/site-packages/bluesky/plan_stubs.py\", line 1476, in trigger_and_read\n",
      "    return (yield from rewindable_wrapper(inner_trigger_and_read(), rewindable))\n",
      "            ^^^^^^^^^^^^^^^^^^^^^^^^^^^^^^^^^^^^^^^^^^^^^^^^^^^^^^^^^^^^^^^^^^^\n",
      "  File \"/venv/lib/python3.12/site-packages/bluesky/preprocessors.py\", line 731, in rewindable_wrapper\n",
      "    return (yield from plan)\n",
      "            ^^^^^^^^^^^^^^^\n",
      "  File \"/venv/lib/python3.12/site-packages/bluesky/plan_stubs.py\", line 1471, in inner_trigger_and_read\n",
      "    ret = yield from contingency_wrapper(read_plan(), except_plan=exception_path, else_plan=standard_path)\n",
      "          ^^^^^^^^^^^^^^^^^^^^^^^^^^^^^^^^^^^^^^^^^^^^^^^^^^^^^^^^^^^^^^^^^^^^^^^^^^^^^^^^^^^^^^^^^^^^^^^^\n",
      "  File \"/venv/lib/python3.12/site-packages/bluesky/preprocessors.py\", line 623, in contingency_wrapper\n",
      "    yield from else_plan()\n",
      "  File \"/venv/lib/python3.12/site-packages/bluesky/plan_stubs.py\", line 1465, in standard_path\n",
      "    yield from save()\n",
      "  File \"/venv/lib/python3.12/site-packages/bluesky/utils/__init__.py\", line 1954, in __iter__\n",
      "    return (yield from self._iter)\n",
      "            ^^^^^^^^^^^^^^^^^^^^^\n",
      "  File \"/venv/lib/python3.12/site-packages/bluesky/plan_stubs.py\", line 142, in save\n",
      "    return (yield Msg(\"save\"))\n",
      "            ^^^^^^^^^^^^^^^^^\n",
      "  File \"/venv/lib/python3.12/site-packages/bluesky/run_engine.py\", line 1672, in _run\n",
      "    new_response = await coro(msg)\n",
      "                   ^^^^^^^^^^^^^^^\n",
      "  File \"/venv/lib/python3.12/site-packages/bluesky/run_engine.py\", line 2076, in _save\n",
      "    await current_run.save(msg)\n",
      "  File \"/venv/lib/python3.12/site-packages/bluesky/bundlers.py\", line 547, in save\n",
      "    raise RuntimeError(\n",
      "RuntimeError: Received multiple indices in a `stream_datum` document for one event,  during a `read()` `save()`. `stream_datum` should have indices {\"start\": n, \"stop\": n+1} in a `read()` `save()`.\n"
     ]
    },
    {
     "ename": "RuntimeError",
     "evalue": "Received multiple indices in a `stream_datum` document for one event,  during a `read()` `save()`. `stream_datum` should have indices {\"start\": n, \"stop\": n+1} in a `read()` `save()`.",
     "output_type": "error",
     "traceback": [
      "\u001b[0;31m---------------------------------------------------------------------------\u001b[0m",
      "\u001b[0;31mRuntimeError\u001b[0m                              Traceback (most recent call last)",
      "Cell \u001b[0;32mIn[15], line 1\u001b[0m\n\u001b[0;32m----> 1\u001b[0m \u001b[43mRE\u001b[49m\u001b[43m(\u001b[49m\u001b[43mtakeImg\u001b[49m\u001b[43m(\u001b[49m\u001b[43mandor_ad2\u001b[49m\u001b[43m,\u001b[49m\u001b[43mexposure\u001b[49m\u001b[43m \u001b[49m\u001b[38;5;241;43m=\u001b[39;49m\u001b[43m \u001b[49m\u001b[38;5;241;43m0.2\u001b[39;49m\u001b[43m,\u001b[49m\u001b[43m \u001b[49m\u001b[43mn_img\u001b[49m\u001b[38;5;241;43m=\u001b[39;49m\u001b[38;5;241;43m3\u001b[39;49m\u001b[43m)\u001b[49m\u001b[43m,\u001b[49m\u001b[43m \u001b[49m\u001b[43mcapture_emitted\u001b[49m\u001b[43m)\u001b[49m\n",
      "File \u001b[0;32m/venv/lib/python3.12/site-packages/bluesky/run_engine.py:973\u001b[0m, in \u001b[0;36mRunEngine.__call__\u001b[0;34m(self, *args, **metadata_kw)\u001b[0m\n\u001b[1;32m    969\u001b[0m         \u001b[38;5;28mself\u001b[39m\u001b[38;5;241m.\u001b[39m_blocking_event\u001b[38;5;241m.\u001b[39mset()\n\u001b[1;32m    971\u001b[0m     \u001b[38;5;28mself\u001b[39m\u001b[38;5;241m.\u001b[39m_task_fut\u001b[38;5;241m.\u001b[39madd_done_callback(set_blocking_event)\n\u001b[0;32m--> 973\u001b[0m plan_return \u001b[38;5;241m=\u001b[39m \u001b[38;5;28;43mself\u001b[39;49m\u001b[38;5;241;43m.\u001b[39;49m\u001b[43m_resume_task\u001b[49m\u001b[43m(\u001b[49m\u001b[43minit_func\u001b[49m\u001b[38;5;241;43m=\u001b[39;49m\u001b[43m_build_task\u001b[49m\u001b[43m)\u001b[49m\n\u001b[1;32m    975\u001b[0m \u001b[38;5;28;01mif\u001b[39;00m \u001b[38;5;28mself\u001b[39m\u001b[38;5;241m.\u001b[39m_interrupted:\n\u001b[1;32m    976\u001b[0m     \u001b[38;5;28;01mraise\u001b[39;00m RunEngineInterrupted(\u001b[38;5;28mself\u001b[39m\u001b[38;5;241m.\u001b[39mpause_msg) \u001b[38;5;28;01mfrom\u001b[39;00m\u001b[38;5;250m \u001b[39m\u001b[38;5;28;01mNone\u001b[39;00m\n",
      "File \u001b[0;32m/venv/lib/python3.12/site-packages/bluesky/run_engine.py:1109\u001b[0m, in \u001b[0;36mRunEngine._resume_task\u001b[0;34m(self, init_func)\u001b[0m\n\u001b[1;32m   1106\u001b[0m \u001b[38;5;66;03m# if the main task exception is not None, re-raise\u001b[39;00m\n\u001b[1;32m   1107\u001b[0m \u001b[38;5;66;03m# it (unless it is a canceled error)\u001b[39;00m\n\u001b[1;32m   1108\u001b[0m \u001b[38;5;28;01mif\u001b[39;00m exc \u001b[38;5;129;01mis\u001b[39;00m \u001b[38;5;129;01mnot\u001b[39;00m \u001b[38;5;28;01mNone\u001b[39;00m \u001b[38;5;129;01mand\u001b[39;00m \u001b[38;5;129;01mnot\u001b[39;00m \u001b[38;5;28misinstance\u001b[39m(exc, _RunEnginePanic):\n\u001b[0;32m-> 1109\u001b[0m     \u001b[38;5;28;01mraise\u001b[39;00m exc\n\u001b[1;32m   1110\u001b[0m \u001b[38;5;66;03m# Only try to get a result if there wasn't an error,\u001b[39;00m\n\u001b[1;32m   1111\u001b[0m \u001b[38;5;66;03m# (other than a cancelled error)\u001b[39;00m\n\u001b[1;32m   1112\u001b[0m \u001b[38;5;28;01mif\u001b[39;00m exc \u001b[38;5;129;01mis\u001b[39;00m \u001b[38;5;28;01mNone\u001b[39;00m:\n",
      "File \u001b[0;32m/venv/lib/python3.12/site-packages/bluesky/run_engine.py:1751\u001b[0m, in \u001b[0;36mRunEngine._run\u001b[0;34m(self)\u001b[0m\n\u001b[1;32m   1749\u001b[0m     exit_reason \u001b[38;5;241m=\u001b[39m \u001b[38;5;28mstr\u001b[39m(err)\n\u001b[1;32m   1750\u001b[0m     \u001b[38;5;28mself\u001b[39m\u001b[38;5;241m.\u001b[39mlog\u001b[38;5;241m.\u001b[39mexception(\u001b[38;5;124m\"\u001b[39m\u001b[38;5;124mRun aborted\u001b[39m\u001b[38;5;124m\"\u001b[39m)\n\u001b[0;32m-> 1751\u001b[0m     \u001b[38;5;28;01mraise\u001b[39;00m err\n\u001b[1;32m   1752\u001b[0m \u001b[38;5;28;01mfinally\u001b[39;00m:\n\u001b[1;32m   1753\u001b[0m     \u001b[38;5;28;01mif\u001b[39;00m \u001b[38;5;129;01mnot\u001b[39;00m exit_reason:\n",
      "File \u001b[0;32m/venv/lib/python3.12/site-packages/bluesky/run_engine.py:1605\u001b[0m, in \u001b[0;36mRunEngine._run\u001b[0;34m(self)\u001b[0m\n\u001b[1;32m   1602\u001b[0m \u001b[38;5;66;03m# The normal case of clean operation\u001b[39;00m\n\u001b[1;32m   1603\u001b[0m \u001b[38;5;28;01melse\u001b[39;00m:\n\u001b[1;32m   1604\u001b[0m     \u001b[38;5;28;01mtry\u001b[39;00m:\n\u001b[0;32m-> 1605\u001b[0m         msg \u001b[38;5;241m=\u001b[39m \u001b[38;5;28;43mself\u001b[39;49m\u001b[38;5;241;43m.\u001b[39;49m\u001b[43m_plan_stack\u001b[49m\u001b[43m[\u001b[49m\u001b[38;5;241;43m-\u001b[39;49m\u001b[38;5;241;43m1\u001b[39;49m\u001b[43m]\u001b[49m\u001b[38;5;241;43m.\u001b[39;49m\u001b[43msend\u001b[49m\u001b[43m(\u001b[49m\u001b[43mresp\u001b[49m\u001b[43m)\u001b[49m\n\u001b[1;32m   1606\u001b[0m     \u001b[38;5;66;03m# We have exhausted the top generator\u001b[39;00m\n\u001b[1;32m   1607\u001b[0m     \u001b[38;5;28;01mexcept\u001b[39;00m \u001b[38;5;167;01mStopIteration\u001b[39;00m:\n\u001b[1;32m   1608\u001b[0m         \u001b[38;5;66;03m# pop the dead generator go back to the top\u001b[39;00m\n",
      "Cell \u001b[0;32mIn[14], line 29\u001b[0m, in \u001b[0;36mtakeImg\u001b[0;34m(det, exposure, n_img, det_trig)\u001b[0m\n\u001b[1;32m     26\u001b[0m     \u001b[38;5;28;01myield from\u001b[39;00m bps\u001b[38;5;241m.\u001b[39mprepare(det, tigger_info, group\u001b[38;5;241m=\u001b[39mgrp, wait\u001b[38;5;241m=\u001b[39m\u001b[38;5;28;01mTrue\u001b[39;00m)\n\u001b[1;32m     27\u001b[0m     \u001b[38;5;28;01myield from\u001b[39;00m bps\u001b[38;5;241m.\u001b[39mtrigger_and_read([det])\n\u001b[0;32m---> 29\u001b[0m \u001b[38;5;28;01myield from\u001b[39;00m innerTakeImg()\n",
      "File \u001b[0;32m/venv/lib/python3.12/site-packages/bluesky/utils/__init__.py:1260\u001b[0m, in \u001b[0;36mmake_decorator.<locals>.dec_outer.<locals>.dec.<locals>.dec_inner\u001b[0;34m(*inner_args, **inner_kwargs)\u001b[0m\n\u001b[1;32m   1258\u001b[0m plan \u001b[38;5;241m=\u001b[39m gen_func(\u001b[38;5;241m*\u001b[39minner_args, \u001b[38;5;241m*\u001b[39m\u001b[38;5;241m*\u001b[39minner_kwargs)\n\u001b[1;32m   1259\u001b[0m plan \u001b[38;5;241m=\u001b[39m wrapper(plan, \u001b[38;5;241m*\u001b[39margs, \u001b[38;5;241m*\u001b[39m\u001b[38;5;241m*\u001b[39mkwargs)\n\u001b[0;32m-> 1260\u001b[0m \u001b[38;5;28;01mreturn\u001b[39;00m (\u001b[38;5;28;01myield from\u001b[39;00m plan)\n",
      "File \u001b[0;32m/venv/lib/python3.12/site-packages/bluesky/preprocessors.py:995\u001b[0m, in \u001b[0;36mstage_wrapper\u001b[0;34m(plan, devices)\u001b[0m\n\u001b[1;32m    992\u001b[0m     \u001b[38;5;28;01myield from\u001b[39;00m stage_devices()\n\u001b[1;32m    993\u001b[0m     \u001b[38;5;28;01mreturn\u001b[39;00m (\u001b[38;5;28;01myield from\u001b[39;00m plan)\n\u001b[0;32m--> 995\u001b[0m \u001b[38;5;28;01mreturn\u001b[39;00m (\u001b[38;5;28;01myield from\u001b[39;00m finalize_wrapper(inner(), unstage_devices()))\n",
      "File \u001b[0;32m/venv/lib/python3.12/site-packages/bluesky/preprocessors.py:536\u001b[0m, in \u001b[0;36mfinalize_wrapper\u001b[0;34m(plan, final_plan, pause_for_debug)\u001b[0m\n\u001b[1;32m    534\u001b[0m cleanup \u001b[38;5;241m=\u001b[39m \u001b[38;5;28;01mTrue\u001b[39;00m\n\u001b[1;32m    535\u001b[0m \u001b[38;5;28;01mtry\u001b[39;00m:\n\u001b[0;32m--> 536\u001b[0m     ret \u001b[38;5;241m=\u001b[39m \u001b[38;5;28;01myield from\u001b[39;00m plan\n\u001b[1;32m    537\u001b[0m \u001b[38;5;28;01mexcept\u001b[39;00m \u001b[38;5;167;01mGeneratorExit\u001b[39;00m:\n\u001b[1;32m    538\u001b[0m     cleanup \u001b[38;5;241m=\u001b[39m \u001b[38;5;28;01mFalse\u001b[39;00m\n",
      "File \u001b[0;32m/venv/lib/python3.12/site-packages/bluesky/preprocessors.py:993\u001b[0m, in \u001b[0;36mstage_wrapper.<locals>.inner\u001b[0;34m()\u001b[0m\n\u001b[1;32m    991\u001b[0m \u001b[38;5;28;01mdef\u001b[39;00m\u001b[38;5;250m \u001b[39m\u001b[38;5;21minner\u001b[39m():\n\u001b[1;32m    992\u001b[0m     \u001b[38;5;28;01myield from\u001b[39;00m stage_devices()\n\u001b[0;32m--> 993\u001b[0m     \u001b[38;5;28;01mreturn\u001b[39;00m (\u001b[38;5;28;01myield from\u001b[39;00m plan)\n",
      "File \u001b[0;32m/venv/lib/python3.12/site-packages/bluesky/utils/__init__.py:1260\u001b[0m, in \u001b[0;36mmake_decorator.<locals>.dec_outer.<locals>.dec.<locals>.dec_inner\u001b[0;34m(*inner_args, **inner_kwargs)\u001b[0m\n\u001b[1;32m   1258\u001b[0m plan \u001b[38;5;241m=\u001b[39m gen_func(\u001b[38;5;241m*\u001b[39minner_args, \u001b[38;5;241m*\u001b[39m\u001b[38;5;241m*\u001b[39minner_kwargs)\n\u001b[1;32m   1259\u001b[0m plan \u001b[38;5;241m=\u001b[39m wrapper(plan, \u001b[38;5;241m*\u001b[39margs, \u001b[38;5;241m*\u001b[39m\u001b[38;5;241m*\u001b[39mkwargs)\n\u001b[0;32m-> 1260\u001b[0m \u001b[38;5;28;01mreturn\u001b[39;00m (\u001b[38;5;28;01myield from\u001b[39;00m plan)\n",
      "File \u001b[0;32m/venv/lib/python3.12/site-packages/bluesky/preprocessors.py:358\u001b[0m, in \u001b[0;36mrun_wrapper\u001b[0;34m(plan, md)\u001b[0m\n\u001b[1;32m    355\u001b[0m     \u001b[38;5;28;01melse\u001b[39;00m:\n\u001b[1;32m    356\u001b[0m         \u001b[38;5;28;01myield from\u001b[39;00m close_run(exit_status\u001b[38;5;241m=\u001b[39m\u001b[38;5;124m\"\u001b[39m\u001b[38;5;124mfail\u001b[39m\u001b[38;5;124m\"\u001b[39m, reason\u001b[38;5;241m=\u001b[39m\u001b[38;5;28mstr\u001b[39m(e))\n\u001b[0;32m--> 358\u001b[0m \u001b[38;5;28;01myield from\u001b[39;00m contingency_wrapper(plan, except_plan\u001b[38;5;241m=\u001b[39mexcept_plan, else_plan\u001b[38;5;241m=\u001b[39mclose_run)\n\u001b[1;32m    359\u001b[0m \u001b[38;5;28;01mreturn\u001b[39;00m rs_uid\n",
      "File \u001b[0;32m/venv/lib/python3.12/site-packages/bluesky/preprocessors.py:604\u001b[0m, in \u001b[0;36mcontingency_wrapper\u001b[0;34m(plan, except_plan, else_plan, final_plan, pause_for_debug, auto_raise)\u001b[0m\n\u001b[1;32m    602\u001b[0m cleanup \u001b[38;5;241m=\u001b[39m \u001b[38;5;28;01mTrue\u001b[39;00m\n\u001b[1;32m    603\u001b[0m \u001b[38;5;28;01mtry\u001b[39;00m:\n\u001b[0;32m--> 604\u001b[0m     ret \u001b[38;5;241m=\u001b[39m \u001b[38;5;28;01myield from\u001b[39;00m plan\n\u001b[1;32m    605\u001b[0m \u001b[38;5;28;01mexcept\u001b[39;00m \u001b[38;5;167;01mGeneratorExit\u001b[39;00m:\n\u001b[1;32m    606\u001b[0m     cleanup \u001b[38;5;241m=\u001b[39m \u001b[38;5;28;01mFalse\u001b[39;00m\n",
      "Cell \u001b[0;32mIn[14], line 27\u001b[0m, in \u001b[0;36mtakeImg.<locals>.innerTakeImg\u001b[0;34m()\u001b[0m\n\u001b[1;32m     23\u001b[0m \u001b[38;5;129m@bpp\u001b[39m\u001b[38;5;241m.\u001b[39mstage_decorator([det])\n\u001b[1;32m     24\u001b[0m \u001b[38;5;129m@bpp\u001b[39m\u001b[38;5;241m.\u001b[39mrun_decorator()\n\u001b[1;32m     25\u001b[0m \u001b[38;5;28;01mdef\u001b[39;00m\u001b[38;5;250m \u001b[39m\u001b[38;5;21minnerTakeImg\u001b[39m():\n\u001b[1;32m     26\u001b[0m     \u001b[38;5;28;01myield from\u001b[39;00m bps\u001b[38;5;241m.\u001b[39mprepare(det, tigger_info, group\u001b[38;5;241m=\u001b[39mgrp, wait\u001b[38;5;241m=\u001b[39m\u001b[38;5;28;01mTrue\u001b[39;00m)\n\u001b[0;32m---> 27\u001b[0m     \u001b[38;5;28;01myield from\u001b[39;00m bps\u001b[38;5;241m.\u001b[39mtrigger_and_read([det])\n",
      "File \u001b[0;32m/venv/lib/python3.12/site-packages/bluesky/utils/__init__.py:1954\u001b[0m, in \u001b[0;36mPlan.__iter__\u001b[0;34m(self)\u001b[0m\n\u001b[1;32m   1952\u001b[0m \u001b[38;5;28;01mdef\u001b[39;00m\u001b[38;5;250m \u001b[39m\u001b[38;5;21m__iter__\u001b[39m(\u001b[38;5;28mself\u001b[39m):\n\u001b[1;32m   1953\u001b[0m     \u001b[38;5;28mself\u001b[39m\u001b[38;5;241m.\u001b[39m_stack \u001b[38;5;241m=\u001b[39m \u001b[38;5;28;01mNone\u001b[39;00m\n\u001b[0;32m-> 1954\u001b[0m     \u001b[38;5;28;01mreturn\u001b[39;00m (\u001b[38;5;28;01myield from\u001b[39;00m \u001b[38;5;28mself\u001b[39m\u001b[38;5;241m.\u001b[39m_iter)\n",
      "File \u001b[0;32m/venv/lib/python3.12/site-packages/bluesky/plan_stubs.py:1476\u001b[0m, in \u001b[0;36mtrigger_and_read\u001b[0;34m(devices, name)\u001b[0m\n\u001b[1;32m   1472\u001b[0m     \u001b[38;5;28;01mreturn\u001b[39;00m ret\n\u001b[1;32m   1474\u001b[0m \u001b[38;5;28;01mfrom\u001b[39;00m\u001b[38;5;250m \u001b[39m\u001b[38;5;21;01m.\u001b[39;00m\u001b[38;5;21;01mpreprocessors\u001b[39;00m\u001b[38;5;250m \u001b[39m\u001b[38;5;28;01mimport\u001b[39;00m rewindable_wrapper\n\u001b[0;32m-> 1476\u001b[0m \u001b[38;5;28;01mreturn\u001b[39;00m (\u001b[38;5;28;01myield from\u001b[39;00m rewindable_wrapper(inner_trigger_and_read(), rewindable))\n",
      "File \u001b[0;32m/venv/lib/python3.12/site-packages/bluesky/preprocessors.py:731\u001b[0m, in \u001b[0;36mrewindable_wrapper\u001b[0;34m(plan, rewindable)\u001b[0m\n\u001b[1;32m    729\u001b[0m     \u001b[38;5;28;01mreturn\u001b[39;00m (\u001b[38;5;28;01myield from\u001b[39;00m finalize_wrapper(plan, restore_rewindable()))\n\u001b[1;32m    730\u001b[0m \u001b[38;5;28;01melse\u001b[39;00m:\n\u001b[0;32m--> 731\u001b[0m     \u001b[38;5;28;01mreturn\u001b[39;00m (\u001b[38;5;28;01myield from\u001b[39;00m plan)\n",
      "File \u001b[0;32m/venv/lib/python3.12/site-packages/bluesky/plan_stubs.py:1471\u001b[0m, in \u001b[0;36mtrigger_and_read.<locals>.inner_trigger_and_read\u001b[0;34m()\u001b[0m\n\u001b[1;32m   1468\u001b[0m     \u001b[38;5;28;01myield from\u001b[39;00m drop()\n\u001b[1;32m   1469\u001b[0m     \u001b[38;5;28;01mraise\u001b[39;00m exp\n\u001b[0;32m-> 1471\u001b[0m ret \u001b[38;5;241m=\u001b[39m \u001b[38;5;28;01myield from\u001b[39;00m contingency_wrapper(read_plan(), except_plan\u001b[38;5;241m=\u001b[39mexception_path, else_plan\u001b[38;5;241m=\u001b[39mstandard_path)\n\u001b[1;32m   1472\u001b[0m \u001b[38;5;28;01mreturn\u001b[39;00m ret\n",
      "File \u001b[0;32m/venv/lib/python3.12/site-packages/bluesky/preprocessors.py:623\u001b[0m, in \u001b[0;36mcontingency_wrapper\u001b[0;34m(plan, except_plan, else_plan, final_plan, pause_for_debug, auto_raise)\u001b[0m\n\u001b[1;32m    621\u001b[0m \u001b[38;5;28;01melse\u001b[39;00m:\n\u001b[1;32m    622\u001b[0m     \u001b[38;5;28;01mif\u001b[39;00m else_plan:\n\u001b[0;32m--> 623\u001b[0m         \u001b[38;5;28;01myield from\u001b[39;00m else_plan()\n\u001b[1;32m    624\u001b[0m \u001b[38;5;28;01mfinally\u001b[39;00m:\n\u001b[1;32m    625\u001b[0m     \u001b[38;5;66;03m# if the exception raised in `GeneratorExit` that means\u001b[39;00m\n\u001b[1;32m    626\u001b[0m     \u001b[38;5;66;03m# someone called `gen.close()` on this generator.  In those\u001b[39;00m\n\u001b[0;32m   (...)\u001b[0m\n\u001b[1;32m    632\u001b[0m \n\u001b[1;32m    633\u001b[0m     \u001b[38;5;66;03m# https://docs.python.org/3/reference/expressions.html?#generator.close\u001b[39;00m\n\u001b[1;32m    634\u001b[0m     \u001b[38;5;28;01mif\u001b[39;00m cleanup \u001b[38;5;129;01mand\u001b[39;00m final_plan:\n",
      "File \u001b[0;32m/venv/lib/python3.12/site-packages/bluesky/plan_stubs.py:1465\u001b[0m, in \u001b[0;36mtrigger_and_read.<locals>.inner_trigger_and_read.<locals>.standard_path\u001b[0;34m()\u001b[0m\n\u001b[1;32m   1464\u001b[0m \u001b[38;5;28;01mdef\u001b[39;00m\u001b[38;5;250m \u001b[39m\u001b[38;5;21mstandard_path\u001b[39m():\n\u001b[0;32m-> 1465\u001b[0m     \u001b[38;5;28;01myield from\u001b[39;00m save()\n",
      "File \u001b[0;32m/venv/lib/python3.12/site-packages/bluesky/utils/__init__.py:1954\u001b[0m, in \u001b[0;36mPlan.__iter__\u001b[0;34m(self)\u001b[0m\n\u001b[1;32m   1952\u001b[0m \u001b[38;5;28;01mdef\u001b[39;00m\u001b[38;5;250m \u001b[39m\u001b[38;5;21m__iter__\u001b[39m(\u001b[38;5;28mself\u001b[39m):\n\u001b[1;32m   1953\u001b[0m     \u001b[38;5;28mself\u001b[39m\u001b[38;5;241m.\u001b[39m_stack \u001b[38;5;241m=\u001b[39m \u001b[38;5;28;01mNone\u001b[39;00m\n\u001b[0;32m-> 1954\u001b[0m     \u001b[38;5;28;01mreturn\u001b[39;00m (\u001b[38;5;28;01myield from\u001b[39;00m \u001b[38;5;28mself\u001b[39m\u001b[38;5;241m.\u001b[39m_iter)\n",
      "File \u001b[0;32m/venv/lib/python3.12/site-packages/bluesky/plan_stubs.py:142\u001b[0m, in \u001b[0;36msave\u001b[0;34m()\u001b[0m\n\u001b[1;32m    128\u001b[0m \u001b[38;5;129m@plan\u001b[39m\n\u001b[1;32m    129\u001b[0m \u001b[38;5;28;01mdef\u001b[39;00m\u001b[38;5;250m \u001b[39m\u001b[38;5;21msave\u001b[39m() \u001b[38;5;241m-\u001b[39m\u001b[38;5;241m>\u001b[39m MsgGenerator:\n\u001b[1;32m    130\u001b[0m \u001b[38;5;250m    \u001b[39m\u001b[38;5;124;03m\"\"\"\u001b[39;00m\n\u001b[1;32m    131\u001b[0m \u001b[38;5;124;03m    Close a bundle of readings and emit a completed Event document.\u001b[39;00m\n\u001b[1;32m    132\u001b[0m \n\u001b[0;32m   (...)\u001b[0m\n\u001b[1;32m    140\u001b[0m \u001b[38;5;124;03m    :func:`bluesky.plan_stubs.create`\u001b[39;00m\n\u001b[1;32m    141\u001b[0m \u001b[38;5;124;03m    \"\"\"\u001b[39;00m\n\u001b[0;32m--> 142\u001b[0m     \u001b[38;5;28;01mreturn\u001b[39;00m (\u001b[38;5;28;01myield\u001b[39;00m Msg(\u001b[38;5;124m\"\u001b[39m\u001b[38;5;124msave\u001b[39m\u001b[38;5;124m\"\u001b[39m))\n",
      "File \u001b[0;32m/venv/lib/python3.12/site-packages/bluesky/run_engine.py:1672\u001b[0m, in \u001b[0;36mRunEngine._run\u001b[0;34m(self)\u001b[0m\n\u001b[1;32m   1667\u001b[0m \u001b[38;5;66;03m# try to finally run the command the user asked for\u001b[39;00m\n\u001b[1;32m   1668\u001b[0m \u001b[38;5;28;01mtry\u001b[39;00m:\n\u001b[1;32m   1669\u001b[0m     \u001b[38;5;66;03m# this is one of two places that 'async'\u001b[39;00m\n\u001b[1;32m   1670\u001b[0m     \u001b[38;5;66;03m# exceptions (coming in via throw) can be\u001b[39;00m\n\u001b[1;32m   1671\u001b[0m     \u001b[38;5;66;03m# raised\u001b[39;00m\n\u001b[0;32m-> 1672\u001b[0m     new_response \u001b[38;5;241m=\u001b[39m \u001b[38;5;28;01mawait\u001b[39;00m coro(msg)\n\u001b[1;32m   1674\u001b[0m \u001b[38;5;66;03m# special case `CancelledError` and let the outer\u001b[39;00m\n\u001b[1;32m   1675\u001b[0m \u001b[38;5;66;03m# exception block deal with it.\u001b[39;00m\n\u001b[1;32m   1676\u001b[0m \u001b[38;5;28;01mexcept\u001b[39;00m asyncio\u001b[38;5;241m.\u001b[39mCancelledError:\n",
      "File \u001b[0;32m/venv/lib/python3.12/site-packages/bluesky/run_engine.py:2076\u001b[0m, in \u001b[0;36mRunEngine._save\u001b[0;34m(self, msg)\u001b[0m\n\u001b[1;32m   2074\u001b[0m     \u001b[38;5;28;01mraise\u001b[39;00m IllegalMessageSequence(ims_msg)\n\u001b[1;32m   2075\u001b[0m \u001b[38;5;28;01melse\u001b[39;00m:\n\u001b[0;32m-> 2076\u001b[0m     \u001b[38;5;28;01mawait\u001b[39;00m current_run\u001b[38;5;241m.\u001b[39msave(msg)\n",
      "File \u001b[0;32m/venv/lib/python3.12/site-packages/bluesky/bundlers.py:547\u001b[0m, in \u001b[0;36mRunBundler.save\u001b[0;34m(self, msg)\u001b[0m\n\u001b[1;32m    545\u001b[0m indices_generated \u001b[38;5;241m=\u001b[39m \u001b[38;5;28;01mawait\u001b[39;00m \u001b[38;5;28mself\u001b[39m\u001b[38;5;241m.\u001b[39m_pack_external_assets(\u001b[38;5;28mself\u001b[39m\u001b[38;5;241m.\u001b[39m_asset_docs_cache, message_stream_name\u001b[38;5;241m=\u001b[39mdesc_key)\n\u001b[1;32m    546\u001b[0m \u001b[38;5;28;01mif\u001b[39;00m indices_generated \u001b[38;5;241m>\u001b[39m \u001b[38;5;241m1\u001b[39m:\n\u001b[0;32m--> 547\u001b[0m     \u001b[38;5;28;01mraise\u001b[39;00m \u001b[38;5;167;01mRuntimeError\u001b[39;00m(\n\u001b[1;32m    548\u001b[0m         \u001b[38;5;124m\"\u001b[39m\u001b[38;5;124mReceived multiple indices in a `stream_datum` document for one event, \u001b[39m\u001b[38;5;124m\"\u001b[39m\n\u001b[1;32m    549\u001b[0m         \u001b[38;5;124m'\u001b[39m\u001b[38;5;124m during a `read()` `save()`. `stream_datum` should have indices \u001b[39m\u001b[38;5;124m{\u001b[39m\u001b[38;5;124m\"\u001b[39m\u001b[38;5;124mstart\u001b[39m\u001b[38;5;124m\"\u001b[39m\u001b[38;5;124m: n, \u001b[39m\u001b[38;5;124m\"\u001b[39m\u001b[38;5;124mstop\u001b[39m\u001b[38;5;124m\"\u001b[39m\u001b[38;5;124m: n+1} \u001b[39m\u001b[38;5;124m'\u001b[39m\n\u001b[1;32m    550\u001b[0m         \u001b[38;5;124m\"\u001b[39m\u001b[38;5;124min a `read()` `save()`.\u001b[39m\u001b[38;5;124m\"\u001b[39m\n\u001b[1;32m    551\u001b[0m     )\n\u001b[1;32m    553\u001b[0m \u001b[38;5;66;03m# Merge list of readings into single dict.\u001b[39;00m\n\u001b[1;32m    554\u001b[0m readings \u001b[38;5;241m=\u001b[39m {k: v \u001b[38;5;28;01mfor\u001b[39;00m d \u001b[38;5;129;01min\u001b[39;00m \u001b[38;5;28mself\u001b[39m\u001b[38;5;241m.\u001b[39m_read_cache \u001b[38;5;28;01mfor\u001b[39;00m k, v \u001b[38;5;129;01min\u001b[39;00m d\u001b[38;5;241m.\u001b[39mitems()}\n",
      "\u001b[0;31mRuntimeError\u001b[0m: Received multiple indices in a `stream_datum` document for one event,  during a `read()` `save()`. `stream_datum` should have indices {\"start\": n, \"stop\": n+1} in a `read()` `save()`."
     ]
    }
   ],
   "source": [
    "RE(takeImg(andor_ad2,exposure = 0.2, n_img=3), capture_emitted)"
   ]
  },
  {
   "cell_type": "code",
   "execution_count": null,
   "id": "c684e49e-63b4-4e4c-918a-e3c89a2f1624",
   "metadata": {},
   "outputs": [],
   "source": []
  }
 ],
 "metadata": {
  "kernelspec": {
   "display_name": "Python 3 (ipykernel)",
   "language": "python",
   "name": "python3"
  },
  "language_info": {
   "codemirror_mode": {
    "name": "ipython",
    "version": 3
   },
   "file_extension": ".py",
   "mimetype": "text/x-python",
   "name": "python",
   "nbconvert_exporter": "python",
   "pygments_lexer": "ipython3",
   "version": "3.12.8"
  }
 },
 "nbformat": 4,
 "nbformat_minor": 5
}
