{
    "cells": [
        {
            "cell_type": "code",
            "execution_count": 1,
            "id": "e1e5d22d-4b5b-4820-89d8-47a769509801",
            "metadata": {},
            "outputs": [],
            "source": [
                "import asyncio\n",
                "\n",
                "from bluesky import RunEngine\n",
                "from bluesky.callbacks.best_effort import BestEffortCallback\n",
                "\n",
                "#from ophyd.mock import det1\n",
                "from ophyd_async.core import (\n",
                "    init_devices,\n",
                ")\n",
                "\n",
                "#from dodal.beamlines.beamline_utils import set_directory_provider\n",
                "from ophyd_async.epics.core import epics_signal_r\n",
                "\n",
                "loop = asyncio.get_event_loop()\n",
                "bec = BestEffortCallback()\n",
                "RE = RunEngine({})\n",
                "from unittest.mock import Mock\n",
                "\n",
                "import numpy as np"
            ]
        },
        {
            "cell_type": "code",
            "execution_count": null,
            "id": "3148be78-0ee9-45c1-b858-6c72c70a0d18",
            "metadata": {},
            "outputs": [],
            "source": [
                "motor_rbv_mocks = Mock()\n",
                "motor_rbv_mocks.get.side_effect = np.arange(0,30,0.1)"
            ]
        },
        {
            "cell_type": "markdown",
            "id": "96990788-8040-457a-81ca-1d522164107e",
            "metadata": {},
            "source": [
                "for i in range(0,10):\n",
                "    print(motor_rbv_mocks.get())"
            ]
        },
        {
            "cell_type": "code",
            "execution_count": null,
            "id": "23298f32-7a6d-4b5a-b8af-d675550172a2",
            "metadata": {},
            "outputs": [],
            "source": [
                "from p99Bluesky.devices.stages import ThreeAxisStage"
            ]
        },
        {
            "cell_type": "code",
            "execution_count": null,
            "id": "87bf4f05-47aa-4f3c-ae05-e9f8cb86ae07",
            "metadata": {},
            "outputs": [],
            "source": [
                "with init_devices(mock=True):\n",
                "    sample_angle_stage = ThreeAxisStage('BL99P-MO-STAGE-01:',name = \"sample_angle_stage\")"
            ]
        },
        {
            "cell_type": "code",
            "execution_count": 39,
            "id": "ce9d3acc-a387-4038-b32c-6ce824070fd0",
            "metadata": {},
            "outputs": [
                {
                    "name": "stderr",
                    "output_type": "stream",
                    "text": [
                        "Starting iocInit\n",
                        "iocRun: All initialization complete\n",
                        "Python 3.11.9 (main, May 14 2024, 08:04:54) [GCC 12.2.0] on linux\n",
                        "Type \"help\", \"copyright\", \"credits\" or \"license\" for more information.\n",
                        "(InteractiveConsole)\n",
                        "\n"
                    ]
                }
            ],
            "source": [
                "import subprocess\n",
                "\n",
                "p = subprocess.Popen([\"python\", \"../junk.py\"], stdout=subprocess.PIPE)"
            ]
        },
        {
            "cell_type": "code",
            "execution_count": 3,
            "id": "a2607554-3136-4685-ab42-ae588a3f96c5",
            "metadata": {},
            "outputs": [],
            "source": [
                "from epics import caget"
            ]
        },
        {
            "cell_type": "code",
            "execution_count": 12,
            "id": "f36722c2-0744-4538-a66f-c106f81a1cfa",
            "metadata": {},
            "outputs": [
                {
                    "name": "stdout",
                    "output_type": "stream",
                    "text": [
                        "cannot connect to p99-motor:AI\n"
                    ]
                }
            ],
            "source": [
                "caget(\"p99-motor:AI\")"
            ]
        },
        {
            "cell_type": "code",
            "execution_count": 50,
            "id": "3ffca3dd-dea0-48b1-b265-94a02e3944c3",
            "metadata": {},
            "outputs": [
                {
                    "ename": "ValueError",
                    "evalue": "read of closed file",
                    "output_type": "error",
                    "traceback": [
                        "\u001b[0;31m---------------------------------------------------------------------------\u001b[0m",
                        "\u001b[0;31mValueError\u001b[0m                                Traceback (most recent call last)",
                        "Cell \u001b[0;32mIn[50], line 1\u001b[0m\n\u001b[0;32m----> 1\u001b[0m \u001b[43mp\u001b[49m\u001b[38;5;241;43m.\u001b[39;49m\u001b[43mcommunicate\u001b[49m\u001b[43m(\u001b[49m\u001b[38;5;124;43m\"\u001b[39;49m\u001b[38;5;124;43mexit\u001b[39;49m\u001b[38;5;124;43m\"\u001b[39;49m\u001b[43m)\u001b[49m\n",
                        "File \u001b[0;32m/usr/local/lib/python3.11/subprocess.py:1196\u001b[0m, in \u001b[0;36mPopen.communicate\u001b[0;34m(self, input, timeout)\u001b[0m\n\u001b[1;32m   1194\u001b[0m     \u001b[38;5;28mself\u001b[39m\u001b[38;5;241m.\u001b[39m_stdin_write(\u001b[38;5;28minput\u001b[39m)\n\u001b[1;32m   1195\u001b[0m \u001b[38;5;28;01melif\u001b[39;00m \u001b[38;5;28mself\u001b[39m\u001b[38;5;241m.\u001b[39mstdout:\n\u001b[0;32m-> 1196\u001b[0m     stdout \u001b[38;5;241m=\u001b[39m \u001b[38;5;28mself\u001b[39m\u001b[38;5;241m.\u001b[39mstdout\u001b[38;5;241m.\u001b[39mread()\n\u001b[1;32m   1197\u001b[0m     \u001b[38;5;28mself\u001b[39m\u001b[38;5;241m.\u001b[39mstdout\u001b[38;5;241m.\u001b[39mclose()\n\u001b[1;32m   1198\u001b[0m \u001b[38;5;28;01melif\u001b[39;00m \u001b[38;5;28mself\u001b[39m\u001b[38;5;241m.\u001b[39mstderr:\n",
                        "\u001b[0;31mValueError\u001b[0m: read of closed file"
                    ]
                },
                {
                    "name": "stderr",
                    "output_type": "stream",
                    "text": [
                        "CA.Client.Exception...............................................\n",
                        "    Warning: \"Identical process variable names on multiple servers\"\n",
                        "    Context: \"Channel: \"p99-motor:AI\", Connecting to: 172.23.241.223:5064, Ignored: 192.168.122.1:5064\"\n",
                        "    Source File: modules/ca/src/client/cac.cpp line 1320\n",
                        "    Current Time: Thu Jun 06 2024 14:57:44.758942689\n",
                        "..................................................................\n",
                        "CA.Client.Exception...............................................\n",
                        "    Warning: \"Identical process variable names on multiple servers\"\n",
                        "    Context: \"Channel: \"p99-motor:AI\", Connecting to: 172.23.241.223:5064, Ignored: 192.168.122.1:5064\"\n",
                        "    Source File: modules/ca/src/client/cac.cpp line 1320\n",
                        "    Current Time: Thu Jun 06 2024 14:57:44.759415284\n",
                        "..................................................................\n"
                    ]
                }
            ],
            "source": [
                "p.communicate(\"exit\")"
            ]
        },
        {
            "cell_type": "code",
            "execution_count": null,
            "id": "06d1db87-ef4c-4c84-aa78-ac513cda415e",
            "metadata": {},
            "outputs": [],
            "source": [
                "p.communicate()"
            ]
        },
        {
            "cell_type": "code",
            "execution_count": 40,
            "id": "00af3691-45b8-43a4-8ad1-dc3bdcb42a86",
            "metadata": {},
            "outputs": [],
            "source": [
                "sig = epics_signal_r(float, \"p99-motor:AI\")"
            ]
        },
        {
            "cell_type": "code",
            "execution_count": 52,
            "id": "87e36631-3562-4388-92cf-671763a46fb0",
            "metadata": {},
            "outputs": [],
            "source": [
                "result = asyncio.create_task(sig.connect())"
            ]
        },
        {
            "cell_type": "code",
            "execution_count": 53,
            "id": "466db0fd-ecca-498a-83d9-9355ad1baa27",
            "metadata": {},
            "outputs": [
                {
                    "data": {
                        "text/plain": [
                            "<Task finished name='Task-25' coro=<Signal.connect() done, defined at /venv/lib/python3.11/site-packages/ophyd_async/core/signal.py:68> result=None>"
                        ]
                    },
                    "execution_count": 53,
                    "metadata": {},
                    "output_type": "execute_result"
                }
            ],
            "source": [
                "result"
            ]
        },
        {
            "cell_type": "code",
            "execution_count": 61,
            "id": "1c03876e-a4f1-419e-b4cf-8dbc2ac0a086",
            "metadata": {},
            "outputs": [],
            "source": [
                "result = asyncio.create_task(sig.get_value())"
            ]
        },
        {
            "cell_type": "code",
            "execution_count": 62,
            "id": "36b877ef-639a-4f6d-a93c-56752dff80b6",
            "metadata": {},
            "outputs": [
                {
                    "data": {
                        "text/plain": [
                            "<Task pending name='Task-33' coro=<SignalR.get_value() running at /venv/lib/python3.11/site-packages/ophyd_async/core/signal.py:41> wait_for=<Future pending cb=[Task.task_wakeup()]>>"
                        ]
                    },
                    "execution_count": 62,
                    "metadata": {},
                    "output_type": "execute_result"
                },
                {
                    "name": "stderr",
                    "output_type": "stream",
                    "text": [
                        "CA.Client.Exception...............................................\n",
                        "    Warning: \"Identical process variable names on multiple servers\"\n",
                        "    Context: \"Channel: \"p99-motor:AI\", Connecting to: 172.23.241.223:5064, Ignored: 192.168.122.1:5064\"\n",
                        "    Source File: modules/ca/src/client/cac.cpp line 1320\n",
                        "    Current Time: Thu Jun 06 2024 15:06:20.554814900\n",
                        "..................................................................\n",
                        "CA.Client.Exception...............................................\n",
                        "    Warning: \"Identical process variable names on multiple servers\"\n",
                        "    Context: \"Channel: \"p99-motor:AI\", Connecting to: 172.23.241.223:5064, Ignored: 192.168.122.1:5064\"\n",
                        "    Source File: modules/ca/src/client/cac.cpp line 1320\n",
                        "    Current Time: Thu Jun 06 2024 15:06:20.555540568\n",
                        "..................................................................\n",
                        "CA.Client.Exception...............................................\n",
                        "    Warning: \"Virtual circuit disconnect\"\n",
                        "    Context: \"host.containers.internal:5064\"\n",
                        "    Source File: modules/ca/src/client/cac.cpp line 1237\n",
                        "    Current Time: Thu Jun 06 2024 15:07:53.177848331\n",
                        "..................................................................\n",
                        "CA.Client.Exception...............................................\n",
                        "    Warning: \"Identical process variable names on multiple servers\"\n",
                        "    Context: \"Channel: \"p99-motor:AI\", Connecting to: 172.23.241.223:5064, Ignored: 192.168.122.1:5064\"\n",
                        "    Source File: modules/ca/src/client/cac.cpp line 1320\n",
                        "    Current Time: Thu Jun 06 2024 15:08:23.352324049\n",
                        "..................................................................\n",
                        "CA.Client.Exception...............................................\n",
                        "    Warning: \"Identical process variable names on multiple servers\"\n",
                        "    Context: \"Channel: \"p99-motor:AI\", Connecting to: 172.23.241.223:5064, Ignored: 192.168.122.1:5064\"\n",
                        "    Source File: modules/ca/src/client/cac.cpp line 1320\n",
                        "    Current Time: Thu Jun 06 2024 15:08:23.352711500\n",
                        "..................................................................\n",
                        "CA.Client.Exception...............................................\n",
                        "    Warning: \"Virtual circuit disconnect\"\n",
                        "    Context: \"host.containers.internal:5064\"\n",
                        "    Source File: modules/ca/src/client/cac.cpp line 1237\n",
                        "    Current Time: Thu Jun 06 2024 15:10:42.226600528\n",
                        "..................................................................\n",
                        "CA.Client.Exception...............................................\n",
                        "    Warning: \"Identical process variable names on multiple servers\"\n",
                        "    Context: \"Channel: \"p99-motor:AI\", Connecting to: 172.23.241.223:5064, Ignored: 192.168.122.1:5064\"\n",
                        "    Source File: modules/ca/src/client/cac.cpp line 1320\n",
                        "    Current Time: Thu Jun 06 2024 15:19:18.318243397\n",
                        "..................................................................\n",
                        "CA.Client.Exception...............................................\n",
                        "    Warning: \"Identical process variable names on multiple servers\"\n",
                        "    Context: \"Channel: \"p99-motor:AI\", Connecting to: 172.23.241.223:5064, Ignored: 192.168.122.1:5064\"\n",
                        "    Source File: modules/ca/src/client/cac.cpp line 1320\n",
                        "    Current Time: Thu Jun 06 2024 15:19:18.318647210\n",
                        "..................................................................\n",
                        "CA.Client.Exception...............................................\n",
                        "    Warning: \"Virtual circuit disconnect\"\n",
                        "    Context: \"host.containers.internal:5064\"\n",
                        "    Source File: modules/ca/src/client/cac.cpp line 1237\n",
                        "    Current Time: Thu Jun 06 2024 15:25:01.030747101\n",
                        "..................................................................\n",
                        "CA.Client.Exception...............................................\n",
                        "    Warning: \"Identical process variable names on multiple servers\"\n",
                        "    Context: \"Channel: \"p99-motor:AI\", Connecting to: 172.23.241.223:5064, Ignored: 192.168.122.1:5064\"\n",
                        "    Source File: modules/ca/src/client/cac.cpp line 1320\n",
                        "    Current Time: Thu Jun 06 2024 15:25:59.486275531\n",
                        "..................................................................\n",
                        "CA.Client.Exception...............................................\n",
                        "    Warning: \"Identical process variable names on multiple servers\"\n",
                        "    Context: \"Channel: \"p99-motor:AI\", Connecting to: 172.23.241.223:5064, Ignored: 192.168.122.1:5064\"\n",
                        "    Source File: modules/ca/src/client/cac.cpp line 1320\n",
                        "    Current Time: Thu Jun 06 2024 15:25:59.486658851\n",
                        "..................................................................\n",
                        "CA.Client.Exception...............................................\n",
                        "    Warning: \"Virtual circuit disconnect\"\n",
                        "    Context: \"host.containers.internal:5064\"\n",
                        "    Source File: modules/ca/src/client/cac.cpp line 1237\n",
                        "    Current Time: Thu Jun 06 2024 15:26:04.844458905\n",
                        "..................................................................\n",
                        "CA.Client.Exception...............................................\n",
                        "    Warning: \"Identical process variable names on multiple servers\"\n",
                        "    Context: \"Channel: \"p99-motor:AI\", Connecting to: 172.23.241.223:5064, Ignored: 192.168.122.1:5064\"\n",
                        "    Source File: modules/ca/src/client/cac.cpp line 1320\n",
                        "    Current Time: Thu Jun 06 2024 15:26:10.734626820\n",
                        "..................................................................\n",
                        "CA.Client.Exception...............................................\n",
                        "    Warning: \"Identical process variable names on multiple servers\"\n",
                        "    Context: \"Channel: \"p99-motor:AI\", Connecting to: 172.23.241.223:5064, Ignored: 192.168.122.1:5064\"\n",
                        "    Source File: modules/ca/src/client/cac.cpp line 1320\n",
                        "    Current Time: Thu Jun 06 2024 15:26:10.735149692\n",
                        "..................................................................\n",
                        "CA.Client.Exception...............................................\n",
                        "    Warning: \"Virtual circuit disconnect\"\n",
                        "    Context: \"host.containers.internal:5064\"\n",
                        "    Source File: modules/ca/src/client/cac.cpp line 1237\n",
                        "    Current Time: Thu Jun 06 2024 15:26:12.041809116\n",
                        "..................................................................\n",
                        "CA.Client.Exception...............................................\n",
                        "    Warning: \"Identical process variable names on multiple servers\"\n",
                        "    Context: \"Channel: \"p99-motor:AI\", Connecting to: 172.23.241.223:5064, Ignored: 192.168.122.1:5064\"\n",
                        "    Source File: modules/ca/src/client/cac.cpp line 1320\n",
                        "    Current Time: Thu Jun 06 2024 15:30:05.099014704\n",
                        "..................................................................\n",
                        "CA.Client.Exception...............................................\n",
                        "    Warning: \"Identical process variable names on multiple servers\"\n",
                        "    Context: \"Channel: \"p99-motor:AI\", Connecting to: 172.23.241.223:5064, Ignored: 192.168.122.1:5064\"\n",
                        "    Source File: modules/ca/src/client/cac.cpp line 1320\n",
                        "    Current Time: Thu Jun 06 2024 15:30:05.099428411\n",
                        "..................................................................\n",
                        "CA.Client.Exception...............................................\n",
                        "    Warning: \"Identical process variable names on multiple servers\"\n",
                        "    Context: \"Channel: \"p99-motor:AI\", Connecting to: 172.23.241.223:5064, Ignored: host.containers.internal:37957\"\n",
                        "    Source File: modules/ca/src/client/cac.cpp line 1320\n",
                        "    Current Time: Thu Jun 06 2024 15:30:05.099433488\n",
                        "..................................................................\n",
                        "CA.Client.Exception...............................................\n",
                        "    Warning: \"Identical process variable names on multiple servers\"\n",
                        "    Context: \"errlog: lost 5 messages\n",
                        "CA.Client.Exception...............................................\n",
                        "    Warning: \"Identical process variable names on multiple servers\"\n",
                        "    Context: \"Channel: \"p99-motor:AI\", Connecting to: 172.23.241.223:5064, Ignored: 192.168.122.1:37957\"\n",
                        "    Source File: modules/ca/src/client/cac.cpp line 1320\n",
                        "    Current Time: Thu Jun 06 2024 15:30:05.100127929\n",
                        "..................................................................\n",
                        "CA.Client.Exception...............................................\n",
                        "    Warning: \"Identical process variable names on multiple servers\"\n",
                        "    Context: \"Channel: \"p99-motor:AI\", Connecting to: 172.23.241.223:5064, Ignored: 192.168.122.1:37957\"\n",
                        "    Source File: modules/ca/src/client/cac.cpp line 1320\n",
                        "    Current Time: Thu Jun 06 2024 15:30:05.100455936\n",
                        "..................................................................\n",
                        "CA.Client.Exception...............................................\n",
                        "    Warning: \"Identical process variable names on multiple servers\"\n",
                        "    Context: \"Channel: \"p99-motor:AI\", Connecting to: 172.23.241.223:5064, Ignored: host.containers.internal:35651\"\n",
                        "    Source File: modules/ca/src/client/cac.cpp line 1320\n",
                        "    Current Time: Thu Jun 06 2024 15:30:05.100461267\n",
                        "..................................................................\n",
                        "CA.Client.Exception...............................................\n",
                        "    Warning: \"Identical process variable names on multiple servers\"\n",
                        "    Context: \"errlog: lost 5 messages\n",
                        "CA.Client.Exception...............................................\n",
                        "    Warning: \"Identical process variable names on multiple servers\"\n",
                        "    Context: \"Channel: \"p99-motor:AI\", Connecting to: 172.23.241.223:5064, Ignored: 192.168.122.1:35651\"\n",
                        "    Source File: modules/ca/src/client/cac.cpp line 1320\n",
                        "    Current Time: Thu Jun 06 2024 15:30:05.100948666\n",
                        "..................................................................\n",
                        "CA.Client.Exception...............................................\n",
                        "    Warning: \"Identical process variable names on multiple servers\"\n",
                        "    Context: \"Channel: \"p99-motor:AI\", Connecting to: 172.23.241.223:5064, Ignored: 192.168.122.1:35651\"\n",
                        "    Source File: modules/ca/src/client/cac.cpp line 1320\n",
                        "    Current Time: Thu Jun 06 2024 15:30:05.101454749\n",
                        "..................................................................\n"
                    ]
                }
            ],
            "source": [
                "result"
            ]
        },
        {
            "cell_type": "code",
            "execution_count": null,
            "id": "73616eae-3454-4cb9-8903-758c8c446adc",
            "metadata": {},
            "outputs": [],
            "source": []
        }
    ],
    "metadata": {
        "kernelspec": {
            "display_name": "Python 3 (ipykernel)",
            "language": "python",
            "name": "python3"
        },
        "language_info": {
            "codemirror_mode": {
                "name": "ipython",
                "version": 3
            },
            "file_extension": ".py",
            "mimetype": "text/x-python",
            "name": "python",
            "nbconvert_exporter": "python",
            "pygments_lexer": "ipython3",
            "version": "3.11.9"
        }
    },
    "nbformat": 4,
    "nbformat_minor": 5
}