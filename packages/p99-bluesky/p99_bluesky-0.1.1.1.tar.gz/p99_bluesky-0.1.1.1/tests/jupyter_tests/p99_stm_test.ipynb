{
    "cells": [
        {
            "cell_type": "code",
            "execution_count": null,
            "id": "179961a9-c130-4cbb-b61b-fa7f75ac0efe",
            "metadata": {},
            "outputs": [],
            "source": [
                "import asyncio\n",
                "\n",
                "#from epics import caget, caput,cainfo\n",
                "from bluesky import RunEngine\n",
                "from bluesky.callbacks.best_effort import BestEffortCallback\n",
                "from bluesky.plans import grid_scan\n",
                "\n",
                "# from ophyd.sim import noisy_det as det\n",
                "from databroker import Broker\n",
                "from ophyd_async.core import (\n",
                "        AutoIncrementFilenameProvider,\n",
                "        init_devices,\n",
                "        StaticPathProvider,\n",
                ")\n",
                "from ophyd_async.epics.adcore import SingleTriggerDetector\n",
                "\n",
                "from p99_bluesky.devices.p99 import (\n",
                "        Andor2Ad,\n",
                "        ThreeAxisStage,\n",
                ")\n",
                "from p99_bluesky.plans.ad_plans import takeImg\n",
                "from p99_bluesky.plans.fast_scan import fast_scan_1d\n",
                "from p99_bluesky.plans.stxm import (\n",
                "        grid_scan,\n",
                "        stxm_fast,\n",
                ")\n",
                "\n",
                "loop = asyncio.get_event_loop()\n",
                "bec = BestEffortCallback()\n",
                "RE = RunEngine({})\n",
                "db = Broker.named('temp')\n",
                "RE.subscribe(db.insert)"
            ]
        },
        {
            "cell_type": "code",
            "execution_count": 2,
            "id": "457d51f7-53b8-49f1-a0dd-ae41dad5d1f6",
            "metadata": {},
            "outputs": [],
            "source": [
                "andor_data_patt_provider = StaticPathProvider(filename_provider= AutoIncrementFilenameProvider(base_filename=\"andor2\"),\n",
                "                                              directory_path=\"/dls/p99/data/2024/cm37284-2/processing/writenData\")\n",
                "\n",
                "from p99_bluesky.plans import takeImg"
            ]
        },
        {
            "cell_type": "code",
            "execution_count": 3,
            "id": "bf09e2ac-ee98-4925-b69f-8a988e4175dc",
            "metadata": {},
            "outputs": [],
            "source": [
                "with init_devices():\n",
                "        xyz = ThreeAxisStage(prefix=\"BL99P-MO-STAGE-02:\", name=\"xyz\")\n",
                "        det_andor = Andor2Ad(prefix=\"BL99P-EA-DET-03:\", name= \"det_andor\",path_provider=andor_data_patt_provider)\n",
                "        det_andor_sum = SingleTriggerDetector(drv=det_andor.drv, read_uncached=[det_andor.drv.stat_mean])"
            ]
        },
        {
            "cell_type": "code",
            "execution_count": null,
            "id": "b6d74dbb-5145-46fc-811c-0e139a5cc1d8",
            "metadata": {},
            "outputs": [],
            "source": [
                "RE(fast_scan_1d(dets=[det_andor_sum],motor = xyz.x,start= 2,end =5,motor_speed=0.3),bec)"
            ]
        },
        {
            "cell_type": "code",
            "execution_count": null,
            "id": "dd89fd06-ba73-4126-b922-22eea6b17857",
            "metadata": {},
            "outputs": [
                {
                    "name": "stdout",
                    "output_type": "stream",
                    "text": [
                        "2024-09-19 16:32:52,606 - P99 - INFO - Check xyz-y limits.\n",
                        "2024-09-19 16:32:52,611 - P99 - INFO - Check xyz-x limits.\n",
                        "2024-09-19 16:32:52,616 - P99 - INFO - ideal step size = 0.025 velocity = 0.15650764659729635 number of data point 431927.7777777778\n",
                        "2024-09-19 16:32:52,617 - P99 - INFO -  step size = 0.025, xyz-y: velocity = 0.15650764659729635, number of step = 520.\n",
                        "\n",
                        "\n",
                        "Transient Scan ID: 5     Time: 2024-09-19 16:32:52\n",
                        "Persistent Unique Scan ID: 'b64ab9e5-718c-4f03-aadd-b76068c5153f'\n",
                        "2024-09-19 16:32:52,722 - P99 - INFO - Check xyz-x limits.\n",
                        "2024-09-19 16:32:52,724 - P99 - INFO - Check xyz-y limits.\n",
                        "2024-09-19 16:32:53,454 - P99 - INFO - Starting 1d fly scan with xyz-y: start position = -6.5, end position = 6.5.\n",
                        "2024-09-19 16:33:00,811 - P99 - INFO - flying motor =  xyz-y at speed = 0.15650764659729635\n",
                        "New stream: 'primary'\n",
                        "+-----------+------------+---------------------------------+-----------------------------+------------+------------+\n",
                        "|   seq_num |       time | det_andor_sum-drv-array_counter | det_andor_sum-drv-stat_mean |      xyz-y |      xyz-x |\n",
                        "+-----------+------------+---------------------------------+-----------------------------+------------+------------+\n",
                        "|         1 | 16:33:01.1 |                            2178 |                         292 |     -6.470 |     -6.500 |\n",
                        "|         2 | 16:33:02.3 |                            2179 |                         291 |     -6.281 |     -6.500 |\n",
                        "|         3 | 16:33:03.4 |                            2180 |                         291 |     -6.103 |     -6.500 |\n",
                        "|         4 | 16:33:04.6 |                            2181 |                         293 |     -5.929 |     -6.500 |\n",
                        "|         5 | 16:33:05.8 |                            2182 |                         290 |     -5.740 |     -6.500 |\n",
                        "|         6 | 16:33:06.9 |                            2183 |                         290 |     -5.567 |     -6.500 |\n",
                        "|         7 | 16:33:08.0 |                            2184 |                         291 |     -5.390 |     -6.500 |\n",
                        "|         8 | 16:33:09.2 |                            2185 |                         288 |     -5.200 |     -6.500 |\n",
                        "|         9 | 16:33:10.3 |                            2186 |                         290 |     -5.026 |     -6.500 |\n",
                        "|        10 | 16:33:11.4 |                            2187 |                         292 |     -4.861 |     -6.500 |\n",
                        "|        11 | 16:33:12.6 |                            2188 |                         289 |     -4.675 |     -6.500 |\n",
                        "|        12 | 16:33:13.7 |                            2189 |                         292 |     -4.508 |     -6.500 |\n",
                        "|        13 | 16:33:14.8 |                            2190 |                         290 |     -4.323 |     -6.500 |\n",
                        "|        14 | 16:33:16.0 |                            2191 |                         290 |     -4.146 |     -6.500 |\n",
                        "|        15 | 16:33:17.1 |                            2192 |                         290 |     -3.973 |     -6.500 |\n",
                        "|        16 | 16:33:18.3 |                            2193 |                         289 |     -3.783 |     -6.500 |\n",
                        "|        17 | 16:33:19.5 |                            2194 |                         292 |     -3.590 |     -6.500 |\n",
                        "|        18 | 16:33:20.7 |                            2195 |                         291 |     -3.405 |     -6.500 |\n",
                        "|        19 | 16:33:21.8 |                            2196 |                         290 |     -3.239 |     -6.500 |\n",
                        "|        20 | 16:33:22.9 |                            2197 |                         290 |     -3.066 |     -6.500 |\n",
                        "|        21 | 16:33:24.0 |                            2198 |                         291 |     -2.888 |     -6.500 |\n",
                        "|        22 | 16:33:25.1 |                            2199 |                         291 |     -2.714 |     -6.500 |\n",
                        "|        23 | 16:33:26.2 |                            2200 |                         290 |     -2.537 |     -6.500 |\n",
                        "|        24 | 16:33:27.3 |                            2201 |                         290 |     -2.371 |     -6.500 |\n",
                        "|        25 | 16:33:28.4 |                            2202 |                         290 |     -2.196 |     -6.500 |\n",
                        "|        26 | 16:33:29.5 |                            2203 |                         290 |     -2.030 |     -6.500 |\n",
                        "|        27 | 16:33:30.6 |                            2204 |                         289 |     -1.856 |     -6.500 |\n",
                        "|        28 | 16:33:31.7 |                            2205 |                         285 |     -1.679 |     -6.500 |\n",
                        "|        29 | 16:33:32.9 |                            2206 |                         242 |     -1.505 |     -6.500 |\n",
                        "|        30 | 16:33:34.0 |                            2207 |                         228 |     -1.315 |     -6.500 |\n",
                        "|        31 | 16:33:35.2 |                            2208 |                         282 |     -1.141 |     -6.500 |\n",
                        "|        32 | 16:33:36.3 |                            2209 |                         249 |     -0.964 |     -6.500 |\n",
                        "|        33 | 16:33:37.5 |                            2210 |                         223 |     -0.776 |     -6.500 |\n",
                        "|        34 | 16:33:38.7 |                            2211 |                         277 |     -0.589 |     -6.500 |\n",
                        "|        35 | 16:33:39.8 |                            2212 |                         255 |     -0.423 |     -6.500 |\n",
                        "|        36 | 16:33:40.9 |                            2213 |                         218 |     -0.238 |     -6.500 |\n",
                        "|        37 | 16:33:42.0 |                            2214 |                         267 |     -0.073 |     -6.500 |\n",
                        "|        38 | 16:33:43.1 |                            2215 |                         289 |      0.112 |     -6.500 |\n",
                        "|        39 | 16:33:44.3 |                            2216 |                         288 |      0.279 |     -6.500 |\n",
                        "|        40 | 16:33:45.4 |                            2217 |                         264 |      0.456 |     -6.500 |\n",
                        "|        41 | 16:33:46.5 |                            2218 |                         214 |      0.631 |     -6.500 |\n"
                    ]
                }
            ],
            "source": [
                "RE(stxm_fast(det=det_andor_sum, count_time = 0.1, step_motor = xyz.x, step_start= -6.5, step_end=6.5,\n",
                "    scan_motor = xyz.y, scan_start = -6.5, scan_end= 6.5, plan_time = 3600*12, step_size=0.025, snake_axes=True),bec)"
            ]
        },
        {
            "cell_type": "code",
            "execution_count": 11,
            "id": "5e7574fc-7297-4245-b0cc-01e6a9ab74ce",
            "metadata": {},
            "outputs": [
                {
                    "data": {
                        "text/plain": [
                            "<matplotlib.tri._tricontour.TriContourSet at 0x7f1618117e10>"
                        ]
                    },
                    "execution_count": 11,
                    "metadata": {},
                    "output_type": "execute_result"
                },
                {
                    "data": {
                        "image/png": "[encoded data removed]",
                        "text/plain": [
                            "<Figure size 640x480 with 1 Axes>"
                        ]
                    },
                    "metadata": {},
                    "output_type": "display_data"
                }
            ],
            "source": [
                "import matplotlib.pyplot as plt\n",
                "import numpy as np\n",
                "\n",
                "header = db[-1]\n",
                "data = header.table()\n",
                "levels = np.linspace(300, 1480, 50)\n",
                "plt.tricontourf(data[\"xyz-x\"],data[\"xyz-y\"],data['det_andor_sum-drv-stat_mean'],antialiased = False)#grid_scan"
            ]
        },
        {
            "cell_type": "code",
            "execution_count": null,
            "id": "75ad533e-d54c-4db0-b577-312d1d81bbbc",
            "metadata": {},
            "outputs": [],
            "source": [
                "RE(stxm_fast(det=det_andor_sum, count_time = 0.1, step_motor = xyz.x, step_start= -6.9, step_end=6.9,\n",
                "    scan_motor = xyz.y, scan_start = 6.9, scan_end= -6.9, plan_time=3600, snake_axes=True),bec)"
            ]
        },
        {
            "cell_type": "code",
            "execution_count": 15,
            "id": "75671fd0-2b2f-4522-8895-da9878682845",
            "metadata": {},
            "outputs": [
                {
                    "data": {
                        "text/plain": [
                            "<matplotlib.tri._tricontour.TriContourSet at 0x7f1612ead0d0>"
                        ]
                    },
                    "execution_count": 15,
                    "metadata": {},
                    "output_type": "execute_result"
                },
                {
                    "data": {
                        "image/png": "[encoded data removed]",
                        "text/plain": [
                            "<Figure size 640x480 with 1 Axes>"
                        ]
                    },
                    "metadata": {},
                    "output_type": "display_data"
                }
            ],
            "source": [
                "header = db[-1]\n",
                "data = header.table()\n",
                "plt.tricontourf(data[\"xyz-x\"],data[\"xyz-y\"],data['det_andor_sum-drv-stat_mean'],antialiased = False)"
            ]
        },
        {
            "cell_type": "code",
            "execution_count": 19,
            "id": "fb82293c-373d-40a8-9a43-674afa09b91f",
            "metadata": {},
            "outputs": [
                {
                    "ename": "TypeError",
                    "evalue": "pcolormesh() takes 1 or 3 positional arguments but 2 were given",
                    "output_type": "error",
                    "traceback": [
                        "\u001b[0;31m---------------------------------------------------------------------------\u001b[0m",
                        "\u001b[0;31mTypeError\u001b[0m                                 Traceback (most recent call last)",
                        "Cell \u001b[0;32mIn[19], line 1\u001b[0m\n\u001b[0;32m----> 1\u001b[0m \u001b[43mplt\u001b[49m\u001b[38;5;241;43m.\u001b[39;49m\u001b[43mpcolormesh\u001b[49m\u001b[43m(\u001b[49m\u001b[43m(\u001b[49m\u001b[43mdata\u001b[49m\u001b[43m[\u001b[49m\u001b[38;5;124;43m\"\u001b[39;49m\u001b[38;5;124;43mxyz-x\u001b[39;49m\u001b[38;5;124;43m\"\u001b[39;49m\u001b[43m]\u001b[49m\u001b[43m,\u001b[49m\u001b[43mdata\u001b[49m\u001b[43m[\u001b[49m\u001b[38;5;124;43m\"\u001b[39;49m\u001b[38;5;124;43mxyz-y\u001b[39;49m\u001b[38;5;124;43m\"\u001b[39;49m\u001b[43m]\u001b[49m\u001b[43m)\u001b[49m\u001b[43m,\u001b[49m\u001b[43mdata\u001b[49m\u001b[43m[\u001b[49m\u001b[38;5;124;43m'\u001b[39;49m\u001b[38;5;124;43mdet_andor_sum-drv-stat_mean\u001b[39;49m\u001b[38;5;124;43m'\u001b[39;49m\u001b[43m]\u001b[49m\u001b[43m)\u001b[49m\n",
                        "File \u001b[0;32m/dls/science/users/wvx67826/py-env/p99/lib64/python3.11/site-packages/matplotlib/pyplot.py:3611\u001b[0m, in \u001b[0;36mpcolormesh\u001b[0;34m(alpha, norm, cmap, vmin, vmax, shading, antialiased, data, *args, **kwargs)\u001b[0m\n\u001b[1;32m   3598\u001b[0m \u001b[38;5;129m@_copy_docstring_and_deprecators\u001b[39m(Axes\u001b[38;5;241m.\u001b[39mpcolormesh)\n\u001b[1;32m   3599\u001b[0m \u001b[38;5;28;01mdef\u001b[39;00m \u001b[38;5;21mpcolormesh\u001b[39m(\n\u001b[1;32m   3600\u001b[0m     \u001b[38;5;241m*\u001b[39margs: ArrayLike,\n\u001b[0;32m   (...)\u001b[0m\n\u001b[1;32m   3609\u001b[0m     \u001b[38;5;241m*\u001b[39m\u001b[38;5;241m*\u001b[39mkwargs,\n\u001b[1;32m   3610\u001b[0m ) \u001b[38;5;241m-\u001b[39m\u001b[38;5;241m>\u001b[39m QuadMesh:\n\u001b[0;32m-> 3611\u001b[0m     __ret \u001b[38;5;241m=\u001b[39m \u001b[43mgca\u001b[49m\u001b[43m(\u001b[49m\u001b[43m)\u001b[49m\u001b[38;5;241;43m.\u001b[39;49m\u001b[43mpcolormesh\u001b[49m\u001b[43m(\u001b[49m\n\u001b[1;32m   3612\u001b[0m \u001b[43m        \u001b[49m\u001b[38;5;241;43m*\u001b[39;49m\u001b[43margs\u001b[49m\u001b[43m,\u001b[49m\n\u001b[1;32m   3613\u001b[0m \u001b[43m        \u001b[49m\u001b[43malpha\u001b[49m\u001b[38;5;241;43m=\u001b[39;49m\u001b[43malpha\u001b[49m\u001b[43m,\u001b[49m\n\u001b[1;32m   3614\u001b[0m \u001b[43m        \u001b[49m\u001b[43mnorm\u001b[49m\u001b[38;5;241;43m=\u001b[39;49m\u001b[43mnorm\u001b[49m\u001b[43m,\u001b[49m\n\u001b[1;32m   3615\u001b[0m \u001b[43m        \u001b[49m\u001b[43mcmap\u001b[49m\u001b[38;5;241;43m=\u001b[39;49m\u001b[43mcmap\u001b[49m\u001b[43m,\u001b[49m\n\u001b[1;32m   3616\u001b[0m \u001b[43m        \u001b[49m\u001b[43mvmin\u001b[49m\u001b[38;5;241;43m=\u001b[39;49m\u001b[43mvmin\u001b[49m\u001b[43m,\u001b[49m\n\u001b[1;32m   3617\u001b[0m \u001b[43m        \u001b[49m\u001b[43mvmax\u001b[49m\u001b[38;5;241;43m=\u001b[39;49m\u001b[43mvmax\u001b[49m\u001b[43m,\u001b[49m\n\u001b[1;32m   3618\u001b[0m \u001b[43m        \u001b[49m\u001b[43mshading\u001b[49m\u001b[38;5;241;43m=\u001b[39;49m\u001b[43mshading\u001b[49m\u001b[43m,\u001b[49m\n\u001b[1;32m   3619\u001b[0m \u001b[43m        \u001b[49m\u001b[43mantialiased\u001b[49m\u001b[38;5;241;43m=\u001b[39;49m\u001b[43mantialiased\u001b[49m\u001b[43m,\u001b[49m\n\u001b[1;32m   3620\u001b[0m \u001b[43m        \u001b[49m\u001b[38;5;241;43m*\u001b[39;49m\u001b[38;5;241;43m*\u001b[39;49m\u001b[43m(\u001b[49m\u001b[43m{\u001b[49m\u001b[38;5;124;43m\"\u001b[39;49m\u001b[38;5;124;43mdata\u001b[39;49m\u001b[38;5;124;43m\"\u001b[39;49m\u001b[43m:\u001b[49m\u001b[43m \u001b[49m\u001b[43mdata\u001b[49m\u001b[43m}\u001b[49m\u001b[43m \u001b[49m\u001b[38;5;28;43;01mif\u001b[39;49;00m\u001b[43m \u001b[49m\u001b[43mdata\u001b[49m\u001b[43m \u001b[49m\u001b[38;5;129;43;01mis\u001b[39;49;00m\u001b[43m \u001b[49m\u001b[38;5;129;43;01mnot\u001b[39;49;00m\u001b[43m \u001b[49m\u001b[38;5;28;43;01mNone\u001b[39;49;00m\u001b[43m \u001b[49m\u001b[38;5;28;43;01melse\u001b[39;49;00m\u001b[43m \u001b[49m\u001b[43m{\u001b[49m\u001b[43m}\u001b[49m\u001b[43m)\u001b[49m\u001b[43m,\u001b[49m\n\u001b[1;32m   3621\u001b[0m \u001b[43m        \u001b[49m\u001b[38;5;241;43m*\u001b[39;49m\u001b[38;5;241;43m*\u001b[39;49m\u001b[43mkwargs\u001b[49m\u001b[43m,\u001b[49m\n\u001b[1;32m   3622\u001b[0m \u001b[43m    \u001b[49m\u001b[43m)\u001b[49m\n\u001b[1;32m   3623\u001b[0m     sci(__ret)\n\u001b[1;32m   3624\u001b[0m     \u001b[38;5;28;01mreturn\u001b[39;00m __ret\n",
                        "File \u001b[0;32m/dls/science/users/wvx67826/py-env/p99/lib64/python3.11/site-packages/matplotlib/__init__.py:1473\u001b[0m, in \u001b[0;36m_preprocess_data.<locals>.inner\u001b[0;34m(ax, data, *args, **kwargs)\u001b[0m\n\u001b[1;32m   1470\u001b[0m \u001b[38;5;129m@functools\u001b[39m\u001b[38;5;241m.\u001b[39mwraps(func)\n\u001b[1;32m   1471\u001b[0m \u001b[38;5;28;01mdef\u001b[39;00m \u001b[38;5;21minner\u001b[39m(ax, \u001b[38;5;241m*\u001b[39margs, data\u001b[38;5;241m=\u001b[39m\u001b[38;5;28;01mNone\u001b[39;00m, \u001b[38;5;241m*\u001b[39m\u001b[38;5;241m*\u001b[39mkwargs):\n\u001b[1;32m   1472\u001b[0m     \u001b[38;5;28;01mif\u001b[39;00m data \u001b[38;5;129;01mis\u001b[39;00m \u001b[38;5;28;01mNone\u001b[39;00m:\n\u001b[0;32m-> 1473\u001b[0m         \u001b[38;5;28;01mreturn\u001b[39;00m \u001b[43mfunc\u001b[49m\u001b[43m(\u001b[49m\n\u001b[1;32m   1474\u001b[0m \u001b[43m            \u001b[49m\u001b[43max\u001b[49m\u001b[43m,\u001b[49m\n\u001b[1;32m   1475\u001b[0m \u001b[43m            \u001b[49m\u001b[38;5;241;43m*\u001b[39;49m\u001b[38;5;28;43mmap\u001b[39;49m\u001b[43m(\u001b[49m\u001b[43msanitize_sequence\u001b[49m\u001b[43m,\u001b[49m\u001b[43m \u001b[49m\u001b[43margs\u001b[49m\u001b[43m)\u001b[49m\u001b[43m,\u001b[49m\n\u001b[1;32m   1476\u001b[0m \u001b[43m            \u001b[49m\u001b[38;5;241;43m*\u001b[39;49m\u001b[38;5;241;43m*\u001b[39;49m\u001b[43m{\u001b[49m\u001b[43mk\u001b[49m\u001b[43m:\u001b[49m\u001b[43m \u001b[49m\u001b[43msanitize_sequence\u001b[49m\u001b[43m(\u001b[49m\u001b[43mv\u001b[49m\u001b[43m)\u001b[49m\u001b[43m \u001b[49m\u001b[38;5;28;43;01mfor\u001b[39;49;00m\u001b[43m \u001b[49m\u001b[43mk\u001b[49m\u001b[43m,\u001b[49m\u001b[43m \u001b[49m\u001b[43mv\u001b[49m\u001b[43m \u001b[49m\u001b[38;5;129;43;01min\u001b[39;49;00m\u001b[43m \u001b[49m\u001b[43mkwargs\u001b[49m\u001b[38;5;241;43m.\u001b[39;49m\u001b[43mitems\u001b[49m\u001b[43m(\u001b[49m\u001b[43m)\u001b[49m\u001b[43m}\u001b[49m\u001b[43m)\u001b[49m\n\u001b[1;32m   1478\u001b[0m     bound \u001b[38;5;241m=\u001b[39m new_sig\u001b[38;5;241m.\u001b[39mbind(ax, \u001b[38;5;241m*\u001b[39margs, \u001b[38;5;241m*\u001b[39m\u001b[38;5;241m*\u001b[39mkwargs)\n\u001b[1;32m   1479\u001b[0m     auto_label \u001b[38;5;241m=\u001b[39m (bound\u001b[38;5;241m.\u001b[39marguments\u001b[38;5;241m.\u001b[39mget(label_namer)\n\u001b[1;32m   1480\u001b[0m                   \u001b[38;5;129;01mor\u001b[39;00m bound\u001b[38;5;241m.\u001b[39mkwargs\u001b[38;5;241m.\u001b[39mget(label_namer))\n",
                        "File \u001b[0;32m/dls/science/users/wvx67826/py-env/p99/lib64/python3.11/site-packages/matplotlib/axes/_axes.py:6428\u001b[0m, in \u001b[0;36mAxes.pcolormesh\u001b[0;34m(self, alpha, norm, cmap, vmin, vmax, shading, antialiased, *args, **kwargs)\u001b[0m\n\u001b[1;32m   6425\u001b[0m shading \u001b[38;5;241m=\u001b[39m shading\u001b[38;5;241m.\u001b[39mlower()\n\u001b[1;32m   6426\u001b[0m kwargs\u001b[38;5;241m.\u001b[39msetdefault(\u001b[38;5;124m'\u001b[39m\u001b[38;5;124medgecolors\u001b[39m\u001b[38;5;124m'\u001b[39m, \u001b[38;5;124m'\u001b[39m\u001b[38;5;124mnone\u001b[39m\u001b[38;5;124m'\u001b[39m)\n\u001b[0;32m-> 6428\u001b[0m X, Y, C, shading \u001b[38;5;241m=\u001b[39m \u001b[38;5;28;43mself\u001b[39;49m\u001b[38;5;241;43m.\u001b[39;49m\u001b[43m_pcolorargs\u001b[49m\u001b[43m(\u001b[49m\u001b[38;5;124;43m'\u001b[39;49m\u001b[38;5;124;43mpcolormesh\u001b[39;49m\u001b[38;5;124;43m'\u001b[39;49m\u001b[43m,\u001b[49m\u001b[43m \u001b[49m\u001b[38;5;241;43m*\u001b[39;49m\u001b[43margs\u001b[49m\u001b[43m,\u001b[49m\n\u001b[1;32m   6429\u001b[0m \u001b[43m                                    \u001b[49m\u001b[43mshading\u001b[49m\u001b[38;5;241;43m=\u001b[39;49m\u001b[43mshading\u001b[49m\u001b[43m,\u001b[49m\u001b[43m \u001b[49m\u001b[43mkwargs\u001b[49m\u001b[38;5;241;43m=\u001b[39;49m\u001b[43mkwargs\u001b[49m\u001b[43m)\u001b[49m\n\u001b[1;32m   6430\u001b[0m coords \u001b[38;5;241m=\u001b[39m np\u001b[38;5;241m.\u001b[39mstack([X, Y], axis\u001b[38;5;241m=\u001b[39m\u001b[38;5;241m-\u001b[39m\u001b[38;5;241m1\u001b[39m)\n\u001b[1;32m   6432\u001b[0m kwargs\u001b[38;5;241m.\u001b[39msetdefault(\u001b[38;5;124m'\u001b[39m\u001b[38;5;124msnap\u001b[39m\u001b[38;5;124m'\u001b[39m, mpl\u001b[38;5;241m.\u001b[39mrcParams[\u001b[38;5;124m'\u001b[39m\u001b[38;5;124mpcolormesh.snap\u001b[39m\u001b[38;5;124m'\u001b[39m])\n",
                        "File \u001b[0;32m/dls/science/users/wvx67826/py-env/p99/lib64/python3.11/site-packages/matplotlib/axes/_axes.py:5953\u001b[0m, in \u001b[0;36mAxes._pcolorargs\u001b[0;34m(self, funcname, shading, *args, **kwargs)\u001b[0m\n\u001b[1;32m   5951\u001b[0m     nrows, ncols \u001b[38;5;241m=\u001b[39m C\u001b[38;5;241m.\u001b[39mshape[:\u001b[38;5;241m2\u001b[39m]\n\u001b[1;32m   5952\u001b[0m \u001b[38;5;28;01melse\u001b[39;00m:\n\u001b[0;32m-> 5953\u001b[0m     \u001b[38;5;28;01mraise\u001b[39;00m _api\u001b[38;5;241m.\u001b[39mnargs_error(funcname, takes\u001b[38;5;241m=\u001b[39m\u001b[38;5;124m\"\u001b[39m\u001b[38;5;124m1 or 3\u001b[39m\u001b[38;5;124m\"\u001b[39m, given\u001b[38;5;241m=\u001b[39m\u001b[38;5;28mlen\u001b[39m(args))\n\u001b[1;32m   5955\u001b[0m Nx \u001b[38;5;241m=\u001b[39m X\u001b[38;5;241m.\u001b[39mshape[\u001b[38;5;241m-\u001b[39m\u001b[38;5;241m1\u001b[39m]\n\u001b[1;32m   5956\u001b[0m Ny \u001b[38;5;241m=\u001b[39m Y\u001b[38;5;241m.\u001b[39mshape[\u001b[38;5;241m0\u001b[39m]\n",
                        "\u001b[0;31mTypeError\u001b[0m: pcolormesh() takes 1 or 3 positional arguments but 2 were given"
                    ]
                },
                {
                    "data": {
                        "image/png": "[encoded data removed]",
                        "text/plain": [
                            "<Figure size 640x480 with 1 Axes>"
                        ]
                    },
                    "metadata": {},
                    "output_type": "display_data"
                }
            ],
            "source": [
                "plt.pcolormesh(data[\"xyz-x\"],data[\"xyz-y\"],data['det_andor_sum-drv-stat_mean'])"
            ]
        },
        {
            "cell_type": "code",
            "execution_count": null,
            "id": "0c00f968-64e0-4df1-be07-8feb06497a89",
            "metadata": {},
            "outputs": [],
            "source": [
                "from pathlib import Path\n",
                "\n",
                "from dodal.common.beamlines.beamline_utils import set_beamline as set_utils_beamline\n",
                "from dodal.common.beamlines.beamline_utils import (\n",
                "        set_path_provider,\n",
                ")\n",
                "from dodal.common.visit import StaticVisitPathProvider\n",
                "from dodal.log import set_beamline as set_log_beamline\n",
                "from dodal.utils import get_beamline_name\n",
                "from ophyd_async.core import AutoIncrementFilenameProvider, StaticPathProvider\n",
                "from ophyd_async.epics.adcore import SingleTriggerDetector\n",
                "\n",
                "from p99_bluesky.devices import Andor2Ad\n",
                "from p99_bluesky.devices.stages import ThreeAxisStage\n",
                "\n",
                "BL = get_beamline_name(\"P99\")\n",
                "set_log_beamline(BL)\n",
                "set_utils_beamline(BL)\n",
                "\n",
                "set_path_provider(\n",
                "    StaticVisitPathProvider(\n",
                "        BL,\n",
                "        Path(\n",
                "            \"/dls/p99/data/2024/cm37284-2/processing/writenData\"\n",
                "        ),  # latest commissioning visit\n",
                "    )\n",
                ")"
            ]
        },
        {
            "cell_type": "code",
            "execution_count": null,
            "id": "aa9223ef-fc78-4b3a-bc8c-8d10595dc762",
            "metadata": {},
            "outputs": [],
            "source": [
                "RE(grid_scan(det=det_andor_sum,\n",
                "    count_time = 0.2,\n",
                "    x_step_motor = xyz.x,\n",
                "    x_step_start = -6.9,\n",
                "    x_step_end = 6.9,\n",
                "    x_step_size = 0.01,\n",
                "    y_step_motor = xyz.y,\n",
                "    y_step_start = -6.9,\n",
                "    y_step_end = 6.9,\n",
                "    y_step_size = 0.01,\n",
                "    home = True,\n",
                "    snake = True,),bec)"
            ]
        },
        {
            "cell_type": "code",
            "execution_count": null,
            "id": "a92dce34-926d-4eaa-9f5b-113d686a885d",
            "metadata": {},
            "outputs": [],
            "source": [
                "caget(\"BL99P-EA-DET-03:HDF5:Capture\")"
            ]
        },
        {
            "cell_type": "code",
            "execution_count": null,
            "id": "0628ed74-337e-4ad2-8fe4-1bed28afc3b9",
            "metadata": {},
            "outputs": [],
            "source": [
                "caput(\"BL99P-EA-DET-03:HDF5:Capture\",0)"
            ]
        },
        {
            "cell_type": "code",
            "execution_count": null,
            "id": "edabf6e4-a82b-4a74-8260-4fff1628db7c",
            "metadata": {},
            "outputs": [],
            "source": [
                "RE(takeImg(det= det_andor,exposure= 0.1))"
            ]
        },
        {
            "cell_type": "code",
            "execution_count": 27,
            "id": "81288e99-fe47-4ad4-8574-04461643bfc3",
            "metadata": {},
            "outputs": [
                {
                    "name": "stdout",
                    "output_type": "stream",
                    "text": [
                        "Aborting: running cleanup and marking exit_status as 'abort'...\n"
                    ]
                },
                {
                    "data": {
                        "text/plain": [
                            "('c89a44fd-3064-4c84-af39-259004e59ca8',)"
                        ]
                    },
                    "execution_count": 27,
                    "metadata": {},
                    "output_type": "execute_result"
                }
            ],
            "source": [
                "RE.abort()"
            ]
        },
        {
            "cell_type": "code",
            "execution_count": 20,
            "id": "554475b1-f024-4d10-8feb-500789e5df83",
            "metadata": {},
            "outputs": [],
            "source": [
                "Z = np.random.rand(25, 25)"
            ]
        },
        {
            "cell_type": "code",
            "execution_count": 23,
            "id": "c8b50f76-2409-4160-b117-c0f28e3048b3",
            "metadata": {},
            "outputs": [
                {
                    "data": {
                        "text/plain": [
                            "25"
                        ]
                    },
                    "execution_count": 23,
                    "metadata": {},
                    "output_type": "execute_result"
                }
            ],
            "source": [
                "Z[0].size"
            ]
        },
        {
            "cell_type": "code",
            "execution_count": null,
            "id": "43478517-3dd8-467b-a8fa-05308eb8ea7a",
            "metadata": {},
            "outputs": [],
            "source": []
        }
    ],
    "metadata": {
        "kernelspec": {
            "display_name": "Python 3 (ipykernel)",
            "language": "python",
            "name": "python3"
        },
        "language_info": {
            "codemirror_mode": {
                "name": "ipython",
                "version": 3
            },
            "file_extension": ".py",
            "mimetype": "text/x-python",
            "name": "python",
            "nbconvert_exporter": "python",
            "pygments_lexer": "ipython3",
            "version": "3.11.9"
        }
    },
    "nbformat": 4,
    "nbformat_minor": 5
}