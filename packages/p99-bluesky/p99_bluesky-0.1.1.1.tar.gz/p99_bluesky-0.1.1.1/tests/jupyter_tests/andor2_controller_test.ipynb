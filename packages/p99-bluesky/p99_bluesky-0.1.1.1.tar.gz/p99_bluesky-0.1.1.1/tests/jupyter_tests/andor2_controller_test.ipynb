{
 "cells": [
  {
   "cell_type": "code",
   "execution_count": 1,
   "id": "d60e63e1-16d5-46ba-9b64-94984b8f97b1",
   "metadata": {},
   "outputs": [],
   "source": [
    "import os\n",
    "\n",
    "os.chdir(\"/home/wvx67826/p99_bluesky/src/\")\n"
   ]
  },
  {
   "cell_type": "code",
   "execution_count": 8,
   "id": "59729057-a229-4d44-8007-212f93c53fa1",
   "metadata": {},
   "outputs": [],
   "source": [
    "\n",
    "import asyncio\n",
    "\n",
    "from p99_bluesky.devices.epics.andor2_controller import *\n",
    "\n",
    "loop = asyncio.get_event_loop()\n",
    "from epics import caget"
   ]
  },
  {
   "cell_type": "code",
   "execution_count": 6,
   "id": "cc3fdd1e-2e83-4332-8d6d-e677e4c3da39",
   "metadata": {},
   "outputs": [
    {
     "data": {
      "text/plain": [
       "<Task pending name='Task-5' coro=<Device.connect() running at /scratch/wvx67826/myenv/lib/python3.11/site-packages/ophyd_async/core/device.py:61>>"
      ]
     },
     "execution_count": 6,
     "metadata": {},
     "output_type": "execute_result"
    }
   ],
   "source": [
    "andorDrive =  Andor2DriverIO(\"BL99P-EA-DET-03:CAM:\")\n",
    "andor= Andor2Controller(andorDrive)\n",
    "loop.create_task(andor.driver.connect())"
   ]
  },
  {
   "cell_type": "code",
   "execution_count": 7,
   "id": "820cef5d-fe98-4e5f-8943-ef0b8f458899",
   "metadata": {},
   "outputs": [
    {
     "data": {
      "text/plain": [
       "<Task pending name='Task-48' coro=<Andor2Controller.arm() running at /home/wvx67826/p99_bluesky/src/p99_bluesky/devices/epics/andor2_controller.py:33>>"
      ]
     },
     "execution_count": 7,
     "metadata": {},
     "output_type": "execute_result"
    }
   ],
   "source": [
    "loop.create_task(andor.arm())"
   ]
  },
  {
   "cell_type": "code",
   "execution_count": 12,
   "id": "d02f7065-967b-4e21-80a3-349b88136efa",
   "metadata": {},
   "outputs": [],
   "source": [
    "a =caget(\"BL99P-EA-DET-03:ARR:ArrayData\")"
   ]
  },
  {
   "cell_type": "code",
   "execution_count": 14,
   "id": "6bf5623b-1546-4c4b-8f18-575fd0432022",
   "metadata": {},
   "outputs": [],
   "source": [
    "a = 0"
   ]
  },
  {
   "cell_type": "code",
   "execution_count": 24,
   "id": "e414089b-b345-4d74-9179-a36d37b6f95f",
   "metadata": {},
   "outputs": [],
   "source": [
    "k = lambda :\"s\" + a"
   ]
  },
  {
   "cell_type": "code",
   "execution_count": 25,
   "id": "2c5a6b25-b699-4cc3-a864-0376369e4cea",
   "metadata": {},
   "outputs": [
    {
     "ename": "TypeError",
     "evalue": "can only concatenate str (not \"int\") to str",
     "output_type": "error",
     "traceback": [
      "\u001b[0;31m---------------------------------------------------------------------------\u001b[0m",
      "\u001b[0;31mTypeError\u001b[0m                                 Traceback (most recent call last)",
      "Cell \u001b[0;32mIn[25], line 1\u001b[0m\n\u001b[0;32m----> 1\u001b[0m \u001b[43mk\u001b[49m\u001b[43m(\u001b[49m\u001b[43m)\u001b[49m\n",
      "Cell \u001b[0;32mIn[24], line 1\u001b[0m, in \u001b[0;36m<lambda>\u001b[0;34m()\u001b[0m\n\u001b[0;32m----> 1\u001b[0m k \u001b[38;5;241m=\u001b[39m \u001b[38;5;28;01mlambda\u001b[39;00m :\u001b[38;5;124;43m\"\u001b[39;49m\u001b[38;5;124;43ms\u001b[39;49m\u001b[38;5;124;43m\"\u001b[39;49m\u001b[43m \u001b[49m\u001b[38;5;241;43m+\u001b[39;49m\u001b[43m \u001b[49m\u001b[43ma\u001b[49m\n",
      "\u001b[0;31mTypeError\u001b[0m: can only concatenate str (not \"int\") to str"
     ]
    }
   ],
   "source": [
    "k()"
   ]
  },
  {
   "cell_type": "code",
   "execution_count": null,
   "id": "f9b27350-e102-44e0-86a6-879c907acb50",
   "metadata": {},
   "outputs": [],
   "source": []
  }
 ],
 "metadata": {
  "kernelspec": {
   "display_name": "Python 3 (ipykernel)",
   "language": "python",
   "name": "python3"
  },
  "language_info": {
   "codemirror_mode": {
    "name": "ipython",
    "version": 3
   },
   "file_extension": ".py",
   "mimetype": "text/x-python",
   "name": "python",
   "nbconvert_exporter": "python",
   "pygments_lexer": "ipython3",
   "version": "3.11.3"
  }
 },
 "nbformat": 4,
 "nbformat_minor": 5
}