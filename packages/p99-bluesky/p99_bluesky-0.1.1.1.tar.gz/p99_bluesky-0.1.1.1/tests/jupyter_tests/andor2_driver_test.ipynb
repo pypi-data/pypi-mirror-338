{
 "cells": [
  {
   "cell_type": "code",
   "execution_count": 1,
   "id": "1cbeafc9-d36d-490b-87db-c57910c12f69",
   "metadata": {},
   "outputs": [],
   "source": [
    "import os\n",
    "\n",
    "os.chdir(\"/home/wvx67826/p99_bluesky/src/\")\n"
   ]
  },
  {
   "cell_type": "code",
   "execution_count": 2,
   "id": "3b9c83cf-2bd9-4320-9e48-6fb26f5f0d4b",
   "metadata": {},
   "outputs": [],
   "source": [
    "import asyncio\n",
    "\n",
    "loop = asyncio.get_event_loop()"
   ]
  },
  {
   "cell_type": "code",
   "execution_count": 3,
   "id": "4717c556-e78f-4049-8f9e-9593072e5474",
   "metadata": {},
   "outputs": [],
   "source": [
    "andor = Andor2Driver(\"BL99P-EA-DET-03:CAM:\")"
   ]
  },
  {
   "cell_type": "code",
   "execution_count": 4,
   "id": "646b6765-9b20-43d2-a8b5-d8958962ef2a",
   "metadata": {},
   "outputs": [],
   "source": [
    "result = asyncio.create_task(andor.connect())"
   ]
  },
  {
   "cell_type": "code",
   "execution_count": 5,
   "id": "9125b6d7-05ba-4a96-9723-a75dd0b4f235",
   "metadata": {},
   "outputs": [
    {
     "data": {
      "text/plain": [
       "<Task finished name='Task-5' coro=<Device.connect() done, defined at /scratch/wvx67826/myenv/lib/python3.11/site-packages/ophyd_async/core/device.py:61> result=None>"
      ]
     },
     "execution_count": 5,
     "metadata": {},
     "output_type": "execute_result"
    }
   ],
   "source": [
    "result"
   ]
  },
  {
   "cell_type": "code",
   "execution_count": 8,
   "id": "4586b2b6-c94b-4b94-8f6b-3fc05a98f47f",
   "metadata": {},
   "outputs": [],
   "source": [
    "result = asyncio.create_task(andor.acquire.read())"
   ]
  },
  {
   "cell_type": "code",
   "execution_count": 10,
   "id": "b3a3debf-4df6-45e9-adfb-84cdf4ae14d8",
   "metadata": {},
   "outputs": [
    {
     "data": {
      "text/plain": [
       "<Task finished name='Task-48' coro=<SignalR.read() done, defined at /scratch/wvx67826/myenv/lib/python3.11/site-packages/ophyd_async/core/signal.py:28> result={'': {'alarm_severity': 0, 'timestamp': 1714388323.092352, 'value': 0}}>"
      ]
     },
     "execution_count": 10,
     "metadata": {},
     "output_type": "execute_result"
    }
   ],
   "source": [
    "result"
   ]
  },
  {
   "cell_type": "code",
   "execution_count": 14,
   "id": "d91531ed-64fe-4a0a-a23e-3cf309e1e6d2",
   "metadata": {},
   "outputs": [],
   "source": [
    "result = asyncio.gather(andor.acquire_time.set(1.0))"
   ]
  },
  {
   "cell_type": "code",
   "execution_count": null,
   "id": "122eb373-5eca-4904-bf84-7b8aae4e2129",
   "metadata": {},
   "outputs": [],
   "source": []
  }
 ],
 "metadata": {
  "kernelspec": {
   "display_name": "Python 3 (ipykernel)",
   "language": "python",
   "name": "python3"
  },
  "language_info": {
   "codemirror_mode": {
    "name": "ipython",
    "version": 3
   },
   "file_extension": ".py",
   "mimetype": "text/x-python",
   "name": "python",
   "nbconvert_exporter": "python",
   "pygments_lexer": "ipython3",
   "version": "3.11.3"
  }
 },
 "nbformat": 4,
 "nbformat_minor": 5
}