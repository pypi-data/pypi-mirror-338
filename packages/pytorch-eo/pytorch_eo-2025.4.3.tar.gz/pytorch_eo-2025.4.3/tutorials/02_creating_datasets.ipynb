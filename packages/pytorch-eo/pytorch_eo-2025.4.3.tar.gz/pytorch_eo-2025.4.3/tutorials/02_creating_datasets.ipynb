{
 "cells": [
  {
   "cell_type": "code",
   "execution_count": 1,
   "metadata": {},
   "outputs": [],
   "source": [
    "%load_ext autoreload\n",
    "%autoreload 2"
   ]
  },
  {
   "cell_type": "markdown",
   "metadata": {},
   "source": [
    "# Creating Datasets"
   ]
  },
  {
   "attachments": {},
   "cell_type": "markdown",
   "metadata": {},
   "source": [
    "The first thing that you will need to train a model is a `Dataset`: an object containing data access and preparation functionality to make it ready for training a model. In this tutorial you will learn how to make a `Dataset` with `PytorchEO`."
   ]
  },
  {
   "cell_type": "markdown",
   "metadata": {},
   "source": [
    "## Creating Datasets with `LightningDataModule`"
   ]
  },
  {
   "cell_type": "markdown",
   "metadata": {},
   "source": [
    "All `Datasets` in Pytorch EO are derived from `Pytorch Lighitning`'s `LightningDataModule`. Let's create a `Dataset` for EuroSAT. "
   ]
  },
  {
   "cell_type": "code",
   "execution_count": 2,
   "metadata": {},
   "outputs": [],
   "source": [
    "import os\n",
    "from pytorch_eo.utils import download_url, unzip_file\n",
    "\n",
    "def prepare_data(path):\n",
    "\tos.makedirs(path, exist_ok=True)\n",
    "\turl = \"http://madm.dfki.de/files/sentinel/EuroSAT.zip\"\n",
    "\tcompressed_data_filename = 'EuroSAT.zip'\n",
    "\tdata_folder = '2750'\n",
    "\tcompressed_data_path = path / compressed_data_filename\n",
    "\tdownload_url(url, compressed_data_path)\n",
    "\tunzip_file(compressed_data_path, path, msg=\"extracting data ...\")\n",
    "\tuncompressed_data_path = path / data_folder\n",
    "\tclasses = sorted(os.listdir(uncompressed_data_path))\n",
    "\timages, labels = [], []\n",
    "\tfor ix, label in enumerate(classes):\n",
    "\t\t_images = os.listdir(uncompressed_data_path / label)\n",
    "\t\timages += [str(uncompressed_data_path /\n",
    "\t\t\t\t\tlabel / img) for img in _images]\n",
    "\t\tlabels += [ix]*len(_images)\n",
    "\treturn images, labels"
   ]
  },
  {
   "cell_type": "markdown",
   "metadata": {},
   "source": [
    "Following the `LightningDataModule` convention, put all the processing steps inside the `setup` function. Then, create the `train_dataloader` function to return the training dataloader."
   ]
  },
  {
   "cell_type": "code",
   "execution_count": 3,
   "metadata": {},
   "outputs": [],
   "source": [
    "from pathlib import Path\n",
    "from pytorch_eo.datasets import RGBImageDataset\n",
    "from pytorch_eo.datasets import ConcatDataset\n",
    "from torch.utils.data import DataLoader\n",
    "import lightning as L\n",
    "from torch.utils.data import DataLoader\n",
    "\n",
    "class EuroSATDataset(L.LightningDataModule):\n",
    "\tdef __init__(self, path='data'):\n",
    "\t\tsuper().__init__()\n",
    "\t\tself.path = Path(path)\n",
    "\n",
    "\tdef setup(self, stage=None):\n",
    "\t\timages, labels = prepare_data(self.path)\n",
    "\t\timages_ds = RGBImageDataset(images) \n",
    "\t\tself.ds = ConcatDataset({'image': images_ds, 'label': labels})\n",
    "\n",
    "\tdef train_dataloader(self):\n",
    "\t\treturn DataLoader(self.ds)"
   ]
  },
  {
   "cell_type": "markdown",
   "metadata": {},
   "source": [
    "With that, you already have a working Dataset ready to train.\n",
    "\n",
    "> You can learn more about training models with Pytorch EO in the next tutorial."
   ]
  },
  {
   "cell_type": "markdown",
   "metadata": {},
   "source": [
    "Even though the Dataset is functional, you may want to do additional things such as:\n",
    "- data splitting\n",
    "- data augmentation\n",
    "- performance optimizations"
   ]
  },
  {
   "cell_type": "markdown",
   "metadata": {},
   "source": [
    "## Data Splitting"
   ]
  },
  {
   "cell_type": "markdown",
   "metadata": {},
   "source": [
    "Use your favorite option for data splitting. Just make sure to create the `val_dataloader` and `test_dataloader` functions for validation and testing, respectively."
   ]
  },
  {
   "cell_type": "code",
   "execution_count": 4,
   "metadata": {},
   "outputs": [],
   "source": [
    "from sklearn.model_selection import train_test_split\n",
    "import pandas as pd  \n",
    "\n",
    "class EuroSATDataset(L.LightningDataModule):\n",
    "\tdef __init__(self, path='data', test_size=0.2, val_size=0.2):\n",
    "\t\tsuper().__init__()\n",
    "\t\tself.path = Path(path)\n",
    "\t\tself.test_size = test_size\n",
    "\t\tself.val_size = val_size\n",
    "\n",
    "\tdef setup(self, stage=None):\n",
    "\t\timages, labels = prepare_data(self.path)\n",
    "\t\tdf = pd.DataFrame({'image': images, 'label': labels})\n",
    "\t\ttrain_df, test_df = train_test_split(\n",
    "\t\t\tdf,\n",
    "\t\t\ttest_size=int(len(df)*self.test_size),\n",
    "\t\t)\n",
    "\t\ttrain_df, val_df = train_test_split(\n",
    "\t\t\ttrain_df,\n",
    "\t\t\ttest_size=int(len(df)*self.val_size),\n",
    "\t\t)\n",
    "\t\tprint(\"Training samples\", len(train_df))\n",
    "\t\tprint(\"Validation samples\", len(val_df))\n",
    "\t\tprint(\"Test samples\", len(test_df))\n",
    "\t\tself.train_ds = self.get_dataset(train_df)\n",
    "\t\tself.val_ds = self.get_dataset(val_df)\n",
    "\t\tself.test_ds = self.get_dataset(test_df)\n",
    "\n",
    "\tdef get_dataset(self, df):\n",
    "\t\timages_ds = RGBImageDataset(df.image.value) \n",
    "\t\treturn ConcatDataset({'image': images_ds, 'label': df.label.values})\n",
    "\t\t\n",
    "\n",
    "\tdef train_dataloader(self):\n",
    "\t\treturn DataLoader(self.train_ds)\n",
    "\t\n",
    "\tdef val_dataloader(self):\n",
    "\t\treturn DataLoader(self.val_ds)\n",
    "\n",
    "\tdef test_dataloader(self):\n",
    "\t\treturn DataLoader(self.test_ds)\n"
   ]
  },
  {
   "cell_type": "markdown",
   "metadata": {},
   "source": [
    "## Data Augmentation"
   ]
  },
  {
   "cell_type": "markdown",
   "metadata": {},
   "source": [
    "By default, we use `albumentations`."
   ]
  },
  {
   "cell_type": "code",
   "execution_count": 5,
   "metadata": {},
   "outputs": [],
   "source": [
    "class EuroSATDataset(L.LightningDataModule):\n",
    "\tdef __init__(self, path='data', trans=None):\n",
    "\t\tsuper().__init__()\n",
    "\t\tself.path = Path(path)\n",
    "\t\tself.trans = trans\n",
    "\n",
    "\tdef setup(self, stage=None):\n",
    "\t\timages, labels = prepare_data(self.path)\n",
    "\t\timages_ds = RGBImageDataset(images) \n",
    "\t\tself.ds = ConcatDataset({'image': images_ds, 'label': labels}, self.trans)\n",
    "\n",
    "\tdef train_dataloader(self):\n",
    "\t\treturn DataLoader(self.ds)"
   ]
  },
  {
   "cell_type": "code",
   "execution_count": 6,
   "metadata": {},
   "outputs": [
    {
     "name": "stderr",
     "output_type": "stream",
     "text": [
      "extracting data ...: 100%|██████████| 27011/27011 [00:03<00:00, 8442.21it/s]\n"
     ]
    }
   ],
   "source": [
    "import albumentations as A\n",
    "from albumentations.pytorch import ToTensorV2\n",
    "\n",
    "trans = A.Compose([\n",
    "    A.HorizontalFlip(p=0.5),\n",
    "    A.VerticalFlip(p=0.5),\n",
    "    A.Normalize(0, 1),\n",
    "    ToTensorV2(),\n",
    "])\n",
    "\n",
    "ds = EuroSATDataset(trans=trans)\n",
    "ds.setup()"
   ]
  },
  {
   "cell_type": "code",
   "execution_count": 7,
   "metadata": {},
   "outputs": [],
   "source": [
    "import matplotlib.pyplot as plt \n",
    "\n",
    "def plot_sample(ds, ix=10, image_key='image'):\n",
    "\tx = 5\n",
    "\tfig = plt.figure(figsize=(2*x, 5))\n",
    "\tfor i in range(x):\n",
    "\t\tsample = ds.ds[10]\n",
    "\t\timage, label = sample[image_key], sample['label']\n",
    "\t\tax = plt.subplot(1, x, i+1)\n",
    "\t\tax.imshow(image.permute(1, 2, 0))\n",
    "\tplt.tight_layout()\n",
    "\tplt.show()"
   ]
  },
  {
   "cell_type": "code",
   "execution_count": 8,
   "metadata": {},
   "outputs": [
    {
     "data": {
      "image/png": "[encoded data removed]",
      "text/plain": [
       "<Figure size 1000x500 with 5 Axes>"
      ]
     },
     "metadata": {},
     "output_type": "display_data"
    }
   ],
   "source": [
    "plot_sample(ds)"
   ]
  },
  {
   "attachments": {},
   "cell_type": "markdown",
   "metadata": {},
   "source": [
    "But you can use your own transfors (see an example in previous tutorial)."
   ]
  },
  {
   "cell_type": "markdown",
   "metadata": {},
   "source": [
    "## Performance optimizations"
   ]
  },
  {
   "cell_type": "markdown",
   "metadata": {},
   "source": [
    "You probably want to use a different batch size, and if training on GPU you also may want to tune the number of workers of the Dataloader."
   ]
  },
  {
   "cell_type": "code",
   "execution_count": 9,
   "metadata": {},
   "outputs": [],
   "source": [
    "class EuroSATDataset(L.LightningDataModule):\n",
    "\tdef __init__(self, path='data', batch_size=32, num_workers=4, pin_memory=True):\n",
    "\t\tsuper().__init__()\n",
    "\t\tself.path = Path(path)\n",
    "\t\tself.batch_size = batch_size\n",
    "\t\tself.num_workers = num_workers\n",
    "\t\tself.pin_memory = pin_memory\n",
    "\n",
    "\tdef setup(self, stage=None):\n",
    "\t\timages, labels = prepare_data(self.path)\n",
    "\t\timages_ds = RGBImageDataset(images) \n",
    "\t\tself.ds = ConcatDataset({'image': images_ds, 'label': labels})\n",
    "\n",
    "\tdef train_dataloader(self):\n",
    "\t\treturn DataLoader(self.ds, \n",
    "\t\t\tbatch_size=self.batch_size,\n",
    "            num_workers=self.num_workers,\n",
    "            pin_memory=self.pin_memory,\n",
    "            shuffle=True\n",
    "\t\t)"
   ]
  },
  {
   "cell_type": "markdown",
   "metadata": {},
   "source": [
    "## A Complete Example"
   ]
  },
  {
   "cell_type": "markdown",
   "metadata": {},
   "source": [
    "Putting it all together, you can use this Dataset as a template for your own."
   ]
  },
  {
   "cell_type": "code",
   "execution_count": 10,
   "metadata": {},
   "outputs": [],
   "source": [
    "from sklearn.model_selection import train_test_split\n",
    "import pandas as pd  \n",
    "\n",
    "class EuroSATDataset(L.LightningDataModule):\n",
    "\tdef __init__(self, path='data', trans=None, test_size=0.2, val_size=0.2, batch_size=32, num_workers=4, pin_memory=True, verbose=True):\n",
    "\t\tsuper().__init__()\n",
    "\t\tself.path = Path(path)\n",
    "\t\tself.test_size = test_size\n",
    "\t\tself.val_size = val_size\n",
    "\t\tself.batch_size = batch_size\n",
    "\t\tself.num_workers = num_workers\n",
    "\t\tself.pin_memory = pin_memory\n",
    "\t\tself.trans = trans\n",
    "\t\tself.verbose = verbose\n",
    "\n",
    "\tdef setup(self, stage=None):\n",
    "\t\timages, labels = prepare_data(self.path)\n",
    "\t\tself.df = pd.DataFrame({'image': images, 'label': labels})\n",
    "\t\tself.make_splits()\n",
    "\t\tself.train_ds = self.get_dataset(self.train_df, self.trans)\n",
    "\t\tself.val_ds = self.get_dataset(self.val_df) if self.val_df is not None else None\n",
    "\t\tself.test_ds = self.get_dataset(self.test_df) if self.test_df is not None else None\n",
    "\n",
    "\tdef make_splits(self):\n",
    "\t\tif self.test_size > 0:\n",
    "\t\t\ttrain_df, self.test_df = train_test_split(\n",
    "\t\t\t\tself.df,\n",
    "\t\t\t\ttest_size=int(len(self.df)*self.test_size),\n",
    "\t\t\t)\n",
    "\t\telse: \n",
    "\t\t\ttrain_df, self.test_df = self.df, None\n",
    "\t\tif self.val_size > 0:\n",
    "\t\t\tself.train_df, self.val_df = train_test_split(\n",
    "\t\t\t\ttrain_df,\n",
    "\t\t\t\ttest_size=int(len(self.df)*self.val_size),\n",
    "\t\t\t)\n",
    "\t\telse: \n",
    "\t\t\tself.train_df, self.val_df = train_df, None\n",
    "\t\tif self.verbose:\n",
    "\t\t\tprint(\"Training samples\", len(self.train_df))\n",
    "\t\t\tif self.val_df is not None:\n",
    "\t\t\t\tprint(\"Validation samples\", len(self.val_df))\n",
    "\t\t\tif self.test_df is not None:\n",
    "\t\t\t\tprint(\"Test samples\", len(self.test_df))\n",
    "\n",
    "\tdef get_dataset(self, df, trans=None):\n",
    "\t\timages_ds = RGBImageDataset(df.image.values) \n",
    "\t\treturn ConcatDataset({'image': images_ds, 'label': df.label.values}, trans=self.trans)\n",
    "\t\t\n",
    "\tdef get_dataloader(self, ds, batch_size=None, shuffle=False):\n",
    "\t\treturn DataLoader(\n",
    "\t\t\tds, \n",
    "\t\t\tbatch_size=self.batch_size if batch_size is None else batch_size,\n",
    "            num_workers=self.num_workers,\n",
    "            pin_memory=self.pin_memory,\n",
    "            shuffle=shuffle\n",
    "\t\t)\n",
    "\n",
    "\tdef train_dataloader(self, batch_size=None, shuffle=True):\n",
    "\t\treturn self.get_dataloader(self.train_ds, batch_size, shuffle)\n",
    "\t\n",
    "\tdef val_dataloader(self, batch_size=None, shuffle=False):\n",
    "\t\treturn self.get_dataloader(self.val_ds, batch_size, shuffle) if self.val_ds is not None else None\n",
    "\n",
    "\tdef test_dataloader(self, batch_size=None, shuffle=False):\n",
    "\t\treturn self.get_dataloader(self.test_ds, batch_size, shuffle) if self.test_ds is not None else None"
   ]
  },
  {
   "attachments": {},
   "cell_type": "markdown",
   "metadata": {},
   "source": [
    "And use it to train a model (more on this in the next tutorial)."
   ]
  },
  {
   "cell_type": "code",
   "execution_count": 12,
   "metadata": {},
   "outputs": [
    {
     "name": "stderr",
     "output_type": "stream",
     "text": [
      "/home/juan/Desktop/pytorch_eo/.venv/lib/python3.12/site-packages/pretrainedmodels/models/dpn.py:255: SyntaxWarning: \"is\" with 'str' literal. Did you mean \"==\"?\n",
      "  if block_type is 'proj':\n",
      "/home/juan/Desktop/pytorch_eo/.venv/lib/python3.12/site-packages/pretrainedmodels/models/dpn.py:258: SyntaxWarning: \"is\" with 'str' literal. Did you mean \"==\"?\n",
      "  elif block_type is 'down':\n",
      "/home/juan/Desktop/pytorch_eo/.venv/lib/python3.12/site-packages/pretrainedmodels/models/dpn.py:262: SyntaxWarning: \"is\" with 'str' literal. Did you mean \"==\"?\n",
      "  assert block_type is 'normal'\n",
      "You are using the plain ModelCheckpoint callback. Consider using LitModelCheckpoint which with seamless uploading to Model registry.\n",
      "GPU available: True (cuda), used: True\n",
      "TPU available: False, using: 0 TPU cores\n",
      "HPU available: False, using: 0 HPUs\n",
      "/home/juan/Desktop/pytorch_eo/.venv/lib/python3.12/site-packages/lightning/pytorch/trainer/connectors/logger_connector/logger_connector.py:76: Starting from v1.9.0, `tensorboardX` has been removed as a dependency of the `lightning.pytorch` package, due to potential conflicts with other packages in the ML ecosystem. For this reason, `logger=True` will use `CSVLogger` as the default logger, unless the `tensorboard` or `tensorboardX` packages are found. Please `pip install lightning[extra]` or one of them to enable TensorBoard support by default\n",
      "You are using a CUDA device ('NVIDIA GeForce RTX 3090') that has Tensor Cores. To properly utilize them, you should set `torch.set_float32_matmul_precision('medium' | 'high')` which will trade-off precision for performance. For more details, read https://pytorch.org/docs/stable/generated/torch.set_float32_matmul_precision.html#torch.set_float32_matmul_precision\n",
      "extracting data ...: 100%|██████████| 27011/27011 [00:03<00:00, 8667.00it/s]\n",
      "LOCAL_RANK: 0 - CUDA_VISIBLE_DEVICES: [0,1]\n",
      "\n",
      "  | Name    | Type               | Params | Mode \n",
      "-------------------------------------------------------\n",
      "0 | model   | ResNet             | 11.2 M | train\n",
      "1 | loss_fn | CrossEntropyLoss   | 0      | train\n",
      "2 | acc     | MulticlassAccuracy | 0      | train\n",
      "-------------------------------------------------------\n",
      "11.2 M    Trainable params\n",
      "0         Non-trainable params\n",
      "11.2 M    Total params\n",
      "44.727    Total estimated model params size (MB)\n",
      "70        Modules in train mode\n",
      "0         Modules in eval mode\n"
     ]
    },
    {
     "name": "stdout",
     "output_type": "stream",
     "text": [
      "Training samples 16200\n",
      "Validation samples 5400\n",
      "Test samples 5400\n"
     ]
    },
    {
     "data": {
      "application/vnd.jupyter.widget-view+json": {
       "model_id": "4bd6a3ddcad04585a080a7757e2e48f6",
       "version_major": 2,
       "version_minor": 0
      },
      "text/plain": [
       "Sanity Checking: |          | 0/? [00:00<?, ?it/s]"
      ]
     },
     "metadata": {},
     "output_type": "display_data"
    },
    {
     "data": {
      "application/vnd.jupyter.widget-view+json": {
       "model_id": "9fb9ce9af0674a9397254227b055a2ab",
       "version_major": 2,
       "version_minor": 0
      },
      "text/plain": [
       "Training: |          | 0/? [00:00<?, ?it/s]"
      ]
     },
     "metadata": {},
     "output_type": "display_data"
    },
    {
     "data": {
      "application/vnd.jupyter.widget-view+json": {
       "model_id": "26ac05c4c52040dcaee0c1b54f58c44e",
       "version_major": 2,
       "version_minor": 0
      },
      "text/plain": [
       "Validation: |          | 0/? [00:00<?, ?it/s]"
      ]
     },
     "metadata": {},
     "output_type": "display_data"
    },
    {
     "data": {
      "application/vnd.jupyter.widget-view+json": {
       "model_id": "298045d6f0ca44409b22bcd6699fad36",
       "version_major": 2,
       "version_minor": 0
      },
      "text/plain": [
       "Validation: |          | 0/? [00:00<?, ?it/s]"
      ]
     },
     "metadata": {},
     "output_type": "display_data"
    },
    {
     "data": {
      "application/vnd.jupyter.widget-view+json": {
       "model_id": "7c669233657f4bd1a6f1bf1dc3456474",
       "version_major": 2,
       "version_minor": 0
      },
      "text/plain": [
       "Validation: |          | 0/? [00:00<?, ?it/s]"
      ]
     },
     "metadata": {},
     "output_type": "display_data"
    },
    {
     "data": {
      "application/vnd.jupyter.widget-view+json": {
       "model_id": "eb063f77dece42e9846cd350834de291",
       "version_major": 2,
       "version_minor": 0
      },
      "text/plain": [
       "Validation: |          | 0/? [00:00<?, ?it/s]"
      ]
     },
     "metadata": {},
     "output_type": "display_data"
    },
    {
     "data": {
      "application/vnd.jupyter.widget-view+json": {
       "model_id": "b00ff7f1c3614187a0f098db9cf28503",
       "version_major": 2,
       "version_minor": 0
      },
      "text/plain": [
       "Validation: |          | 0/? [00:00<?, ?it/s]"
      ]
     },
     "metadata": {},
     "output_type": "display_data"
    },
    {
     "name": "stderr",
     "output_type": "stream",
     "text": [
      "`Trainer.fit` stopped: `max_epochs=5` reached.\n"
     ]
    }
   ],
   "source": [
    "from pytorch_eo.tasks import ImageClassification\n",
    "\n",
    "trans = A.Compose([\n",
    "    A.HorizontalFlip(p=0.5),\n",
    "    A.VerticalFlip(p=0.5),\n",
    "    A.Normalize(0, 1),\n",
    "    ToTensorV2(),\n",
    "])\n",
    "\n",
    "ds = EuroSATDataset(trans=trans, test_size=0.2, val_size=0.2)\n",
    "\n",
    "task = ImageClassification(num_classes=10)\n",
    "\n",
    "trainer = L.Trainer(\n",
    "    accelerator='gpu',\n",
    "    devices=1,\n",
    "    max_epochs=5,\n",
    ")\n",
    "\n",
    "trainer.fit(task, ds)"
   ]
  },
  {
   "cell_type": "code",
   "execution_count": 13,
   "metadata": {},
   "outputs": [
    {
     "name": "stderr",
     "output_type": "stream",
     "text": [
      "/home/juan/Desktop/pytorch_eo/.venv/lib/python3.12/site-packages/lightning/pytorch/trainer/connectors/checkpoint_connector.py:149: `.test(ckpt_path=None)` was called without a model. The best model of the previous `fit` call will be used. You can pass `.test(ckpt_path='best')` to use the best model or `.test(ckpt_path='last')` to use the last model. If you pass a value, this warning will be silenced.\n",
      "extracting data ...: 100%|██████████| 27011/27011 [00:03<00:00, 8489.94it/s]\n",
      "Restoring states from the checkpoint path at /home/juan/Desktop/pytorch_eo/tutorials/lightning_logs/version_23/checkpoints/epoch=4-step=2535.ckpt\n",
      "LOCAL_RANK: 0 - CUDA_VISIBLE_DEVICES: [0,1]\n",
      "Loaded model weights from the checkpoint at /home/juan/Desktop/pytorch_eo/tutorials/lightning_logs/version_23/checkpoints/epoch=4-step=2535.ckpt\n"
     ]
    },
    {
     "name": "stdout",
     "output_type": "stream",
     "text": [
      "Training samples 16200\n",
      "Validation samples 5400\n",
      "Test samples 5400\n"
     ]
    },
    {
     "data": {
      "application/vnd.jupyter.widget-view+json": {
       "model_id": "e28830dae258498283297af7ae119750",
       "version_major": 2,
       "version_minor": 0
      },
      "text/plain": [
       "Testing: |          | 0/? [00:00<?, ?it/s]"
      ]
     },
     "metadata": {},
     "output_type": "display_data"
    },
    {
     "data": {
      "text/html": [
       "<pre style=\"white-space:pre;overflow-x:auto;line-height:normal;font-family:Menlo,'DejaVu Sans Mono',consolas,'Courier New',monospace\">┏━━━━━━━━━━━━━━━━━━━━━━━━━━━┳━━━━━━━━━━━━━━━━━━━━━━━━━━━┓\n",
       "┃<span style=\"font-weight: bold\">        Test metric        </span>┃<span style=\"font-weight: bold\">       DataLoader 0        </span>┃\n",
       "┡━━━━━━━━━━━━━━━━━━━━━━━━━━━╇━━━━━━━━━━━━━━━━━━━━━━━━━━━┩\n",
       "│<span style=\"color: #008080; text-decoration-color: #008080\">         test_acc          </span>│<span style=\"color: #800080; text-decoration-color: #800080\">    0.49481481313705444    </span>│\n",
       "│<span style=\"color: #008080; text-decoration-color: #008080\">         test_loss         </span>│<span style=\"color: #800080; text-decoration-color: #800080\">    2.1558945178985596     </span>│\n",
       "└───────────────────────────┴───────────────────────────┘\n",
       "</pre>\n"
      ],
      "text/plain": [
       "┏━━━━━━━━━━━━━━━━━━━━━━━━━━━┳━━━━━━━━━━━━━━━━━━━━━━━━━━━┓\n",
       "┃\u001b[1m \u001b[0m\u001b[1m       Test metric       \u001b[0m\u001b[1m \u001b[0m┃\u001b[1m \u001b[0m\u001b[1m      DataLoader 0       \u001b[0m\u001b[1m \u001b[0m┃\n",
       "┡━━━━━━━━━━━━━━━━━━━━━━━━━━━╇━━━━━━━━━━━━━━━━━━━━━━━━━━━┩\n",
       "│\u001b[36m \u001b[0m\u001b[36m        test_acc         \u001b[0m\u001b[36m \u001b[0m│\u001b[35m \u001b[0m\u001b[35m   0.49481481313705444   \u001b[0m\u001b[35m \u001b[0m│\n",
       "│\u001b[36m \u001b[0m\u001b[36m        test_loss        \u001b[0m\u001b[36m \u001b[0m│\u001b[35m \u001b[0m\u001b[35m   2.1558945178985596    \u001b[0m\u001b[35m \u001b[0m│\n",
       "└───────────────────────────┴───────────────────────────┘\n"
      ]
     },
     "metadata": {},
     "output_type": "display_data"
    },
    {
     "data": {
      "text/plain": [
       "[{'test_loss': 2.1558945178985596, 'test_acc': 0.49481481313705444}]"
      ]
     },
     "execution_count": 13,
     "metadata": {},
     "output_type": "execute_result"
    }
   ],
   "source": [
    "trainer.test(dataloaders=ds.test_dataloader())"
   ]
  }
 ],
 "metadata": {
  "kernelspec": {
   "display_name": ".venv",
   "language": "python",
   "name": "python3"
  },
  "language_info": {
   "codemirror_mode": {
    "name": "ipython",
    "version": 3
   },
   "file_extension": ".py",
   "mimetype": "text/x-python",
   "name": "python",
   "nbconvert_exporter": "python",
   "pygments_lexer": "ipython3",
   "version": "3.12.7"
  },
  "orig_nbformat": 4
 },
 "nbformat": 4,
 "nbformat_minor": 2
}
