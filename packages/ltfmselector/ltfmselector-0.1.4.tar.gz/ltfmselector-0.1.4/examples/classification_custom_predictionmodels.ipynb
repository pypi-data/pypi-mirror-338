{
 "cells": [
  {
   "cell_type": "markdown",
   "id": "60b505b0-bd28-4cfe-83bc-8889508bfdb4",
   "metadata": {},
   "source": [
    "# Example of Using Your Own Prediction Models for Classification\n",
    "\n",
    "Just like in [classification.ipynb](./classification.ipynb), we will use the UCI ML Breast Cancer Wisconsin dataset again."
   ]
  },
  {
   "cell_type": "code",
   "execution_count": null,
   "id": "b29dcb94-c3a3-4abb-9e64-ad5d4a23def7",
   "metadata": {},
   "outputs": [],
   "source": [
    "from ltfmselector import LTFMSelector\n",
    "\n",
    "import numpy as np\n",
    "import pandas as pd\n",
    "from sklearn.datasets import load_breast_cancer"
   ]
  },
  {
   "cell_type": "markdown",
   "id": "8e377f00-7e05-41f2-bc83-e5a2169bb911",
   "metadata": {},
   "source": [
    "Pre-processing the datasets"
   ]
  },
  {
   "cell_type": "code",
   "execution_count": null,
   "id": "b6e24fa4-30e3-454e-a75b-7627b04dce5b",
   "metadata": {},
   "outputs": [],
   "source": [
    "# Load breast cancer dataset\n",
    "cancer_dataset = load_breast_cancer()\n",
    "\n",
    "# Get data\n",
    "X = cancer_dataset['data']\n",
    "\n",
    "# Get target\n",
    "y = cancer_dataset['target']\n",
    "# - 0: malignant tumor\n",
    "# - 1: benign tumor\n",
    "\n",
    "# Get feature names\n",
    "feature_names = cancer_dataset['feature_names']\n",
    "\n",
    "# Get description\n",
    "dataset_description = cancer_dataset['DESCR']\n",
    "\n",
    "# Convert data into pandas DataFrame\n",
    "cancer_df = pd.DataFrame(\n",
    "    np.c_[X, y], columns = np.append(feature_names, ['target'])\n",
    ")\n",
    "\n",
    "# Split the dataset for training and test\n",
    "X_df = cancer_df.drop(['target'], axis=1)\n",
    "y_df = cancer_df['target']\n",
    "\n",
    "from sklearn.model_selection import train_test_split\n",
    "X_train, X_test, y_train, y_test = train_test_split(X_df, y_df, test_size=0.2, random_state=5)\n",
    "\n",
    "y_train = y_train.reset_index(drop=True)\n",
    "y_test  = y_test.reset_index(drop=True)"
   ]
  },
  {
   "cell_type": "markdown",
   "id": "9d40835c-5b4a-4968-87d4-48ecfdc78cf6",
   "metadata": {},
   "source": [
    "Users are allowed to pass their own choice of prediction models as a list.\n",
    "\n",
    "It is only important that each classifier/regressor have a ``fit`` and ``predict`` call-function."
   ]
  },
  {
   "cell_type": "code",
   "execution_count": null,
   "id": "0a0d3e4c-1801-4c65-83cb-d43ce6807ee4",
   "metadata": {},
   "outputs": [],
   "source": [
    "myown_prediction_models = []"
   ]
  }
 ],
 "metadata": {
  "kernelspec": {
   "display_name": "Python 3 (ipykernel)",
   "language": "python",
   "name": "python3"
  },
  "language_info": {
   "codemirror_mode": {
    "name": "ipython",
    "version": 3
   },
   "file_extension": ".py",
   "mimetype": "text/x-python",
   "name": "python",
   "nbconvert_exporter": "python",
   "pygments_lexer": "ipython3",
   "version": "3.12.9"
  }
 },
 "nbformat": 4,
 "nbformat_minor": 5
}
