{
 "cells": [
  {
   "cell_type": "code",
   "id": "28f6df8c7caed3f9",
   "metadata": {
    "collapsed": false,
    "jupyter": {
     "outputs_hidden": false
    },
    "ExecuteTime": {
     "end_time": "2025-01-14T04:29:58.280518Z",
     "start_time": "2025-01-14T04:29:56.265133Z"
    }
   },
   "source": [
    "from pathlib import Path\n",
    "import polars as pl\n",
    "import duckdb\n",
    "from datasets import Dataset\n",
    "import numpy as np\n",
    "from autofaiss import build_index\n",
    "from FlagEmbedding import BGEM3FlagModel\n",
    "from core_pro.ultilities import make_dir, make_sync_folder"
   ],
   "outputs": [],
   "execution_count": 2
  },
  {
   "cell_type": "code",
   "id": "5c3e4a05690aebce",
   "metadata": {
    "ExecuteTime": {
     "end_time": "2025-01-14T04:29:59.487675Z",
     "start_time": "2025-01-14T04:29:58.867974Z"
    }
   },
   "source": [
    "path = make_sync_folder('dataset/item_matching')\n",
    "file = path / 'data_sample_FMCG_clean.parquet'\n",
    "\n",
    "query = f\"\"\"select * from read_parquet('{file}')\"\"\"\n",
    "df = duckdb.sql(query).pl()\n",
    "df.head()"
   ],
   "outputs": [
    {
     "data": {
      "text/plain": [
       "shape: (5, 14)\n",
       "┌───────┬────────────┬────────────┬────────────┬───┬───────────┬───────────┬───────────┬───────────┐\n",
       "│ index ┆ item_id    ┆ item_name  ┆ shop_id    ┆ … ┆ images    ┆ image_url ┆ item_name ┆ file_path │\n",
       "│ ---   ┆ ---        ┆ ---        ┆ ---        ┆   ┆ ---       ┆ ---       ┆ _clean    ┆ ---       │\n",
       "│ u32   ┆ i64        ┆ str        ┆ i64        ┆   ┆ str       ┆ str       ┆ ---       ┆ str       │\n",
       "│       ┆            ┆            ┆            ┆   ┆           ┆           ┆ str       ┆           │\n",
       "╞═══════╪════════════╪════════════╪════════════╪═══╪═══════════╪═══════════╪═══════════╪═══════════╡\n",
       "│ 0     ┆ 1909227190 ┆ LINEABON   ┆ 1053944724 ┆ … ┆ vn-111342 ┆ http://f. ┆ lineabon  ┆ /media/ke │\n",
       "│       ┆ 7          ┆ K2D3 nhập  ┆            ┆   ┆ 07-7ras8- ┆ shopee.vn ┆ k2d3 nhập ┆ vin/data_ │\n",
       "│       ┆            ┆ khẩu châu  ┆            ┆   ┆ m49p5xv9e ┆ /file/vn- ┆ khẩu châu ┆ 4t/datase │\n",
       "│       ┆            ┆ â…         ┆            ┆   ┆ cb3…      ┆ 111…      ┆ â…        ┆ t/i…      │\n",
       "│ 1     ┆ 1739858772 ┆ [MKB Gift] ┆ 63522286   ┆ … ┆ eb26f55f7 ┆ http://f. ┆ bộ 3 khăn ┆ /media/ke │\n",
       "│       ┆ 3          ┆ Bộ 3 Khăn  ┆            ┆   ┆ 359e0de33 ┆ shopee.vn ┆ ướt moony ┆ vin/data_ │\n",
       "│       ┆            ┆ ướt Moony… ┆            ┆   ┆ 3f0c34e26 ┆ /file/eb2 ┆ 50        ┆ 4t/datase │\n",
       "│       ┆            ┆            ┆            ┆   ┆ 19f…      ┆ 6f5…      ┆ miếng/g…  ┆ t/i…      │\n",
       "│ 2     ┆ 1911129959 ┆ Bàn Chải   ┆ 170502615  ┆ … ┆ vn-111342 ┆ http://f. ┆ bàn chải  ┆ /media/ke │\n",
       "│       ┆ 6          ┆ Đánh Răng  ┆            ┆   ┆ 07-7ras8- ┆ shopee.vn ┆ đánh răng ┆ vin/data_ │\n",
       "│       ┆            ┆ Lipzo      ┆            ┆   ┆ m2kwpjg8v ┆ /file/vn- ┆ lipzo     ┆ 4t/datase │\n",
       "│       ┆            ┆ Sensi…     ┆            ┆   ┆ b46…      ┆ 111…      ┆ sensi…    ┆ t/i…      │\n",
       "│ 3     ┆ 2558341276 ┆ Rong biển  ┆ 119247917  ┆ … ┆ vn-111342 ┆ http://f. ┆ rong biển ┆ /media/ke │\n",
       "│       ┆ 0          ┆ ăn liền    ┆            ┆   ┆ 07-7r98o- ┆ shopee.vn ┆ ăn liền   ┆ vin/data_ │\n",
       "│       ┆            ┆ Bibizan    ┆            ┆   ┆ lxqfhxwp3 ┆ /file/vn- ┆ bibizan   ┆ 4t/datase │\n",
       "│       ┆            ┆ siêu…      ┆            ┆   ┆ h0b…      ┆ 111…      ┆ siêu…     ┆ t/i…      │\n",
       "│ 4     ┆ 1593015076 ┆ (MUA 2 SON ┆ 181790483  ┆ … ┆ vn-111342 ┆ http://f. ┆ son tint  ┆ /media/ke │\n",
       "│       ┆ 4          ┆ TẶNG 1     ┆            ┆   ┆ 07-7r98o- ┆ shopee.vn ┆ bóng      ┆ vin/data_ │\n",
       "│       ┆            ┆ TÚI, 1     ┆            ┆   ┆ lyrll7tp7 ┆ /file/vn- ┆ espoir    ┆ 4t/datase │\n",
       "│       ┆            ┆ CUSHI…     ┆            ┆   ┆ 1y9…      ┆ 111…      ┆ couture   ┆ t/i…      │\n",
       "│       ┆            ┆            ┆            ┆   ┆           ┆           ┆ l…        ┆           │\n",
       "└───────┴────────────┴────────────┴────────────┴───┴───────────┴───────────┴───────────┴───────────┘"
      ],
      "text/html": [
       "<div><style>\n",
       ".dataframe > thead > tr,\n",
       ".dataframe > tbody > tr {\n",
       "  text-align: right;\n",
       "  white-space: pre-wrap;\n",
       "}\n",
       "</style>\n",
       "<small>shape: (5, 14)</small><table border=\"1\" class=\"dataframe\"><thead><tr><th>index</th><th>item_id</th><th>item_name</th><th>shop_id</th><th>shop_name</th><th>level1_global_be_category</th><th>level2_global_be_category</th><th>level3_global_be_category</th><th>cluster</th><th>description</th><th>images</th><th>image_url</th><th>item_name_clean</th><th>file_path</th></tr><tr><td>u32</td><td>i64</td><td>str</td><td>i64</td><td>str</td><td>str</td><td>str</td><td>str</td><td>str</td><td>str</td><td>str</td><td>str</td><td>str</td><td>str</td></tr></thead><tbody><tr><td>0</td><td>19092271907</td><td>&quot;LINEABON K2D3 nhập khẩu châu â…</td><td>1053944724</td><td>&quot;ChiChi.Kids17&quot;</td><td>&quot;Mom &amp; Baby&quot;</td><td>&quot;Baby Healthcare&quot;</td><td>&quot;Baby Vitamins &amp; Supplements&quot;</td><td>&quot;FMCG&quot;</td><td>&quot;Nguồn gốc xuất xứ\n",
       "K2 D3 Lineab…</td><td>&quot;vn-11134207-7ras8-m49p5xv9ecb3…</td><td>&quot;http://f.shopee.vn/file/vn-111…</td><td>&quot;lineabon k2d3 nhập khẩu châu â…</td><td>&quot;/media/kevin/data_4t/dataset/i…</td></tr><tr><td>1</td><td>17398587723</td><td>&quot;[MKB Gift] Bộ 3 Khăn ướt Moony…</td><td>63522286</td><td>&quot;Moony - Gian Hàng Chính Hãng&quot;</td><td>&quot;Mom &amp; Baby&quot;</td><td>&quot;Bath &amp; Body Care&quot;</td><td>&quot;Wipes&quot;</td><td>&quot;FMCG&quot;</td><td>&quot;[{&quot;t&quot;:&quot;Bộ 3 khăn ướt Moony 50 …</td><td>&quot;eb26f55f7359e0de333f0c34e2619f…</td><td>&quot;http://f.shopee.vn/file/eb26f5…</td><td>&quot;bộ 3 khăn ướt moony 50 miếng/g…</td><td>&quot;/media/kevin/data_4t/dataset/i…</td></tr><tr><td>2</td><td>19111299596</td><td>&quot;Bàn Chải Đánh Răng Lipzo Sensi…</td><td>170502615</td><td>&quot;Niva Lipzo Official Store&quot;</td><td>&quot;Health&quot;</td><td>&quot;Personal Care&quot;</td><td>&quot;Oral Care&quot;</td><td>&quot;FMCG&quot;</td><td>&quot;[{&quot;t&quot;:&quot;BÀN CHẢI ĐÁNH RĂNG LIPZ…</td><td>&quot;vn-11134207-7ras8-m2kwpjg8vb46…</td><td>&quot;http://f.shopee.vn/file/vn-111…</td><td>&quot;bàn chải đánh răng lipzo sensi…</td><td>&quot;/media/kevin/data_4t/dataset/i…</td></tr><tr><td>3</td><td>25583412760</td><td>&quot;Rong biển ăn liền Bibizan siêu…</td><td>119247917</td><td>&quot;King 21&quot;</td><td>&quot;Food &amp; Beverages&quot;</td><td>&quot;Snacks&quot;</td><td>&quot;Seaweed&quot;</td><td>&quot;FMCG&quot;</td><td>&quot;NGÀY IN TRÊN BAO BÌ LÀ NGÀY SẢ…</td><td>&quot;vn-11134207-7r98o-lxqfhxwp3h0b…</td><td>&quot;http://f.shopee.vn/file/vn-111…</td><td>&quot;rong biển ăn liền bibizan siêu…</td><td>&quot;/media/kevin/data_4t/dataset/i…</td></tr><tr><td>4</td><td>15930150764</td><td>&quot;(MUA 2 SON TẶNG 1 TÚI, 1 CUSHI…</td><td>181790483</td><td>&quot;Lam Thảo Cosmetics&quot;</td><td>&quot;Beauty&quot;</td><td>&quot;Makeup&quot;</td><td>&quot;Lips&quot;</td><td>&quot;FMCG&quot;</td><td>&quot;Son Tint Bóng Espoir Couture L…</td><td>&quot;vn-11134207-7r98o-lyrll7tp71y9…</td><td>&quot;http://f.shopee.vn/file/vn-111…</td><td>&quot;son tint bóng espoir couture l…</td><td>&quot;/media/kevin/data_4t/dataset/i…</td></tr></tbody></table></div>"
      ]
     },
     "execution_count": 3,
     "metadata": {},
     "output_type": "execute_result"
    }
   ],
   "execution_count": 3
  },
  {
   "cell_type": "code",
   "id": "221b61297efcc3e0",
   "metadata": {
    "ExecuteTime": {
     "end_time": "2025-01-14T06:55:47.230743Z",
     "start_time": "2025-01-14T06:54:34.688970Z"
    }
   },
   "source": [
    "name = 'bge'\n",
    "path_tmp_array = Path(path / f'tmp/array/{name}')\n",
    "path_tmp_ds = Path(path / f'tmp/ds/{name}')\n",
    "make_dir(path_tmp_ds)\n",
    "make_dir(path_tmp_array)\n",
    "\n",
    "file_embed = path_tmp_array / 'embed.npy'\n",
    "if not file_embed.exists():\n",
    "    model = BGEM3FlagModel('BAAI/bge-m3', use_fp16=True)\n",
    "    embeddings = model.encode(\n",
    "        df['item_name_clean'].to_list(),\n",
    "        batch_size=8,\n",
    "        max_length=80,\n",
    "        return_dense=True,\n",
    "        return_sparse=False,\n",
    "        return_colbert_vecs=False\n",
    "    )['dense_vecs']\n",
    "    np.save(file_embed, embeddings.astype(np.float64))\n",
    "else:\n",
    "    embeddings = np.load(file_embed)\n",
    "print(embeddings.shape)"
   ],
   "outputs": [
    {
     "data": {
      "text/plain": [
       "Fetching 30 files:   0%|          | 0/30 [00:00<?, ?it/s]"
      ],
      "application/vnd.jupyter.widget-view+json": {
       "version_major": 2,
       "version_minor": 0,
       "model_id": "eecd80449da64c3684d08828368327c7"
      }
     },
     "metadata": {},
     "output_type": "display_data"
    },
    {
     "name": "stderr",
     "output_type": "stream",
     "text": [
      "pre tokenize: 100%|██████████| 12341/12341 [00:01<00:00, 6375.40it/s]\n",
      "You're using a XLMRobertaTokenizerFast tokenizer. Please note that with a fast tokenizer, using the `__call__` method is faster than using a method to encode the text followed by a call to the `pad` method to get a padded encoding.\n",
      "Inference Embeddings: 100%|██████████| 12341/12341 [01:07<00:00, 181.72it/s]\n"
     ]
    },
    {
     "name": "stdout",
     "output_type": "stream",
     "text": [
      "(98722, 1024)\n"
     ]
    }
   ],
   "execution_count": 10
  },
  {
   "metadata": {
    "ExecuteTime": {
     "end_time": "2025-01-14T06:54:22.509620Z",
     "start_time": "2025-01-14T06:54:22.338482Z"
    }
   },
   "cell_type": "code",
   "source": "embeddings.astype(np.float64).dtype",
   "id": "e46b7efe6c836bdc",
   "outputs": [
    {
     "data": {
      "text/plain": [
       "dtype('float64')"
      ]
     },
     "execution_count": 8,
     "metadata": {},
     "output_type": "execute_result"
    }
   ],
   "execution_count": 8
  },
  {
   "cell_type": "code",
   "id": "b95e12aa6944cd3e",
   "metadata": {
    "collapsed": false,
    "jupyter": {
     "outputs_hidden": false
    },
    "ExecuteTime": {
     "end_time": "2024-11-21T03:47:31.669279Z",
     "start_time": "2024-11-21T03:47:31.556995Z"
    }
   },
   "source": [
    "df = df.with_columns(pl.Series(values=embeddings, name='embed'))\n",
    "dataset = Dataset.from_polars(df)\n",
    "dataset.set_format(type='numpy', columns=['embed'], output_all_columns=True)"
   ],
   "outputs": [],
   "execution_count": 4
  },
  {
   "cell_type": "code",
   "id": "96cc5afcf31a1e6a",
   "metadata": {
    "collapsed": false,
    "jupyter": {
     "outputs_hidden": false
    },
    "ExecuteTime": {
     "end_time": "2024-11-21T03:47:49.419037Z",
     "start_time": "2024-11-21T03:47:31.679352Z"
    }
   },
   "source": [
    "path_index = Path(path / 'tmp/index')\n",
    "build_index(\n",
    "    embeddings=embeddings,\n",
    "    index_path=str(path_index / f'ip.index'),\n",
    "    index_infos_path=str(path_index / f'index.json'),\n",
    "    save_on_disk=True,\n",
    "    metric_type='ip',\n",
    "    verbose=30,\n",
    ")"
   ],
   "outputs": [
    {
     "name": "stderr",
     "output_type": "stream",
     "text": [
      "100%|██████████| 1/1 [00:00<00:00, 2743.17it/s]\n",
      "100%|██████████| 1/1 [00:00<00:00,  6.35it/s]\n",
      "  0%|          | 0/1 [00:00<?, ?it/s]\n"
     ]
    },
    {
     "data": {
      "text/plain": [
       "(<faiss.swigfaiss_avx2.IndexHNSWFlat; proxy of <Swig Object of type 'faiss::IndexHNSWFlat *' at 0x7b8858053ea0> >,\n",
       " {'index_key': 'HNSW15',\n",
       "  'index_param': 'efSearch=5226',\n",
       "  'index_path': '/home/kevin/Downloads/Item_Matching_Test/tmp/index/ip.index',\n",
       "  'size in bytes': 42050218,\n",
       "  'avg_search_speed_ms': 9.97823628438878,\n",
       "  '99p_search_speed_ms': 10.557658101897687,\n",
       "  'reconstruction error %': 0.0,\n",
       "  'nb vectors': 9936,\n",
       "  'vectors dimension': 1024,\n",
       "  'compression ratio': 0.9678393581693203})"
      ]
     },
     "execution_count": 5,
     "metadata": {},
     "output_type": "execute_result"
    }
   ],
   "execution_count": 5
  },
  {
   "cell_type": "code",
   "id": "6efdce62f49c27b9",
   "metadata": {
    "collapsed": false,
    "jupyter": {
     "outputs_hidden": false
    },
    "ExecuteTime": {
     "end_time": "2024-11-21T03:47:49.444017Z",
     "start_time": "2024-11-21T03:47:49.423495Z"
    }
   },
   "source": [
    "# add index\n",
    "dataset.load_faiss_index('embed', path_index / f'ip.index')"
   ],
   "outputs": [],
   "execution_count": 6
  },
  {
   "cell_type": "code",
   "id": "3bcba75a987dd8c2",
   "metadata": {
    "collapsed": false,
    "jupyter": {
     "outputs_hidden": false
    },
    "ExecuteTime": {
     "end_time": "2024-11-21T03:48:21.516840Z",
     "start_time": "2024-11-21T03:47:49.465298Z"
    }
   },
   "source": [
    "score, result = dataset.get_nearest_examples_batch(\n",
    "    'embed',\n",
    "    np.asarray(dataset['embed']),\n",
    "    k=5\n",
    ")\n",
    "\n",
    "dict_ = {'score': [list(i) for i in score]}\n",
    "df_score = pl.DataFrame(dict_)\n",
    "df_result = (\n",
    "    pl.DataFrame(result).drop(['embed'])\n",
    "    .select(pl.all().name.prefix(f'db_'))\n",
    ")"
   ],
   "outputs": [],
   "execution_count": 7
  },
  {
   "cell_type": "code",
   "id": "ae3b4d1db34781b3",
   "metadata": {
    "collapsed": false,
    "jupyter": {
     "outputs_hidden": false
    },
    "ExecuteTime": {
     "end_time": "2024-11-21T03:48:21.523477Z",
     "start_time": "2024-11-21T03:48:21.522065Z"
    }
   },
   "source": [
    "df_match = pl.concat([df, df_result, df_score], how='horizontal')\n",
    "col_explode = [i for i in df_match.columns if 'notebooks' in i] + ['score']"
   ],
   "outputs": [],
   "execution_count": 8
  },
  {
   "cell_type": "code",
   "id": "c77a28d769f090a8",
   "metadata": {
    "collapsed": false,
    "jupyter": {
     "outputs_hidden": false
    },
    "ExecuteTime": {
     "end_time": "2024-11-21T03:49:47.981189Z",
     "start_time": "2024-11-21T03:49:47.462896Z"
    }
   },
   "source": [
    "path_export = path / 'text_match'\n",
    "make_dir(path_export)\n",
    "df_match.write_parquet(path_export / f'{name}.parquet')"
   ],
   "outputs": [],
   "execution_count": 10
  },
  {
   "cell_type": "code",
   "id": "2dacba735258ef3d",
   "metadata": {
    "collapsed": false,
    "jupyter": {
     "outputs_hidden": false
    },
    "ExecuteTime": {
     "end_time": "2024-11-21T03:48:21.608328439Z",
     "start_time": "2024-11-21T03:45:55.640192Z"
    }
   },
   "source": [],
   "outputs": [],
   "execution_count": null
  }
 ],
 "metadata": {
  "kernelspec": {
   "display_name": "Python 3 (ipykernel)",
   "language": "python",
   "name": "python3"
  },
  "language_info": {
   "codemirror_mode": {
    "name": "ipython",
    "version": 3
   },
   "file_extension": ".py",
   "mimetype": "text/x-python",
   "name": "python",
   "nbconvert_exporter": "python",
   "pygments_lexer": "ipython3",
   "version": "3.12.7"
  }
 },
 "nbformat": 4,
 "nbformat_minor": 5
}
