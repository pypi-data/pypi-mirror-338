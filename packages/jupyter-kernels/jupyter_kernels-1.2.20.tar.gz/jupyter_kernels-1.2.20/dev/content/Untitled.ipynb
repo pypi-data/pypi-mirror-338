{
 "cells": [
  {
   "cell_type": "code",
   "execution_count": null,
   "id": "968a5c7b-b13c-4ad1-8667-b8b029060420",
   "metadata": {},
   "outputs": [],
   "source": []
  }
 ],
 "metadata": {
  "kernelspec": {
   "display_name": "",
   "name": ""
  },
  "language_info": {
   "name": ""
  }
 },
 "nbformat": 4,
 "nbformat_minor": 5
}
