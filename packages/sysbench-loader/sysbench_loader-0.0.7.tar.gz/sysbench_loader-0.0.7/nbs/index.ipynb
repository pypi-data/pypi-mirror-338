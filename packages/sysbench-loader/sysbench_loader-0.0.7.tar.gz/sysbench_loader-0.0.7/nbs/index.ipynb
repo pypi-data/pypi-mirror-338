{
 "cells": [
  {
   "cell_type": "markdown",
   "metadata": {},
   "source": [
    "<img src=\"https://raw.githubusercontent.com/daniel-om-weber/sysbench_loader/main/assets/logo.svg\" width=\"200\" align=\"left\" alt=\"sysbench_loader logo\">"
   ]
  },
  {
   "cell_type": "markdown",
   "metadata": {},
   "source": [
    "## Sysbench Loader\n",
    "The `sysbench_loader` package provides a collection of standardized data loaders for common system identification benchmark datasets. It downloads, prepares, and converts various benchmark datasets into a unified HDF5 format, making them readily available for machine learning and system identification applications."
   ]
  },
  {
   "cell_type": "markdown",
   "metadata": {},
   "source": [
    "## Install"
   ]
  },
  {
   "cell_type": "markdown",
   "metadata": {},
   "source": [
    "```sh\n",
    "pip install sysbench_loader\n",
    "```"
   ]
  },
  {
   "cell_type": "markdown",
   "metadata": {},
   "source": [
    "## Features\n",
    "\n",
    "- Downloads benchmark datasets from various sources\n",
    "- Converts data to standardized HDF5 format\n",
    "- Splits data into train/validation/test sets\n",
    "- Provides consistent interface across different benchmarks\n",
    "- Handles setup and cleanup of downloaded files\n",
    "\n",
    "## Available Benchmarks\n",
    "\n",
    "The package includes loaders for the following benchmark datasets:\n",
    "\n",
    "### Nonlinear Systemidentification Workshop Benchmarks\n",
    "- **Wiener-Hammerstein**: Electronic nonlinear system\n",
    "- **Silverbox**: Electronic circuit with nonlinear feedback\n",
    "- **Cascaded Tanks**: Fluid dynamics system\n",
    "- **EMPS**: Electro-Mechanical Positioning System\n",
    "- **Noisy Wiener-Hammerstein**: WH system with process noise\n",
    "\n",
    "### Robotic Systems\n",
    "- **Industrial Robot**: Forward and inverse identification models\n",
    "- **Quad Pelican**: Quadrotor UAV system\n",
    "- **Quad Pi**: Raspberry Pi-based quadrotor system\n",
    "\n",
    "### Other Systems\n",
    "- **Ship**: Ship propulsion and steering dynamics\n",
    "- **Broad**: Broad spectrum system identification dataset"
   ]
  },
  {
   "cell_type": "code",
   "execution_count": null,
   "metadata": {},
   "outputs": [],
   "source": [
    "# Basic usage\n",
    "import sysbench_loader\n",
    "from pathlib import Path\n",
    "\n",
    "# Example: Download a single dataset\n",
    "# Note: Always use a Path object, not a string\n",
    "save_path = Path('./tmp/wh')\n",
    "sysbench_loader.workshop.wiener_hammerstein(save_path)"
   ]
  },
  {
   "cell_type": "code",
   "execution_count": null,
   "metadata": {},
   "outputs": [
    {
     "data": {
      "text/plain": [
       "[<function sysbench_loader.workshop.wiener_hammerstein(save_path: pathlib.Path)>,\n",
       " <function sysbench_loader.workshop.silverbox(save_path: pathlib.Path)>,\n",
       " <function sysbench_loader.workshop.cascaded_tanks(save_path: pathlib.Path)>,\n",
       " <function sysbench_loader.workshop.emps(save_path: pathlib.Path)>,\n",
       " <function sysbench_loader.workshop.noisy_wh(save_path: pathlib.Path)>,\n",
       " <function sysbench_loader.industrial_robot.robot_forward(save_path: pathlib.Path)>,\n",
       " <function sysbench_loader.industrial_robot.robot_inverse(save_path: pathlib.Path)>,\n",
       " <function sysbench_loader.ship.ship(save_path: pathlib.Path, remove_download=True)>,\n",
       " <function sysbench_loader.quad_pelican.quad_pelican(save_path: pathlib.Path, remove_download=False)>,\n",
       " <function sysbench_loader.quad_pi.quad_pi(save_path: pathlib.Path, remove_download=False)>,\n",
       " <function sysbench_loader.broad.broad(save_path: pathlib.Path)>]"
      ]
     },
     "execution_count": null,
     "metadata": {},
     "output_type": "execute_result"
    }
   ],
   "source": [
    "# List all available dataset loaders\n",
    "sysbench_loader.all_dataset_loader"
   ]
  },
  {
   "cell_type": "markdown",
   "metadata": {},
   "source": [
    "## HDF5 Data Format\n",
    "\n",
    "Each dataset is converted to a standard HDF5 format with the following structure:\n",
    "- Train/valid/test split in separate directories\n",
    "- Input data stored as 'u0', 'u1', etc. (one per input dimension)\n",
    "- Output data stored as 'y0', 'y1', etc. (one per output dimension)\n",
    "- Data converted to 32-bit float (f4) for consistency\n",
    "\n",
    "This standardized format makes it easy to use these datasets with any machine learning framework that supports HDF5 files.\n"
   ]
  },
  {
   "cell_type": "markdown",
   "metadata": {},
   "source": []
  }
 ],
 "metadata": {
  "kernelspec": {
   "display_name": "python3",
   "language": "python",
   "name": "python3"
  }
 },
 "nbformat": 4,
 "nbformat_minor": 4
}
