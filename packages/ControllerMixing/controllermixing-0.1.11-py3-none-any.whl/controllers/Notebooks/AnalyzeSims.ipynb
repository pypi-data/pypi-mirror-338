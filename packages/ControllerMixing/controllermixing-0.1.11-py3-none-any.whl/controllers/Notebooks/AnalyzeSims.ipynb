{
 "cells": [
  {
   "metadata": {},
   "cell_type": "markdown",
   "source": "",
   "id": "8e7cc21f735c152b"
  },
  {
   "metadata": {},
   "cell_type": "code",
   "outputs": [],
   "execution_count": null,
   "source": [
    "import pandas as pd\n",
    "import numpy as np"
   ],
   "id": "e079be677569a39a"
  },
  {
   "metadata": {},
   "cell_type": "code",
   "outputs": [],
   "execution_count": null,
   "source": [
    "df = pd.read_csv('/Users/user/PycharmProjects/PacManMain/PacTimeOrig/controllers/results/maintestsecond_slack.csv') \n",
    "\n",
    "\n",
    "result_df = df.loc[df.groupby(['model', 'nrbf', 'opttype', 'gpscaler','tlength'])['wtcorr'].idxmax()]\n",
    "\n",
    "\n",
    "grouped_stats = result_df.groupby(['model','nrbf'])['wtcorr'].agg(['mean', 'std'])\n"
   ],
   "id": "fc16a110ccb1b520"
  }
 ],
 "metadata": {
  "kernelspec": {
   "display_name": "Python 3",
   "language": "python",
   "name": "python3"
  },
  "language_info": {
   "codemirror_mode": {
    "name": "ipython",
    "version": 2
   },
   "file_extension": ".py",
   "mimetype": "text/x-python",
   "name": "python",
   "nbconvert_exporter": "python",
   "pygments_lexer": "ipython2",
   "version": "2.7.6"
  }
 },
 "nbformat": 4,
 "nbformat_minor": 5
}
