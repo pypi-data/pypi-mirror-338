{
 "cells": [
  {
   "cell_type": "code",
   "execution_count": null,
   "metadata": {},
   "outputs": [],
   "source": [
    "# %%\n",
    "## Import modules\n",
    "from cfdverify.discretization import Classic, Average\n"
   ]
  },
  {
   "cell_type": "code",
   "execution_count": null,
   "metadata": {},
   "outputs": [],
   "source": [
    "# %%\n",
    "## Use the Classic model for data which convergences following a power law\n",
    "mesh_sizes = [0.00292402, 0.00414913, 0.00573555] # m\n",
    "pressure_drop = [100, 98, 95] # kPa\n",
    "model = Classic(mesh_sizes, pressure_drop)\n",
    "model.summarize()\n"
   ]
  },
  {
   "cell_type": "code",
   "execution_count": null,
   "metadata": {},
   "outputs": [],
   "source": [
    "# %%\n",
    "## Use the Average model for oscillatory data which isn't showing a trend\n",
    "mesh_sizes = [0.00292402, 0.00414913, 0.00573555, 0.007, 0.009] # m\n",
    "pressure_drop = [100, 98, 101, 98.4, 100.5] # kPa\n",
    "model = Average(mesh_sizes, pressure_drop)\n",
    "model.summarize()"
   ]
  },
  {
   "cell_type": "code",
   "execution_count": null,
   "metadata": {},
   "outputs": [],
   "source": [
    "# %%\n"
   ]
  }
 ],
 "metadata": {
  "kernelspec": {
   "display_name": "cfd-verify",
   "language": "python",
   "name": "python3"
  },
  "language_info": {
   "codemirror_mode": {
    "name": "ipython",
    "version": 3
   },
   "file_extension": ".py",
   "mimetype": "text/x-python",
   "name": "python",
   "nbconvert_exporter": "python",
   "pygments_lexer": "ipython3",
   "version": "3.11.4"
  }
 },
 "nbformat": 4,
 "nbformat_minor": 2
}
