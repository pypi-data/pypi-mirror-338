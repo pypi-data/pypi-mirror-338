{
 "cells": [
  {
   "cell_type": "code",
   "execution_count": null,
   "metadata": {},
   "outputs": [],
   "source": [
    "# %%\n",
    "## Import modules\n",
    "from cfdverify.discretization import *\n"
   ]
  },
  {
   "cell_type": "code",
   "execution_count": null,
   "metadata": {},
   "outputs": [],
   "source": [
    "# %%\n",
    "## Create the default custom model\n",
    "mesh_sizes = [0.00292402, 0.00414913, 0.00573555] # m\n",
    "pressure_drop = [100, 98, 95] # kPa\n",
    "max_vel = [8, 8.5, 9.2] # m/s\n",
    "model = CustomDiscretizationError(mesh_sizes,\n",
    "                                  {\"DP\": pressure_drop, \"Vel\": max_vel})\n",
    "model.summarize()\n"
   ]
  },
  {
   "cell_type": "code",
   "execution_count": null,
   "metadata": {},
   "outputs": [],
   "source": [
    "# %%\n",
    "## Specify individual discretization, error, and uncertainty models\n",
    "# Be careful, it is very easy to create combinations that are inconsistent!\n",
    "model = CustomDiscretizationError(mesh_sizes,\n",
    "                                  {\"DP\": pressure_drop, \"Vel\": max_vel},\n",
    "                                  model=FinestValue,\n",
    "                                  error=RelativeError,\n",
    "                                  uncertainty=FactorOfSafety)\n",
    "model.summarize()"
   ]
  }
 ],
 "metadata": {
  "kernelspec": {
   "display_name": "cfd-verify",
   "language": "python",
   "name": "python3"
  },
  "language_info": {
   "codemirror_mode": {
    "name": "ipython",
    "version": 3
   },
   "file_extension": ".py",
   "mimetype": "text/x-python",
   "name": "python",
   "nbconvert_exporter": "python",
   "pygments_lexer": "ipython3",
   "version": "3.11.4"
  }
 },
 "nbformat": 4,
 "nbformat_minor": 2
}
