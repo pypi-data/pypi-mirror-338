{
 "cells": [
  {
   "cell_type": "code",
   "execution_count": null,
   "metadata": {},
   "outputs": [],
   "source": [
    "# %%\n",
    "## Import modules and create model\n",
    "from cfdverify.discretization import Classic\n",
    "mesh_sizes = [0.00292402, 0.00414913, 0.00573555] # m\n",
    "pressure_drop = [100, 98, 95] # kPa\n",
    "max_vel = [8, 8.5, 9.2] # m/s\n",
    "model = Classic(mesh_sizes, {\"DP\": pressure_drop, \"Vel\": max_vel})\n"
   ]
  },
  {
   "cell_type": "code",
   "execution_count": null,
   "metadata": {},
   "outputs": [],
   "source": [
    "# %%\n",
    "## Mesh data\n",
    "# The key (name) for the discretization data\n",
    "print(f\"Mesh key is: {model.hs_key}\")\n",
    "# The discretization values are stored as a Pandas Series\n",
    "print(f\"Mesh sizes are: \\n{model.hs}\")\n"
   ]
  },
  {
   "cell_type": "code",
   "execution_count": null,
   "metadata": {},
   "outputs": [],
   "source": [
    "# %%\n",
    "## System response quantity data\n",
    "# The keys (names) for the responses are stored in a tuple\n",
    "print(f\"Response keys are: {model.keys}\")\n",
    "# The response data is stored in a Pandas DataFrame\n",
    "print(f\"Response data are: \\n{model.data}\")\n"
   ]
  },
  {
   "cell_type": "code",
   "execution_count": null,
   "metadata": {},
   "outputs": [],
   "source": [
    "# %%\n",
    "## Data manipulation methods\n",
    "# Get the number of discretization levels being investigated\n",
    "print(f\"Number of meshes: {len(model)}\")\n",
    "# Get the relative error of simulation responses\n",
    "print(f\"Relative error of DP: \\n{model.relative_error('Vel')}\")\n",
    "# Or you can get the absolute relative error\n",
    "print(f\"Asbsolute relative error of DP: \\n{model.abs_relative_error('Vel')}\")\n"
   ]
  },
  {
   "cell_type": "code",
   "execution_count": null,
   "metadata": {},
   "outputs": [],
   "source": [
    "# %%\n",
    "## Data interpretation\n",
    "# Summaries of data can be generated per response key\n",
    "model.summarize(\"Vel\")\n",
    "# Plots can be generated per response key and customized\n",
    "model.plot(key=\"Vel\",\n",
    "           filename=\"ExamplePlot.png\",\n",
    "           title=\"My Velocity Solution Verification Results\",\n",
    "           xlabel=\"Mesh Size (m)\",\n",
    "           ylabel=\"Velocity (m/s)\")\n",
    "# Data can be exported for use in tables in CSV format\n",
    "model.export(\"ModelData.csv\")"
   ]
  },
  {
   "cell_type": "code",
   "execution_count": null,
   "metadata": {},
   "outputs": [],
   "source": [
    "# %%\n"
   ]
  }
 ],
 "metadata": {
  "kernelspec": {
   "display_name": "cfd-verify",
   "language": "python",
   "name": "python3"
  },
  "language_info": {
   "codemirror_mode": {
    "name": "ipython",
    "version": 3
   },
   "file_extension": ".py",
   "mimetype": "text/x-python",
   "name": "python",
   "nbconvert_exporter": "python",
   "pygments_lexer": "ipython3",
   "version": "3.11.4"
  }
 },
 "nbformat": 4,
 "nbformat_minor": 2
}
