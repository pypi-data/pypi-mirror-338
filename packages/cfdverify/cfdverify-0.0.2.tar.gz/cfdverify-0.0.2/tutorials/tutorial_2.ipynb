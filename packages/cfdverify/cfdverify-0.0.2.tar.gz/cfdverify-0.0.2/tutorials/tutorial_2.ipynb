{
 "cells": [
  {
   "cell_type": "code",
   "execution_count": null,
   "metadata": {},
   "outputs": [],
   "source": [
    "# %%\n",
    "## Import modules\n",
    "import pandas as pd\n",
    "from cfdverify.discretization import Classic\n"
   ]
  },
  {
   "cell_type": "code",
   "execution_count": null,
   "metadata": {},
   "outputs": [],
   "source": [
    "# %%\n",
    "## Create a model for a single system response quantity\n",
    "# Acceptable data types are: list, tuple, dict, Numpy array, or Pandas Series\n",
    "mesh_sizes = [0.00292402, 0.00414913, 0.00573555] # m\n",
    "pressure_drop = [100, 98, 95] # kPa\n",
    "model = Classic(mesh_sizes, pressure_drop)\n",
    "model.summarize()\n",
    "\n",
    "# If using a dict or Pandas Series with a name attribute, the key will be used\n",
    "model = Classic({\"size\": mesh_sizes}, pd.Series(pressure_drop, name=\"DP\"))\n",
    "model.summarize()\n"
   ]
  },
  {
   "cell_type": "code",
   "execution_count": null,
   "metadata": {},
   "outputs": [],
   "source": [
    "# %%\n",
    "## Create a model for multiple responses with a dictionary\n",
    "# Multiple responses from the same CFD simulation\n",
    "mesh_sizes = [0.00292402, 0.00414913, 0.00573555] # m\n",
    "pressure_drop = [100, 98, 95] # kPa\n",
    "max_vel = [8, 8.5, 9.2] # m/s\n",
    "model = Classic(mesh_sizes, {\"DP\": pressure_drop, \"Vel\": max_vel})\n",
    "model.summarize(\"Vel\")\n",
    "\n",
    "# All data can be passed in a single dictionary if the discretization sizes are\n",
    "# labeled with the key \"hs\" or the key is provided as a second argument\n",
    "model = Classic({\"hs\": mesh_sizes, \"DP\": pressure_drop, \"Vel\": max_vel})\n",
    "model.summarize(\"Vel\")\n"
   ]
  },
  {
   "cell_type": "code",
   "execution_count": null,
   "metadata": {},
   "outputs": [],
   "source": [
    "# %%\n",
    "## Create a model with a Pandas DataFrame for importing csv data\n",
    "# DataFrames are convenient for data in csv form\n",
    "data = pd.read_csv(\"example_data.csv\")\n",
    "model = Classic(data, \"Meshes\")\n",
    "model.summarize()"
   ]
  }
 ],
 "metadata": {
  "kernelspec": {
   "display_name": "cfd-verify",
   "language": "python",
   "name": "python3"
  },
  "language_info": {
   "codemirror_mode": {
    "name": "ipython",
    "version": 3
   },
   "file_extension": ".py",
   "mimetype": "text/x-python",
   "name": "python",
   "nbconvert_exporter": "python",
   "pygments_lexer": "ipython3",
   "version": "3.11.4"
  }
 },
 "nbformat": 4,
 "nbformat_minor": 2
}
