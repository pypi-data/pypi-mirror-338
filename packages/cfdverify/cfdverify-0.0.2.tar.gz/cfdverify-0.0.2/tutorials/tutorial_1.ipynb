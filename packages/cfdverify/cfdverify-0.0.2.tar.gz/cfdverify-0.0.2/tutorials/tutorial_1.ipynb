{
 "cells": [
  {
   "cell_type": "code",
   "execution_count": null,
   "metadata": {},
   "outputs": [],
   "source": [
    "# %%\n",
    "## Import modules\n",
    "from cfdverify.discretization import Classic\n",
    "import cfdverify.utils as utils\n"
   ]
  },
  {
   "cell_type": "code",
   "execution_count": null,
   "metadata": {},
   "outputs": [],
   "source": [
    "# %%\n",
    "## Define simulation outputs\n",
    "# Define average mesh sizes from simulation domain volume and cell counts\n",
    "simulation_volume = 0.1 # m^3\n",
    "cell_counts = [4_000_000, 1_400_000, 530_000]\n",
    "mesh_sizes = utils.mesh_size(simulation_volume, cell_counts)\n",
    "\n",
    "# Define system response\n",
    "pressure_drop = [100, 98, 95] # kPa\n"
   ]
  },
  {
   "cell_type": "code",
   "execution_count": null,
   "metadata": {},
   "outputs": [],
   "source": [
    "# %%\n",
    "## Solve for discretization error\n",
    "# Create discretization model\n",
    "model = Classic(mesh_sizes, pressure_drop)\n",
    "\n",
    "# Print a summary of the solution\n",
    "model.summarize()\n",
    "\n",
    "# Plot the data\n",
    "model.plot()\n"
   ]
  }
 ],
 "metadata": {
  "kernelspec": {
   "display_name": "cfd-verify",
   "language": "python",
   "name": "python3"
  },
  "language_info": {
   "codemirror_mode": {
    "name": "ipython",
    "version": 3
   },
   "file_extension": ".py",
   "mimetype": "text/x-python",
   "name": "python",
   "nbconvert_exporter": "python",
   "pygments_lexer": "ipython3",
   "version": "3.11.4"
  }
 },
 "nbformat": 4,
 "nbformat_minor": 2
}
