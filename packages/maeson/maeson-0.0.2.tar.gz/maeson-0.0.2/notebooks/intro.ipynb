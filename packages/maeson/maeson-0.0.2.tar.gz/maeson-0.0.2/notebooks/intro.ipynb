{
 "cells": [
  {
   "cell_type": "markdown",
   "metadata": {},
   "source": [
    "# Example Code Usage\n",
    "\n",
    "[![Open In Colab](https://colab.research.google.com/assets/colab-badge.svg)](https://drive.google.com/file/d/1vLypXHf2jsMZ6IfQPY1F418gyuID1D-3/view?usp=sharing)"
   ]
  },
  {
   "cell_type": "code",
   "execution_count": null,
   "metadata": {},
   "outputs": [],
   "source": [
    "import maeson as maeson"
   ]
  },
  {
   "cell_type": "code",
   "execution_count": null,
   "metadata": {},
   "outputs": [],
   "source": [
    "json = {\n",
    "    \"type\": \"FeatureCollection\",\n",
    "    \"features\": [\n",
    "        {\n",
    "            \"type\": \"Feature\",\n",
    "            \"properties\": {},\n",
    "            \"geometry\": {\n",
    "                \"coordinates\": [\n",
    "                    [\n",
    "                        [-0.23448112880515737, 5.569309741857438],\n",
    "                        [-0.23448112880515737, 5.536174574314842],\n",
    "                        [-0.19047541529968726, 5.536174574314842],\n",
    "                        [-0.19047541529968726, 5.569309741857438],\n",
    "                        [-0.23448112880515737, 5.569309741857438],\n",
    "                    ]\n",
    "                ],\n",
    "                \"type\": \"Polygon\",\n",
    "            },\n",
    "        }\n",
    "    ],\n",
    "}"
   ]
  },
  {
   "cell_type": "markdown",
   "metadata": {},
   "source": [
    "# ipyleaflet Functionality"
   ]
  },
  {
   "cell_type": "code",
   "execution_count": null,
   "metadata": {},
   "outputs": [],
   "source": [
    "# Create map\n",
    "m = maeson.Map(zoom=12, center=(5.55, -0.2))\n",
    "\n",
    "# Add Basemap\n",
    "m.add_basemap()\n",
    "\n",
    "# Layer Control\n",
    "m.add_layer_control()\n",
    "\n",
    "# Add GeoJSON Layer\n",
    "m.add_geojson(json, name=\"GeoJSON Layer\", style={\"color\": \"blue\", \"weight\": 2})\n",
    "\n",
    "m"
   ]
  },
  {
   "cell_type": "markdown",
   "metadata": {},
   "source": [
    "# Folium Functionality "
   ]
  },
  {
   "cell_type": "code",
   "execution_count": null,
   "metadata": {},
   "outputs": [],
   "source": [
    "from maeson import folmap\n",
    "\n",
    "# Create map\n",
    "m = folmap.Map(zoom=12, center=(5.55, -0.2))\n",
    "\n",
    "# # Choose a built-in basemap\n",
    "# m.add_basemap(name='Topo')\n",
    "# m.add_basemap(name='Terrain')\n",
    "m.add_basemap(name=\"Satellite\")\n",
    "# m.add_basemap(name='Road')\n",
    "\n",
    "# # Add layer control\n",
    "m.add_layer_control()\n",
    "\n",
    "m"
   ]
  },
  {
   "cell_type": "code",
   "execution_count": null,
   "metadata": {},
   "outputs": [],
   "source": [
    "map = folmap.Map(zoom=12, center=(5.55, -0.2))\n",
    "\n",
    "# Add JSON Layer\n",
    "map.add_geojson(json, name=\"GeoJSON Layer\", style={\"color\": \"blue\", \"weight\": 2})\n",
    "map"
   ]
  }
 ],
 "metadata": {
  "kernelspec": {
   "display_name": "510",
   "language": "python",
   "name": "python3"
  },
  "language_info": {
   "codemirror_mode": {
    "name": "ipython",
    "version": 3
   },
   "file_extension": ".py",
   "mimetype": "text/x-python",
   "name": "python",
   "nbconvert_exporter": "python",
   "pygments_lexer": "ipython3",
   "version": "3.12.8"
  }
 },
 "nbformat": 4,
 "nbformat_minor": 2
}
